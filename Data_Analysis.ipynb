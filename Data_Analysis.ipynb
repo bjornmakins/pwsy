{
 "cells": [
  {
   "cell_type": "code",
   "execution_count": 1,
   "metadata": {},
   "outputs": [],
   "source": [
    "import pandas as pd # data manipulation\n",
    "pd.options.mode.chained_assignment = None  # default='warn'\n",
    "import numpy as np #  mathematical support for large, multi-dimensional arrays and matrices\n",
    "import os"
   ]
  },
  {
   "cell_type": "code",
   "execution_count": 2,
   "metadata": {},
   "outputs": [
    {
     "name": "stderr",
     "output_type": "stream",
     "text": [
      "Matplotlib created a temporary config/cache directory at /tmp/matplotlib-nmym4uan because the default path (/home/jovyan/.cache/matplotlib) is not a writable directory; it is highly recommended to set the MPLCONFIGDIR environment variable to a writable directory, in particular to speed up the import of Matplotlib and to better support multiprocessing.\n"
     ]
    }
   ],
   "source": [
    "import sqlite3\n",
    "import seaborn as sns\n",
    "import matplotlib.pyplot as plt\n",
    "%matplotlib inline\n",
    "import collections"
   ]
  },
  {
   "cell_type": "code",
   "execution_count": 3,
   "metadata": {},
   "outputs": [],
   "source": [
    "from sklearn.model_selection import train_test_split\n",
    "from sklearn.tree import DecisionTreeRegressor \n",
    "import re"
   ]
  },
  {
   "cell_type": "markdown",
   "metadata": {},
   "source": [
    "### Set Directory"
   ]
  },
  {
   "cell_type": "code",
   "execution_count": 4,
   "metadata": {},
   "outputs": [
    {
     "data": {
      "text/plain": [
       "'/scratch/interns202010/jmakins/jupyter-dir'"
      ]
     },
     "execution_count": 4,
     "metadata": {},
     "output_type": "execute_result"
    }
   ],
   "source": [
    "os.getcwd()"
   ]
  },
  {
   "cell_type": "code",
   "execution_count": 99,
   "metadata": {},
   "outputs": [],
   "source": [
    "try:\n",
    "    os.chdir('/group/interns202010/jmakins/Data')\n",
    "except:\n",
    "    pass"
   ]
  },
  {
   "cell_type": "code",
   "execution_count": 100,
   "metadata": {},
   "outputs": [
    {
     "data": {
      "text/plain": [
       "['world_soccer_database.sqlite',\n",
       " 'events',\n",
       " 'referees.json',\n",
       " 'players_old.json',\n",
       " 'players.json',\n",
       " 'competitions.json',\n",
       " 'teams.json',\n",
       " 'coaches.json',\n",
       " 'players_old.csv',\n",
       " 'matches',\n",
       " '.DS_Store']"
      ]
     },
     "execution_count": 100,
     "metadata": {},
     "output_type": "execute_result"
    }
   ],
   "source": [
    "os.listdir()"
   ]
  },
  {
   "cell_type": "code",
   "execution_count": 101,
   "metadata": {},
   "outputs": [],
   "source": [
    "Teams = pd.read_json('teams.json')\n",
    "Competitions = pd.read_json('competitions.json')\n",
    "Players = pd.read_json('players.json')\n",
    "Coaches = pd.read_json('coaches.json') # Managers"
   ]
  },
  {
   "cell_type": "code",
   "execution_count": 102,
   "metadata": {},
   "outputs": [],
   "source": [
    "#Players_old = pd.read_json('players_old.json')"
   ]
  },
  {
   "cell_type": "code",
   "execution_count": 103,
   "metadata": {},
   "outputs": [],
   "source": [
    "#Competitions`['CompId'] = Competitions['wyId']"
   ]
  },
  {
   "cell_type": "code",
   "execution_count": 104,
   "metadata": {},
   "outputs": [],
   "source": [
    "#Competitions.drop(['wyId', 'CountryId'], inplace = True, axis = 1)"
   ]
  },
  {
   "cell_type": "code",
   "execution_count": 105,
   "metadata": {},
   "outputs": [],
   "source": [
    "try:\n",
    "    os.chdir('/group/interns202010/jmakins/Data/matches')\n",
    "except:\n",
    "    pass\n",
    "England = pd.read_json('matches_England.json')\n",
    "France = pd.read_json('matches_France.json')\n",
    "Italy = pd.read_json('matches_Italy.json')\n",
    "Spain = pd.read_json('matches_Spain.json')\n",
    "Germany = pd.read_json('matches_Germany.json')\n",
    "#World_Cup = pd.read_json('matches_World_Cup.json')\n",
    "#Euro_Champs = pd.read_json('matches_European_Championship.json')"
   ]
  },
  {
   "cell_type": "code",
   "execution_count": 106,
   "metadata": {},
   "outputs": [],
   "source": [
    "# Adding country labels to match observations\n",
    "England['Country'] = 'England'\n",
    "France['Country'] = 'France'\n",
    "Italy['Country'] = 'Italy'\n",
    "Spain['Country'] = 'Spain'\n",
    "Germany['Country'] = \"Germany\"\n",
    "#World_Cup['Country'] = 'World Cup'\n",
    "#Euro_Champs['Country'] = 'European Champs'"
   ]
  },
  {
   "cell_type": "code",
   "execution_count": 107,
   "metadata": {},
   "outputs": [],
   "source": [
    "try:\n",
    "    os.chdir('/group/interns202010/jmakins/Data/events')\n",
    "except:\n",
    "    pass"
   ]
  },
  {
   "cell_type": "code",
   "execution_count": 108,
   "metadata": {},
   "outputs": [
    {
     "data": {
      "text/plain": [
       "['events_Spain.json',\n",
       " 'events_Germany.json',\n",
       " 'events_France.json',\n",
       " 'events_European_Championship.json',\n",
       " 'events_England.json',\n",
       " 'events_World_Cup.json',\n",
       " '.DS_Store',\n",
       " 'events_Italy.json']"
      ]
     },
     "execution_count": 108,
     "metadata": {},
     "output_type": "execute_result"
    }
   ],
   "source": [
    "os.listdir()"
   ]
  },
  {
   "cell_type": "code",
   "execution_count": 109,
   "metadata": {},
   "outputs": [],
   "source": [
    "#test = pd.read_json('events_England.json')"
   ]
  },
  {
   "cell_type": "code",
   "execution_count": 110,
   "metadata": {},
   "outputs": [],
   "source": [
    "#Matches.loc[((Matches['homeTeamId']==1644) & (Matches['awayTeamId']==1659)) | ((Matches['homeTeamId']==1659) & (Matches['awayTeamId']==1644))]\n"
   ]
  },
  {
   "cell_type": "code",
   "execution_count": 111,
   "metadata": {},
   "outputs": [],
   "source": [
    "#Events_England[Events_England['matchId']==2500037]"
   ]
  },
  {
   "cell_type": "code",
   "execution_count": 112,
   "metadata": {},
   "outputs": [],
   "source": [
    "#Events_England[(Events_England['subEventDescription'].str.match('goal ')) & (Events_England['Result']==\"Failure\") & (Events_England['subEventName']==\"Shot\")]\n"
   ]
  },
  {
   "cell_type": "code",
   "execution_count": 113,
   "metadata": {},
   "outputs": [],
   "source": [
    "#Events_England.loc[(Events_England['subEventDescription'].str.match(\"goal \")) & (Events_England['Result']==\"Success\")].subEventName.unique()\n"
   ]
  },
  {
   "cell_type": "code",
   "execution_count": 114,
   "metadata": {},
   "outputs": [],
   "source": [
    "Events_France = pd.read_json('events_France.json')\n",
    "Events_Spain = pd.read_json('events_Spain.json')\n",
    "Events_Germany = pd.read_json('events_Germany.json')\n",
    "#Events_EuroChamps = pd.read_json('events_European_Championship.json')\n",
    "#Events_World_Cup = pd.read_json('events_World_Cup.json')\n",
    "Events_Italy = pd.read_json('events_Italy.json')\n",
    "Events_England = pd.read_json('events_England.json')"
   ]
  },
  {
   "cell_type": "code",
   "execution_count": 115,
   "metadata": {},
   "outputs": [],
   "source": [
    "## We have a function for this now further down to be applied across all european regions\n",
    "\n",
    "## Solution to convert second half time into \n",
    "# secs_to_add = list(Events_England[Events_England['matchPeriod']==\"1H\"].groupby('matchId').tail(1)['eventSec'])\n",
    "# match_ids = list(Events_England[\"matchId\"].unique())\n",
    "\n",
    "# for idx in range(0, len(match_ids)):\n",
    "#     Events_England['eventSec'] = list(np.where(\n",
    "#        (Events_England['matchId'] == match_ids[idx]) & (Events_England['matchPeriod'] == \"2H\") , Events_England['eventSec'] + secs_to_add[idx], Events_England['eventSec']\n",
    "#        ))"
   ]
  },
  {
   "cell_type": "code",
   "execution_count": 116,
   "metadata": {},
   "outputs": [
    {
     "data": {
      "text/html": [
       "<div>\n",
       "<style scoped>\n",
       "    .dataframe tbody tr th:only-of-type {\n",
       "        vertical-align: middle;\n",
       "    }\n",
       "\n",
       "    .dataframe tbody tr th {\n",
       "        vertical-align: top;\n",
       "    }\n",
       "\n",
       "    .dataframe thead th {\n",
       "        text-align: right;\n",
       "    }\n",
       "</style>\n",
       "<table border=\"1\" class=\"dataframe\">\n",
       "  <thead>\n",
       "    <tr style=\"text-align: right;\">\n",
       "      <th></th>\n",
       "      <th>eventId</th>\n",
       "      <th>subEventName</th>\n",
       "      <th>tags</th>\n",
       "      <th>playerId</th>\n",
       "      <th>positions</th>\n",
       "      <th>matchId</th>\n",
       "      <th>eventName</th>\n",
       "      <th>teamId</th>\n",
       "      <th>matchPeriod</th>\n",
       "      <th>eventSec</th>\n",
       "      <th>subEventId</th>\n",
       "      <th>id</th>\n",
       "    </tr>\n",
       "  </thead>\n",
       "  <tbody>\n",
       "    <tr>\n",
       "      <th>1763</th>\n",
       "      <td>8</td>\n",
       "      <td>Launch</td>\n",
       "      <td>[{'id': 1802}]</td>\n",
       "      <td>8480</td>\n",
       "      <td>[{'y': 53, 'x': 7}, {'y': 49, 'x': 46}]</td>\n",
       "      <td>2499719</td>\n",
       "      <td>Pass</td>\n",
       "      <td>1631</td>\n",
       "      <td>2H</td>\n",
       "      <td>2992.491575</td>\n",
       "      <td>84</td>\n",
       "      <td>177961040</td>\n",
       "    </tr>\n",
       "    <tr>\n",
       "      <th>1764</th>\n",
       "      <td>8</td>\n",
       "      <td>Head pass</td>\n",
       "      <td>[{'id': 1801}]</td>\n",
       "      <td>49876</td>\n",
       "      <td>[{'y': 51, 'x': 54}, {'y': 58, 'x': 73}]</td>\n",
       "      <td>2499719</td>\n",
       "      <td>Pass</td>\n",
       "      <td>1609</td>\n",
       "      <td>2H</td>\n",
       "      <td>2994.900590</td>\n",
       "      <td>82</td>\n",
       "      <td>177961035</td>\n",
       "    </tr>\n",
       "    <tr>\n",
       "      <th>1765</th>\n",
       "      <td>10</td>\n",
       "      <td>Shot</td>\n",
       "      <td>[{'id': 402}, {'id': 201}, {'id': 1216}, {'id'...</td>\n",
       "      <td>7870</td>\n",
       "      <td>[{'y': 58, 'x': 73}, {'y': 0, 'x': 0}]</td>\n",
       "      <td>2499719</td>\n",
       "      <td>Shot</td>\n",
       "      <td>1609</td>\n",
       "      <td>2H</td>\n",
       "      <td>2997.086392</td>\n",
       "      <td>100</td>\n",
       "      <td>177961036</td>\n",
       "    </tr>\n",
       "    <tr>\n",
       "      <th>1766</th>\n",
       "      <td>5</td>\n",
       "      <td>Ball out of the field</td>\n",
       "      <td>[]</td>\n",
       "      <td>0</td>\n",
       "      <td>[{'y': 48, 'x': 3}, {'y': 100, 'x': 100}]</td>\n",
       "      <td>2499719</td>\n",
       "      <td>Interruption</td>\n",
       "      <td>1631</td>\n",
       "      <td>2H</td>\n",
       "      <td>2998.963701</td>\n",
       "      <td>50</td>\n",
       "      <td>177961041</td>\n",
       "    </tr>\n",
       "    <tr>\n",
       "      <th>1767</th>\n",
       "      <td>3</td>\n",
       "      <td>Goal kick</td>\n",
       "      <td>[]</td>\n",
       "      <td>8480</td>\n",
       "      <td>[{'y': 100, 'x': 100}, {'y': 100, 'x': 100}]</td>\n",
       "      <td>2499719</td>\n",
       "      <td>Free Kick</td>\n",
       "      <td>1631</td>\n",
       "      <td>2H</td>\n",
       "      <td>3006.647279</td>\n",
       "      <td>34</td>\n",
       "      <td>177961042</td>\n",
       "    </tr>\n",
       "  </tbody>\n",
       "</table>\n",
       "</div>"
      ],
      "text/plain": [
       "      eventId           subEventName  \\\n",
       "1763        8                 Launch   \n",
       "1764        8              Head pass   \n",
       "1765       10                   Shot   \n",
       "1766        5  Ball out of the field   \n",
       "1767        3              Goal kick   \n",
       "\n",
       "                                                   tags  playerId  \\\n",
       "1763                                     [{'id': 1802}]      8480   \n",
       "1764                                     [{'id': 1801}]     49876   \n",
       "1765  [{'id': 402}, {'id': 201}, {'id': 1216}, {'id'...      7870   \n",
       "1766                                                 []         0   \n",
       "1767                                                 []      8480   \n",
       "\n",
       "                                         positions  matchId     eventName  \\\n",
       "1763       [{'y': 53, 'x': 7}, {'y': 49, 'x': 46}]  2499719          Pass   \n",
       "1764      [{'y': 51, 'x': 54}, {'y': 58, 'x': 73}]  2499719          Pass   \n",
       "1765        [{'y': 58, 'x': 73}, {'y': 0, 'x': 0}]  2499719          Shot   \n",
       "1766     [{'y': 48, 'x': 3}, {'y': 100, 'x': 100}]  2499719  Interruption   \n",
       "1767  [{'y': 100, 'x': 100}, {'y': 100, 'x': 100}]  2499719     Free Kick   \n",
       "\n",
       "      teamId matchPeriod     eventSec subEventId         id  \n",
       "1763    1631          2H  2992.491575         84  177961040  \n",
       "1764    1609          2H  2994.900590         82  177961035  \n",
       "1765    1609          2H  2997.086392        100  177961036  \n",
       "1766    1631          2H  2998.963701         50  177961041  \n",
       "1767    1631          2H  3006.647279         34  177961042  "
      ]
     },
     "execution_count": 116,
     "metadata": {},
     "output_type": "execute_result"
    }
   ],
   "source": [
    "# Example of an events table\n",
    "Events_England[Events_England['matchId'] == 2499719].tail()"
   ]
  },
  {
   "cell_type": "markdown",
   "metadata": {},
   "source": [
    "### Data Cleaning"
   ]
  },
  {
   "cell_type": "code",
   "execution_count": 117,
   "metadata": {},
   "outputs": [],
   "source": [
    "Matches = pd.concat([England, France, Italy, Spain, Germany], ignore_index=True)"
   ]
  },
  {
   "cell_type": "code",
   "execution_count": 118,
   "metadata": {},
   "outputs": [],
   "source": [
    "Matches.drop(['duration'], inplace=True, axis =1) # removing groupName variable from World Cups"
   ]
  },
  {
   "cell_type": "code",
   "execution_count": 119,
   "metadata": {},
   "outputs": [],
   "source": [
    "Players.drop([\"passportArea\"], inplace = True, axis = 1)"
   ]
  },
  {
   "cell_type": "code",
   "execution_count": 120,
   "metadata": {},
   "outputs": [],
   "source": [
    "Players = Players.rename(columns ={'wyId': 'playerId'}) # rename for convenience"
   ]
  },
  {
   "cell_type": "code",
   "execution_count": 121,
   "metadata": {},
   "outputs": [],
   "source": [
    "Teams = Teams.rename(columns = {'wyId': 'teamId'})\n",
    "Players = Players.rename(columns = {'currentTeamId': 'teamId'})\n",
    "Players = pd.merge(Players,Teams[['teamId', 'officialName']], on = 'teamId').rename(columns = {'officialName': 'clubName'})"
   ]
  },
  {
   "cell_type": "code",
   "execution_count": 122,
   "metadata": {},
   "outputs": [],
   "source": [
    "Players['Position'] = Players.role.apply(pd.Series)['code3'].values"
   ]
  },
  {
   "cell_type": "code",
   "execution_count": 123,
   "metadata": {},
   "outputs": [],
   "source": [
    "Players['birthCountry'] = Players.birthArea.apply(pd.Series)['name'].values"
   ]
  },
  {
   "cell_type": "code",
   "execution_count": 124,
   "metadata": {},
   "outputs": [],
   "source": [
    "Players.drop([\"birthArea\", 'role'], inplace = True, axis = 1)"
   ]
  },
  {
   "cell_type": "markdown",
   "metadata": {},
   "source": [
    "### Manipulate Match Data"
   ]
  },
  {
   "cell_type": "code",
   "execution_count": 125,
   "metadata": {},
   "outputs": [],
   "source": [
    "teams = [list(x.keys()) for x in Matches.teamsData] # create two columns for identifying teams in match"
   ]
  },
  {
   "cell_type": "code",
   "execution_count": 126,
   "metadata": {},
   "outputs": [],
   "source": [
    "teams = [list(x.keys()) for x in Matches.teamsData] # create two columns for identifying teams in match\n",
    "homeTeam, awayTeam = [],[]\n",
    "for x in teams:\n",
    "    homeTeam.append(x[0])\n",
    "    awayTeam.append(x[1])"
   ]
  },
  {
   "cell_type": "code",
   "execution_count": null,
   "metadata": {},
   "outputs": [],
   "source": []
  },
  {
   "cell_type": "code",
   "execution_count": 127,
   "metadata": {},
   "outputs": [],
   "source": [
    "# add columns for additional match statistics\n",
    "Matches[\"homeManagerId\"] = None\n",
    "for name in [\"Score\", \"ScoreHT\", \"ScoreET\", \"ScoreP\"]:\n",
    "    colname = \"home\" + name\n",
    "    colname2 = \"away\" + name\n",
    "    Matches[colname] = None\n",
    "    Matches[colname2] = None"
   ]
  },
  {
   "cell_type": "code",
   "execution_count": 128,
   "metadata": {},
   "outputs": [],
   "source": [
    "# parse Home and Away teams as features from nest dictionary\n",
    "teams = [list(x.keys()) for x in Matches.teamsData] # create two columns for identifying teams in match\n",
    "homeTeam, awayTeam = [],[]\n",
    "for game, team in enumerate(teams):\n",
    "    if Matches.teamsData[game:game+1][game][team[0]]['side'] == 'home':\n",
    "        homeTeam.append(team[0])\n",
    "        awayTeam.append(team[1])\n",
    "    else:\n",
    "        awayTeam.append(team[0])\n",
    "        homeTeam.append(team[1])"
   ]
  },
  {
   "cell_type": "code",
   "execution_count": 129,
   "metadata": {},
   "outputs": [],
   "source": [
    "def get_team_stats(df, team): # function to parse team match stats from dictionary embedded in column teamsData from the Matches dataframe\n",
    "    \n",
    "    Bench, Starters, Manager, Score, ScoreHT, ScoreET, ScoreP, teamId = [],[],[],[],[],[],[],[]\n",
    "    \n",
    "    for game in range(0, len(df)):\n",
    "\n",
    "        Bench.append(list(pd.DataFrame.from_dict(df.teamsData[game][team[game]]['formation']['bench'])['playerId']))\n",
    "        Starters.append(list(pd.DataFrame.from_dict(df.teamsData[game][team[game]]['formation']['lineup'])['playerId']))\n",
    "        Manager.append(df.teamsData[game][team[game]]['coachId'])\n",
    "        Score.append(df.teamsData[game][team[game]]['score'])\n",
    "        ScoreHT.append(df.teamsData[game][team[game]]['scoreHT'])\n",
    "        ScoreET.append(df.teamsData[game][team[game]]['scoreET'])\n",
    "        ScoreP.append(df.teamsData[game][team[game]]['scoreP'])\n",
    "        teamId.append(df.teamsData[game][team[game]]['teamId'])\n",
    "    \n",
    "    return Bench, Starters, Manager, Score, ScoreHT, ScoreET, ScoreP, teamId\n",
    "\n",
    "homeBench, homeStarters, homeManager, homeScore, homeScoreHT, homeScoreET, homeScoreP, homeTeamId = get_team_stats(Matches, homeTeam)\n",
    "awayBench, awayStarters, awayManager, awayScore, awayScoreHT, awayScoreET, awayScoreP, awayTeamId = get_team_stats(Matches, awayTeam)\n"
   ]
  },
  {
   "cell_type": "code",
   "execution_count": 130,
   "metadata": {},
   "outputs": [],
   "source": [
    "# Automating Bench Line Up Column Generation\n",
    "\n",
    "homeColNames = []\n",
    "for num in range(1,14): # add columns for home bench playerId\n",
    "     homeColNames.append(\"homeBenchPlayer\" + str(num))\n",
    "        \n",
    "awayColNames = []\n",
    "for num in range(1,14): # add columns for away bench playerId\n",
    "    awayColNames.append(\"awayBenchPlayer\" + str(num))\n",
    "    \n"
   ]
  },
  {
   "cell_type": "code",
   "execution_count": 131,
   "metadata": {},
   "outputs": [
    {
     "data": {
      "text/plain": [
       "Counter({7: 1425, 6: 18, 5: 1, 8: 5, 12: 205, 10: 49, 11: 101, 9: 21, 13: 1})"
      ]
     },
     "execution_count": 131,
     "metadata": {},
     "output_type": "execute_result"
    }
   ],
   "source": [
    "# Inspecting bench counts as during errror handling reveals some matches had bench sizes of between 8 and 13 for certain fixtures\n",
    "import collections\n",
    "collections.Counter(list(map(lambda x: len(x), homeBench)))"
   ]
  },
  {
   "cell_type": "code",
   "execution_count": 132,
   "metadata": {},
   "outputs": [],
   "source": [
    "# Adding Bench Line Ups to DataFrame\n",
    "\n",
    "homeBench2 = pd.DataFrame(homeBench,\n",
    "     columns=homeColNames)\n",
    "awayBench2 = pd.DataFrame(awayBench,\n",
    "     columns=awayColNames)\n"
   ]
  },
  {
   "cell_type": "code",
   "execution_count": 133,
   "metadata": {},
   "outputs": [],
   "source": [
    "# Automating Starting Line Up Column Generation\n",
    "\n",
    "homeColNames =[]\n",
    "for num in range(1,12): # add columns for starting playerId\n",
    "     homeColNames.append(\"homePlayer\" + str(num))\n",
    "        \n",
    "awayColNames = []\n",
    "for num in range(1,12): # add columns for starting playerId\n",
    "    awayColNames.append(\"awayPlayer\" + str(num))\n"
   ]
  },
  {
   "cell_type": "code",
   "execution_count": 134,
   "metadata": {},
   "outputs": [],
   "source": [
    "# Joining starting line ups, benches to matches dataframe\n",
    "\n",
    "homeStarters2 = pd.DataFrame(homeStarters,\n",
    "     columns=homeColNames)\n",
    "awayStarters2 = pd.DataFrame(awayStarters,\n",
    "     columns=awayColNames)\n",
    "\n",
    "Matches = Matches.join([homeStarters2, awayStarters2, homeBench2, awayBench2])\n"
   ]
  },
  {
   "cell_type": "code",
   "execution_count": 135,
   "metadata": {},
   "outputs": [],
   "source": [
    "# add individual columns of match data\n",
    "Matches['homeManager'] = homeManager\n",
    "Matches['homeScore'] = homeScore\n",
    "Matches['homeScoreHT'] = homeScoreHT\n",
    "Matches['homeScoreET'] = homeScoreET\n",
    "Matches['homeScoreP'] = homeScoreP\n",
    "Matches['homeTeamId'] = homeTeamId\n",
    "Matches['awayManager'] = awayManager\n",
    "Matches['awayScore'] = awayScore\n",
    "Matches['awayScoreHT'] = awayScoreHT\n",
    "Matches['awayScoreET'] = awayScoreET\n",
    "Matches['awayScoreP'] = awayScoreP\n",
    "Matches['awayTeamId'] = awayTeamId"
   ]
  },
  {
   "cell_type": "code",
   "execution_count": 136,
   "metadata": {},
   "outputs": [],
   "source": [
    "Matches.drop([\"teamsData\"], inplace = True, axis = 1)"
   ]
  },
  {
   "cell_type": "code",
   "execution_count": 137,
   "metadata": {},
   "outputs": [],
   "source": [
    "# Classify Match Result as W, L or D for teams\n",
    "conditions = [\n",
    "    (Matches['winner'] == 0),\n",
    "    (Matches['winner'] == Matches['awayTeamId']),\n",
    "    (Matches['winner'] == Matches['homeTeamId'])\n",
    "    ]\n",
    "\n",
    "# create a list of the values we want to assign for each condition\n",
    "values = [0, -1, 1]\n",
    "\n",
    "# create a new column and use np.select to assign values to it using our lists as arguments\n",
    "Matches['Result'] = np.select(conditions, values)"
   ]
  },
  {
   "cell_type": "markdown",
   "metadata": {},
   "source": [
    "###### Relating table to access Referee Data"
   ]
  },
  {
   "cell_type": "code",
   "execution_count": 138,
   "metadata": {},
   "outputs": [],
   "source": [
    "# os.chdir('/group/interns202010/jmakins/Data')"
   ]
  },
  {
   "cell_type": "code",
   "execution_count": 139,
   "metadata": {},
   "outputs": [],
   "source": [
    "\n",
    "# sql_conn = sqlite3.connect('world_soccer_database.sqlite') # soccer database containing over 100,000 match results which is updated monthly\n",
    "\n",
    "# Match_TeamStats = pd.read_sql_query(\"SELECT * FROM football_data\", sql_conn)\n",
    "\n",
    "# # parsing betting odds variables from analysis\n",
    "# drop_columns = [\"B365H\",\"B365D\",\"B365A\",\"BSH\",\"BSD\",\"BSA\",\"BWH\",\"BWD\",\"BWA\",\"GBH\",\"GBD\",\"GBA\",\"IWH\",\"IWD\",\"IWA\",\"LBH\",\"LBD\",\"LBA\",\n",
    "# \"PSH\", \"PH\",\"PSD\", \"PD\",\"PSA\", \"PA\",\"SOH\",\"SOD\",\"SOA\",\"SBH\",\"SBD\",\"SBA\",\"SJH\",\"SJD\",\"SJA\",\"SYH\",\"SYD\",\"SYA\",\"VCH\",\n",
    "# \"VCD\",\"VCA\",\"WHH\",\"WHD\",\"WHA\",\"Bb1X2\",\"BbMxH\",\"BbAvH\",\"BbMxD\",\"BbAvD\",\"BbMxA\",\"BbAvA\",\"MaxH\",\"MaxD\",\"MaxA\",\n",
    "# \"AvgH\",\"AvgD\",\"AvgA\",\"BbOU\",\"BbMx>2.5\",\"BbAv>2.5\",\"BbMx<2.5\",\"BbAv<2.5\",\"GB>2.5\",\"GB<2.5\",\"B365>2.5\",\"B365<2.5\",\n",
    "# \"P>2.5\",\"P<2.5\",\"Max>2.5\",\"Max<2.5\",\"Avg>2.5\",\"Avg<2.5\",\"BbAH\",\"BbAHh\",\"AHh\",\"BbMxAHH\",\"BbAvAHH\",\"BbMxAHA\",\n",
    "# \"BbAvAHA\",\"GBAHH\",\"GBAHA\",\"GBAH\",\"LBAHH\",\"LBAHA\",\"LBAH\",\"B365AHH\",\"B365AHA\",\"B365AH\",\"PAHH\", \"AvgC<2.5\",\n",
    "# \"PAHA\",\"MaxAHH\",\"MaxAHA\",\"AvgAHH\",\"AvgAHA\",\"WHCH\",\"WHCD\",\"WHCA\", \"VCCH\", \"VCCA\", \"PSCH\", \"PSCD\", \"PCAHH\", \"PCAHA\", \"PC>2.5\", \"PC<2.5\", \"MaxCH\", \"MaxCAHH\", \"MaxCD\",\n",
    "# \"MaxCAHA\", \"MaxCA\", \"MaxC>2.5\", \"MaxC<2.5\", \"IWCH\", \"IWCD\", \"IWCA\", \"AvgC>2.5\",\"AvgCA\",\"AvgCAHA\",\"AvgCAHH\",\n",
    "# \"AvgCD\",\"AvgCH\",\"B365C<2.5\",\"B365C>2.5\",\"B365CA\",\"B365CAHA\",\"B365CAHH\",\"B365CD\",\"B365CH\",\"BWCA\", \"BWCD\", \"BWCH\", \"VCCD\", \"PSCA\"] \n",
    "\n",
    "# Match_TeamStats.drop(drop_columns, inplace=True, axis =1) # removing betting odds from dataframe\n",
    "\n",
    "\n",
    "\n"
   ]
  },
  {
   "cell_type": "code",
   "execution_count": 140,
   "metadata": {},
   "outputs": [],
   "source": [
    "# Match_TeamStats = Match_TeamStats[Match_TeamStats['Datetime'].str.contains('2017|2018')]"
   ]
  },
  {
   "cell_type": "code",
   "execution_count": 141,
   "metadata": {},
   "outputs": [],
   "source": [
    "Matches[\"date\"] = pd.to_datetime(Matches['dateutc']).dt.date # create a date column for Matches dataframe"
   ]
  },
  {
   "cell_type": "code",
   "execution_count": 142,
   "metadata": {},
   "outputs": [],
   "source": [
    "Matches[\"time\"] = pd.to_datetime(Matches['dateutc']).dt.time # create a time column for Matches dataframe"
   ]
  },
  {
   "cell_type": "code",
   "execution_count": 143,
   "metadata": {},
   "outputs": [],
   "source": [
    "# Prelim Dimensionality Reduction\n",
    "cols2Drop = ['status', 'roundId', 'gameweek', 'dateutc', 'label', 'referees', 'homeManagerId', 'seasonId']\n",
    "Matches.drop(cols2Drop, inplace=True, axis =1)\n",
    "Matches.drop(['winner', 'date', 'time'], inplace = True, axis =1)"
   ]
  },
  {
   "cell_type": "code",
   "execution_count": 144,
   "metadata": {},
   "outputs": [],
   "source": [
    "Matches.rename(columns={'wyId':'matchId'}, inplace=True)"
   ]
  },
  {
   "cell_type": "code",
   "execution_count": 145,
   "metadata": {},
   "outputs": [],
   "source": [
    "Matches = Matches.fillna(0) # fill bench7players with Ids = 0 in order to prevent program crashing"
   ]
  },
  {
   "cell_type": "code",
   "execution_count": 146,
   "metadata": {},
   "outputs": [],
   "source": [
    "# Match_TeamStats['date'] = pd.to_datetime(Match_TeamStats['Datetime']).dt.date"
   ]
  },
  {
   "cell_type": "code",
   "execution_count": 147,
   "metadata": {},
   "outputs": [],
   "source": [
    "# # Get Referee and Home/Away Team Information\n",
    "# Match_TeamStats.merge(Matches, how = \"inner\", indicator = False)"
   ]
  },
  {
   "cell_type": "code",
   "execution_count": 148,
   "metadata": {},
   "outputs": [],
   "source": [
    "# Matches = Match_TeamStats.merge(Matches, how = \"inner\", indicator = False)"
   ]
  },
  {
   "cell_type": "code",
   "execution_count": 149,
   "metadata": {},
   "outputs": [],
   "source": [
    "# Matches.drop(['gameweek', 'seasonId', 'dateutc', 'label', 'Season', 'status', 'roundId'], inplace= True, axis =1)"
   ]
  },
  {
   "cell_type": "code",
   "execution_count": 150,
   "metadata": {},
   "outputs": [],
   "source": [
    "# Matches.drop(['Datetime', 'Div','FTHG', 'FTAG', 'FTR', 'HTHG', 'HTAG', 'HTR', 'ABP', 'AC',\n",
    "#        'AF', 'AFKC', 'AHCh', 'AHW', 'AO', 'AR', 'AS', 'AST', 'AT', 'AY',\n",
    "#        'Attendance', 'Date', 'HBP', 'HC', 'HF', 'HFKC', 'HHW', 'HO', 'HR',\n",
    "#        'HS', 'HST', 'HT', 'HY', 'Time', 'referees'], inplace= True, axis =1)"
   ]
  },
  {
   "cell_type": "markdown",
   "metadata": {},
   "source": [
    "### Events Manipulation for Match/Player Stats and then combine with existing Match(test) dataframe from aboves"
   ]
  },
  {
   "cell_type": "code",
   "execution_count": 151,
   "metadata": {},
   "outputs": [],
   "source": [
    "# Group by and events summarization"
   ]
  },
  {
   "cell_type": "code",
   "execution_count": 152,
   "metadata": {},
   "outputs": [
    {
     "data": {
      "text/plain": [
       "array(['Simple pass', 'High pass', 'Head pass', 'Air duel',\n",
       "       'Ground loose ball duel', 'Smart pass', 'Launch',\n",
       "       'Ground defending duel', 'Ground attacking duel', 'Foul',\n",
       "       'Free Kick', 'Cross', 'Shot', 'Reflexes', 'Touch', 'Clearance',\n",
       "       'Ball out of the field', 'Throw in', 'Goal kick', 'Corner',\n",
       "       'Goalkeeper leaving line', 'Hand pass', 'Acceleration',\n",
       "       'Save attempt', '', 'Free kick cross', 'Free kick shot',\n",
       "       'Hand foul', 'Violent Foul', 'Protest', 'Whistle',\n",
       "       'Late card foul', 'Out of game foul', 'Penalty', 'Time lost foul',\n",
       "       'Simulation'], dtype=object)"
      ]
     },
     "execution_count": 152,
     "metadata": {},
     "output_type": "execute_result"
    }
   ],
   "source": [
    "Events_England['subEventName'].unique()"
   ]
  },
  {
   "cell_type": "code",
   "execution_count": 153,
   "metadata": {},
   "outputs": [],
   "source": [
    "# Decroos Github\n",
    "tags = [\n",
    "    (101, \"goal\"),\n",
    "    (102, \"own_goal\"),\n",
    "    (301, \"assist\"),\n",
    "    (302, \"key_pass\"),\n",
    "    (1901, \"counter_attack\"),\n",
    "    (401, \"left_foot\"),\n",
    "    (402, \"right_foot\"),\n",
    "    (403, \"head/body\"),\n",
    "    (1101, \"direct\"),\n",
    "    (1102, \"indirect\"),\n",
    "    (2001, \"dangerous_ball_lost\"),\n",
    "    (2101, \"blocked\"),\n",
    "    (801, \"high\"),\n",
    "    (802, \"low\"),\n",
    "    (1401, \"interception\"),\n",
    "    (1501, \"clearance\"),\n",
    "    (201, \"opportunity\"),\n",
    "    (1301, \"feint\"),\n",
    "    (1302, \"missed_ball\"),\n",
    "    (501, \"free_space_right\"),\n",
    "    (502, \"free_space_left\"),\n",
    "    (503, \"take_on_left\"),\n",
    "    (504, \"take_on_right\"),\n",
    "    (1601, \"sliding_tackle\"),\n",
    "    (601, \"anticipated\"),\n",
    "    (602, \"anticipation\"),\n",
    "    (1701, \"red_card\"),\n",
    "    (1702, \"yellow_card\"),\n",
    "    (1703, \"second_yellow_card\"),\n",
    "    (1201, \"position_goal_low_center\"),\n",
    "    (1202, \"position_goal_low_right\"),\n",
    "    (1203, \"position_goal_mid_center\"),\n",
    "    (1204, \"position_goal_mid_left\"),\n",
    "    (1205, \"position_goal_low_left\"),\n",
    "    (1206, \"position_goal_mid_right\"),\n",
    "    (1207, \"position_goal_high_center\"),\n",
    "    (1208, \"position_goal_high_left\"),\n",
    "    (1209, \"position_goal_high_right\"),\n",
    "    (1210, \"position_out_low_right\"),\n",
    "    (1211, \"position_out_mid_left\"),\n",
    "    (1212, \"position_out_low_left\"),\n",
    "    (1213, \"position_out_mid_right\"),\n",
    "    (1214, \"position_out_high_center\"),\n",
    "    (1215, \"position_out_high_left\"),\n",
    "    (1216, \"position_out_high_right\"),\n",
    "    (1217, \"position_post_low_right\"),\n",
    "    (1218, \"position_post_mid_left\"),\n",
    "    (1219, \"position_post_low_left\"),\n",
    "    (1220, \"position_post_mid_right\"),\n",
    "    (1221, \"position_post_high_center\"),\n",
    "    (1222, \"position_post_high_left\"),\n",
    "    (1223, \"position_post_high_right\"),\n",
    "    (901, \"through\"),\n",
    "    (1001, \"fairplay\"),\n",
    "    (701, \"lost\"),\n",
    "    (702, \"neutral\"),\n",
    "    (703, \"won\"),\n",
    "    (1801, \"accurate\"),\n",
    "    (1802, \"not_accurate\"),\n",
    "]"
   ]
  },
  {
   "cell_type": "code",
   "execution_count": 154,
   "metadata": {},
   "outputs": [],
   "source": [
    "tags = dict(tags)"
   ]
  },
  {
   "cell_type": "code",
   "execution_count": 155,
   "metadata": {},
   "outputs": [],
   "source": [
    "# ## I have kept this cell encase we need to impute integers for ML algorithms as oppose to strings\n",
    "# event_tag_ids = []\n",
    "# for ids in  list(trial[0:10]['tags']):\n",
    "#     event_tag_ids.append(list(map(lambda y: y['id'], ids)))\n",
    "# trial['event_tag_ids'] = event_tag_ids"
   ]
  },
  {
   "cell_type": "code",
   "execution_count": 156,
   "metadata": {},
   "outputs": [],
   "source": [
    "# Store event type tags ids in new column\n",
    "def event_tags(event_df):\n",
    "    event_tags = []\n",
    "    for ids in list(event_df['tags']):\n",
    "        event_tags.append(list(map(lambda y: tags[y['id']], ids)))\n",
    "\n",
    "    event_df['event_tags'] = event_tags\n",
    "    return event_df"
   ]
  },
  {
   "cell_type": "code",
   "execution_count": 157,
   "metadata": {},
   "outputs": [],
   "source": [
    "def RunningTime(event_df):\n",
    "    # Solution to convert second half time into \n",
    "    secs_to_add = list(event_df[event_df['matchPeriod']==\"1H\"].groupby('matchId').tail(1)['eventSec'])\n",
    "    match_ids = list(event_df[\"matchId\"].unique())\n",
    "\n",
    "    for idx in range(0, len(match_ids)):\n",
    "        event_df['eventSec'] = list(np.where(\n",
    "           (event_df['matchId'] == match_ids[idx]) & (event_df['matchPeriod'] == \"2H\") , event_df['eventSec'] + secs_to_add[idx], event_df['eventSec']\n",
    "           ))\n",
    "    return event_df\n"
   ]
  },
  {
   "cell_type": "code",
   "execution_count": 158,
   "metadata": {},
   "outputs": [],
   "source": [
    "# Clean the result of the action\n",
    "def Result(event_df):\n",
    "    result = []\n",
    "    for tag in event_df[\"event_tags\"]:\n",
    "        if \"accurate\" in tag:\n",
    "            result.append(\"Accurate\")\n",
    "        elif \"not_accurate\" in tag:\n",
    "            result.append(\"Inaccurate\")\n",
    "        else:\n",
    "            result.append(\"\")\n",
    "    event_df[\"Result\"] = result \n",
    "    return event_df"
   ]
  },
  {
   "cell_type": "code",
   "execution_count": 159,
   "metadata": {},
   "outputs": [],
   "source": [
    "# Separating description from success/failure of an action (event)\n",
    "def event_description(event_df):\n",
    "    subEventDescr = []\n",
    "    for tag in event_df[\"event_tags\"]:\n",
    "        descr = \" \".join(tag[:-1])\n",
    "        if descr != \"\":\n",
    "            subEventDescr.append(descr)\n",
    "        else:\n",
    "            subEventDescr.append(\"generic play\")\n",
    "    event_df[\"subEventDescription\"] = subEventDescr\n",
    "    event_df = event_df[(event_df[\"event_tags\"].str.len() != 0) & (event_df.subEventName != 'Ball out of the field')  & (event_df.subEventName != 'Goal kick')  ]\n",
    "    event_df = event_df[event_df[\"subEventName\"] != \"Throw in\"] # remove throw-ins as a relevant feature among successful teams for simpler analysis, unless its Rory Delap!\n",
    "    return event_df"
   ]
  },
  {
   "cell_type": "code",
   "execution_count": 160,
   "metadata": {},
   "outputs": [],
   "source": [
    "# # Separating description from success/failure of an action (event)\n",
    "# def event_description(event_df):\n",
    "#     subEventDescr = []\n",
    "#     for tag in event_df[\"event_tags\"]:\n",
    "#         descr = \" \".join(tag[:-1])\n",
    "#         if descr != \"\":\n",
    "#             subEventDescr.append(descr)\n",
    "#         else:\n",
    "#             subEventDescr.append(\"generic play\")\n",
    "#     event_df[\"subEventDescription\"] = subEventDescr\n",
    "#     event_df = event_df[(event_df[\"event_tags\"].str.len() != 0) & (event_df.subEventName != 'Ball out of the field')  & (event_df.subEventName != 'Goal kick') & (event_df.subEventName != 'Touch')   ]\n",
    "#     event_df = event_df[event_df[\"subEventName\"] != \"Throw in\"] # remove throw-ins as a relevant feature among successful teams for simpler analysis, unless its Rory Delap!\n",
    "#     return event_df"
   ]
  },
  {
   "cell_type": "code",
   "execution_count": 164,
   "metadata": {},
   "outputs": [],
   "source": [
    "#### I prefer the segmented format of the cell below for locations but we will keep just encase***\n",
    "# start, end = [], []\n",
    "# for pos1, pos2 in trial['positions']:\n",
    "#     start.append(pos1)\n",
    "#     end.append(pos2)\n",
    "\n",
    "# trial[\"StartLoc\"] = start\n",
    "# trial[\"EndLoc\"] = end"
   ]
  },
  {
   "cell_type": "code",
   "execution_count": 165,
   "metadata": {},
   "outputs": [
    {
     "data": {
      "text/plain": [
       "Counter({2: 643032, 1: 118})"
      ]
     },
     "execution_count": 165,
     "metadata": {},
     "output_type": "execute_result"
    }
   ],
   "source": [
    "collections.Counter(list(map(lambda x: len(x), Events_England['positions'])))"
   ]
  },
  {
   "cell_type": "code",
   "execution_count": 168,
   "metadata": {},
   "outputs": [],
   "source": [
    "# xStart,xEnd,yStart,yEnd = [], [], [], []\n",
    "# for pos in Events_England[\"positions\"][0:10]:\n",
    "#     if len(pos) == 2:\n",
    "#         xStart.append(pos[0]['x'])\n",
    "#         xEnd.append(pos[1]['x'])\n",
    "#         yStart.append(pos[0]['y'])\n",
    "#         yEnd.append(pos[1]['y'])\n",
    "#     else:\n",
    "#         xStart.append(pos[0]['x'])\n",
    "#         xEnd.append(pos[0]['x'])\n",
    "#         yStart.append(pos[0]['y'])\n",
    "#         yEnd.append(pos[0]['y'])"
   ]
  },
  {
   "cell_type": "code",
   "execution_count": 169,
   "metadata": {},
   "outputs": [],
   "source": [
    "\n",
    "def Locations(event_df):\n",
    "\n",
    "    xStart,xEnd,yStart,yEnd = [], [], [], []\n",
    "    for pos in event_df[\"positions\"]:\n",
    "        if len(pos) == 2:\n",
    "            xStart.append(pos[0]['x'])\n",
    "            xEnd.append(pos[1]['x'])\n",
    "            yStart.append(pos[0]['y'])\n",
    "            yEnd.append(pos[1]['y'])\n",
    "        else:\n",
    "            xStart.append(pos[0]['x'])\n",
    "            xEnd.append(pos[0]['x'])\n",
    "            yStart.append(pos[0]['y'])\n",
    "            yEnd.append(pos[0]['y'])\n",
    "\n",
    "\n",
    "    event_df['xStart'], event_df['xEnd'], event_df['yStart'], event_df['yEnd'] = xStart, xEnd, yStart, yEnd\n",
    "    return event_df"
   ]
  },
  {
   "cell_type": "code",
   "execution_count": 170,
   "metadata": {},
   "outputs": [],
   "source": [
    "#Events_England = Locations(Events_England)"
   ]
  },
  {
   "cell_type": "code",
   "execution_count": 171,
   "metadata": {},
   "outputs": [],
   "source": [
    "#Events_England.drop(['eventId', 'positions', 'id', \"event_tags\", \"tags\", \"eventId\", \"eventName\"], inplace = True, axis = 1)"
   ]
  },
  {
   "cell_type": "code",
   "execution_count": 172,
   "metadata": {},
   "outputs": [],
   "source": [
    "#Events_England = Events_England[Events_England.subEventName != \"\"]"
   ]
  },
  {
   "cell_type": "code",
   "execution_count": 197,
   "metadata": {},
   "outputs": [],
   "source": [
    "# function to transform an event data frame\n",
    "def event_df_transform(event_df):\n",
    "    event_df = event_tags(event_df)\n",
    "    event_df = Result(event_df)\n",
    "    event_df = event_description(event_df)\n",
    "    event_df = Locations(event_df)\n",
    "    event_df.drop(['positions', 'id', \"event_tags\", \"tags\", \"eventName\"], inplace = True, axis = 1)\n",
    "    event_df = event_df[event_df.subEventName != \"\"]\n",
    "    event_df = event_df[event_df['playerId']!= 0]\n",
    "    event_df = RunningTime(event_df)\n",
    "    event_df['attackMetres'] = event_df['xEnd'] - event_df['xStart']\n",
    "    return event_df\n",
    "\n",
    "# stopped remove eventId\n",
    "    "
   ]
  },
  {
   "cell_type": "code",
   "execution_count": 198,
   "metadata": {},
   "outputs": [],
   "source": [
    "# Transform event_dfs\n",
    "\n",
    "Events_France = event_df_transform(Events_France)\n",
    "Events_Spain = event_df_transform(Events_Spain)\n",
    "Events_Germany = event_df_transform(Events_Germany)\n",
    "Events_Italy = event_df_transform(Events_Italy)\n",
    "Events_England = event_df_transform(Events_England)\n",
    "\n"
   ]
  },
  {
   "cell_type": "code",
   "execution_count": 81,
   "metadata": {},
   "outputs": [],
   "source": [
    "# Chris Jester-Young https://stackoverflow.com/questions/944700/how-can-i-check-for-nan-values\n",
    "# def isNaN(num):\n",
    "#     return num != num"
   ]
  },
  {
   "cell_type": "code",
   "execution_count": 82,
   "metadata": {},
   "outputs": [],
   "source": [
    "# this function fills in NaN values with correct teamId from the Matches df\n",
    "# def missing_teams(x):\n",
    "#     if np.isnan(x['team2']):\n",
    "#         row = Matches[Matches['matchId'] == x[\"matchId\"]]\n",
    "#         if row['homeTeamId'].astype(int) == x['team1']:\n",
    "#             return int(row['awayTeamId'])\n",
    "#         else:\n",
    "#             return int(row['homeTeamId'])\n",
    "#     else:\n",
    "#         return x['team2']"
   ]
  },
  {
   "cell_type": "code",
   "execution_count": 83,
   "metadata": {},
   "outputs": [],
   "source": [
    "### remove events where playerId equals zero\n",
    "## There are two instances where goals are scored so we will handle these first and assign to correct players as these are important events\n",
    "# we can attempt to handle these into the real player sequences if we have time at the end of the project\n"
   ]
  },
  {
   "cell_type": "code",
   "execution_count": 84,
   "metadata": {},
   "outputs": [],
   "source": [
    "# refs = list(Matches[Matches['matchId']==2499719].loc[:,'homePlayer1':'awayBenchPlayer7'].transpose().index)\n",
    "# ids = [int(value) for value in Matches[Matches['matchId']==2499719].loc[:,'homePlayer1':'awayBenchPlayer7'].transpose().values]\n",
    "# test = pd.DataFrame(zip(ids, refs), columns = ['playerId', 'playerRefs'])\n",
    "# test = test.merge(Players[[\"firstName\", \"lastName\", \"wyId\", \"Position\", 'currentTeamId']], how = 'inner', right_on = 'wyId', left_on = 'playerId')\n",
    "# test.head()"
   ]
  },
  {
   "cell_type": "code",
   "execution_count": 85,
   "metadata": {},
   "outputs": [],
   "source": [
    "# refs = list(Matches.loc[:,'homePlayer1':'awayBenchPlayer7'].transpose().index)\n",
    "# ids = [int(value) for value in Matches.loc[:,'homePlayer1':'awayBenchPlayer7'].transpose().values]\n",
    "# test = pd.DataFrame(zip(ids, refs), columns = ['playerId', 'playerRefs'])\n",
    "# test = test.merge(Players[[\"firstName\", \"lastName\", \"wyId\", \"Position\", 'currentTeamId']], how = 'inner', right_on = 'wyId', left_on = 'playerId')\n",
    "# test"
   ]
  },
  {
   "cell_type": "code",
   "execution_count": 86,
   "metadata": {},
   "outputs": [],
   "source": [
    "# pt1 = pd.pivot_table(trial, values = 'xStart', index='matchId', columns = 'playerRefs').reset_index().add_prefix('xPos_')\n",
    "# pt1 = pt1.rename(columns = {'xPos_matchId': \"matchId\"})\n",
    "# pt2 = pd.pivot_table(trial, values = 'yStart', index='matchId', columns = 'playerRefs').reset_index().add_prefix('yPos_')\n",
    "# pt2 = pt2.rename(columns = {'yPos_matchId': \"matchId\"})\n",
    "# pt = pd.merge(pt1, pt2, on=\"matchId\")\n",
    "# pt"
   ]
  },
  {
   "cell_type": "code",
   "execution_count": 199,
   "metadata": {},
   "outputs": [],
   "source": [
    "# function to determine average player coordinates on pitch across all possessions in a match\n",
    "def playerPosition(event_df):\n",
    "    df = event_df.groupby(['matchId','playerId']).agg({'xStart': ['mean'], 'yStart': ['mean']}).reset_index()\n",
    "    df.columns = [\"matchId\", \"playerId\", \"xStart\", \"yStart\"]\n",
    "    return df"
   ]
  },
  {
   "cell_type": "code",
   "execution_count": 200,
   "metadata": {},
   "outputs": [],
   "source": [
    "# find positions for all players for big 5 Euro leagues\n",
    "a = playerPosition(Events_England)\n",
    "b = playerPosition(Events_France)\n",
    "c = playerPosition(Events_Italy)\n",
    "d = playerPosition(Events_Spain)\n",
    "e = playerPosition(Events_Germany)\n",
    "\n",
    "position_df =  pd.concat([a,b,c,d,e])"
   ]
  },
  {
   "cell_type": "code",
   "execution_count": 201,
   "metadata": {},
   "outputs": [
    {
     "data": {
      "text/html": [
       "<div>\n",
       "<style scoped>\n",
       "    .dataframe tbody tr th:only-of-type {\n",
       "        vertical-align: middle;\n",
       "    }\n",
       "\n",
       "    .dataframe tbody tr th {\n",
       "        vertical-align: top;\n",
       "    }\n",
       "\n",
       "    .dataframe thead th {\n",
       "        text-align: right;\n",
       "    }\n",
       "</style>\n",
       "<table border=\"1\" class=\"dataframe\">\n",
       "  <thead>\n",
       "    <tr style=\"text-align: right;\">\n",
       "      <th></th>\n",
       "      <th>matchId</th>\n",
       "      <th>playerId</th>\n",
       "      <th>xStart</th>\n",
       "      <th>yStart</th>\n",
       "    </tr>\n",
       "  </thead>\n",
       "  <tbody>\n",
       "    <tr>\n",
       "      <th>count</th>\n",
       "      <td>5.051800e+04</td>\n",
       "      <td>50518.000000</td>\n",
       "      <td>50518.000000</td>\n",
       "      <td>50518.000000</td>\n",
       "    </tr>\n",
       "    <tr>\n",
       "      <th>mean</th>\n",
       "      <td>2.532662e+06</td>\n",
       "      <td>97586.823152</td>\n",
       "      <td>48.750253</td>\n",
       "      <td>50.103268</td>\n",
       "    </tr>\n",
       "    <tr>\n",
       "      <th>std</th>\n",
       "      <td>3.312466e+04</td>\n",
       "      <td>123688.451486</td>\n",
       "      <td>15.338131</td>\n",
       "      <td>20.357378</td>\n",
       "    </tr>\n",
       "    <tr>\n",
       "      <th>min</th>\n",
       "      <td>2.499719e+06</td>\n",
       "      <td>33.000000</td>\n",
       "      <td>2.928571</td>\n",
       "      <td>1.500000</td>\n",
       "    </tr>\n",
       "    <tr>\n",
       "      <th>25%</th>\n",
       "      <td>2.500766e+06</td>\n",
       "      <td>12242.000000</td>\n",
       "      <td>38.192618</td>\n",
       "      <td>35.303015</td>\n",
       "    </tr>\n",
       "    <tr>\n",
       "      <th>50%</th>\n",
       "      <td>2.516895e+06</td>\n",
       "      <td>25747.000000</td>\n",
       "      <td>50.104031</td>\n",
       "      <td>50.051632</td>\n",
       "    </tr>\n",
       "    <tr>\n",
       "      <th>75%</th>\n",
       "      <td>2.565854e+06</td>\n",
       "      <td>173214.000000</td>\n",
       "      <td>60.634498</td>\n",
       "      <td>65.000000</td>\n",
       "    </tr>\n",
       "    <tr>\n",
       "      <th>max</th>\n",
       "      <td>2.576338e+06</td>\n",
       "      <td>568583.000000</td>\n",
       "      <td>97.000000</td>\n",
       "      <td>100.000000</td>\n",
       "    </tr>\n",
       "  </tbody>\n",
       "</table>\n",
       "</div>"
      ],
      "text/plain": [
       "            matchId       playerId        xStart        yStart\n",
       "count  5.051800e+04   50518.000000  50518.000000  50518.000000\n",
       "mean   2.532662e+06   97586.823152     48.750253     50.103268\n",
       "std    3.312466e+04  123688.451486     15.338131     20.357378\n",
       "min    2.499719e+06      33.000000      2.928571      1.500000\n",
       "25%    2.500766e+06   12242.000000     38.192618     35.303015\n",
       "50%    2.516895e+06   25747.000000     50.104031     50.051632\n",
       "75%    2.565854e+06  173214.000000     60.634498     65.000000\n",
       "max    2.576338e+06  568583.000000     97.000000    100.000000"
      ]
     },
     "execution_count": 201,
     "metadata": {},
     "output_type": "execute_result"
    }
   ],
   "source": [
    "position_df.describe()"
   ]
  },
  {
   "cell_type": "code",
   "execution_count": 202,
   "metadata": {},
   "outputs": [],
   "source": [
    "# This dataframe is used relationally to fill correct team as events represent 2018 team, while player\n",
    "a = Events_England[['playerId', \"teamId\", 'matchId']].groupby(['playerId', \"teamId\", 'matchId']).count().reset_index()\n",
    "b = Events_France[['playerId', \"teamId\", 'matchId']].groupby(['playerId', \"teamId\", 'matchId']).count().reset_index()\n",
    "c = Events_Italy[['playerId', \"teamId\", 'matchId']].groupby(['playerId', \"teamId\", 'matchId']).count().reset_index()\n",
    "d = Events_Spain[['playerId', \"teamId\", 'matchId']].groupby(['playerId', \"teamId\", 'matchId']).count().reset_index()\n",
    "e = Events_Germany[['playerId', \"teamId\", 'matchId']].groupby(['playerId', \"teamId\", 'matchId']).count().reset_index()\n",
    "p_refs = pd.concat([a,b,c,d,e])"
   ]
  },
  {
   "cell_type": "code",
   "execution_count": 203,
   "metadata": {},
   "outputs": [],
   "source": [
    "Player_Aggs = Players[['shortName','Position', 'playerId','weight','height',  'foot' ]]"
   ]
  },
  {
   "cell_type": "code",
   "execution_count": 204,
   "metadata": {},
   "outputs": [],
   "source": [
    "# add ave field locations to players\n",
    "Player_Aggs = pd.merge(Player_Aggs, position_df, how = 'right', on= 'playerId').sort_values('matchId')\n",
    "Player_Aggs = pd.merge(Player_Aggs, p_refs, on = ['matchId', 'playerId'])\n",
    "Player_Aggs = pd.merge(Player_Aggs, Teams[['teamId', 'name']], on = 'teamId')"
   ]
  },
  {
   "cell_type": "code",
   "execution_count": 205,
   "metadata": {},
   "outputs": [],
   "source": [
    "Player_Aggs = pd.merge(Player_Aggs, Matches[['matchId', 'homeTeamId', 'awayTeamId']], on = 'matchId')\n",
    "Player_Aggs.loc[Player_Aggs.teamId == Player_Aggs.homeTeamId, 'homeAway'] = \"home\"\n",
    "Player_Aggs.loc[Player_Aggs.teamId == Player_Aggs.awayTeamId, 'homeAway'] = \"away\"\n"
   ]
  },
  {
   "cell_type": "code",
   "execution_count": 206,
   "metadata": {},
   "outputs": [],
   "source": [
    "### unique entry dataframe for player gameTime at any point in a match by summarizing streams\n",
    "\n",
    "def playerGameTime(event_df):\n",
    "    df = event_df.groupby(['matchId','playerId'])['eventSec'].agg(['max', 'min']).reset_index()\n",
    "    df['gameTime (s)'] = (df['max'] - df['min']) # game time in seconds in seconds\n",
    "    df.drop(['max', 'min'], inplace=True, axis=1)\n",
    "    return df\n",
    "\n",
    "# derive gameTime per player and store in summary table\n",
    "a = playerGameTime(Events_England)\n",
    "b = playerGameTime(Events_France)\n",
    "c = playerGameTime(Events_Italy)\n",
    "d = playerGameTime(Events_Spain)\n",
    "e = playerGameTime(Events_Germany)\n",
    "\n",
    "playingTime = pd.concat([a,b,c,d,e])\n"
   ]
  },
  {
   "cell_type": "code",
   "execution_count": 207,
   "metadata": {},
   "outputs": [],
   "source": [
    "# convenience function for event_df parsing\n",
    "def parseEvent_df(func):\n",
    "    a = func(Events_England)\n",
    "    b = func(Events_France)\n",
    "    c = func(Events_Italy)\n",
    "    d = func(Events_Spain)\n",
    "    e = func(Events_Germany)\n",
    "    \n",
    "    return pd.concat([a,b,c,d,e])"
   ]
  },
  {
   "cell_type": "code",
   "execution_count": 247,
   "metadata": {},
   "outputs": [],
   "source": [
    "# function for adding new feature column to Player_Aggs df\n",
    "def alter_Player_Aggs(new_feature_function, new_feature, PA_df):\n",
    "\n",
    "    df = parseEvent_df(new_feature_function)\n",
    "    PA_df = pd.merge(PA_df, df, how= 'left', on =['playerId', 'matchId'])\n",
    "    PA_df[new_feature] = PA_df[new_feature].fillna(0)\n",
    "\n",
    "    return PA_df\n"
   ]
  },
  {
   "cell_type": "code",
   "execution_count": 208,
   "metadata": {},
   "outputs": [],
   "source": [
    "Player_Aggs = pd.merge(Player_Aggs, playingTime, how = 'left', on = ['playerId', 'matchId'])"
   ]
  },
  {
   "cell_type": "code",
   "execution_count": 209,
   "metadata": {},
   "outputs": [],
   "source": [
    "adv_stats = [\"aerialDuelsWon\",  \"defensiveDuelsWon\",  \"directFreeKicksOnTarget\",  \"duelsWon\",  \"fieldAerialDuelsWon\",  \"gkAerialDuelsWon\",  \"gkSaves\",  \"gkSuccessfulExits\",  \"goalConversion\",  \"headShotsOnTarget\",  \"newDefensiveDuelsWon\",  \"newDuelsWon\",  \"newOffensiveDuelsWon\",  \"newSuccessfulDribbles\",  \"offensiveDuelsWon\",  \"penaltiesConversion\",  \"shotsOnTarget\",  \"successfulBackPasses\",  \"successfulCrosses\",  \"successfulDribbles\",  \"successfulForwardPasses\",  \"successfulKeyPasses\",  \"successfulLateralPasses\",  \"successfulLinkupPlays\",  \"successfulLongPasses\",  \"successfulPasses\",  \"successfulPassesToFinalThird\",  \"successfulShotAssists\",  \"successfulSmartPasses\",  \"successfulThroughPasses\",  \"successfulTouchInBox\",  \"successfulVerticalPasses\",  \"win\",  \"yellowCardsPerFoul\",  \"accelerations\",  \"aerialDuels\",  \"aerialDuelsWon\",  \"assists\",  \"attackingActions\",  \"backPasses\",  \"cleanSheets\",  \"concededGoals\",  \"corners\",  \"crosses\",  \"dangerousOpponentHalfRecoveries\",  \"dangerousOwnHalfLosses\",  \"defensiveActions\",  \"defensiveDuels\",  \"defensiveDuelsWon\",  \"directFreeKicks\",  \"directFreeKicksOnTarget\",  \"directRedCards\",  \"dribbles\",  \"duels\",  \"duelsWon\",  \"fieldAerialDuels\",  \"fieldAerialDuelsWon\",  \"forwardPasses\",  \"fouls\",  \"freeKicks\",  \"freeKicksOnTarget\",  \"gkAerialDuels\",  \"gkAerialDuelsWon\",  \"gkExits\",  \"gkGoalKicks\",  \"gkGoalKicksSuccess\",  \"gkSaves\",  \"gkSuccessfulExits\",  \"goals\",  \"headShots\",  \"interceptions\",  \"keyPasses\",  \"lateralPasses\",  \"linkupPlays\",  \"longGoalKicks\",  \"longPasses\",  \"looseBallDuels\",  \"looseBallDuelsWon\",  \"losses\",  \"matches\",  \"matchesTagged\",  \"missedBalls\",  \"newDefensiveDuelsWon\",  \"newDuelsWon\",  \"newOffensiveDuelsWon\",  \"newSuccessfulDribbles\",  \"offensiveDuels\",  \"offensiveDuelsWon\",  \"offsides\",  \"opponentHalfRecoveries\",  \"opponentOffsides\",  \"ownHalfLosses\",  \"passes\",  \"passesToFinalThird\",  \"penalties\",  \"pressingDuels\",  \"pressingDuelsWon\",  \"progressiveRun\",  \"receivedPass\",  \"recoveries\",  \"redCards\",  \"shortGoalKicks\",  \"shotAssists\",  \"shotOnTargetAssists\",  \"shots\",  \"shotsAgainst\",  \"smartPasses\",  \"successfulAttackingActions\",  \"successfulBackPasses\",  \"successfulCrosses\",  \"successfulDefensiveActions\",  \"successfulDribbles\",  \"successfulForwardPasses\",  \"successfulKeyPasses\",  \"successfulLateralPasses\",  \"successfulLinkupPlays\",  \"successfulLongPasses\",  \"successfulPasses\",  \"successfulPassesToFinalThird\",  \"successfulPenalties\",  \"successfulSmartPasses\",  \"successfulThroughPasses\",  \"successfulVerticalPasses\",  \"throughPasses\",  \"touchInBox\",  \"verticalPasses\",  \"xgShot\",  \"xgShotAgainst\",  \"yellowCards\",  \"accelerations\",  \"aerialDuels\",  \"assists\",  \"attackingActions\",  \"backPasses\",  \"ballLosses\",  \"ballRecoveries\",  \"clearances\",  \"corners\",  \"counterpressingRecoveries\",  \"crosses\",  \"dangerousOpponentHalfRecoveries\",  \"dangerousOwnHalfLosses\",  \"defensiveActions\",  \"defensiveDuels\",  \"defensiveDuelsWon\",  \"directFreeKicks\",  \"directFreeKicksOnTarget\",  \"directRedCards\",  \"dribbleDistanceFromOpponentGoal\",  \"dribbles\",  \"dribblesAgainst\",  \"dribblesAgainstWon\",  \"duels\",  \"duelsWon\",  \"fieldAerialDuels\",  \"fieldAerialDuelsWon\",  \"forwardPasses\",  \"fouls\",  \"foulsSuffered\",  \"freeKicks\",  \"freeKicksOnTarget\",  \"gkAerialDuels\",  \"gkAerialDuelsWon\",  \"gkConcededGoals\",  \"gkExits\",  \"gkSaves\",  \"gkShotsAgainst\",  \"gkSuccessfulExits\",  \"goalKicks\",  \"goalKicksLong\",  \"goalKicksShort\",  \"goals\",  \"headShots\",  \"interceptions\",  \"keyPasses\",  \"lateralPasses\",  \"linkupPlays\",  \"longPassLength\",  \"longPasses\",  \"looseBallDuels\",  \"looseBallDuelsWon\",  \"missedBalls\",  \"newDefensiveDuelsWon\",  \"newDuelsWon\",  \"newOffensiveDuelsWon\",  \"newSuccessfulDribbles\",  \"offensiveDuels\",  \"offensiveDuelsWon\",  \"offsides\",  \"opponentHalfRecoveries\",  \"ownHalfLosses\",  \"passLength\",  \"passes\",  \"passesToFinalThird\",  \"penalties\",  \"progressivePasses\",  \"progressiveRun\",  \"receivedPass\",  \"redCards\",  \"secondAssists\",  \"shotAssists\",  \"shotOnTargetAssists\",  \"shots\",  \"shotsBlocked\",  \"shotsOnTarget\",  \"slidingTackles\",  \"smartPasses\",  \"successfulAttackingActions\",  \"successfulBackPasses\",  \"successfulCrosses\",  \"successfulDefensiveAction\",  \"successfulDribbles\",  \"successfulForwardPasses\",  \"successfulGoalKicks\",  \"successfulKeyPasses\",  \"successfulLateralPasses\",  \"successfulLinkupPlays\",  \"successfulLongPasses\",  \"successfulPasses\",  \"successfulPassesToFinalThird\",  \"successfulPenalties\",  \"successfulProgressivePasses\",  \"successfulSlidingTackles\",  \"successfulSmartPasses\",  \"successfulThroughPasses\",  \"successfulVerticalPasses\",  \"thirdAssists\",  \"throughPasses\",  \"touchInBox\",  \"verticalPasses\",  \"xgAssist\",  \"xgSave\",  \"xgShot\",  \"yellowCards\",  \"avgPossessionDuration\",  \"minutesOfPossession1-15\",  \"minutesOfPossession106-120\",  \"minutesOfPossession16-30\",  \"minutesOfPossession31-45\",  \"minutesOfPossession46-60\",  \"minutesOfPossession61-75\",  \"minutesOfPossession76-90\",  \"minutesOfPossession91-105\",  \"possession1-15\",  \"possession106-120\",  \"possession16-30\",  \"possession31-45\",  \"possession46-60\",  \"possession61-75\",  \"possession76-90\",  \"possession91-105\",  \"possessionNumber\",  \"possessionPercent\",  \"purePossessionTime\",  \"reachingOpponentBox\",  \"reachingOpponentHalf\",  \"avgPossessionDuration\",  \"minutesOfPossession1-15\",  \"minutesOfPossession106-120\",  \"minutesOfPossession16-30\",  \"minutesOfPossession31-45\",  \"minutesOfPossession46-60\",  \"minutesOfPossession61-75\",  \"minutesOfPossession76-90\",  \"minutesOfPossession91-105\",  \"possession1-15\",  \"possession106-120\",  \"possession16-30\",  \"possession31-45\",  \"possession46-60\",  \"possession61-75\",  \"possession76-90\",  \"possession91-105\",  \"possessionNumber\",  \"possessionPercent\",  \"purePossessionTime\",  \"reachingOpponentBox\",  \"reachingOpponentHalf\",  \"assists\",  \"avgPassLength\",  \"avgPassToFinalThirdLength\",  \"backPasses\",  \"backPassesSuccessful\",  \"crossesBlocked\",  \"crossesFromLeftFlank\",  \"crossesFromLeftFlankSuccessful\",  \"crossesFromRightFlank\",  \"crossesFromRightFlankSuccessful\",  \"crossesHigh\",  \"crossesLow\",  \"crossesSuccessful\",  \"crossesTotal\",  \"deepCompletedPasses\",  \"deepCompletedPassesSuccessful\",  \"forwardPasses\",  \"forwardPassesSuccessful\",  \"keyPasses\",  \"keyPassesSuccessful\",  \"lateralPasses\",  \"lateralPassesSuccessful\",  \"longPasses\",  \"longPassesSuccessful\",  \"matchTempo\",  \"passToFinalThirds\",  \"passToFinalThirdsSuccessful\",  \"passToPenaltyAreas\",  \"passToPenaltyAreasSuccessful\",  \"passes\",  \"passesSuccessful\",  \"progressivePasses\",  \"progressivePassesSuccessful\",  \"shortMediumPasses\",  \"shortMediumPassesSuccessful\",  \"shotAssists\",  \"smartPasses\",  \"smartPassesSuccessful\",  \"throughPasses\",  \"throughPassesSuccessful\",  \"verticalPasses\",  \"verticalPassesSuccessful\",  \"corners\",  \"cornersWithShot\",  \"counterAttacks\",  \"freeKicks\",  \"freeKicksWithShot\",  \"positionalAttack\",  \"positionalWithShots\",  \"total\",  \"withShots\",  \"clearances\",  \"interceptions\",  \"ppda\",  \"tackles\",  \"aerialDuels\",  \"aerialDuelsSuccessful\",  \"challengeIntensity\",  \"defensiveDuels\",  \"defensiveDuelsSuccessful\",  \"dribbles\",  \"dribblesSuccessful\",  \"duels\",  \"duelsSuccessful\",  \"groundDuels\",  \"groundDuelsSuccessful\",  \"looseBallDuels\",  \"looseBallDuelsSuccessful\",  \"offensiveDuels\",  \"offensiveDuelsSuccessful\"]\n",
    "adv_stats = list(set(adv_stats))"
   ]
  },
  {
   "cell_type": "code",
   "execution_count": 210,
   "metadata": {},
   "outputs": [
    {
     "data": {
      "text/html": [
       "<div>\n",
       "<style scoped>\n",
       "    .dataframe tbody tr th:only-of-type {\n",
       "        vertical-align: middle;\n",
       "    }\n",
       "\n",
       "    .dataframe tbody tr th {\n",
       "        vertical-align: top;\n",
       "    }\n",
       "\n",
       "    .dataframe thead th {\n",
       "        text-align: right;\n",
       "    }\n",
       "</style>\n",
       "<table border=\"1\" class=\"dataframe\">\n",
       "  <thead>\n",
       "    <tr style=\"text-align: right;\">\n",
       "      <th></th>\n",
       "      <th>shortName</th>\n",
       "      <th>Position</th>\n",
       "      <th>playerId</th>\n",
       "      <th>weight</th>\n",
       "      <th>height</th>\n",
       "      <th>foot</th>\n",
       "      <th>matchId</th>\n",
       "      <th>xStart</th>\n",
       "      <th>yStart</th>\n",
       "      <th>teamId</th>\n",
       "      <th>name</th>\n",
       "      <th>homeTeamId</th>\n",
       "      <th>awayTeamId</th>\n",
       "      <th>homeAway</th>\n",
       "      <th>gameTime (s)</th>\n",
       "    </tr>\n",
       "  </thead>\n",
       "  <tbody>\n",
       "    <tr>\n",
       "      <th>0</th>\n",
       "      <td>M. \\u00d6zil</td>\n",
       "      <td>MID</td>\n",
       "      <td>3319</td>\n",
       "      <td>76.0</td>\n",
       "      <td>180.0</td>\n",
       "      <td>left</td>\n",
       "      <td>2499719</td>\n",
       "      <td>63.549020</td>\n",
       "      <td>43.901961</td>\n",
       "      <td>1609</td>\n",
       "      <td>Arsenal</td>\n",
       "      <td>1609</td>\n",
       "      <td>1631</td>\n",
       "      <td>home</td>\n",
       "      <td>5774.608975</td>\n",
       "    </tr>\n",
       "    <tr>\n",
       "      <th>1</th>\n",
       "      <td>A. Ramsey</td>\n",
       "      <td>MID</td>\n",
       "      <td>7870</td>\n",
       "      <td>76.0</td>\n",
       "      <td>183.0</td>\n",
       "      <td>right</td>\n",
       "      <td>2499719</td>\n",
       "      <td>61.857143</td>\n",
       "      <td>48.333333</td>\n",
       "      <td>1609</td>\n",
       "      <td>Arsenal</td>\n",
       "      <td>1609</td>\n",
       "      <td>1631</td>\n",
       "      <td>home</td>\n",
       "      <td>1670.013269</td>\n",
       "    </tr>\n",
       "    <tr>\n",
       "      <th>2</th>\n",
       "      <td>T. Walcott</td>\n",
       "      <td>FWD</td>\n",
       "      <td>7879</td>\n",
       "      <td>68.0</td>\n",
       "      <td>176.0</td>\n",
       "      <td>right</td>\n",
       "      <td>2499719</td>\n",
       "      <td>50.250000</td>\n",
       "      <td>86.500000</td>\n",
       "      <td>1609</td>\n",
       "      <td>Arsenal</td>\n",
       "      <td>1609</td>\n",
       "      <td>1631</td>\n",
       "      <td>home</td>\n",
       "      <td>560.259270</td>\n",
       "    </tr>\n",
       "    <tr>\n",
       "      <th>3</th>\n",
       "      <td>P. \\u010cech</td>\n",
       "      <td>GKP</td>\n",
       "      <td>7882</td>\n",
       "      <td>90.0</td>\n",
       "      <td>196.0</td>\n",
       "      <td>left</td>\n",
       "      <td>2499719</td>\n",
       "      <td>10.380952</td>\n",
       "      <td>40.571429</td>\n",
       "      <td>1609</td>\n",
       "      <td>Arsenal</td>\n",
       "      <td>1609</td>\n",
       "      <td>1631</td>\n",
       "      <td>home</td>\n",
       "      <td>5556.288749</td>\n",
       "    </tr>\n",
       "    <tr>\n",
       "      <th>4</th>\n",
       "      <td>R. Holding</td>\n",
       "      <td>DEF</td>\n",
       "      <td>370224</td>\n",
       "      <td>75.0</td>\n",
       "      <td>189.0</td>\n",
       "      <td>right</td>\n",
       "      <td>2499719</td>\n",
       "      <td>35.337500</td>\n",
       "      <td>76.550000</td>\n",
       "      <td>1609</td>\n",
       "      <td>Arsenal</td>\n",
       "      <td>1609</td>\n",
       "      <td>1631</td>\n",
       "      <td>home</td>\n",
       "      <td>4103.863725</td>\n",
       "    </tr>\n",
       "  </tbody>\n",
       "</table>\n",
       "</div>"
      ],
      "text/plain": [
       "      shortName Position  playerId  weight  height   foot  matchId     xStart  \\\n",
       "0  M. \\u00d6zil      MID      3319    76.0   180.0   left  2499719  63.549020   \n",
       "1     A. Ramsey      MID      7870    76.0   183.0  right  2499719  61.857143   \n",
       "2    T. Walcott      FWD      7879    68.0   176.0  right  2499719  50.250000   \n",
       "3  P. \\u010cech      GKP      7882    90.0   196.0   left  2499719  10.380952   \n",
       "4    R. Holding      DEF    370224    75.0   189.0  right  2499719  35.337500   \n",
       "\n",
       "      yStart  teamId     name  homeTeamId  awayTeamId homeAway  gameTime (s)  \n",
       "0  43.901961    1609  Arsenal        1609        1631     home   5774.608975  \n",
       "1  48.333333    1609  Arsenal        1609        1631     home   1670.013269  \n",
       "2  86.500000    1609  Arsenal        1609        1631     home    560.259270  \n",
       "3  40.571429    1609  Arsenal        1609        1631     home   5556.288749  \n",
       "4  76.550000    1609  Arsenal        1609        1631     home   4103.863725  "
      ]
     },
     "execution_count": 210,
     "metadata": {},
     "output_type": "execute_result"
    }
   ],
   "source": [
    "Player_Aggs.head()"
   ]
  },
  {
   "cell_type": "code",
   "execution_count": 211,
   "metadata": {},
   "outputs": [],
   "source": [
    "# result is event_df\n",
    "def player_goals(result):\n",
    "\n",
    "    conditions = [\n",
    "            (((result['subEventDescription'].str.match('goal ')) & (result['Result'] == \"Success\"))),\n",
    "            (((result['subEventDescription'].str.match('goal ')) & (result['Result'] == \"Failure\") & (result['subEventName'] == \"Shot\"))),\n",
    "            (((result['subEventDescription'].str.match('goal ')) & (result['Result'] == \"Failure\") & (result['subEventName'] != \"Shot\")))\n",
    "            ]\n",
    "\n",
    "    # create a list of the values we want to assign for each condition\n",
    "    values = [1, 1, -1]\n",
    "\n",
    "    # create a new column and us np.select to assign values to it using our lists as arguments\n",
    "    result['Goal_Value'] = np.select(conditions, values, default = 0)\n",
    "    \n",
    "    return result\n",
    "    \n",
    "    "
   ]
  },
  {
   "cell_type": "code",
   "execution_count": 228,
   "metadata": {},
   "outputs": [],
   "source": [
    "### Attack Metres stat (how many forward metres achieved through events)\n",
    "def successAttackMetres(event_df):\n",
    "\n",
    "    df = event_df.loc[event_df.Result == \"Accurate\" ].groupby(['matchId','playerId'])['attackMetres'].sum().reset_index().rename(columns={'attackMetres': \"AccurateAttackMetres\"})\n",
    "\n",
    "    return df\n",
    "\n",
    "def failAttackMetres(event_df):\n",
    "\n",
    "    df = event_df.loc[event_df.Result == \"Inaccurate\" ].groupby(['matchId','playerId'])['attackMetres'].sum().reset_index().rename(columns={'attackMetres': \"InaccurateAttackMetres\"})\n",
    "\n",
    "    return df\n"
   ]
  },
  {
   "cell_type": "code",
   "execution_count": 291,
   "metadata": {},
   "outputs": [],
   "source": [
    "# adding in total meterage of accurate and inaccurate movements by players in the vertical plane towards the goal\n",
    "successAMetres = parseEvent_df(successAttackMetres)\n",
    "failedAMetres = parseEvent_df(failAttackMetres)\n",
    "Player_Aggs = pd.merge(Player_Aggs, successAMetres, how= 'left', on =['playerId', 'matchId'])\n",
    "Player_Aggs = pd.merge(Player_Aggs, failedAMetres, how = 'left', on =['playerId', 'matchId'])\n",
    "Player_Aggs.AccurateAttackMetres = Player_Aggs.AccurateAttackMetres.fillna(0)\n",
    "Player_Aggs.InaccurateAttackMetres = Player_Aggs.InaccurateAttackMetres.fillna(0)"
   ]
  },
  {
   "cell_type": "code",
   "execution_count": 290,
   "metadata": {},
   "outputs": [],
   "source": [
    "# Player_Aggs =  Player_Aggs.iloc[:, :-2]"
   ]
  },
  {
   "cell_type": "code",
   "execution_count": 301,
   "metadata": {},
   "outputs": [],
   "source": [
    "def find_goals(event_df):\n",
    "\n",
    "    # Create a column to recognize when a goal is scored\n",
    "    conditions = [\n",
    "        (((event_df['subEventDescription'].str.match('goal ')) & (event_df['Result'] == \"Accurate\"))),\n",
    "        (((event_df['subEventDescription'].str.match('goal ')) & (event_df['Result'] == \"Inaccurate\") & (event_df['subEventName'] == \"Shot\"))),\n",
    "        (((event_df['subEventDescription'].str.match('goal ')) & (event_df['Result'] == \"Inaccurate\") & (event_df['subEventName'] != \"Shot\")))\n",
    "        ]\n",
    "\n",
    "    # create a list of the values we want to assign for each condition\n",
    "    values = [1, 1, -1]\n",
    "\n",
    "    # create a new column and use np.select to assign values to it using our lists as arguments\n",
    "    event_df['Goal_Value'] = np.select(conditions, values, default = 0)\n",
    "    \n",
    "    return event_df.groupby(['playerId', \"matchId\"]).sum().reset_index()[['playerId', 'matchId', 'Goal_Value']]"
   ]
  },
  {
   "cell_type": "code",
   "execution_count": 251,
   "metadata": {},
   "outputs": [],
   "source": [
    "goals = parseEvent_df(find_goals)\n",
    "Player_Aggs = pd.merge(Player_Aggs, goals, how= 'left', on =['playerId', 'matchId'])"
   ]
  },
  {
   "cell_type": "markdown",
   "metadata": {},
   "source": [
    "##### Explore Feature"
   ]
  },
  {
   "cell_type": "code",
   "execution_count": 307,
   "metadata": {},
   "outputs": [
    {
     "data": {
      "text/plain": [
       "array(['Simple pass', 'High pass', 'Head pass', 'Air duel',\n",
       "       'Ground loose ball duel', 'Smart pass', 'Launch',\n",
       "       'Ground defending duel', 'Ground attacking duel', 'Cross', 'Shot',\n",
       "       'Reflexes', 'Touch', 'Clearance', 'Free Kick', 'Corner',\n",
       "       'Hand pass', 'Acceleration', 'Save attempt', 'Free kick cross',\n",
       "       'Foul', 'Free kick shot', 'Hand foul', 'Violent Foul', 'Protest',\n",
       "       'Goalkeeper leaving line', 'Late card foul', 'Out of game foul',\n",
       "       'Penalty', 'Time lost foul', 'Simulation'], dtype=object)"
      ]
     },
     "execution_count": 307,
     "metadata": {},
     "output_type": "execute_result"
    }
   ],
   "source": [
    "Events_England.subEventName.unique()"
   ]
  },
  {
   "cell_type": "code",
   "execution_count": null,
   "metadata": {},
   "outputs": [],
   "source": [
    "# goalkeeping, dribbles, accelerations, crosses"
   ]
  },
  {
   "cell_type": "code",
   "execution_count": 486,
   "metadata": {},
   "outputs": [
    {
     "data": {
      "text/html": [
       "<div>\n",
       "<style scoped>\n",
       "    .dataframe tbody tr th:only-of-type {\n",
       "        vertical-align: middle;\n",
       "    }\n",
       "\n",
       "    .dataframe tbody tr th {\n",
       "        vertical-align: top;\n",
       "    }\n",
       "\n",
       "    .dataframe thead th {\n",
       "        text-align: right;\n",
       "    }\n",
       "</style>\n",
       "<table border=\"1\" class=\"dataframe\">\n",
       "  <thead>\n",
       "    <tr style=\"text-align: right;\">\n",
       "      <th></th>\n",
       "      <th>eventId</th>\n",
       "      <th>subEventName</th>\n",
       "      <th>playerId</th>\n",
       "      <th>matchId</th>\n",
       "      <th>teamId</th>\n",
       "      <th>matchPeriod</th>\n",
       "      <th>eventSec</th>\n",
       "      <th>subEventId</th>\n",
       "      <th>Result</th>\n",
       "      <th>subEventDescription</th>\n",
       "      <th>xStart</th>\n",
       "      <th>xEnd</th>\n",
       "      <th>yStart</th>\n",
       "      <th>yEnd</th>\n",
       "      <th>attackMetres</th>\n",
       "      <th>Goal_Value</th>\n",
       "    </tr>\n",
       "  </thead>\n",
       "  <tbody>\n",
       "    <tr>\n",
       "      <th>1846</th>\n",
       "      <td>7</td>\n",
       "      <td>Touch</td>\n",
       "      <td>8325</td>\n",
       "      <td>2499720</td>\n",
       "      <td>1625</td>\n",
       "      <td>1H</td>\n",
       "      <td>184.085987</td>\n",
       "      <td>72</td>\n",
       "      <td></td>\n",
       "      <td>generic play</td>\n",
       "      <td>92</td>\n",
       "      <td>82</td>\n",
       "      <td>43</td>\n",
       "      <td>43</td>\n",
       "      <td>-10</td>\n",
       "      <td>0</td>\n",
       "    </tr>\n",
       "    <tr>\n",
       "      <th>1940</th>\n",
       "      <td>7</td>\n",
       "      <td>Touch</td>\n",
       "      <td>8277</td>\n",
       "      <td>2499720</td>\n",
       "      <td>1625</td>\n",
       "      <td>1H</td>\n",
       "      <td>457.280577</td>\n",
       "      <td>72</td>\n",
       "      <td></td>\n",
       "      <td>opportunity</td>\n",
       "      <td>95</td>\n",
       "      <td>98</td>\n",
       "      <td>62</td>\n",
       "      <td>56</td>\n",
       "      <td>3</td>\n",
       "      <td>0</td>\n",
       "    </tr>\n",
       "    <tr>\n",
       "      <th>2150</th>\n",
       "      <td>7</td>\n",
       "      <td>Touch</td>\n",
       "      <td>340386</td>\n",
       "      <td>2499720</td>\n",
       "      <td>1625</td>\n",
       "      <td>1H</td>\n",
       "      <td>1200.160927</td>\n",
       "      <td>72</td>\n",
       "      <td></td>\n",
       "      <td>generic play</td>\n",
       "      <td>92</td>\n",
       "      <td>100</td>\n",
       "      <td>58</td>\n",
       "      <td>73</td>\n",
       "      <td>8</td>\n",
       "      <td>0</td>\n",
       "    </tr>\n",
       "    <tr>\n",
       "      <th>2171</th>\n",
       "      <td>7</td>\n",
       "      <td>Touch</td>\n",
       "      <td>9380</td>\n",
       "      <td>2499720</td>\n",
       "      <td>1625</td>\n",
       "      <td>1H</td>\n",
       "      <td>1402.770829</td>\n",
       "      <td>72</td>\n",
       "      <td></td>\n",
       "      <td>generic play</td>\n",
       "      <td>91</td>\n",
       "      <td>88</td>\n",
       "      <td>62</td>\n",
       "      <td>57</td>\n",
       "      <td>-3</td>\n",
       "      <td>0</td>\n",
       "    </tr>\n",
       "    <tr>\n",
       "      <th>2229</th>\n",
       "      <td>7</td>\n",
       "      <td>Touch</td>\n",
       "      <td>340386</td>\n",
       "      <td>2499720</td>\n",
       "      <td>1625</td>\n",
       "      <td>1H</td>\n",
       "      <td>1584.375157</td>\n",
       "      <td>72</td>\n",
       "      <td></td>\n",
       "      <td>generic play</td>\n",
       "      <td>88</td>\n",
       "      <td>92</td>\n",
       "      <td>57</td>\n",
       "      <td>63</td>\n",
       "      <td>4</td>\n",
       "      <td>0</td>\n",
       "    </tr>\n",
       "    <tr>\n",
       "      <th>...</th>\n",
       "      <td>...</td>\n",
       "      <td>...</td>\n",
       "      <td>...</td>\n",
       "      <td>...</td>\n",
       "      <td>...</td>\n",
       "      <td>...</td>\n",
       "      <td>...</td>\n",
       "      <td>...</td>\n",
       "      <td>...</td>\n",
       "      <td>...</td>\n",
       "      <td>...</td>\n",
       "      <td>...</td>\n",
       "      <td>...</td>\n",
       "      <td>...</td>\n",
       "      <td>...</td>\n",
       "      <td>...</td>\n",
       "    </tr>\n",
       "    <tr>\n",
       "      <th>641133</th>\n",
       "      <td>7</td>\n",
       "      <td>Touch</td>\n",
       "      <td>3928</td>\n",
       "      <td>2500097</td>\n",
       "      <td>1631</td>\n",
       "      <td>2H</td>\n",
       "      <td>3713.191990</td>\n",
       "      <td>72</td>\n",
       "      <td></td>\n",
       "      <td>generic play</td>\n",
       "      <td>87</td>\n",
       "      <td>87</td>\n",
       "      <td>40</td>\n",
       "      <td>48</td>\n",
       "      <td>0</td>\n",
       "      <td>0</td>\n",
       "    </tr>\n",
       "    <tr>\n",
       "      <th>641257</th>\n",
       "      <td>7</td>\n",
       "      <td>Touch</td>\n",
       "      <td>36</td>\n",
       "      <td>2500097</td>\n",
       "      <td>1624</td>\n",
       "      <td>2H</td>\n",
       "      <td>4190.506691</td>\n",
       "      <td>72</td>\n",
       "      <td></td>\n",
       "      <td>generic play</td>\n",
       "      <td>91</td>\n",
       "      <td>89</td>\n",
       "      <td>33</td>\n",
       "      <td>34</td>\n",
       "      <td>-2</td>\n",
       "      <td>0</td>\n",
       "    </tr>\n",
       "    <tr>\n",
       "      <th>641545</th>\n",
       "      <td>7</td>\n",
       "      <td>Touch</td>\n",
       "      <td>8717</td>\n",
       "      <td>2500097</td>\n",
       "      <td>1624</td>\n",
       "      <td>2H</td>\n",
       "      <td>5368.236240</td>\n",
       "      <td>72</td>\n",
       "      <td></td>\n",
       "      <td>generic play</td>\n",
       "      <td>94</td>\n",
       "      <td>78</td>\n",
       "      <td>51</td>\n",
       "      <td>88</td>\n",
       "      <td>-16</td>\n",
       "      <td>0</td>\n",
       "    </tr>\n",
       "    <tr>\n",
       "      <th>642139</th>\n",
       "      <td>7</td>\n",
       "      <td>Touch</td>\n",
       "      <td>265318</td>\n",
       "      <td>2500098</td>\n",
       "      <td>1633</td>\n",
       "      <td>1H</td>\n",
       "      <td>1831.284544</td>\n",
       "      <td>72</td>\n",
       "      <td></td>\n",
       "      <td>generic play</td>\n",
       "      <td>95</td>\n",
       "      <td>98</td>\n",
       "      <td>30</td>\n",
       "      <td>31</td>\n",
       "      <td>3</td>\n",
       "      <td>0</td>\n",
       "    </tr>\n",
       "    <tr>\n",
       "      <th>642521</th>\n",
       "      <td>7</td>\n",
       "      <td>Touch</td>\n",
       "      <td>8240</td>\n",
       "      <td>2500098</td>\n",
       "      <td>1623</td>\n",
       "      <td>2H</td>\n",
       "      <td>3197.391078</td>\n",
       "      <td>72</td>\n",
       "      <td></td>\n",
       "      <td>generic play</td>\n",
       "      <td>92</td>\n",
       "      <td>90</td>\n",
       "      <td>39</td>\n",
       "      <td>31</td>\n",
       "      <td>-2</td>\n",
       "      <td>0</td>\n",
       "    </tr>\n",
       "  </tbody>\n",
       "</table>\n",
       "<p>843 rows × 16 columns</p>\n",
       "</div>"
      ],
      "text/plain": [
       "        eventId subEventName  playerId  matchId  teamId matchPeriod  \\\n",
       "1846          7        Touch      8325  2499720    1625          1H   \n",
       "1940          7        Touch      8277  2499720    1625          1H   \n",
       "2150          7        Touch    340386  2499720    1625          1H   \n",
       "2171          7        Touch      9380  2499720    1625          1H   \n",
       "2229          7        Touch    340386  2499720    1625          1H   \n",
       "...         ...          ...       ...      ...     ...         ...   \n",
       "641133        7        Touch      3928  2500097    1631          2H   \n",
       "641257        7        Touch        36  2500097    1624          2H   \n",
       "641545        7        Touch      8717  2500097    1624          2H   \n",
       "642139        7        Touch    265318  2500098    1633          1H   \n",
       "642521        7        Touch      8240  2500098    1623          2H   \n",
       "\n",
       "           eventSec subEventId Result subEventDescription  xStart  xEnd  \\\n",
       "1846     184.085987         72               generic play      92    82   \n",
       "1940     457.280577         72                opportunity      95    98   \n",
       "2150    1200.160927         72               generic play      92   100   \n",
       "2171    1402.770829         72               generic play      91    88   \n",
       "2229    1584.375157         72               generic play      88    92   \n",
       "...             ...        ...    ...                 ...     ...   ...   \n",
       "641133  3713.191990         72               generic play      87    87   \n",
       "641257  4190.506691         72               generic play      91    89   \n",
       "641545  5368.236240         72               generic play      94    78   \n",
       "642139  1831.284544         72               generic play      95    98   \n",
       "642521  3197.391078         72               generic play      92    90   \n",
       "\n",
       "        yStart  yEnd  attackMetres  Goal_Value  \n",
       "1846        43    43           -10           0  \n",
       "1940        62    56             3           0  \n",
       "2150        58    73             8           0  \n",
       "2171        62    57            -3           0  \n",
       "2229        57    63             4           0  \n",
       "...        ...   ...           ...         ...  \n",
       "641133      40    48             0           0  \n",
       "641257      33    34            -2           0  \n",
       "641545      51    88           -16           0  \n",
       "642139      30    31             3           0  \n",
       "642521      39    31            -2           0  \n",
       "\n",
       "[843 rows x 16 columns]"
      ]
     },
     "execution_count": 486,
     "metadata": {},
     "output_type": "execute_result"
    }
   ],
   "source": [
    "Events_England[(Events_England.subEventName == 'Touch')]\n"
   ]
  },
  {
   "cell_type": "markdown",
   "metadata": {},
   "source": [
    "#### Tackles & Ground Duels"
   ]
  },
  {
   "cell_type": "code",
   "execution_count": 496,
   "metadata": {},
   "outputs": [],
   "source": [
    "\n",
    "# Sliding tackles won\n",
    "def slidingTacklesWon(event_df):\n",
    "    return event_df[(event_df.subEventDescription.str.contains(\"sliding_tackle won\"))][['playerId', 'matchId']].groupby(['playerId', 'matchId']).size().reset_index(name='SlidingTacklesWon')\n",
    "\n",
    "# Sliding tackles lost\n",
    "def slidingTacklesLost(event_df):\n",
    "    return event_df[(event_df.subEventDescription.str.contains(\"sliding_tackle lost\"))][['playerId', 'matchId']].groupby(['playerId', 'matchId']).size().reset_index(name='SlidingTacklesLost')\n",
    "\n",
    "# Ground Defending Duels Won\n",
    "def GroundDuelsWon(event_df):\n",
    "    return event_df[(event_df.subEventName==\"Ground defending duel\") & event_df.subEventDescription.str.contains(\"won\")][['playerId', 'matchId']].groupby(['playerId', 'matchId']).size().reset_index(name='GroundDefDuelsWon')\n",
    "\n",
    "# Ground Defending Duels Lost\n",
    "def GroundDuelsLost(event_df):\n",
    "    return event_df[(event_df.subEventName==\"Ground defending duel\") & event_df.subEventDescription.str.contains(\"lost\")][['playerId', 'matchId']].groupby(['playerId', 'matchId']).size().reset_index(name='GroundDefDuelsLost')\n",
    "\n",
    "# Ground Defensive Anticipations\n",
    "def GroundDefAnticipations(event_df):\n",
    "    return event_df[(event_df.subEventName==\"Ground defending duel\") & event_df.subEventDescription.str.contains(\"anticipated\")][['playerId', 'matchId']].groupby(['playerId', 'matchId']).size().reset_index(name='DefensiveAnticipations')\n",
    "\n",
    "# Ground Loose Balls Won\n",
    "def GroundLooseBallsWon(event_df):\n",
    "    return event_df[(event_df.subEventName == 'Ground loose ball duel') &(event_df.subEventDescription.str.contains('won'))][['playerId', 'matchId']].groupby(['playerId', 'matchId']).size().reset_index(name='GroundLooseBallsWon')\n",
    "\n",
    "# Ground Loose Balls Lost\n",
    "def GroundLooseBallsLost(event_df):\n",
    "    return event_df[(event_df.subEventName == 'Ground loose ball duel') &(event_df.subEventDescription.str.contains('lost'))][['playerId', 'matchId']].groupby(['playerId', 'matchId']).size().reset_index(name='GroundLooseBallsLost')\n",
    "\n",
    "# Ground attacking duels won\n",
    "def GroundAttackDuelsWon(event_df):\n",
    "    return event_df[(event_df.subEventName == 'Ground attacking duel') &(event_df.subEventDescription.str.contains('won'))][['playerId', 'matchId']].groupby(['playerId', 'matchId']).size().reset_index(name='GroundAttackDuelsWon')\n",
    "\n",
    "# Ground attacking duels lost\n",
    "def GroundAttackDuelsLost(event_df):\n",
    "    return event_df[(event_df.subEventName == 'Ground attacking duel') &(event_df.subEventDescription.str.contains('lost'))][['playerId', 'matchId']].groupby(['playerId', 'matchId']).size().reset_index(name='GroundAttackDuelsLost')\n",
    "\n",
    "# Offensive Touches in box\n",
    "def OffTouchesBox(event_df):\n",
    "    return event_df[(event_df.subEventName == 'Touch')\n",
    "              & (event_df.xStart > 82)\n",
    "              & (event_df.yStart < 80)\n",
    "              & (event_df.yStart > 20)][['playerId', 'matchId']].groupby(['playerId', 'matchId']).size().reset_index(name='OffensiveTouchesBox')\n",
    "\n",
    "\n"
   ]
  },
  {
   "cell_type": "code",
   "execution_count": 497,
   "metadata": {},
   "outputs": [],
   "source": [
    "# \n",
    "Player_Aggs = alter_Player_Aggs(slidingTacklesWon, \"SlidingTacklesWon\", Player_Aggs)\n",
    "Player_Aggs = alter_Player_Aggs(slidingTacklesLost, \"SlidingTacklesLost\", Player_Aggs)\n",
    "Player_Aggs = alter_Player_Aggs(GroundDuelsWon, \"GroundDefDuelsWon\", Player_Aggs)\n",
    "Player_Aggs = alter_Player_Aggs(GroundDuelsLost, \"GroundDefDuelsLost\", Player_Aggs)\n",
    "Player_Aggs = alter_Player_Aggs(GroundDefAnticipations, \"DefensiveAnticipations\", Player_Aggs)\n",
    "Player_Aggs = alter_Player_Aggs(GroundLooseBallsWon, \"GroundLooseBallsWon\", Player_Aggs)\n",
    "Player_Aggs = alter_Player_Aggs(GroundLooseBallsLost, \"GroundLooseBallsLost\", Player_Aggs)\n",
    "Player_Aggs = alter_Player_Aggs(GroundAttackDuelsWon, \"GroundAttackDuelsWon\", Player_Aggs)\n",
    "Player_Aggs = alter_Player_Aggs(GroundAttackDuelsLost, \"GroundAttackDuelsLost\", Player_Aggs)\n",
    "Player_Aggs = alter_Player_Aggs(OffTouchesBox, \"OffensiveTouchesBox\", Player_Aggs)\n",
    "\n",
    "Player_Aggs = Player_Aggs.drop_duplicates()\n"
   ]
  },
  {
   "cell_type": "code",
   "execution_count": 500,
   "metadata": {},
   "outputs": [],
   "source": []
  },
  {
   "cell_type": "markdown",
   "metadata": {},
   "source": [
    "#### Crosses, Dribbles, Accelerations"
   ]
  },
  {
   "cell_type": "code",
   "execution_count": null,
   "metadata": {},
   "outputs": [],
   "source": []
  },
  {
   "cell_type": "markdown",
   "metadata": {},
   "source": [
    "#### Shots & Goals"
   ]
  },
  {
   "cell_type": "code",
   "execution_count": 458,
   "metadata": {},
   "outputs": [],
   "source": [
    "# Shots on Target\n",
    "def ShotsOnTarget(event_df):\n",
    "    return event_df[(event_df.subEventName==\"Shot\") & (event_df.Result==\"Accurate\")][['playerId', 'matchId']].groupby(['playerId', 'matchId']).size().reset_index(name='ShotsOnTarget')\n",
    "\n",
    "# Shots off Target\n",
    "def ShotsOffTarget(event_df):\n",
    "    return event_df[(event_df.subEventName==\"Shot\") & (event_df.Result==\"Inaccurate\")][['playerId', 'matchId']].groupby(['playerId', 'matchId']).size().reset_index(name='ShotsOffTarget')\n",
    "\n",
    "# Shot opportunity\n",
    "def shot_opportunities(event_df):\n",
    "    return event_df[(event_df.subEventName==\"Shot\") & (event_df.subEventDescription.str.contains(\"opportunity\"))][['playerId', 'matchId']].groupby(['playerId', 'matchId']).size().reset_index(name='ShotOpportunities')\n",
    "\n",
    "# Accurate free kick shots\n",
    "def accFreeKicks(event_df):\n",
    "    return event_df[(event_df.subEventName==\"Free kick shot\") & (event_df.Result==\"Accurate\")][['playerId', 'matchId']].groupby(['playerId', 'matchId']).size().reset_index(name='FreeKickShotAcc')\n",
    "\n",
    "# Inaccurate free kick shots\n",
    "def InaccFreeKicks(event_df):\n",
    "    return event_df[(event_df.subEventName==\"Free kick shot\") & (event_df.Result==\"Inaccurate\")][['playerId', 'matchId']].groupby(['playerId', 'matchId']).size().reset_index(name='FreeKickShotInacc')\n",
    "\n",
    "# Scored penalty\n",
    "def PenaltyGoal(event_df):\n",
    "    return event_df[(event_df.subEventName==\"Penalty\") & (event_df.Result==\"Accurate\")][['playerId', 'matchId']].groupby(['playerId', 'matchId']).size().reset_index(name='PenaltyConverted')\n",
    "\n",
    "# Did not score penalty\n",
    "def PenaltyNotGoal(event_df):\n",
    "    return event_df[(event_df.subEventName==\"Penalty\") & (event_df.Result==\"Inaccurate\")][['playerId', 'matchId']].groupby(['playerId', 'matchId']).size().reset_index(name='PenaltyNotConverted')\n",
    "\n",
    "# Goal scored with head/body\n",
    "def HeaderGoal(event_df):\n",
    "    return event_df[(event_df.subEventName==\"Shot\") & (event_df.subEventDescription.str.match(\"goal \"))\n",
    "              & (event_df.subEventDescription.str.contains(\"head\"))][['playerId', 'matchId']].groupby(['playerId', 'matchId']).size().reset_index(name='Header/Body_Goal')\n",
    "\n",
    "# Goal scored with right foot\n",
    "def RightFootGoal(event_df): \n",
    "    return event_df[(event_df.subEventName==\"Shot\") & (event_df.subEventDescription.str.match(\"goal \"))\n",
    "              & (event_df.subEventDescription.str.contains(\"right_foot\"))][['playerId', 'matchId']].groupby(['playerId', 'matchId']).size().reset_index(name='RightFootGoal')\n",
    "\n",
    "# Goal scored with left foot\n",
    "def LeftFootGoal(event_df):\n",
    "    return event_df[(event_df.subEventName==\"Shot\") & (event_df.subEventDescription.str.match(\"goal \"))\n",
    "              & (event_df.subEventDescription.str.contains(\"left_foot\"))][['playerId', 'matchId']].groupby(['playerId', 'matchId']).size().reset_index(name='LeftFootGoal')\n",
    "\n",
    "# Counter Attack Goal\n",
    "def CounterAttackGoal(event_df):\n",
    "    return event_df[(event_df.subEventName==\"Shot\") & (event_df.subEventDescription.str.match(\"goal \"))\n",
    "              & (event_df.subEventDescription.str.contains(\"counter_attack\"))][['playerId', 'matchId']].groupby(['playerId', 'matchId']).size().reset_index(name='CounterAttackGoal')\n",
    "\n",
    "# Interception Goal\n",
    "def InterceptionGoal(event_df):\n",
    "    return event_df[(event_df.subEventName==\"Shot\") & (event_df.subEventDescription.str.match(\"goal \"))\n",
    "              & (event_df.subEventDescription.str.contains(\"interception\"))][['playerId', 'matchId']].groupby(['playerId', 'matchId']).size().reset_index(name='InterceptionGoal')\n",
    "\n",
    "# Goal positions\n",
    "def GoalPositions(event_df, pos):\n",
    "    return event_df[(event_df.subEventName==\"Shot\") & (event_df.subEventDescription.str.match(\"goal \"))\n",
    "                  & (event_df.subEventDescription.str.contains(pos))][['playerId', 'matchId']].groupby(['playerId', 'matchId']).size().reset_index(name='Goal_'+pos)\n",
    "    \n",
    "def OwnGoals(event_df):\n",
    "    return event_df[event_df.subEventDescription.str.contains(\"own\")][['playerId', 'matchId']].groupby(['playerId', 'matchId']).size().reset_index(name='OwnGoals')\n",
    "    \n",
    "\n"
   ]
  },
  {
   "cell_type": "code",
   "execution_count": 414,
   "metadata": {},
   "outputs": [],
   "source": [
    "# Get positional zones of goals for players\n",
    "\n",
    "possies = ['low_left', 'mid_left', 'high_left', 'low_center', 'mid_center', 'high_center', 'low_right', 'mid_right', 'high_right']\n",
    "for pos in possies:\n",
    "    a = GoalPositions(Events_England, pos)\n",
    "    b = GoalPositions(Events_France, pos)\n",
    "    c = GoalPositions(Events_Italy, pos)\n",
    "    d = GoalPositions(Events_Spain, pos)\n",
    "    e = GoalPositions(Events_Germany, pos)\n",
    "    df = pd.concat([a,b,c,d,e])\n",
    "    Player_Aggs = pd.merge(Player_Aggs, df, how= 'left', on =['playerId', 'matchId'])\n",
    "    Player_Aggs[\"Goal_\"+pos] = test[\"Goal_\"+pos].fillna(0)\n",
    "    \n"
   ]
  },
  {
   "cell_type": "code",
   "execution_count": 421,
   "metadata": {},
   "outputs": [],
   "source": [
    "# Patch up to remove duplicate rows\n",
    "Player_Aggs = Player_Aggs.drop_duplicates()"
   ]
  },
  {
   "cell_type": "code",
   "execution_count": 459,
   "metadata": {},
   "outputs": [],
   "source": [
    "# Add shot and goal summaries for players per match\n",
    "Player_Aggs = alter_Player_Aggs(ShotsOnTarget, \"ShotsOnTarget\", Player_Aggs)\n",
    "Player_Aggs = alter_Player_Aggs(ShotsOffTarget, \"ShotsOffTarget\", Player_Aggs)\n",
    "Player_Aggs = alter_Player_Aggs(shot_opportunities, \"ShotOpportunities\", Player_Aggs)\n",
    "Player_Aggs = alter_Player_Aggs(accFreeKicks, \"FreeKickShotAcc\", Player_Aggs)\n",
    "Player_Aggs = alter_Player_Aggs(InaccFreeKicks, \"FreeKickShotInacc\", Player_Aggs)\n",
    "Player_Aggs = alter_Player_Aggs(PenaltyGoal, \"PenaltyConverted\", Player_Aggs)\n",
    "Player_Aggs = alter_Player_Aggs(PenaltyNotGoal, \"PenaltyNotConverted\", Player_Aggs)\n",
    "Player_Aggs = alter_Player_Aggs(HeaderGoal, \"Header/Body_Goal\", Player_Aggs)\n",
    "Player_Aggs = alter_Player_Aggs(RightFootGoal, \"RightFootGoal\", Player_Aggs)\n",
    "Player_Aggs = alter_Player_Aggs(LeftFootGoal, \"LeftFootGoal\", Player_Aggs)\n",
    "Player_Aggs = alter_Player_Aggs(CounterAttackGoal, \"CounterAttackGoal\", Player_Aggs)\n",
    "Player_Aggs = alter_Player_Aggs(InterceptionGoal, \"InterceptionGoal\", Player_Aggs)\n",
    "Player_Aggs = alter_Player_Aggs(OwnGoals, \"OwnGoals\", Player_Aggs)"
   ]
  },
  {
   "cell_type": "markdown",
   "metadata": {},
   "source": [
    "####   Air duel"
   ]
  },
  {
   "cell_type": "code",
   "execution_count": 324,
   "metadata": {},
   "outputs": [],
   "source": [
    "def AerialDuelsWon(events_df):\n",
    "    return Events_England[(Events_England.subEventName==\"Air duel\") & (Events_England.subEventDescription.str.contains(\"won\"))][['playerId', 'matchId']].groupby(['playerId', 'matchId']).size().reset_index(name='AerialDuelsWon')\n",
    "\n",
    "def AerialDuelsLost(events_df):\n",
    "    return  Events_England[(Events_England.subEventName==\"Air duel\") & (Events_England.subEventDescription.str.contains(\"lost\"))][['playerId', 'matchId']].groupby(['playerId', 'matchId']).size().reset_index(name='AerialDuelsLost')\n",
    "\n"
   ]
  },
  {
   "cell_type": "code",
   "execution_count": 328,
   "metadata": {},
   "outputs": [],
   "source": [
    "Player_Aggs = alter_Player_Aggs(AerialDuelsWon, \"AerialDuelsWon\", Player_Aggs)\n",
    "Player_Aggs = alter_Player_Aggs(AerialDuelsLost, \"AerialDuelsLost\", Player_Aggs)"
   ]
  },
  {
   "cell_type": "markdown",
   "metadata": {},
   "source": [
    "#### Passing"
   ]
  },
  {
   "cell_type": "code",
   "execution_count": 285,
   "metadata": {},
   "outputs": [],
   "source": [
    "# Accurate forward passes\n",
    "def acc_forward_pass(event_df):\n",
    "    return event_df[(event_df.subEventName==\"Simple pass\") \n",
    "                   & (event_df.attackMetres>0)\n",
    "                   & (event_df.Result==\"Accurate\")\n",
    "                   & (event_df.subEventDescription.str.match('generic play'))][['playerId', 'matchId']].groupby(['playerId', 'matchId']).size().reset_index(name='AccurateForwardPasses')\n",
    "\n",
    "# Inaccurate forward passes \n",
    "def inacc_forward_passes(event_df):\n",
    "    return event_df[(event_df.subEventName==\"Simple pass\") \n",
    "                   & (event_df.attackMetres>0)\n",
    "                   & (event_df.Result==\"Inaccurate\")\n",
    "                   & (event_df.subEventDescription.str.match('generic play'))][['playerId', 'matchId']].groupby(['playerId', 'matchId']).size().reset_index(name='InaccurateForwardPasses')\n",
    "\n",
    "# SuccessfulInterceptions ## when a player intercepts a play and makes a successful subsequent play\n",
    "def success_intercept(event_df):\n",
    "    return event_df[(event_df.Result == 'Accurate')\n",
    "                   & (event_df.subEventDescription.str.match('interception'))][['playerId', 'matchId']].groupby(['playerId', 'matchId']).size().reset_index(name='SuccessfulInterceptions')\n",
    "\n",
    "# CounterAttackInterceptions\n",
    "def CounterAttackIntercepts(event_df):\n",
    "    return event_df[(event_df.subEventDescription.str.match('counter_attack interception'))].groupby(['playerId', 'matchId']).size().reset_index(name='CounterAttackIntercept')\n",
    "\n",
    "# DangerousBallLostPassing\n",
    "def dangerous_ball_lost(event_df):\n",
    "    return event_df[(event_df.subEventName.str.contains(\"pass\")) \n",
    "                   & (event_df.subEventDescription.str.match('dangerous_ball_lost'))][['playerId', 'matchId']].groupby(['playerId', 'matchId']).size().reset_index(name='PassLostDangerous')\n",
    "\n",
    "# Counter attack involvements\n",
    "def CounterAttackInvolvements(event_df):\n",
    "    return event_df[(event_df.subEventDescription.str.match('counter_attack')) \n",
    "                  & (event_df.Result == 'Accurate') ][['playerId', 'matchId']].groupby(['playerId', 'matchId']).size().reset_index(name='CounterAttackInvolvements')\n",
    "\n",
    "# Total Assists\n",
    "def total_assists(event_df):\n",
    "    return event_df[(event_df.subEventDescription.str.contains('assist')) \n",
    "                  & (event_df.Result == 'Accurate') ][['playerId', 'matchId']].groupby(['playerId', 'matchId']).size().reset_index(name='TotalAssists')\n",
    "\n",
    "# Inaccurate Keypasses\n",
    "def inacc_key_passes(event_df):\n",
    "    return event_df[(event_df.subEventDescription.str.contains('key_pass')) \n",
    "                  & (event_df.Result == \"Inaccurate\") ][['playerId', 'matchId']].groupby(['playerId', 'matchId']).size().reset_index(name='InaccurateKeyPasses')\n",
    "\n",
    "# Accurate Keypasses\n",
    "def acc_keypasses(event_df):\n",
    "    return event_df[(event_df.subEventDescription.str.contains('key_pass')) \n",
    "                  & (event_df.Result == \"Accurate\") ][['playerId', 'matchId']].groupby(['playerId', 'matchId']).size().reset_index(name='AccurateKeyPasses')\n",
    "\n",
    "# Accurate Through Passes\n",
    "def acc_throughs(event_df):\n",
    "    return event_df[(event_df.subEventDescription.str.contains('through')) \n",
    "                  & (event_df.Result == \"Accurate\") ][['playerId', 'matchId']].groupby(['playerId', 'matchId']).size().reset_index(name='AccurateThroughPasses')\n",
    "\n",
    "# Inaccurate Through Passes\n",
    "def inacc_throughs(event_df):\n",
    "    return event_df[(event_df.subEventDescription.str.contains('through')) \n",
    "                  & (event_df.Result == \"Inaccurate\") ][['playerId', 'matchId']].groupby(['playerId', 'matchId']).size().reset_index(name='InaccurateThroughPasses')\n",
    "\n",
    "# Accurate Smart Passes \n",
    "def acc_smart_passes(event_df):\n",
    "    return event_df[(event_df.subEventName.str.match('Smart pass')) \n",
    "                  & (event_df.Result == \"Accurate\") ][['playerId', 'matchId']].groupby(['playerId', 'matchId']).size().reset_index(name='AccurateSmartPasses')\n",
    "\n",
    "# Inaccurate Smart Passes \n",
    "def inacc_smartPasses(event_df):\n",
    "    return event_df[(event_df.subEventName.str.match('Smart pass')) \n",
    "                  & (event_df.Result == \"Inaccurate\") ][['playerId', 'matchId']].groupby(['playerId', 'matchId']).size().reset_index(name='InaccurateSmartPasses')\n",
    "\n",
    "\n",
    "# Through passes into final third\n",
    "def throughs_into_final(event_df):\n",
    "    return event_df[(event_df.subEventDescription.str.contains('through')) \n",
    "                  & (event_df.xStart < 67 ) \n",
    "                  & (event_df.xEnd > 66 ) \n",
    "                 & (event_df.Result == \"Accurate\") ][['playerId', 'matchId']].groupby(['playerId', 'matchId']).size().reset_index(name='AccThroughsIntoFinalThird')\n",
    "\n",
    "# Accurate Passes into final third\n",
    "def accPasses_into_final(event_df):\n",
    "    return event_df[ ( event_df.subEventName.str.contains('pass'))\n",
    "        & (event_df.xStart < 67 ) \n",
    "                  & (event_df.xEnd > 66) \n",
    "                 & (event_df.Result == \"Accurate\")\n",
    "                & (event_df.Goal_Value != 1)][['playerId', 'matchId']].groupby(['playerId', 'matchId']).size().reset_index(name='AccPassesIntoFinalThird')\n",
    "\n",
    "# Accurate Passes into final third\n",
    "def InaccPasses_into_final(event_df):\n",
    "    return event_df[ ( event_df.subEventName.str.contains('pass'))\n",
    "        & (event_df.xStart < 67 ) \n",
    "                  & (event_df.xEnd > 66) \n",
    "                 & (event_df.Result == \"Inaccurate\")\n",
    "                & (event_df.Goal_Value != 1)][['playerId', 'matchId']].groupby(['playerId', 'matchId']).size().reset_index(name='InaccPassesIntoFinalThird')\n",
    "\n",
    "\n",
    "# Accurate Passes within final third\n",
    "def accPasses_within_finalThird(event_df):\n",
    "    return event_df[ (event_df.subEventName.str.contains(\"pass\") )\n",
    "                   & (event_df.xStart > 66 ) \n",
    "                  & (event_df.xEnd > 66 ) \n",
    "                 & (event_df.Result == \"Accurate\")\n",
    "                & (event_df.Goal_Value != 1)][['playerId', 'matchId']].groupby(['playerId', 'matchId']).size().reset_index(name='AccPassesWithinFinalThird')\n",
    "\n",
    "# Inaccurate Passes within final third   \n",
    "def inaccPasses_within_finalThird(event_df):\n",
    "    return event_df[ (event_df.subEventName.str.contains(\"pass\") )\n",
    "                   & (event_df.xStart > 66 ) \n",
    "                  & (event_df.xEnd > 66) \n",
    "                 & (event_df.Result == \"Inaccurate\")\n",
    "                & (event_df.Goal_Value != 1)][['playerId', 'matchId']].groupby(['playerId', 'matchId']).size().reset_index(name='InaccPassesWithinFinalThird')\n",
    "\n"
   ]
  },
  {
   "cell_type": "markdown",
   "metadata": {},
   "source": [
    "##### Passing Summary Stats Aggregated per player per match"
   ]
  },
  {
   "cell_type": "code",
   "execution_count": 286,
   "metadata": {},
   "outputs": [],
   "source": [
    "Player_Aggs = alter_Player_Aggs(inaccPasses_within_finalThird, \"InaccPassesWithinFinalThird\", Player_Aggs)\n",
    "Player_Aggs = alter_Player_Aggs(accPasses_within_finalThird, \"AccPassesWithinFinalThird\", Player_Aggs)\n",
    "Player_Aggs = alter_Player_Aggs(accPasses_into_final, \"AccPassesIntoFinalThird\", Player_Aggs)\n",
    "Player_Aggs = alter_Player_Aggs(InaccPasses_into_final, \"InaccPassesIntoFinalThird\", Player_Aggs)\n",
    "Player_Aggs = alter_Player_Aggs(throughs_into_final, \"AccThroughsIntoFinalThird\", Player_Aggs)\n",
    "Player_Aggs = alter_Player_Aggs(inacc_smartPasses, \"InaccurateSmartPasses\", Player_Aggs)\n",
    "Player_Aggs = alter_Player_Aggs(acc_smart_passes, \"AccurateSmartPasses\", Player_Aggs)\n",
    "Player_Aggs = alter_Player_Aggs(inacc_throughs, \"InaccurateThroughPasses\", Player_Aggs)\n",
    "Player_Aggs = alter_Player_Aggs(acc_throughs, \"AccurateThroughPasses\", Player_Aggs)\n",
    "Player_Aggs = alter_Player_Aggs(acc_keypasses, \"AccurateKeyPasses\", Player_Aggs) \n",
    "Player_Aggs = alter_Player_Aggs(inacc_key_passes, \"InaccurateKeyPasses\", Player_Aggs)\n",
    "Player_Aggs = alter_Player_Aggs(total_assists, \"TotalAssists\", Player_Aggs)\n",
    "Player_Aggs = alter_Player_Aggs(CounterAttackInvolvements, \"CounterAttackInvolvements\", Player_Aggs) \n",
    "Player_Aggs = alter_Player_Aggs(dangerous_ball_lost, \"PassLostDangerous\", Player_Aggs) \n",
    "Player_Aggs = alter_Player_Aggs(CounterAttackIntercepts, \"CounterAttackIntercept\", Player_Aggs) \n",
    "Player_Aggs = alter_Player_Aggs(success_intercept, \"SuccessfulInterceptions\", Player_Aggs) \n",
    "Player_Aggs = alter_Player_Aggs(inacc_forward_passes, \"InaccurateForwardPasses\", Player_Aggs) \n",
    "Player_Aggs = alter_Player_Aggs(acc_forward_pass, \"AccurateForwardPasses\", Player_Aggs) "
   ]
  },
  {
   "cell_type": "markdown",
   "metadata": {},
   "source": [
    "#### Corners"
   ]
  },
  {
   "cell_type": "code",
   "execution_count": 137,
   "metadata": {},
   "outputs": [],
   "source": [
    "def corner_assists(event_df):\n",
    "    return event_df[(event_df.subEventName==\"Corner\") & (event_df.subEventDescription.str.match('assist'))][['playerId', 'matchId']].groupby(['playerId', 'matchId']).size().reset_index(name='CornerAssists')\n",
    "\n",
    "def corner_opportunity(event_df):\n",
    "    return event_df[(event_df.subEventName==\"Corner\") & (event_df.subEventDescription.str.match('key_pass'))][['playerId', 'matchId']].groupby(['playerId', 'matchId']).size().reset_index(name='CornerOpportunitiesCreated')\n",
    "\n",
    "def corner_success(event_df):\n",
    "    return event_df[(event_df.subEventName==\"Corner\") & (event_df.Result==\"Success\")][['playerId', 'matchId']].groupby(['playerId', 'matchId']).size().reset_index(name='SuccessfulCorners')\n",
    "\n",
    "def corner_fail(event_df):\n",
    "    return event_df[(event_df.subEventName==\"Corner\") & (event_df.Result==\"Failure\")][['playerId', 'matchId']].groupby(['playerId', 'matchId']).size().reset_index(name='FailedCorners')\n",
    "\n",
    "def corner_assists(event_df):\n",
    "    return event_df[(event_df.subEventName==\"Corner\") & (event_df.subEventDescription.str.match('assist'))][['playerId', 'matchId']].groupby(['playerId', 'matchId']).size().reset_index(name='CornerAssists')\n"
   ]
  },
  {
   "cell_type": "code",
   "execution_count": 144,
   "metadata": {},
   "outputs": [],
   "source": [
    "Player_Aggs = alter_Player_Aggs(corner_assists, \"CornerAssists\", Player_Aggs)\n",
    "Player_Aggs = alter_Player_Aggs(corner_opportunity, \"CornerOpportunitiesCreated\", Player_Aggs)\n",
    "Player_Aggs = alter_Player_Aggs(corner_success, \"SuccessfulCorners\", Player_Aggs)\n",
    "Player_Aggs = alter_Player_Aggs(corner_fail, \"FailedCorners\", Player_Aggs)"
   ]
  },
  {
   "cell_type": "code",
   "execution_count": 152,
   "metadata": {},
   "outputs": [
    {
     "data": {
      "text/html": [
       "<div>\n",
       "<style scoped>\n",
       "    .dataframe tbody tr th:only-of-type {\n",
       "        vertical-align: middle;\n",
       "    }\n",
       "\n",
       "    .dataframe tbody tr th {\n",
       "        vertical-align: top;\n",
       "    }\n",
       "\n",
       "    .dataframe thead th {\n",
       "        text-align: right;\n",
       "    }\n",
       "</style>\n",
       "<table border=\"1\" class=\"dataframe\">\n",
       "  <thead>\n",
       "    <tr style=\"text-align: right;\">\n",
       "      <th></th>\n",
       "      <th>shortName</th>\n",
       "      <th>Position</th>\n",
       "      <th>playerId</th>\n",
       "      <th>weight</th>\n",
       "      <th>height</th>\n",
       "      <th>foot</th>\n",
       "      <th>matchId</th>\n",
       "      <th>xStart</th>\n",
       "      <th>yStart</th>\n",
       "      <th>teamId</th>\n",
       "      <th>...</th>\n",
       "      <th>awayTeamId</th>\n",
       "      <th>homeAway</th>\n",
       "      <th>gameTime (s)</th>\n",
       "      <th>successfulAttackYards</th>\n",
       "      <th>failedAttackYards</th>\n",
       "      <th>Goal_Value</th>\n",
       "      <th>CornerAssists</th>\n",
       "      <th>CornerOpportunitiesCreated</th>\n",
       "      <th>SuccessfulCorners</th>\n",
       "      <th>FailedCorners</th>\n",
       "    </tr>\n",
       "  </thead>\n",
       "  <tbody>\n",
       "    <tr>\n",
       "      <th>0</th>\n",
       "      <td>M. \\u00d6zil</td>\n",
       "      <td>MID</td>\n",
       "      <td>3319</td>\n",
       "      <td>76.0</td>\n",
       "      <td>180.0</td>\n",
       "      <td>left</td>\n",
       "      <td>2499719</td>\n",
       "      <td>63.549020</td>\n",
       "      <td>43.901961</td>\n",
       "      <td>1609</td>\n",
       "      <td>...</td>\n",
       "      <td>1631</td>\n",
       "      <td>home</td>\n",
       "      <td>5774.608975</td>\n",
       "      <td>-88.0</td>\n",
       "      <td>-282.0</td>\n",
       "      <td>0</td>\n",
       "      <td>0.0</td>\n",
       "      <td>0.0</td>\n",
       "      <td>0.0</td>\n",
       "      <td>1.0</td>\n",
       "    </tr>\n",
       "    <tr>\n",
       "      <th>1</th>\n",
       "      <td>Beller\\u00edn</td>\n",
       "      <td>DEF</td>\n",
       "      <td>167145</td>\n",
       "      <td>74.0</td>\n",
       "      <td>178.0</td>\n",
       "      <td>right</td>\n",
       "      <td>2499719</td>\n",
       "      <td>52.695122</td>\n",
       "      <td>67.012195</td>\n",
       "      <td>1609</td>\n",
       "      <td>...</td>\n",
       "      <td>1631</td>\n",
       "      <td>home</td>\n",
       "      <td>5655.146793</td>\n",
       "      <td>-170.0</td>\n",
       "      <td>-12.0</td>\n",
       "      <td>0</td>\n",
       "      <td>0.0</td>\n",
       "      <td>0.0</td>\n",
       "      <td>0.0</td>\n",
       "      <td>0.0</td>\n",
       "    </tr>\n",
       "    <tr>\n",
       "      <th>2</th>\n",
       "      <td>Mohamed Elneny</td>\n",
       "      <td>MID</td>\n",
       "      <td>120339</td>\n",
       "      <td>70.0</td>\n",
       "      <td>180.0</td>\n",
       "      <td>right</td>\n",
       "      <td>2499719</td>\n",
       "      <td>50.569767</td>\n",
       "      <td>55.534884</td>\n",
       "      <td>1609</td>\n",
       "      <td>...</td>\n",
       "      <td>1631</td>\n",
       "      <td>home</td>\n",
       "      <td>4027.690742</td>\n",
       "      <td>-14.0</td>\n",
       "      <td>-33.0</td>\n",
       "      <td>0</td>\n",
       "      <td>0.0</td>\n",
       "      <td>0.0</td>\n",
       "      <td>0.0</td>\n",
       "      <td>0.0</td>\n",
       "    </tr>\n",
       "    <tr>\n",
       "      <th>3</th>\n",
       "      <td>G. Xhaka</td>\n",
       "      <td>MID</td>\n",
       "      <td>49876</td>\n",
       "      <td>82.0</td>\n",
       "      <td>185.0</td>\n",
       "      <td>left</td>\n",
       "      <td>2499719</td>\n",
       "      <td>57.470085</td>\n",
       "      <td>41.153846</td>\n",
       "      <td>1609</td>\n",
       "      <td>...</td>\n",
       "      <td>1631</td>\n",
       "      <td>home</td>\n",
       "      <td>5829.406096</td>\n",
       "      <td>452.0</td>\n",
       "      <td>56.0</td>\n",
       "      <td>0</td>\n",
       "      <td>1.0</td>\n",
       "      <td>1.0</td>\n",
       "      <td>6.0</td>\n",
       "      <td>1.0</td>\n",
       "    </tr>\n",
       "    <tr>\n",
       "      <th>4</th>\n",
       "      <td>O. Giroud</td>\n",
       "      <td>FWD</td>\n",
       "      <td>26010</td>\n",
       "      <td>88.0</td>\n",
       "      <td>192.0</td>\n",
       "      <td>left</td>\n",
       "      <td>2499719</td>\n",
       "      <td>63.466667</td>\n",
       "      <td>50.200000</td>\n",
       "      <td>1609</td>\n",
       "      <td>...</td>\n",
       "      <td>1631</td>\n",
       "      <td>home</td>\n",
       "      <td>1578.302322</td>\n",
       "      <td>-140.0</td>\n",
       "      <td>-29.0</td>\n",
       "      <td>1</td>\n",
       "      <td>0.0</td>\n",
       "      <td>0.0</td>\n",
       "      <td>0.0</td>\n",
       "      <td>0.0</td>\n",
       "    </tr>\n",
       "  </tbody>\n",
       "</table>\n",
       "<p>5 rows × 22 columns</p>\n",
       "</div>"
      ],
      "text/plain": [
       "        shortName Position  playerId  weight  height   foot  matchId  \\\n",
       "0    M. \\u00d6zil      MID      3319    76.0   180.0   left  2499719   \n",
       "1   Beller\\u00edn      DEF    167145    74.0   178.0  right  2499719   \n",
       "2  Mohamed Elneny      MID    120339    70.0   180.0  right  2499719   \n",
       "3        G. Xhaka      MID     49876    82.0   185.0   left  2499719   \n",
       "4       O. Giroud      FWD     26010    88.0   192.0   left  2499719   \n",
       "\n",
       "      xStart     yStart  teamId  ... awayTeamId  homeAway  gameTime (s)  \\\n",
       "0  63.549020  43.901961    1609  ...       1631      home   5774.608975   \n",
       "1  52.695122  67.012195    1609  ...       1631      home   5655.146793   \n",
       "2  50.569767  55.534884    1609  ...       1631      home   4027.690742   \n",
       "3  57.470085  41.153846    1609  ...       1631      home   5829.406096   \n",
       "4  63.466667  50.200000    1609  ...       1631      home   1578.302322   \n",
       "\n",
       "  successfulAttackYards  failedAttackYards  Goal_Value  CornerAssists  \\\n",
       "0                 -88.0             -282.0           0            0.0   \n",
       "1                -170.0              -12.0           0            0.0   \n",
       "2                 -14.0              -33.0           0            0.0   \n",
       "3                 452.0               56.0           0            1.0   \n",
       "4                -140.0              -29.0           1            0.0   \n",
       "\n",
       "   CornerOpportunitiesCreated  SuccessfulCorners  FailedCorners  \n",
       "0                         0.0                0.0            1.0  \n",
       "1                         0.0                0.0            0.0  \n",
       "2                         0.0                0.0            0.0  \n",
       "3                         1.0                6.0            1.0  \n",
       "4                         0.0                0.0            0.0  \n",
       "\n",
       "[5 rows x 22 columns]"
      ]
     },
     "execution_count": 152,
     "metadata": {},
     "output_type": "execute_result"
    }
   ],
   "source": [
    "Player_Aggs.head()"
   ]
  },
  {
   "cell_type": "code",
   "execution_count": 113,
   "metadata": {},
   "outputs": [],
   "source": [
    "# # Parsing player positions on field for each match in a season, and adding output to Matches summary dataframe\n",
    "\n",
    "# for match in matches:\n",
    "#     trial = trial2[trial2['matchId']== match]\n",
    "#     refs = list(Matches[Matches['matchId']==match].loc[:,'homePlayer1':'awayBenchPlayer7'].transpose().index)\n",
    "#     ids = [int(value) for value in Matches[Matches['matchId']==match].loc[:,'homePlayer1':'awayBenchPlayer7'].transpose().values]\n",
    "#     test = pd.DataFrame(zip(ids, refs), columns = ['playerId', 'playerRefs'])\n",
    "#     trial = pd.merge(test, trial, on=\"playerId\")\n",
    "#     pt1 = pd.pivot_table(trial, values = 'xStart', index='matchId', columns = 'playerRefs').reset_index().add_prefix('xPos_')\n",
    "#     pt1 = pt1.rename(columns = {'xPos_matchId': \"matchId\"})\n",
    "#     pt2 = pd.pivot_table(trial, values = 'yStart', index='matchId', columns = 'playerRefs').reset_index().add_prefix('yPos_')\n",
    "#     pt2 = pt2.rename(columns = {'yPos_matchId': \"matchId\"})\n",
    "#     pt = pd.merge(pt1, pt2, on=\"matchId\")\n",
    "#     temp_df = temp_df.append(pt, ignore_index = True)\n",
    "\n",
    "# England_Matches = pd.merge(England_Matches, temp_df, on = 'matchId').fillna(0) # consider removing bench players, also consider ignoring goalkeepers\n",
    "\n",
    "\n",
    "\n",
    "\n"
   ]
  },
  {
   "cell_type": "code",
   "execution_count": 114,
   "metadata": {},
   "outputs": [],
   "source": [
    "# Likely I will decide to deprecate this\n",
    "\n",
    "# Create a function to aggregate stats for a match \n",
    "\n",
    "# stat is the string representation of stat desired\n",
    "# unique_df is the unique df developed prior to represent stat grouped by player and match\n",
    "# def advanced_stats(unique_df, stat, match_df):\n",
    "\n",
    "#     matches = list(unique_df['matchId'].unique())\n",
    "#     temp_df = pd.DataFrame()\n",
    "\n",
    "#     for match in matches:\n",
    "#         trial = unique_df[unique_df['matchId']== match]\n",
    "#         refs = list(Matches[Matches['matchId']==match].loc[:,'homePlayer1':'awayBenchPlayer7'].transpose().index)\n",
    "#         ids = [int(value) for value in Matches[Matches['matchId']==match].loc[:,'homePlayer1':'awayBenchPlayer7'].transpose().values]\n",
    "#         test = pd.DataFrame(zip(ids, refs), columns = ['playerId', 'playerRefs'])\n",
    "#         trial = pd.merge(test, trial, on=\"playerId\")\n",
    "#         pt = pd.pivot_table(trial, values = stat, index='matchId', columns = 'playerRefs').reset_index().add_prefix(stat)\n",
    "#         pt = pt.rename(columns = {stat + '_matchId': \"matchId\"})\n",
    "#     #     pt2 = pd.pivot_table(trial, values = 'yStart', index='matchId', columns = 'playerRefs').reset_index().add_prefix('yPos_')\n",
    "#     #     pt2 = pt2.rename(columns = {'yPos_matchId': \"matchId\"})\n",
    "#     #     pt = pd.merge(pt1, pt2, on=\"matchId\")\n",
    "#         temp_df = temp_df.append(pt, ignore_index = True)\n",
    "\n",
    "#     match_df = pd.merge(match_df, temp_df, on = 'matchId').fillna(0) \n",
    "\n",
    "#     return match_df\n",
    "\n"
   ]
  },
  {
   "cell_type": "code",
   "execution_count": 115,
   "metadata": {},
   "outputs": [],
   "source": [
    "\n",
    "# Simple df selection to remove playerIds that = 0\n",
    "#Events_England = Events_England[Events_England['playerId']! = 0]\n"
   ]
  },
  {
   "cell_type": "code",
   "execution_count": 122,
   "metadata": {},
   "outputs": [],
   "source": [
    "eT, event_df = \"Corner\", Events_England"
   ]
  },
  {
   "cell_type": "code",
   "execution_count": 123,
   "metadata": {},
   "outputs": [],
   "source": [
    "df1 = pd.DataFrame(event_df[event_df[\"subEventName\"]== eT ][['matchId', \"teamId\", \"subEventName\"]])\n"
   ]
  },
  {
   "cell_type": "code",
   "execution_count": 117,
   "metadata": {},
   "outputs": [],
   "source": [
    "# Function to transform match events into meaningul player performance profiles for machine learning\n",
    "def match_agg(eT, event_df):\n",
    "\n",
    "    df1 = pd.DataFrame(event_df[event_df[\"subEventName\"]== eT ][['matchId', \"teamId\", \"subEventName\"]])\n",
    "    df1 = df1.groupby(['matchId','teamId']).size().to_frame(eT).reset_index()\n",
    "    df2 = df1.groupby('matchId').agg(['unique']).reset_index()\n",
    "    df3 = pd.DataFrame(None, columns = ['matchId', 'teamId', eT])\n",
    "    df3['matchId'], df3['teamId'], df3[eT] = df2.iloc[:, 0], df2.iloc[:,1], df2.iloc[:,2]\n",
    "    df4 = pd.concat([df3, pd.DataFrame(df3['teamId'].to_list(), columns=['team1','team2'])], axis=1, sort = False)\n",
    "    result = pd.merge(df4, Matches[['matchId', \"homeTeamId\", \"awayTeamId\"]], on='matchId', how='inner')\n",
    "    result = pd.concat([result, pd.DataFrame(df3[eT].to_list(), columns=[eT+\"1\",eT+\"2\"])], axis=1, sort = False)\n",
    "    result = result.fillna(0) # handle na values where teams had no corners in a match\n",
    "\n",
    "    # fill in zeros to teams where there were no corners for a team\n",
    "    result[eT] = result[eT].apply(lambda row: list(row)+[0] if len(row)==1 else row)\n",
    "\n",
    "    # Correctly apply allocate home and away aggregate statistics to correct teams\n",
    "    result['home'+eT] = (\n",
    "        np.select(\n",
    "            condlist=[result['team1'] == result['homeTeamId'], result['team2'] == result['homeTeamId']], \n",
    "            choicelist=[result[eT+\"1\"], result[eT+\"2\"]]))\n",
    "\n",
    "    result['away'+eT] = (\n",
    "        np.select(\n",
    "            condlist=[result['team1'] == result['awayTeamId'], result['team2'] == result['awayTeamId']], \n",
    "            choicelist=[result[eT+\"1\"], result[eT+\"2\"]]))\n",
    "    \n",
    "    # Create a column to recognize when a goal is scored\n",
    "    conditions = [\n",
    "        (((result['subEventDescription'].str.match('goal ')) & (result['Result'] == \"Success\"))),\n",
    "        (((result['subEventDescription'].str.match('goal ')) & (result['Result'] == \"Failure\") & (result['subEventName'] == \"Shot\"))),\n",
    "        (((result['subEventDescription'].str.match('goal ')) & (result['Result'] == \"Failure\") & (result['subEventName'] != \"Shot\")))\n",
    "        ]\n",
    "\n",
    "    # create a list of the values we want to assign for each condition\n",
    "    values = [1, 1, -1]\n",
    "\n",
    "    # create a new column and use np.select to assign values to it using our lists as arguments\n",
    "    result['Goal_Value'] = np.select(conditions, values, default = 0)\n",
    "    \n",
    "    #result = result[result['playerId']!= 0]\n",
    "\n",
    "    # # drop useless columns that have been replaced\n",
    "    result.drop(['teamId', eT, \"team1\", \"team2\", eT+\"1\", eT+\"2\"], inplace = True, axis = 1 )\n",
    "    \n",
    "    return result"
   ]
  },
  {
   "cell_type": "code",
   "execution_count": null,
   "metadata": {},
   "outputs": [],
   "source": [
    "# # generate comprehensive dataframe with summary stat for a particular team-match attribute\n",
    "# a = match_agg(\"Corner\", Events_England) \n",
    "# b = match_agg(\"Corner\", Events_France)\n",
    "# c = match_agg(\"Corner\", Events_Italy)\n",
    "# d = match_agg(\"Corner\", Events_Spain)\n",
    "# e = match_agg(\"Corner\", Events_Germany) \n",
    "# #f = match_agg(\"Corner\", Events_World_Cup) \n",
    "# #g = match_agg(\"Corner\", Events_EuroChamps) \n",
    "\n",
    "# match_aggs = pd.concat([a,b,c,d,e], ignore_index=True)\n"
   ]
  },
  {
   "cell_type": "code",
   "execution_count": null,
   "metadata": {},
   "outputs": [],
   "source": [
    "### Successful Vertical Yards Now Merge\n",
    "\n",
    "df = Events_England.loc[Events_England.Result == \"Success\" ].groupby(['matchId','playerId'])['attackMetres'].sum().reset_index()\n",
    "df2 = Events_England.loc[Events_England.Result == \"Failure\" ].groupby(['matchId','playerId'])['attackMetres'].sum().reset_index()\n",
    "\n",
    "# with names, positions and clubs for reference\n",
    "#df = pd.merge(Events_England.loc[Events_England.Result == \"Success\" ].groupby(['matchId','playerId'])['attackYards'].sum().reset_index(), Players[['playerId', 'shortName', \"Position\", 'clubName']], on = 'playerId').sort_values(by ='attackYards', ascending = False)\n",
    "#df2 = pd.merge(Events_England.loc[Events_England.Result == \"Failure\" ].groupby(['matchId','playerId'])['attackYards'].sum().reset_index(), Players[['playerId', 'shortName', \"Position\", 'clubName']], on = 'playerId').sort_values(by ='attackYards', ascending = False)\n",
    "\n",
    "# .sort_values(by ='attackYards', ascending = False)\n",
    "\n"
   ]
  },
  {
   "cell_type": "code",
   "execution_count": null,
   "metadata": {},
   "outputs": [],
   "source": [
    "advanced_stats(df, \"attackMetres\", Events_England)"
   ]
  },
  {
   "cell_type": "code",
   "execution_count": null,
   "metadata": {},
   "outputs": [],
   "source": [
    "# dataframes of brute sum of attacking yard attempts without success or failure measures\n",
    "\n",
    "#df  = pd.merge(Events_England.groupby(['matchId','playerId'])['attackYards'].agg(['sum']).reset_index(), Players[['playerId', 'shortName', \"Position\", 'clubName']], on ='playerId').sort_values(by ='sum', ascending = False).rename(columns={'sum':'attackYards'})\n",
    "# df = Events_England.groupby(['matchId','playerId'])['attackYards'].agg(['sum']).reset_index().sort_values(by ='sum', ascending = False).rename(columns={'sum':'attackYards'})\n"
   ]
  },
  {
   "cell_type": "markdown",
   "metadata": {},
   "source": [
    "### Data Processing"
   ]
  },
  {
   "cell_type": "code",
   "execution_count": null,
   "metadata": {},
   "outputs": [],
   "source": [
    "#Match_TeamStats = pd.read_sql_query(\"SELECT * FROM football_data\", sql_conn)"
   ]
  },
  {
   "cell_type": "code",
   "execution_count": null,
   "metadata": {},
   "outputs": [],
   "source": [
    "# # parsing betting odds variables from analysis\n",
    "# drop_columns = [\"B365H\",\"B365D\",\"B365A\",\"BSH\",\"BSD\",\"BSA\",\"BWH\",\"BWD\",\"BWA\",\"GBH\",\"GBD\",\"GBA\",\"IWH\",\"IWD\",\"IWA\",\"LBH\",\"LBD\",\"LBA\",\n",
    "# \"PSH\", \"PH\",\"PSD\", \"PD\",\"PSA\", \"PA\",\"SOH\",\"SOD\",\"SOA\",\"SBH\",\"SBD\",\"SBA\",\"SJH\",\"SJD\",\"SJA\",\"SYH\",\"SYD\",\"SYA\",\"VCH\",\n",
    "# \"VCD\",\"VCA\",\"WHH\",\"WHD\",\"WHA\",\"Bb1X2\",\"BbMxH\",\"BbAvH\",\"BbMxD\",\"BbAvD\",\"BbMxA\",\"BbAvA\",\"MaxH\",\"MaxD\",\"MaxA\",\n",
    "# \"AvgH\",\"AvgD\",\"AvgA\",\"BbOU\",\"BbMx>2.5\",\"BbAv>2.5\",\"BbMx<2.5\",\"BbAv<2.5\",\"GB>2.5\",\"GB<2.5\",\"B365>2.5\",\"B365<2.5\",\n",
    "# \"P>2.5\",\"P<2.5\",\"Max>2.5\",\"Max<2.5\",\"Avg>2.5\",\"Avg<2.5\",\"BbAH\",\"BbAHh\",\"AHh\",\"BbMxAHH\",\"BbAvAHH\",\"BbMxAHA\",\n",
    "# \"BbAvAHA\",\"GBAHH\",\"GBAHA\",\"GBAH\",\"LBAHH\",\"LBAHA\",\"LBAH\",\"B365AHH\",\"B365AHA\",\"B365AH\",\"PAHH\", \"AvgC<2.5\",\n",
    "# \"PAHA\",\"MaxAHH\",\"MaxAHA\",\"AvgAHH\",\"AvgAHA\",\"WHCH\",\"WHCD\",\"WHCA\", \"VCCH\", \"VCCA\", \"PSCH\", \"PSCD\", \"PCAHH\", \"PCAHA\", \"PC>2.5\", \"PC<2.5\", \"MaxCH\", \"MaxCAHH\", \"MaxCD\",\n",
    "# \"MaxCAHA\", \"MaxCA\", \"MaxC>2.5\", \"MaxC<2.5\", \"IWCH\", \"IWCD\", \"IWCA\", \"AvgC>2.5\",\"AvgCA\",\"AvgCAHA\",\"AvgCAHH\",\n",
    "# \"AvgCD\",\"AvgCH\",\"B365C<2.5\",\"B365C>2.5\",\"B365CA\",\"B365CAHA\",\"B365CAHH\",\"B365CD\",\"B365CH\",\"BWCA\", \"BWCD\", \"BWCH\", \"VCCD\", \"PSCA\"] "
   ]
  },
  {
   "cell_type": "code",
   "execution_count": null,
   "metadata": {},
   "outputs": [],
   "source": [
    "# Match_TeamStats.drop(drop_columns, inplace=True, axis =1) # removing betting odds from dataframe"
   ]
  },
  {
   "cell_type": "code",
   "execution_count": null,
   "metadata": {},
   "outputs": [],
   "source": [
    "def df_analysis(df, df_name):\n",
    "    header = \"Dimension of \" + str(df_name) + \" Dataframe is: {}\"\n",
    "    print(header.format(df.shape))\n",
    "    print(100*\"*\")\n",
    "    print(df.info())\n",
    "    print(100*\"*\")\n",
    "    print(df.select_dtypes(exclude=['float64','int64']).describe())\n",
    "    print(100*\"*\")\n",
    "    print(df.describe())\n",
    "    print(100*\"*\")\n",
    "    print(\"Number of Null Values\")\n",
    "    print(df.isnull().sum(axis=0))"
   ]
  },
  {
   "cell_type": "code",
   "execution_count": null,
   "metadata": {},
   "outputs": [],
   "source": [
    "# df_analysis(Match_TeamStats, \"Match_TeamStats\")"
   ]
  },
  {
   "cell_type": "code",
   "execution_count": null,
   "metadata": {},
   "outputs": [],
   "source": [
    "# match[match[\"HomeTeam\"].str.contains(\"Man United\")]"
   ]
  },
  {
   "cell_type": "markdown",
   "metadata": {},
   "source": [
    "### Outlier Detection and Understanding"
   ]
  },
  {
   "cell_type": "code",
   "execution_count": null,
   "metadata": {},
   "outputs": [],
   "source": []
  },
  {
   "cell_type": "code",
   "execution_count": null,
   "metadata": {},
   "outputs": [],
   "source": []
  }
 ],
 "metadata": {
  "kernelspec": {
   "display_name": "Python 3",
   "language": "python",
   "name": "python3"
  },
  "language_info": {
   "codemirror_mode": {
    "name": "ipython",
    "version": 3
   },
   "file_extension": ".py",
   "mimetype": "text/x-python",
   "name": "python",
   "nbconvert_exporter": "python",
   "pygments_lexer": "ipython3",
   "version": "3.8.6"
  }
 },
 "nbformat": 4,
 "nbformat_minor": 4
}
