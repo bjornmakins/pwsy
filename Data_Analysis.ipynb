{
 "cells": [
  {
   "cell_type": "code",
   "execution_count": 1,
   "metadata": {},
   "outputs": [],
   "source": [
    "import pandas as pd # data manipulation\n",
    "pd.options.mode.chained_assignment = None  # default='warn'\n",
    "import numpy as np #  mathematical support for large, multi-dimensional arrays and matrices\n",
    "import os"
   ]
  },
  {
   "cell_type": "code",
   "execution_count": 2,
   "metadata": {},
   "outputs": [
    {
     "name": "stderr",
     "output_type": "stream",
     "text": [
      "Matplotlib created a temporary config/cache directory at /tmp/matplotlib-p9owsr3m because the default path (/home/jovyan/.cache/matplotlib) is not a writable directory; it is highly recommended to set the MPLCONFIGDIR environment variable to a writable directory, in particular to speed up the import of Matplotlib and to better support multiprocessing.\n"
     ]
    }
   ],
   "source": [
    "import sqlite3\n",
    "import seaborn as sns\n",
    "import matplotlib.pyplot as plt\n",
    "%matplotlib inline\n",
    "import collections\n",
    "from matplotlib.patches import Arc"
   ]
  },
  {
   "cell_type": "code",
   "execution_count": 3,
   "metadata": {},
   "outputs": [],
   "source": [
    "from sklearn.model_selection import train_test_split\n",
    "from sklearn.tree import DecisionTreeRegressor \n",
    "import re"
   ]
  },
  {
   "cell_type": "code",
   "execution_count": 4,
   "metadata": {},
   "outputs": [],
   "source": [
    "# !pip install mplsoccer"
   ]
  },
  {
   "cell_type": "markdown",
   "metadata": {},
   "source": [
    "### Set Directory"
   ]
  },
  {
   "cell_type": "code",
   "execution_count": 5,
   "metadata": {},
   "outputs": [],
   "source": [
    "import mplsoccer"
   ]
  },
  {
   "cell_type": "code",
   "execution_count": 6,
   "metadata": {},
   "outputs": [
    {
     "data": {
      "text/plain": [
       "'/scratch/interns202010/jmakins/jupyter-dir'"
      ]
     },
     "execution_count": 6,
     "metadata": {},
     "output_type": "execute_result"
    }
   ],
   "source": [
    "os.getcwd()"
   ]
  },
  {
   "cell_type": "code",
   "execution_count": 7,
   "metadata": {},
   "outputs": [],
   "source": [
    "try:\n",
    "    os.chdir('/group/interns202010/jmakins/Data')\n",
    "except:\n",
    "    pass"
   ]
  },
  {
   "cell_type": "code",
   "execution_count": 8,
   "metadata": {},
   "outputs": [
    {
     "data": {
      "text/plain": [
       "['world_soccer_database.sqlite',\n",
       " 'events',\n",
       " 'referees.json',\n",
       " 'players_old.json',\n",
       " 'players.json',\n",
       " 'competitions.json',\n",
       " 'teams.json',\n",
       " 'coaches.json',\n",
       " 'players_old.csv',\n",
       " 'matches',\n",
       " '.DS_Store']"
      ]
     },
     "execution_count": 8,
     "metadata": {},
     "output_type": "execute_result"
    }
   ],
   "source": [
    "os.listdir()"
   ]
  },
  {
   "cell_type": "code",
   "execution_count": 9,
   "metadata": {},
   "outputs": [],
   "source": [
    "Teams = pd.read_json('teams.json')\n",
    "Competitions = pd.read_json('competitions.json')\n",
    "Players = pd.read_json('players.json')\n",
    "Coaches = pd.read_json('coaches.json') # Managers"
   ]
  },
  {
   "cell_type": "code",
   "execution_count": 10,
   "metadata": {},
   "outputs": [],
   "source": [
    "#Players_old = pd.read_json('players_old.json')"
   ]
  },
  {
   "cell_type": "code",
   "execution_count": 11,
   "metadata": {},
   "outputs": [],
   "source": [
    "#Competitions`['CompId'] = Competitions['wyId']"
   ]
  },
  {
   "cell_type": "code",
   "execution_count": 12,
   "metadata": {},
   "outputs": [],
   "source": [
    "#Competitions.drop(['wyId', 'CountryId'], inplace = True, axis = 1)"
   ]
  },
  {
   "cell_type": "code",
   "execution_count": 13,
   "metadata": {},
   "outputs": [],
   "source": [
    "try:\n",
    "    os.chdir('/group/interns202010/jmakins/Data/matches')\n",
    "except:\n",
    "    pass\n",
    "England = pd.read_json('matches_England.json')\n",
    "France = pd.read_json('matches_France.json')\n",
    "Italy = pd.read_json('matches_Italy.json')\n",
    "Spain = pd.read_json('matches_Spain.json')\n",
    "Germany = pd.read_json('matches_Germany.json')\n",
    "#World_Cup = pd.read_json('matches_World_Cup.json')\n",
    "#Euro_Champs = pd.read_json('matches_European_Championship.json')"
   ]
  },
  {
   "cell_type": "code",
   "execution_count": 14,
   "metadata": {},
   "outputs": [],
   "source": [
    "# Adding country labels to match observations\n",
    "England['Country'] = 'England'\n",
    "France['Country'] = 'France'\n",
    "Italy['Country'] = 'Italy'\n",
    "Spain['Country'] = 'Spain'\n",
    "Germany['Country'] = \"Germany\"\n",
    "#World_Cup['Country'] = 'World Cup'\n",
    "#Euro_Champs['Country'] = 'European Champs'"
   ]
  },
  {
   "cell_type": "code",
   "execution_count": 15,
   "metadata": {},
   "outputs": [],
   "source": [
    "try:\n",
    "    os.chdir('/group/interns202010/jmakins/Data/events')\n",
    "except:\n",
    "    pass"
   ]
  },
  {
   "cell_type": "code",
   "execution_count": 16,
   "metadata": {},
   "outputs": [],
   "source": [
    "#test = pd.read_json('events_England.json')"
   ]
  },
  {
   "cell_type": "code",
   "execution_count": 17,
   "metadata": {},
   "outputs": [],
   "source": [
    "\n",
    "### WHen USING KAGGLE\n",
    "\n",
    "# os.chdir('/kaggle/input/football-event-data')\n",
    "\n",
    "# Teams = pd.read_json('teams.json')\n",
    "# Competitions = pd.read_json('competitions.json')\n",
    "# Players = pd.read_json('players.json')\n",
    "# Coaches = pd.read_json('coaches.json') # Managers\n",
    "\n",
    "# England = pd.read_json('matches_England.json')\n",
    "# France = pd.read_json('matches_France.json')\n",
    "# Italy = pd.read_json('matches_Italy.json')\n",
    "# Spain = pd.read_json('matches_Spain.json')\n",
    "# Germany = pd.read_json('matches_Germany.json')\n",
    "\n",
    "# England['Country'] = 'England'\n",
    "# France['Country'] = 'France'\n",
    "# Italy['Country'] = 'Italy'\n",
    "# Spain['Country'] = 'Spain'\n",
    "# Germany['Country'] = \"Germany\""
   ]
  },
  {
   "cell_type": "code",
   "execution_count": 18,
   "metadata": {},
   "outputs": [],
   "source": [
    "#Matches.loc[((Matches['homeTeamId']==1644) & (Matches['awayTeamId']==1659)) | ((Matches['homeTeamId']==1659) & (Matches['awayTeamId']==1644))]\n"
   ]
  },
  {
   "cell_type": "code",
   "execution_count": 19,
   "metadata": {},
   "outputs": [],
   "source": [
    "#Events_England[Events_England['matchId']==2500037]"
   ]
  },
  {
   "cell_type": "code",
   "execution_count": 20,
   "metadata": {},
   "outputs": [],
   "source": [
    "#Events_England[(Events_England['subEventDescription'].str.match('goal ')) & (Events_England['Result']==\"Failure\") & (Events_England['subEventName']==\"Shot\")]\n"
   ]
  },
  {
   "cell_type": "code",
   "execution_count": 21,
   "metadata": {},
   "outputs": [],
   "source": [
    "#Events_England.loc[(Events_England['subEventDescription'].str.match(\"goal \")) & (Events_England['Result']==\"Success\")].subEventName.unique()\n"
   ]
  },
  {
   "cell_type": "code",
   "execution_count": 22,
   "metadata": {},
   "outputs": [],
   "source": [
    "Events_France = pd.read_json('events_France.json')\n",
    "Events_Spain = pd.read_json('events_Spain.json')\n",
    "Events_Germany = pd.read_json('events_Germany.json')\n",
    "#Events_EuroChamps = pd.read_json('events_European_Championship.json')\n",
    "#Events_World_Cup = pd.read_json('events_World_Cup.json')\n",
    "Events_Italy = pd.read_json('events_Italy.json')\n",
    "Events_England = pd.read_json('events_England.json')"
   ]
  },
  {
   "cell_type": "code",
   "execution_count": 23,
   "metadata": {},
   "outputs": [],
   "source": [
    "## We have a function for this now further down to be applied across all european regions\n",
    "\n",
    "## Solution to convert second half time into \n",
    "# secs_to_add = list(Events_England[Events_England['matchPeriod']==\"1H\"].groupby('matchId').tail(1)['eventSec'])\n",
    "# match_ids = list(Events_England[\"matchId\"].unique())\n",
    "\n",
    "# for idx in range(0, len(match_ids)):\n",
    "#     Events_England['eventSec'] = list(np.where(\n",
    "#        (Events_England['matchId'] == match_ids[idx]) & (Events_England['matchPeriod'] == \"2H\") , Events_England['eventSec'] + secs_to_add[idx], Events_England['eventSec']\n",
    "#        ))"
   ]
  },
  {
   "cell_type": "code",
   "execution_count": 24,
   "metadata": {},
   "outputs": [
    {
     "data": {
      "text/html": [
       "<div>\n",
       "<style scoped>\n",
       "    .dataframe tbody tr th:only-of-type {\n",
       "        vertical-align: middle;\n",
       "    }\n",
       "\n",
       "    .dataframe tbody tr th {\n",
       "        vertical-align: top;\n",
       "    }\n",
       "\n",
       "    .dataframe thead th {\n",
       "        text-align: right;\n",
       "    }\n",
       "</style>\n",
       "<table border=\"1\" class=\"dataframe\">\n",
       "  <thead>\n",
       "    <tr style=\"text-align: right;\">\n",
       "      <th></th>\n",
       "      <th>eventId</th>\n",
       "      <th>subEventName</th>\n",
       "      <th>tags</th>\n",
       "      <th>playerId</th>\n",
       "      <th>positions</th>\n",
       "      <th>matchId</th>\n",
       "      <th>eventName</th>\n",
       "      <th>teamId</th>\n",
       "      <th>matchPeriod</th>\n",
       "      <th>eventSec</th>\n",
       "      <th>subEventId</th>\n",
       "      <th>id</th>\n",
       "    </tr>\n",
       "  </thead>\n",
       "  <tbody>\n",
       "    <tr>\n",
       "      <th>1763</th>\n",
       "      <td>8</td>\n",
       "      <td>Launch</td>\n",
       "      <td>[{'id': 1802}]</td>\n",
       "      <td>8480</td>\n",
       "      <td>[{'y': 53, 'x': 7}, {'y': 49, 'x': 46}]</td>\n",
       "      <td>2499719</td>\n",
       "      <td>Pass</td>\n",
       "      <td>1631</td>\n",
       "      <td>2H</td>\n",
       "      <td>2992.491575</td>\n",
       "      <td>84</td>\n",
       "      <td>177961040</td>\n",
       "    </tr>\n",
       "    <tr>\n",
       "      <th>1764</th>\n",
       "      <td>8</td>\n",
       "      <td>Head pass</td>\n",
       "      <td>[{'id': 1801}]</td>\n",
       "      <td>49876</td>\n",
       "      <td>[{'y': 51, 'x': 54}, {'y': 58, 'x': 73}]</td>\n",
       "      <td>2499719</td>\n",
       "      <td>Pass</td>\n",
       "      <td>1609</td>\n",
       "      <td>2H</td>\n",
       "      <td>2994.900590</td>\n",
       "      <td>82</td>\n",
       "      <td>177961035</td>\n",
       "    </tr>\n",
       "    <tr>\n",
       "      <th>1765</th>\n",
       "      <td>10</td>\n",
       "      <td>Shot</td>\n",
       "      <td>[{'id': 402}, {'id': 201}, {'id': 1216}, {'id'...</td>\n",
       "      <td>7870</td>\n",
       "      <td>[{'y': 58, 'x': 73}, {'y': 0, 'x': 0}]</td>\n",
       "      <td>2499719</td>\n",
       "      <td>Shot</td>\n",
       "      <td>1609</td>\n",
       "      <td>2H</td>\n",
       "      <td>2997.086392</td>\n",
       "      <td>100</td>\n",
       "      <td>177961036</td>\n",
       "    </tr>\n",
       "    <tr>\n",
       "      <th>1766</th>\n",
       "      <td>5</td>\n",
       "      <td>Ball out of the field</td>\n",
       "      <td>[]</td>\n",
       "      <td>0</td>\n",
       "      <td>[{'y': 48, 'x': 3}, {'y': 100, 'x': 100}]</td>\n",
       "      <td>2499719</td>\n",
       "      <td>Interruption</td>\n",
       "      <td>1631</td>\n",
       "      <td>2H</td>\n",
       "      <td>2998.963701</td>\n",
       "      <td>50</td>\n",
       "      <td>177961041</td>\n",
       "    </tr>\n",
       "    <tr>\n",
       "      <th>1767</th>\n",
       "      <td>3</td>\n",
       "      <td>Goal kick</td>\n",
       "      <td>[]</td>\n",
       "      <td>8480</td>\n",
       "      <td>[{'y': 100, 'x': 100}, {'y': 100, 'x': 100}]</td>\n",
       "      <td>2499719</td>\n",
       "      <td>Free Kick</td>\n",
       "      <td>1631</td>\n",
       "      <td>2H</td>\n",
       "      <td>3006.647279</td>\n",
       "      <td>34</td>\n",
       "      <td>177961042</td>\n",
       "    </tr>\n",
       "  </tbody>\n",
       "</table>\n",
       "</div>"
      ],
      "text/plain": [
       "      eventId           subEventName  \\\n",
       "1763        8                 Launch   \n",
       "1764        8              Head pass   \n",
       "1765       10                   Shot   \n",
       "1766        5  Ball out of the field   \n",
       "1767        3              Goal kick   \n",
       "\n",
       "                                                   tags  playerId  \\\n",
       "1763                                     [{'id': 1802}]      8480   \n",
       "1764                                     [{'id': 1801}]     49876   \n",
       "1765  [{'id': 402}, {'id': 201}, {'id': 1216}, {'id'...      7870   \n",
       "1766                                                 []         0   \n",
       "1767                                                 []      8480   \n",
       "\n",
       "                                         positions  matchId     eventName  \\\n",
       "1763       [{'y': 53, 'x': 7}, {'y': 49, 'x': 46}]  2499719          Pass   \n",
       "1764      [{'y': 51, 'x': 54}, {'y': 58, 'x': 73}]  2499719          Pass   \n",
       "1765        [{'y': 58, 'x': 73}, {'y': 0, 'x': 0}]  2499719          Shot   \n",
       "1766     [{'y': 48, 'x': 3}, {'y': 100, 'x': 100}]  2499719  Interruption   \n",
       "1767  [{'y': 100, 'x': 100}, {'y': 100, 'x': 100}]  2499719     Free Kick   \n",
       "\n",
       "      teamId matchPeriod     eventSec subEventId         id  \n",
       "1763    1631          2H  2992.491575         84  177961040  \n",
       "1764    1609          2H  2994.900590         82  177961035  \n",
       "1765    1609          2H  2997.086392        100  177961036  \n",
       "1766    1631          2H  2998.963701         50  177961041  \n",
       "1767    1631          2H  3006.647279         34  177961042  "
      ]
     },
     "execution_count": 24,
     "metadata": {},
     "output_type": "execute_result"
    }
   ],
   "source": [
    "# Example of an events table\n",
    "Events_England[Events_England['matchId'] == 2499719].tail()"
   ]
  },
  {
   "cell_type": "markdown",
   "metadata": {},
   "source": [
    "### Data Cleaning"
   ]
  },
  {
   "cell_type": "code",
   "execution_count": 25,
   "metadata": {},
   "outputs": [],
   "source": [
    "Matches = pd.concat([England, France, Italy, Spain, Germany], ignore_index=True)"
   ]
  },
  {
   "cell_type": "code",
   "execution_count": 26,
   "metadata": {},
   "outputs": [],
   "source": [
    "Matches.drop(['duration'], inplace=True, axis =1) # removing groupName variable from World Cups"
   ]
  },
  {
   "cell_type": "code",
   "execution_count": 27,
   "metadata": {},
   "outputs": [],
   "source": [
    "Players.drop([\"passportArea\"], inplace = True, axis = 1)"
   ]
  },
  {
   "cell_type": "code",
   "execution_count": 28,
   "metadata": {},
   "outputs": [],
   "source": [
    "Players = Players.rename(columns ={'wyId': 'playerId'}) # rename for convenience"
   ]
  },
  {
   "cell_type": "code",
   "execution_count": 29,
   "metadata": {},
   "outputs": [],
   "source": [
    "Teams = Teams.rename(columns = {'wyId': 'teamId'})\n",
    "Players = Players.rename(columns = {'currentTeamId': 'teamId'})\n",
    "Players = pd.merge(Players,Teams[['teamId', 'officialName']], on = 'teamId').rename(columns = {'officialName': 'clubName'})"
   ]
  },
  {
   "cell_type": "code",
   "execution_count": 30,
   "metadata": {},
   "outputs": [],
   "source": [
    "Players['Position'] = Players.role.apply(pd.Series)['code3'].values"
   ]
  },
  {
   "cell_type": "code",
   "execution_count": 31,
   "metadata": {},
   "outputs": [],
   "source": [
    "Players['birthCountry'] = Players.birthArea.apply(pd.Series)['name'].values"
   ]
  },
  {
   "cell_type": "code",
   "execution_count": 32,
   "metadata": {},
   "outputs": [],
   "source": [
    "Players.drop([\"birthArea\", 'role'], inplace = True, axis = 1)"
   ]
  },
  {
   "cell_type": "markdown",
   "metadata": {},
   "source": [
    "### Manipulate Match Data"
   ]
  },
  {
   "cell_type": "code",
   "execution_count": 33,
   "metadata": {},
   "outputs": [],
   "source": [
    "teams = [list(x.keys()) for x in Matches.teamsData] # create two columns for identifying teams in match"
   ]
  },
  {
   "cell_type": "code",
   "execution_count": 34,
   "metadata": {},
   "outputs": [],
   "source": [
    "teams = [list(x.keys()) for x in Matches.teamsData] # create two columns for identifying teams in match\n",
    "homeTeam, awayTeam = [],[]\n",
    "for x in teams:\n",
    "    homeTeam.append(x[0])\n",
    "    awayTeam.append(x[1])"
   ]
  },
  {
   "cell_type": "code",
   "execution_count": 35,
   "metadata": {},
   "outputs": [],
   "source": [
    "# add columns for additional match statistics\n",
    "Matches[\"homeManagerId\"] = None\n",
    "for name in [\"Score\", \"ScoreHT\", \"ScoreET\", \"ScoreP\"]:\n",
    "    colname = \"home\" + name\n",
    "    colname2 = \"away\" + name\n",
    "    Matches[colname] = None\n",
    "    Matches[colname2] = None"
   ]
  },
  {
   "cell_type": "code",
   "execution_count": 36,
   "metadata": {},
   "outputs": [],
   "source": [
    "# parse Home and Away teams as features from nest dictionary\n",
    "teams = [list(x.keys()) for x in Matches.teamsData] # create two columns for identifying teams in match\n",
    "homeTeam, awayTeam = [],[]\n",
    "for game, team in enumerate(teams):\n",
    "    if Matches.teamsData[game:game+1][game][team[0]]['side'] == 'home':\n",
    "        homeTeam.append(team[0])\n",
    "        awayTeam.append(team[1])\n",
    "    else:\n",
    "        awayTeam.append(team[0])\n",
    "        homeTeam.append(team[1])"
   ]
  },
  {
   "cell_type": "code",
   "execution_count": 37,
   "metadata": {},
   "outputs": [],
   "source": [
    "def get_team_stats(df, team): # function to parse team match stats from dictionary embedded in column teamsData from the Matches dataframe\n",
    "    \n",
    "    Bench, Starters, Manager, Score, ScoreHT, ScoreET, ScoreP, teamId = [],[],[],[],[],[],[],[]\n",
    "    \n",
    "    for game in range(0, len(df)):\n",
    "\n",
    "        Bench.append(list(pd.DataFrame.from_dict(df.teamsData[game][team[game]]['formation']['bench'])['playerId']))\n",
    "        Starters.append(list(pd.DataFrame.from_dict(df.teamsData[game][team[game]]['formation']['lineup'])['playerId']))\n",
    "        Manager.append(df.teamsData[game][team[game]]['coachId'])\n",
    "        Score.append(df.teamsData[game][team[game]]['score'])\n",
    "        ScoreHT.append(df.teamsData[game][team[game]]['scoreHT'])\n",
    "        ScoreET.append(df.teamsData[game][team[game]]['scoreET'])\n",
    "        ScoreP.append(df.teamsData[game][team[game]]['scoreP'])\n",
    "        teamId.append(df.teamsData[game][team[game]]['teamId'])\n",
    "    \n",
    "    return Bench, Starters, Manager, Score, ScoreHT, ScoreET, ScoreP, teamId\n",
    "\n",
    "homeBench, homeStarters, homeManager, homeScore, homeScoreHT, homeScoreET, homeScoreP, homeTeamId = get_team_stats(Matches, homeTeam)\n",
    "awayBench, awayStarters, awayManager, awayScore, awayScoreHT, awayScoreET, awayScoreP, awayTeamId = get_team_stats(Matches, awayTeam)\n"
   ]
  },
  {
   "cell_type": "code",
   "execution_count": 38,
   "metadata": {},
   "outputs": [],
   "source": [
    "# Automating Bench Line Up Column Generation\n",
    "\n",
    "homeColNames = []\n",
    "for num in range(1,14): # add columns for home bench playerId\n",
    "     homeColNames.append(\"homeBenchPlayer\" + str(num))\n",
    "        \n",
    "awayColNames = []\n",
    "for num in range(1,14): # add columns for away bench playerId\n",
    "    awayColNames.append(\"awayBenchPlayer\" + str(num))\n",
    "    \n"
   ]
  },
  {
   "cell_type": "code",
   "execution_count": 39,
   "metadata": {},
   "outputs": [
    {
     "data": {
      "text/plain": [
       "Counter({7: 1425, 6: 18, 5: 1, 8: 5, 12: 205, 10: 49, 11: 101, 9: 21, 13: 1})"
      ]
     },
     "execution_count": 39,
     "metadata": {},
     "output_type": "execute_result"
    }
   ],
   "source": [
    "# Inspecting bench counts as during errror handling reveals some matches had bench sizes of between 8 and 13 for certain fixtures\n",
    "import collections\n",
    "collections.Counter(list(map(lambda x: len(x), homeBench)))"
   ]
  },
  {
   "cell_type": "code",
   "execution_count": 40,
   "metadata": {},
   "outputs": [],
   "source": [
    "# Adding Bench Line Ups to DataFrame\n",
    "\n",
    "homeBench2 = pd.DataFrame(homeBench,\n",
    "     columns=homeColNames)\n",
    "awayBench2 = pd.DataFrame(awayBench,\n",
    "     columns=awayColNames)\n"
   ]
  },
  {
   "cell_type": "code",
   "execution_count": 41,
   "metadata": {},
   "outputs": [],
   "source": [
    "# Automating Starting Line Up Column Generation\n",
    "\n",
    "homeColNames =[]\n",
    "for num in range(1,12): # add columns for starting playerId\n",
    "     homeColNames.append(\"homePlayer\" + str(num))\n",
    "        \n",
    "awayColNames = []\n",
    "for num in range(1,12): # add columns for starting playerId\n",
    "    awayColNames.append(\"awayPlayer\" + str(num))\n"
   ]
  },
  {
   "cell_type": "code",
   "execution_count": 42,
   "metadata": {},
   "outputs": [],
   "source": [
    "# Joining starting line ups, benches to matches dataframe\n",
    "\n",
    "homeStarters2 = pd.DataFrame(homeStarters,\n",
    "     columns=homeColNames)\n",
    "awayStarters2 = pd.DataFrame(awayStarters,\n",
    "     columns=awayColNames)\n",
    "\n",
    "Matches = Matches.join([homeStarters2, awayStarters2, homeBench2, awayBench2])\n"
   ]
  },
  {
   "cell_type": "code",
   "execution_count": 43,
   "metadata": {},
   "outputs": [],
   "source": [
    "# add individual columns of match data\n",
    "Matches['homeManager'] = homeManager\n",
    "Matches['homeScore'] = homeScore\n",
    "Matches['homeScoreHT'] = homeScoreHT\n",
    "Matches['homeScoreET'] = homeScoreET\n",
    "Matches['homeScoreP'] = homeScoreP\n",
    "Matches['homeTeamId'] = homeTeamId\n",
    "Matches['awayManager'] = awayManager\n",
    "Matches['awayScore'] = awayScore\n",
    "Matches['awayScoreHT'] = awayScoreHT\n",
    "Matches['awayScoreET'] = awayScoreET\n",
    "Matches['awayScoreP'] = awayScoreP\n",
    "Matches['awayTeamId'] = awayTeamId"
   ]
  },
  {
   "cell_type": "code",
   "execution_count": 44,
   "metadata": {},
   "outputs": [],
   "source": [
    "Matches.drop([\"teamsData\"], inplace = True, axis = 1)"
   ]
  },
  {
   "cell_type": "code",
   "execution_count": 45,
   "metadata": {},
   "outputs": [],
   "source": [
    "# Classify Match Result as W, L or D for teams\n",
    "conditions = [\n",
    "    (Matches['winner'] == 0),\n",
    "    (Matches['winner'] == Matches['awayTeamId']),\n",
    "    (Matches['winner'] == Matches['homeTeamId'])\n",
    "    ]\n",
    "\n",
    "# create a list of the values we want to assign for each condition\n",
    "values = [0, -1, 1]\n",
    "\n",
    "# create a new column and use np.select to assign values to it using our lists as arguments\n",
    "Matches['Result'] = np.select(conditions, values)"
   ]
  },
  {
   "cell_type": "markdown",
   "metadata": {},
   "source": [
    "###### Relating table to access Referee Data"
   ]
  },
  {
   "cell_type": "code",
   "execution_count": 46,
   "metadata": {},
   "outputs": [],
   "source": [
    "# os.chdir('/group/interns202010/jmakins/Data')"
   ]
  },
  {
   "cell_type": "code",
   "execution_count": 47,
   "metadata": {},
   "outputs": [],
   "source": [
    "# Match_TeamStats = Match_TeamStats[Match_TeamStats['Datetime'].str.contains('2017|2018')]"
   ]
  },
  {
   "cell_type": "code",
   "execution_count": 48,
   "metadata": {},
   "outputs": [],
   "source": [
    "Matches[\"date\"] = pd.to_datetime(Matches['dateutc']).dt.date # create a date column for Matches dataframe"
   ]
  },
  {
   "cell_type": "code",
   "execution_count": 49,
   "metadata": {},
   "outputs": [],
   "source": [
    "Matches[\"time\"] = pd.to_datetime(Matches['dateutc']).dt.time # create a time column for Matches dataframe"
   ]
  },
  {
   "cell_type": "code",
   "execution_count": 50,
   "metadata": {},
   "outputs": [],
   "source": [
    "# Prelim Dimensionality Reduction\n",
    "cols2Drop = ['status', 'roundId', 'gameweek', 'dateutc', 'label', 'referees', 'homeManagerId', 'seasonId']\n",
    "Matches.drop(cols2Drop, inplace=True, axis =1)\n",
    "Matches.drop(['winner', 'date', 'time'], inplace = True, axis =1)"
   ]
  },
  {
   "cell_type": "code",
   "execution_count": 51,
   "metadata": {},
   "outputs": [],
   "source": [
    "Matches.rename(columns={'wyId':'matchId'}, inplace=True)"
   ]
  },
  {
   "cell_type": "code",
   "execution_count": 52,
   "metadata": {},
   "outputs": [],
   "source": [
    "Matches = Matches.fillna(0) # fill bench7players with Ids = 0 in order to prevent program crashing"
   ]
  },
  {
   "cell_type": "code",
   "execution_count": 53,
   "metadata": {},
   "outputs": [],
   "source": [
    "# Match_TeamStats['date'] = pd.to_datetime(Match_TeamStats['Datetime']).dt.date"
   ]
  },
  {
   "cell_type": "code",
   "execution_count": 54,
   "metadata": {},
   "outputs": [],
   "source": [
    "# # Get Referee and Home/Away Team Information\n",
    "# Match_TeamStats.merge(Matches, how = \"inner\", indicator = False)"
   ]
  },
  {
   "cell_type": "code",
   "execution_count": 55,
   "metadata": {},
   "outputs": [],
   "source": [
    "# Matches = Match_TeamStats.merge(Matches, how = \"inner\", indicator = False)"
   ]
  },
  {
   "cell_type": "code",
   "execution_count": 56,
   "metadata": {},
   "outputs": [],
   "source": [
    "# Matches.drop(['gameweek', 'seasonId', 'dateutc', 'label', 'Season', 'status', 'roundId'], inplace= True, axis =1)"
   ]
  },
  {
   "cell_type": "markdown",
   "metadata": {},
   "source": [
    "### Events Manipulation for Match/Player Stats and then combine with existing Match(test) dataframe from aboves"
   ]
  },
  {
   "cell_type": "code",
   "execution_count": 57,
   "metadata": {},
   "outputs": [],
   "source": [
    "# Group by and events summarization"
   ]
  },
  {
   "cell_type": "code",
   "execution_count": 58,
   "metadata": {},
   "outputs": [
    {
     "data": {
      "text/plain": [
       "array(['Simple pass', 'High pass', 'Head pass', 'Air duel',\n",
       "       'Ground loose ball duel', 'Smart pass', 'Launch',\n",
       "       'Ground defending duel', 'Ground attacking duel', 'Foul',\n",
       "       'Free Kick', 'Cross', 'Shot', 'Reflexes', 'Touch', 'Clearance',\n",
       "       'Ball out of the field', 'Throw in', 'Goal kick', 'Corner',\n",
       "       'Goalkeeper leaving line', 'Hand pass', 'Acceleration',\n",
       "       'Save attempt', '', 'Free kick cross', 'Free kick shot',\n",
       "       'Hand foul', 'Violent Foul', 'Protest', 'Whistle',\n",
       "       'Late card foul', 'Out of game foul', 'Penalty', 'Time lost foul',\n",
       "       'Simulation'], dtype=object)"
      ]
     },
     "execution_count": 58,
     "metadata": {},
     "output_type": "execute_result"
    }
   ],
   "source": [
    "Events_England['subEventName'].unique()"
   ]
  },
  {
   "cell_type": "code",
   "execution_count": 59,
   "metadata": {},
   "outputs": [],
   "source": [
    "# Decroos Github\n",
    "tags = [\n",
    "    (101, \"goal\"),\n",
    "    (102, \"own_goal\"),\n",
    "    (301, \"assist\"),\n",
    "    (302, \"key_pass\"),\n",
    "    (1901, \"counter_attack\"),\n",
    "    (401, \"left_foot\"),\n",
    "    (402, \"right_foot\"),\n",
    "    (403, \"head/body\"),\n",
    "    (1101, \"direct\"),\n",
    "    (1102, \"indirect\"),\n",
    "    (2001, \"dangerous_ball_lost\"),\n",
    "    (2101, \"blocked\"),\n",
    "    (801, \"high\"),\n",
    "    (802, \"low\"),\n",
    "    (1401, \"interception\"),\n",
    "    (1501, \"clearance\"),\n",
    "    (201, \"opportunity\"),\n",
    "    (1301, \"feint\"),\n",
    "    (1302, \"missed_ball\"),\n",
    "    (501, \"free_space_right\"),\n",
    "    (502, \"free_space_left\"),\n",
    "    (503, \"take_on_left\"),\n",
    "    (504, \"take_on_right\"),\n",
    "    (1601, \"sliding_tackle\"),\n",
    "    (601, \"anticipated\"),\n",
    "    (602, \"anticipation\"),\n",
    "    (1701, \"red_card\"),\n",
    "    (1702, \"yellow_card\"),\n",
    "    (1703, \"second_yellow_card\"),\n",
    "    (1201, \"position_goal_low_center\"),\n",
    "    (1202, \"position_goal_low_right\"),\n",
    "    (1203, \"position_goal_mid_center\"),\n",
    "    (1204, \"position_goal_mid_left\"),\n",
    "    (1205, \"position_goal_low_left\"),\n",
    "    (1206, \"position_goal_mid_right\"),\n",
    "    (1207, \"position_goal_high_center\"),\n",
    "    (1208, \"position_goal_high_left\"),\n",
    "    (1209, \"position_goal_high_right\"),\n",
    "    (1210, \"position_out_low_right\"),\n",
    "    (1211, \"position_out_mid_left\"),\n",
    "    (1212, \"position_out_low_left\"),\n",
    "    (1213, \"position_out_mid_right\"),\n",
    "    (1214, \"position_out_high_center\"),\n",
    "    (1215, \"position_out_high_left\"),\n",
    "    (1216, \"position_out_high_right\"),\n",
    "    (1217, \"position_post_low_right\"),\n",
    "    (1218, \"position_post_mid_left\"),\n",
    "    (1219, \"position_post_low_left\"),\n",
    "    (1220, \"position_post_mid_right\"),\n",
    "    (1221, \"position_post_high_center\"),\n",
    "    (1222, \"position_post_high_left\"),\n",
    "    (1223, \"position_post_high_right\"),\n",
    "    (901, \"through\"),\n",
    "    (1001, \"fairplay\"),\n",
    "    (701, \"lost\"),\n",
    "    (702, \"neutral\"),\n",
    "    (703, \"won\"),\n",
    "    (1801, \"accurate\"),\n",
    "    (1802, \"not_accurate\"),\n",
    "]"
   ]
  },
  {
   "cell_type": "code",
   "execution_count": 60,
   "metadata": {},
   "outputs": [],
   "source": [
    "tags = dict(tags)"
   ]
  },
  {
   "cell_type": "code",
   "execution_count": 61,
   "metadata": {},
   "outputs": [],
   "source": [
    "# ## I have kept this cell encase we need to impute integers for ML algorithms as oppose to strings\n",
    "# event_tag_ids = []\n",
    "# for ids in  list(trial[0:10]['tags']):\n",
    "#     event_tag_ids.append(list(map(lambda y: y['id'], ids)))\n",
    "# trial['event_tag_ids'] = event_tag_ids"
   ]
  },
  {
   "cell_type": "code",
   "execution_count": 62,
   "metadata": {},
   "outputs": [],
   "source": [
    "# Store event type tags ids in new column\n",
    "def event_tags(event_df):\n",
    "    event_tags = []\n",
    "    for ids in list(event_df['tags']):\n",
    "        event_tags.append(list(map(lambda y: tags[y['id']], ids)))\n",
    "\n",
    "    event_df['event_tags'] = event_tags\n",
    "    return event_df"
   ]
  },
  {
   "cell_type": "code",
   "execution_count": 63,
   "metadata": {},
   "outputs": [],
   "source": [
    "def RunningTime(event_df):\n",
    "    # Solution to convert second half time into \n",
    "    secs_to_add = list(event_df[event_df['matchPeriod']==\"1H\"].groupby('matchId').tail(1)['eventSec'])\n",
    "    match_ids = list(event_df[\"matchId\"].unique())\n",
    "\n",
    "    for idx in range(0, len(match_ids)):\n",
    "        event_df['eventSec'] = list(np.where(\n",
    "           (event_df['matchId'] == match_ids[idx]) & (event_df['matchPeriod'] == \"2H\") , event_df['eventSec'] + secs_to_add[idx], event_df['eventSec']\n",
    "           ))\n",
    "    return event_df\n"
   ]
  },
  {
   "cell_type": "code",
   "execution_count": 64,
   "metadata": {},
   "outputs": [],
   "source": [
    "# Clean the result of the action\n",
    "def Result(event_df):\n",
    "    result = []\n",
    "    for tag in event_df[\"event_tags\"]:\n",
    "        if \"accurate\" in tag:\n",
    "            result.append(\"Accurate\")\n",
    "        elif \"not_accurate\" in tag:\n",
    "            result.append(\"Inaccurate\")\n",
    "        else:\n",
    "            result.append(\"\")\n",
    "    event_df[\"Result\"] = result \n",
    "    return event_df"
   ]
  },
  {
   "cell_type": "code",
   "execution_count": 65,
   "metadata": {},
   "outputs": [],
   "source": [
    "# Separating description from success/failure of an action (event)\n",
    "def event_description(event_df):\n",
    "    subEventDescr = []\n",
    "    for tag in event_df[\"event_tags\"]:\n",
    "        descr = \" \".join(tag[:-1])\n",
    "        if descr != \"\":\n",
    "            subEventDescr.append(descr)\n",
    "        else:\n",
    "            subEventDescr.append(\"generic play\")\n",
    "    event_df[\"subEventDescription\"] = subEventDescr\n",
    "    event_df = event_df[(event_df[\"event_tags\"].str.len() != 0) & (event_df.subEventName != 'Ball out of the field')  & (event_df.subEventName != 'Goal kick')  ]\n",
    "    event_df = event_df[event_df[\"subEventName\"] != \"Throw in\"] # remove throw-ins as a relevant feature among successful teams for simpler analysis, unless its Rory Delap!\n",
    "    return event_df"
   ]
  },
  {
   "cell_type": "code",
   "execution_count": 66,
   "metadata": {},
   "outputs": [],
   "source": [
    "# # Separating description from success/failure of an action (event)\n",
    "# def event_description(event_df):\n",
    "#     subEventDescr = []\n",
    "#     for tag in event_df[\"event_tags\"]:\n",
    "#         descr = \" \".join(tag[:-1])\n",
    "#         if descr != \"\":\n",
    "#             subEventDescr.append(descr)\n",
    "#         else:\n",
    "#             subEventDescr.append(\"generic play\")\n",
    "#     event_df[\"subEventDescription\"] = subEventDescr\n",
    "#     event_df = event_df[(event_df[\"event_tags\"].str.len() != 0) & (event_df.subEventName != 'Ball out of the field')  & (event_df.subEventName != 'Goal kick') & (event_df.subEventName != 'Touch')   ]\n",
    "#     event_df = event_df[event_df[\"subEventName\"] != \"Throw in\"] # remove throw-ins as a relevant feature among successful teams for simpler analysis, unless its Rory Delap!\n",
    "#     return event_df"
   ]
  },
  {
   "cell_type": "code",
   "execution_count": 67,
   "metadata": {},
   "outputs": [
    {
     "data": {
      "text/plain": [
       "Counter({2: 643032, 1: 118})"
      ]
     },
     "execution_count": 67,
     "metadata": {},
     "output_type": "execute_result"
    }
   ],
   "source": [
    "collections.Counter(list(map(lambda x: len(x), Events_England['positions'])))"
   ]
  },
  {
   "cell_type": "code",
   "execution_count": 68,
   "metadata": {},
   "outputs": [],
   "source": [
    "\n",
    "def Locations(event_df):\n",
    "\n",
    "    xStart,xEnd,yStart,yEnd = [], [], [], []\n",
    "    for pos in event_df[\"positions\"]:\n",
    "        if len(pos) == 2:\n",
    "            xStart.append(pos[0]['x'])\n",
    "            xEnd.append(pos[1]['x'])\n",
    "            yStart.append(pos[0]['y'])\n",
    "            yEnd.append(pos[1]['y'])\n",
    "        else:\n",
    "            xStart.append(pos[0]['x'])\n",
    "            xEnd.append(pos[0]['x'])\n",
    "            yStart.append(pos[0]['y'])\n",
    "            yEnd.append(pos[0]['y'])\n",
    "\n",
    "\n",
    "    event_df['xStart'], event_df['xEnd'], event_df['yStart'], event_df['yEnd'] = xStart, xEnd, yStart, yEnd\n",
    "    return event_df"
   ]
  },
  {
   "cell_type": "code",
   "execution_count": 69,
   "metadata": {},
   "outputs": [],
   "source": [
    "# function to transform an event data frame\n",
    "def event_df_transform(event_df):\n",
    "    event_df = event_tags(event_df)\n",
    "    event_df = Result(event_df)\n",
    "    event_df = event_description(event_df)\n",
    "    event_df = Locations(event_df)\n",
    "    event_df.drop(['positions', \"event_tags\", \"tags\", \"eventName\"], inplace = True, axis = 1) #'id'\n",
    "    event_df = event_df[event_df.subEventName != \"\"]\n",
    "    event_df = event_df[event_df['playerId']!= 0]\n",
    "    event_df = RunningTime(event_df)\n",
    "    event_df['attackMetres'] = event_df['xEnd'] - event_df['xStart']\n",
    "    return event_df\n",
    "\n",
    "# stopped remove eventId\n",
    "    "
   ]
  },
  {
   "cell_type": "code",
   "execution_count": 70,
   "metadata": {},
   "outputs": [],
   "source": [
    "# Transform event_dfs\n",
    "\n",
    "Events_France = event_df_transform(Events_France)\n",
    "Events_Spain = event_df_transform(Events_Spain)\n",
    "Events_Germany = event_df_transform(Events_Germany)\n",
    "Events_Italy = event_df_transform(Events_Italy)\n",
    "Events_England = event_df_transform(Events_England)\n",
    "\n"
   ]
  },
  {
   "cell_type": "code",
   "execution_count": 109,
   "metadata": {},
   "outputs": [],
   "source": [
    "def zones(event_df, start_or_end):\n",
    "\n",
    "    conditions = [\n",
    "            (((event_df['x'+ start_or_end] < 16.5)& (event_df['x'+ start_or_end] >= 0) & (event_df['y'+ start_or_end] >= 0)& (event_df['y'+ start_or_end] <= 25))),\n",
    "            (((event_df['x'+ start_or_end] < 16.5)& (event_df['x'+ start_or_end] >= 0) & (event_df['y'+ start_or_end] > 25)& (event_df['y'+ start_or_end] <= 36))),\n",
    "            (((event_df['x'+ start_or_end] < 16.5)& (event_df['x'+ start_or_end] >= 0) & (event_df['y'+ start_or_end] > 36)& (event_df['y'+ start_or_end] <= 64))),\n",
    "            (((event_df['x'+ start_or_end] < 16.5)& (event_df['x'+ start_or_end] >= 0) & (event_df['y'+ start_or_end] > 64)& (event_df['y'+ start_or_end] <= 75))),\n",
    "            (((event_df['x'+ start_or_end] < 16.5)& (event_df['x'+ start_or_end] >= 0) & (event_df['y'+ start_or_end] > 75)& (event_df['y'+ start_or_end] <= 100))),\n",
    "        \n",
    "            (((event_df['x'+ start_or_end] <= 33)& (event_df['x'+ start_or_end] >= 0) & (event_df['y'+ start_or_end] >= 0)& (event_df['y'+ start_or_end] <=  25))),\n",
    "            (((event_df['x'+ start_or_end] <= 33)& (event_df['x'+ start_or_end] >= 0) & (event_df['y'+ start_or_end] > 25)& (event_df['y'+ start_or_end] <=  50))),\n",
    "            (((event_df['x'+ start_or_end] <= 33)& (event_df['x'+ start_or_end] >= 0) & (event_df['y'+ start_or_end] > 50)& (event_df['y'+ start_or_end] <=  75))),\n",
    "            (((event_df['x'+ start_or_end] <= 33)& (event_df['x'+ start_or_end] >= 0) & (event_df['y'+ start_or_end] > 75)& (event_df['y'+ start_or_end] <=  100))),\n",
    "            (((event_df['x'+ start_or_end] <= 50)& (event_df['x'+ start_or_end] > 33) & (event_df['y'+ start_or_end] >= 0))& (event_df['y'+ start_or_end] <=  25)),\n",
    "            (((event_df['x'+ start_or_end] <= 50)& (event_df['x'+ start_or_end] > 33) & (event_df['y'+ start_or_end] > 25)& (event_df['y'+ start_or_end] <=  50))),\n",
    "            (((event_df['x'+ start_or_end] <= 50)& (event_df['x'+ start_or_end] > 33) & (event_df['y'+ start_or_end] > 50)& (event_df['y'+ start_or_end] <=  75))),\n",
    "            (((event_df['x'+ start_or_end] <= 50)& (event_df['x'+ start_or_end] > 33) & (event_df['y'+ start_or_end] > 75)& (event_df['y'+ start_or_end] <=  100))),\n",
    "            (((event_df['x'+ start_or_end] <= 67)& (event_df['x'+ start_or_end] > 50) & (event_df['y'+ start_or_end] >= 0)& (event_df['y'+ start_or_end] <= 25))),\n",
    "            (((event_df['x'+ start_or_end] <= 67)& (event_df['x'+ start_or_end] > 50) & (event_df['y'+ start_or_end] > 25)& (event_df['y'+ start_or_end] <=  50))),\n",
    "            (((event_df['x'+ start_or_end] <= 67)& (event_df['x'+ start_or_end] > 50) & (event_df['y'+ start_or_end] > 50)& (event_df['y'+ start_or_end] <= 75))),\n",
    "            (((event_df['x'+ start_or_end] <= 67)& (event_df['x'+ start_or_end] > 50) & (event_df['y'+ start_or_end] > 75)& (event_df['y'+ start_or_end] <= 100))),\n",
    "            (((event_df['x'+ start_or_end] < 83.5)& (event_df['x'+ start_or_end] > 67) & (event_df['y'+ start_or_end] >= 0)& (event_df['y'+ start_or_end] <= 25))),\n",
    "            (((event_df['x'+ start_or_end] < 83.5)& (event_df['x'+ start_or_end] > 67) & (event_df['y'+ start_or_end] > 25)& (event_df['y'+ start_or_end] <= 50))),\n",
    "            (((event_df['x'+ start_or_end] < 83.5)& (event_df['x'+ start_or_end] > 67) & (event_df['y'+ start_or_end] > 50)& (event_df['y'+ start_or_end] <= 75))),\n",
    "            (((event_df['x'+ start_or_end] < 83.5)& (event_df['x'+ start_or_end] > 67) & (event_df['y'+ start_or_end] > 75)& (event_df['y'+ start_or_end] <= 100))),\n",
    "        \n",
    "            (((event_df['x'+ start_or_end] <= 100) & (event_df['x'+ start_or_end] > 83.5) & (event_df['y'+ start_or_end] >= 0) & (event_df['y'+ start_or_end] <= 25))),\n",
    "            (((event_df['x'+ start_or_end] <= 100) & (event_df['x'+ start_or_end] > 83.5) & (event_df['y'+ start_or_end] > 25) & (event_df['y'+ start_or_end] <=  36))),\n",
    "            (((event_df['x'+ start_or_end] <= 100) & (event_df['x'+ start_or_end] > 83.5) & (event_df['y'+ start_or_end] > 36) & (event_df['y'+ start_or_end] <= 64))),\n",
    "            (((event_df['x'+ start_or_end] <= 100) & (event_df['x'+ start_or_end] > 83.5) & (event_df['y'+ start_or_end] > 64) & (event_df['y'+ start_or_end] <= 75))),\n",
    "            (((event_df['x'+ start_or_end] <= 100) & (event_df['x'+ start_or_end] > 83.5) & (event_df['y'+ start_or_end] > 75) & (event_df['y'+ start_or_end] <= 100)))\n",
    "            ]\n",
    "\n",
    "    # create a list of the values we want to assign for each condition\n",
    "    values = [1,2,3,4,5,6,7,8,9,10,11,12,13,14,15,16,17,18,19,20,21,22,23,24,25,26]\n",
    "\n",
    "    # create a new column and us np.select to assign values to it using our lists as arguments\n",
    "    event_df['Zone'+ start_or_end] = np.select(conditions, values)\n",
    "    \n",
    "    return event_df\n",
    "\n",
    "\n",
    "\n",
    "        "
   ]
  },
  {
   "cell_type": "code",
   "execution_count": 110,
   "metadata": {},
   "outputs": [],
   "source": [
    "for event_df in [Events_England, Events_Italy, Events_Spain, Events_France, Events_Germany]:\n",
    "    event_df = zones(event_df, \"Start\")\n",
    "    event_df = zones(event_df, \"End\")"
   ]
  },
  {
   "cell_type": "code",
   "execution_count": 74,
   "metadata": {},
   "outputs": [],
   "source": [
    "# this function fills in NaN values with correct teamId from the Matches df\n",
    "# def missing_teams(x):\n",
    "#     if np.isnan(x['team2']):\n",
    "#         row = Matches[Matches['matchId'] == x[\"matchId\"]]\n",
    "#         if row['homeTeamId'].astype(int) == x['team1']:\n",
    "#             return int(row['awayTeamId'])\n",
    "#         else:\n",
    "#             return int(row['homeTeamId'])\n",
    "#     else:\n",
    "#         return x['team2']"
   ]
  },
  {
   "cell_type": "code",
   "execution_count": 75,
   "metadata": {},
   "outputs": [],
   "source": [
    "### remove events where playerId equals zero\n",
    "## There are two instances where goals are scored so we will handle these first and assign to correct players as these are important events\n",
    "# we can attempt to handle these into the real player sequences if we have time at the end of the project\n"
   ]
  },
  {
   "cell_type": "code",
   "execution_count": 76,
   "metadata": {},
   "outputs": [],
   "source": [
    "# function to determine average player coordinates on pitch across all possessions in a match\n",
    "def playerPosition(event_df):\n",
    "    df = event_df.groupby(['matchId','playerId']).agg({'xStart': ['mean'], 'yStart': ['mean']}).reset_index()\n",
    "    df.columns = [\"matchId\", \"playerId\", \"xStart\", \"yStart\"]\n",
    "    return df"
   ]
  },
  {
   "cell_type": "code",
   "execution_count": 77,
   "metadata": {},
   "outputs": [],
   "source": [
    "# find positions for all players for big 5 Euro leagues\n",
    "a = playerPosition(Events_England)\n",
    "b = playerPosition(Events_France)\n",
    "c = playerPosition(Events_Italy)\n",
    "d = playerPosition(Events_Spain)\n",
    "e = playerPosition(Events_Germany)\n",
    "\n",
    "position_df =  pd.concat([a,b,c,d,e])"
   ]
  },
  {
   "cell_type": "code",
   "execution_count": 78,
   "metadata": {},
   "outputs": [
    {
     "data": {
      "text/html": [
       "<div>\n",
       "<style scoped>\n",
       "    .dataframe tbody tr th:only-of-type {\n",
       "        vertical-align: middle;\n",
       "    }\n",
       "\n",
       "    .dataframe tbody tr th {\n",
       "        vertical-align: top;\n",
       "    }\n",
       "\n",
       "    .dataframe thead th {\n",
       "        text-align: right;\n",
       "    }\n",
       "</style>\n",
       "<table border=\"1\" class=\"dataframe\">\n",
       "  <thead>\n",
       "    <tr style=\"text-align: right;\">\n",
       "      <th></th>\n",
       "      <th>matchId</th>\n",
       "      <th>playerId</th>\n",
       "      <th>xStart</th>\n",
       "      <th>yStart</th>\n",
       "    </tr>\n",
       "  </thead>\n",
       "  <tbody>\n",
       "    <tr>\n",
       "      <th>count</th>\n",
       "      <td>5.051800e+04</td>\n",
       "      <td>50518.000000</td>\n",
       "      <td>50518.000000</td>\n",
       "      <td>50518.000000</td>\n",
       "    </tr>\n",
       "    <tr>\n",
       "      <th>mean</th>\n",
       "      <td>2.532662e+06</td>\n",
       "      <td>97586.823152</td>\n",
       "      <td>48.750253</td>\n",
       "      <td>50.103268</td>\n",
       "    </tr>\n",
       "    <tr>\n",
       "      <th>std</th>\n",
       "      <td>3.312466e+04</td>\n",
       "      <td>123688.451486</td>\n",
       "      <td>15.338131</td>\n",
       "      <td>20.357378</td>\n",
       "    </tr>\n",
       "    <tr>\n",
       "      <th>min</th>\n",
       "      <td>2.499719e+06</td>\n",
       "      <td>33.000000</td>\n",
       "      <td>2.928571</td>\n",
       "      <td>1.500000</td>\n",
       "    </tr>\n",
       "    <tr>\n",
       "      <th>25%</th>\n",
       "      <td>2.500766e+06</td>\n",
       "      <td>12242.000000</td>\n",
       "      <td>38.192618</td>\n",
       "      <td>35.303015</td>\n",
       "    </tr>\n",
       "    <tr>\n",
       "      <th>50%</th>\n",
       "      <td>2.516895e+06</td>\n",
       "      <td>25747.000000</td>\n",
       "      <td>50.104031</td>\n",
       "      <td>50.051632</td>\n",
       "    </tr>\n",
       "    <tr>\n",
       "      <th>75%</th>\n",
       "      <td>2.565854e+06</td>\n",
       "      <td>173214.000000</td>\n",
       "      <td>60.634498</td>\n",
       "      <td>65.000000</td>\n",
       "    </tr>\n",
       "    <tr>\n",
       "      <th>max</th>\n",
       "      <td>2.576338e+06</td>\n",
       "      <td>568583.000000</td>\n",
       "      <td>97.000000</td>\n",
       "      <td>100.000000</td>\n",
       "    </tr>\n",
       "  </tbody>\n",
       "</table>\n",
       "</div>"
      ],
      "text/plain": [
       "            matchId       playerId        xStart        yStart\n",
       "count  5.051800e+04   50518.000000  50518.000000  50518.000000\n",
       "mean   2.532662e+06   97586.823152     48.750253     50.103268\n",
       "std    3.312466e+04  123688.451486     15.338131     20.357378\n",
       "min    2.499719e+06      33.000000      2.928571      1.500000\n",
       "25%    2.500766e+06   12242.000000     38.192618     35.303015\n",
       "50%    2.516895e+06   25747.000000     50.104031     50.051632\n",
       "75%    2.565854e+06  173214.000000     60.634498     65.000000\n",
       "max    2.576338e+06  568583.000000     97.000000    100.000000"
      ]
     },
     "execution_count": 78,
     "metadata": {},
     "output_type": "execute_result"
    }
   ],
   "source": [
    "position_df.describe()"
   ]
  },
  {
   "cell_type": "code",
   "execution_count": 79,
   "metadata": {},
   "outputs": [],
   "source": [
    "# This dataframe is used relationally to fill correct team as events represent 2018 team, while player\n",
    "a = Events_England[['playerId', \"teamId\", 'matchId']].groupby(['playerId', \"teamId\", 'matchId']).count().reset_index()\n",
    "b = Events_France[['playerId', \"teamId\", 'matchId']].groupby(['playerId', \"teamId\", 'matchId']).count().reset_index()\n",
    "c = Events_Italy[['playerId', \"teamId\", 'matchId']].groupby(['playerId', \"teamId\", 'matchId']).count().reset_index()\n",
    "d = Events_Spain[['playerId', \"teamId\", 'matchId']].groupby(['playerId', \"teamId\", 'matchId']).count().reset_index()\n",
    "e = Events_Germany[['playerId', \"teamId\", 'matchId']].groupby(['playerId', \"teamId\", 'matchId']).count().reset_index()\n",
    "p_refs = pd.concat([a,b,c,d,e])"
   ]
  },
  {
   "cell_type": "code",
   "execution_count": 80,
   "metadata": {},
   "outputs": [],
   "source": [
    "Player_Aggs = Players[['shortName','Position', 'playerId','weight','height',  'foot' ]]"
   ]
  },
  {
   "cell_type": "code",
   "execution_count": 81,
   "metadata": {},
   "outputs": [],
   "source": [
    "# add ave field locations to players\n",
    "Player_Aggs = pd.merge(Player_Aggs, position_df, how = 'right', on= 'playerId').sort_values('matchId')\n",
    "Player_Aggs = pd.merge(Player_Aggs, p_refs, on = ['matchId', 'playerId'])\n",
    "Player_Aggs = pd.merge(Player_Aggs, Teams[['teamId', 'name']], on = 'teamId')"
   ]
  },
  {
   "cell_type": "code",
   "execution_count": 82,
   "metadata": {},
   "outputs": [],
   "source": [
    "Player_Aggs = pd.merge(Player_Aggs, Matches[['matchId', 'homeTeamId', 'awayTeamId']], on = 'matchId')\n",
    "Player_Aggs.loc[Player_Aggs.teamId == Player_Aggs.homeTeamId, 'homeAway'] = \"home\"\n",
    "Player_Aggs.loc[Player_Aggs.teamId == Player_Aggs.awayTeamId, 'homeAway'] = \"away\"\n"
   ]
  },
  {
   "cell_type": "code",
   "execution_count": 84,
   "metadata": {},
   "outputs": [],
   "source": [
    "# while datetime.datetime.now().hour < 9:\n",
    "#     x = 1+1\n"
   ]
  },
  {
   "cell_type": "code",
   "execution_count": 85,
   "metadata": {},
   "outputs": [],
   "source": [
    "### unique entry dataframe for player gameTime at any point in a match by summarizing streams\n",
    "\n",
    "def playerGameTime(event_df):\n",
    "    df = event_df.groupby(['matchId','playerId'])['eventSec'].agg(['max', 'min']).reset_index()\n",
    "    df['gameTime (min)'] = round((df['max'] - df['min'])/60) # game time to the nearest minute\n",
    "    df.drop(['max', 'min'], inplace=True, axis=1)\n",
    "    return df\n",
    "\n",
    "# derive gameTime per player and store in summary table\n",
    "a = playerGameTime(Events_England)\n",
    "b = playerGameTime(Events_France)\n",
    "c = playerGameTime(Events_Italy)\n",
    "d = playerGameTime(Events_Spain)\n",
    "e = playerGameTime(Events_Germany)\n",
    "\n",
    "playingTime = pd.concat([a,b,c,d,e])\n"
   ]
  },
  {
   "cell_type": "code",
   "execution_count": 86,
   "metadata": {},
   "outputs": [],
   "source": [
    "# convenience function for event_df parsing\n",
    "def parseEvent_df(func):\n",
    "    a = func(Events_England)\n",
    "    b = func(Events_France)\n",
    "    c = func(Events_Italy)\n",
    "    d = func(Events_Spain)\n",
    "    e = func(Events_Germany)\n",
    "    \n",
    "    return pd.concat([a,b,c,d,e])"
   ]
  },
  {
   "cell_type": "code",
   "execution_count": 87,
   "metadata": {},
   "outputs": [],
   "source": [
    "# function for adding new feature column to Player_Aggs df\n",
    "def alter_Player_Aggs(new_feature_function, new_feature, PA_df):\n",
    "    \n",
    "    if \"Acc\" in new_feature:\n",
    "        df = parseEvent_df(new_feature_function)\n",
    "        PA_df = pd.merge(PA_df, df, how= 'left', on =['playerId', 'matchId'])\n",
    "        PA_df[new_feature] = PA_df[new_feature].fillna(0)\n",
    "    elif 'acc' in new_feature:\n",
    "        df = parseEvent_df(new_feature_function)\n",
    "        PA_df = pd.merge(PA_df, df, how= 'left', on =['playerId', 'matchId'])\n",
    "        PA_df[new_feature] = PA_df[new_feature].fillna(0)\n",
    "    else:\n",
    "        df = parseEvent_df(new_feature_function)\n",
    "        PA_df = pd.merge(PA_df, df, how= 'left', on =['playerId', 'matchId'])\n",
    "        PA_df[new_feature] = PA_df[new_feature].fillna(0)\n",
    "        PA_df[new_feature] = (PA_df[new_feature] / PA_df['gameTime (min)']) * 90 # get standardized stat index for 90mins\n",
    "\n",
    "    return PA_df\n"
   ]
  },
  {
   "cell_type": "code",
   "execution_count": 88,
   "metadata": {},
   "outputs": [],
   "source": [
    "Player_Aggs = pd.merge(Player_Aggs, playingTime, how = 'left', on = ['playerId', 'matchId'])"
   ]
  },
  {
   "cell_type": "code",
   "execution_count": 89,
   "metadata": {},
   "outputs": [],
   "source": [
    "import math"
   ]
  },
  {
   "cell_type": "code",
   "execution_count": 90,
   "metadata": {},
   "outputs": [],
   "source": [
    "# calc angle to goal from any location in radians\n",
    "def angleToGoal(event_df):\n",
    "    event_df['C'] = 10 # length of goal\n",
    "    event_df['A'] = ((100-event_df.xStart)**2+abs(45-event_df.yStart)**2)**.5\n",
    "    event_df['B'] = ((100-event_df.xStart)**2+abs(55-event_df.yStart)**2)**.5\n",
    "    event_df['angle_to_goal'] = (event_df['A'] * event_df['A'] + event_df['B'] * event_df['B'] - event_df['C'] * event_df['C'])/(2 * event_df['A'] * event_df['B'])\n",
    "    event_df['angle_to_goal'] = event_df['angle_to_goal'].apply(lambda row: round(math.radians(math.degrees(math.acos(row))),4))\n",
    "    #event_df['angle_to_goal'] = event_df['angle_to_goal'].apply(lambda row: round(math.degrees(row),2))\n",
    "    event_df.drop(['A', \"B\", \"C\"], inplace=True, axis=1)\n",
    "    return event_df\n",
    "        \n",
    "Events_England, Events_France = angleToGoal(Events_England), angleToGoal(Events_France)\n",
    "Events_Germany, Events_Spain = angleToGoal(Events_Germany), angleToGoal(Events_Spain)\n",
    "Events_Italy = angleToGoal(Events_Italy)\n"
   ]
  },
  {
   "cell_type": "code",
   "execution_count": 92,
   "metadata": {
    "scrolled": true
   },
   "outputs": [],
   "source": [
    "# print(\"deliberately crash\")\n",
    "# dgdfgdsgsd==1"
   ]
  },
  {
   "cell_type": "code",
   "execution_count": 366,
   "metadata": {},
   "outputs": [
    {
     "data": {
      "text/html": [
       "<div>\n",
       "<style scoped>\n",
       "    .dataframe tbody tr th:only-of-type {\n",
       "        vertical-align: middle;\n",
       "    }\n",
       "\n",
       "    .dataframe tbody tr th {\n",
       "        vertical-align: top;\n",
       "    }\n",
       "\n",
       "    .dataframe thead th {\n",
       "        text-align: right;\n",
       "    }\n",
       "</style>\n",
       "<table border=\"1\" class=\"dataframe\">\n",
       "  <thead>\n",
       "    <tr style=\"text-align: right;\">\n",
       "      <th>ZoneStart</th>\n",
       "      <th>playerId</th>\n",
       "      <th>matchId</th>\n",
       "      <th>1</th>\n",
       "      <th>2</th>\n",
       "      <th>3</th>\n",
       "      <th>4</th>\n",
       "      <th>5</th>\n",
       "      <th>6</th>\n",
       "      <th>7</th>\n",
       "      <th>8</th>\n",
       "      <th>...</th>\n",
       "      <th>17</th>\n",
       "      <th>18</th>\n",
       "      <th>19</th>\n",
       "      <th>20</th>\n",
       "      <th>21</th>\n",
       "      <th>22</th>\n",
       "      <th>23</th>\n",
       "      <th>24</th>\n",
       "      <th>25</th>\n",
       "      <th>26</th>\n",
       "    </tr>\n",
       "  </thead>\n",
       "  <tbody>\n",
       "    <tr>\n",
       "      <th>0</th>\n",
       "      <td>36</td>\n",
       "      <td>2499725</td>\n",
       "      <td>0.0</td>\n",
       "      <td>0.0</td>\n",
       "      <td>0.0</td>\n",
       "      <td>0.0</td>\n",
       "      <td>0.0</td>\n",
       "      <td>0.0</td>\n",
       "      <td>-16.0</td>\n",
       "      <td>-26.0</td>\n",
       "      <td>...</td>\n",
       "      <td>-1.0</td>\n",
       "      <td>0.0</td>\n",
       "      <td>0.0</td>\n",
       "      <td>-3.0</td>\n",
       "      <td>-7.0</td>\n",
       "      <td>0.0</td>\n",
       "      <td>0.0</td>\n",
       "      <td>0.0</td>\n",
       "      <td>0.0</td>\n",
       "      <td>0.0</td>\n",
       "    </tr>\n",
       "    <tr>\n",
       "      <th>1</th>\n",
       "      <td>36</td>\n",
       "      <td>2499737</td>\n",
       "      <td>0.0</td>\n",
       "      <td>0.0</td>\n",
       "      <td>0.0</td>\n",
       "      <td>-2.0</td>\n",
       "      <td>-1.0</td>\n",
       "      <td>0.0</td>\n",
       "      <td>0.0</td>\n",
       "      <td>-45.0</td>\n",
       "      <td>...</td>\n",
       "      <td>-9.0</td>\n",
       "      <td>0.0</td>\n",
       "      <td>0.0</td>\n",
       "      <td>-2.0</td>\n",
       "      <td>0.0</td>\n",
       "      <td>0.0</td>\n",
       "      <td>0.0</td>\n",
       "      <td>0.0</td>\n",
       "      <td>0.0</td>\n",
       "      <td>0.0</td>\n",
       "    </tr>\n",
       "    <tr>\n",
       "      <th>2</th>\n",
       "      <td>36</td>\n",
       "      <td>2499746</td>\n",
       "      <td>0.0</td>\n",
       "      <td>0.0</td>\n",
       "      <td>-2.0</td>\n",
       "      <td>-1.0</td>\n",
       "      <td>-5.0</td>\n",
       "      <td>0.0</td>\n",
       "      <td>0.0</td>\n",
       "      <td>-29.0</td>\n",
       "      <td>...</td>\n",
       "      <td>-14.0</td>\n",
       "      <td>0.0</td>\n",
       "      <td>-5.0</td>\n",
       "      <td>0.0</td>\n",
       "      <td>-10.0</td>\n",
       "      <td>0.0</td>\n",
       "      <td>0.0</td>\n",
       "      <td>0.0</td>\n",
       "      <td>0.0</td>\n",
       "      <td>0.0</td>\n",
       "    </tr>\n",
       "    <tr>\n",
       "      <th>3</th>\n",
       "      <td>36</td>\n",
       "      <td>2499752</td>\n",
       "      <td>0.0</td>\n",
       "      <td>0.0</td>\n",
       "      <td>-8.0</td>\n",
       "      <td>-3.0</td>\n",
       "      <td>-8.0</td>\n",
       "      <td>0.0</td>\n",
       "      <td>0.0</td>\n",
       "      <td>-18.0</td>\n",
       "      <td>...</td>\n",
       "      <td>-23.0</td>\n",
       "      <td>0.0</td>\n",
       "      <td>0.0</td>\n",
       "      <td>0.0</td>\n",
       "      <td>0.0</td>\n",
       "      <td>0.0</td>\n",
       "      <td>0.0</td>\n",
       "      <td>0.0</td>\n",
       "      <td>0.0</td>\n",
       "      <td>-135.0</td>\n",
       "    </tr>\n",
       "    <tr>\n",
       "      <th>4</th>\n",
       "      <td>36</td>\n",
       "      <td>2499766</td>\n",
       "      <td>0.0</td>\n",
       "      <td>0.0</td>\n",
       "      <td>0.0</td>\n",
       "      <td>0.0</td>\n",
       "      <td>-9.0</td>\n",
       "      <td>0.0</td>\n",
       "      <td>-3.0</td>\n",
       "      <td>0.0</td>\n",
       "      <td>...</td>\n",
       "      <td>-46.0</td>\n",
       "      <td>0.0</td>\n",
       "      <td>0.0</td>\n",
       "      <td>-2.0</td>\n",
       "      <td>-66.0</td>\n",
       "      <td>0.0</td>\n",
       "      <td>0.0</td>\n",
       "      <td>-1.0</td>\n",
       "      <td>0.0</td>\n",
       "      <td>-86.0</td>\n",
       "    </tr>\n",
       "  </tbody>\n",
       "</table>\n",
       "<p>5 rows × 28 columns</p>\n",
       "</div>"
      ],
      "text/plain": [
       "ZoneStart  playerId  matchId    1    2    3    4    5    6     7     8  ...  \\\n",
       "0                36  2499725  0.0  0.0  0.0  0.0  0.0  0.0 -16.0 -26.0  ...   \n",
       "1                36  2499737  0.0  0.0  0.0 -2.0 -1.0  0.0   0.0 -45.0  ...   \n",
       "2                36  2499746  0.0  0.0 -2.0 -1.0 -5.0  0.0   0.0 -29.0  ...   \n",
       "3                36  2499752  0.0  0.0 -8.0 -3.0 -8.0  0.0   0.0 -18.0  ...   \n",
       "4                36  2499766  0.0  0.0  0.0  0.0 -9.0  0.0  -3.0   0.0  ...   \n",
       "\n",
       "ZoneStart    17   18   19   20    21   22   23   24   25     26  \n",
       "0          -1.0  0.0  0.0 -3.0  -7.0  0.0  0.0  0.0  0.0    0.0  \n",
       "1          -9.0  0.0  0.0 -2.0   0.0  0.0  0.0  0.0  0.0    0.0  \n",
       "2         -14.0  0.0 -5.0  0.0 -10.0  0.0  0.0  0.0  0.0    0.0  \n",
       "3         -23.0  0.0  0.0  0.0   0.0  0.0  0.0  0.0  0.0 -135.0  \n",
       "4         -46.0  0.0  0.0 -2.0 -66.0  0.0  0.0 -1.0  0.0  -86.0  \n",
       "\n",
       "[5 rows x 28 columns]"
      ]
     },
     "execution_count": 366,
     "metadata": {},
     "output_type": "execute_result"
    }
   ],
   "source": [
    "var = \"AccBackMetres\"\n",
    "test = Events_England.loc[(Events_England.Result == \"Accurate\" ) & (Events_England.attackMetres < 0 )].groupby(['matchId','playerId', 'ZoneStart'])['attackMetres'].sum().reset_index().rename(columns={'attackMetres': \"AccBackMetres\"})#.groupby([\"matchId\",'playerId']).agg(list).reset_index()\n",
    "for col in range(1,27):\n",
    "    test[var + \"_ZoneS_\" + str(col)] = None\n",
    "\n",
    "test.columns\n",
    "test = test.pivot_table('AccBackMetres', ['playerId', 'matchId'], 'ZoneStart').fillna(0).reset_index()\n",
    "test.head()\n",
    "\n",
    "\n"
   ]
  },
  {
   "cell_type": "code",
   "execution_count": 348,
   "metadata": {},
   "outputs": [],
   "source": [
    "# pd.DataFrame(test['ZoneStart'].to_list(`a), columns=['team1','team2'])\n",
    "test.columns.values[2:] = [var + \"_ZoneS_\"+ str(zone_num) for zone_num in test.columns[2:]]"
   ]
  },
  {
   "cell_type": "code",
   "execution_count": 355,
   "metadata": {},
   "outputs": [
    {
     "data": {
      "text/html": [
       "<div>\n",
       "<style scoped>\n",
       "    .dataframe tbody tr th:only-of-type {\n",
       "        vertical-align: middle;\n",
       "    }\n",
       "\n",
       "    .dataframe tbody tr th {\n",
       "        vertical-align: top;\n",
       "    }\n",
       "\n",
       "    .dataframe thead th {\n",
       "        text-align: right;\n",
       "    }\n",
       "</style>\n",
       "<table border=\"1\" class=\"dataframe\">\n",
       "  <thead>\n",
       "    <tr style=\"text-align: right;\">\n",
       "      <th></th>\n",
       "      <th>eventId</th>\n",
       "      <th>subEventName</th>\n",
       "      <th>playerId</th>\n",
       "      <th>matchId</th>\n",
       "      <th>teamId</th>\n",
       "      <th>matchPeriod</th>\n",
       "      <th>eventSec</th>\n",
       "      <th>subEventId</th>\n",
       "      <th>id</th>\n",
       "      <th>Result</th>\n",
       "      <th>...</th>\n",
       "      <th>xEnd</th>\n",
       "      <th>yStart</th>\n",
       "      <th>yEnd</th>\n",
       "      <th>attackMetres</th>\n",
       "      <th>ZoneStart</th>\n",
       "      <th>ZoneEnd</th>\n",
       "      <th>angle_to_goal</th>\n",
       "      <th>Goal_Value</th>\n",
       "      <th>lateralMetres</th>\n",
       "      <th>ReceivingPlayer</th>\n",
       "    </tr>\n",
       "  </thead>\n",
       "  <tbody>\n",
       "    <tr>\n",
       "      <th>0</th>\n",
       "      <td>8</td>\n",
       "      <td>Simple pass</td>\n",
       "      <td>25413</td>\n",
       "      <td>2499719</td>\n",
       "      <td>1609</td>\n",
       "      <td>1H</td>\n",
       "      <td>2.758649</td>\n",
       "      <td>85</td>\n",
       "      <td>177959171</td>\n",
       "      <td>Accurate</td>\n",
       "      <td>...</td>\n",
       "      <td>31</td>\n",
       "      <td>49</td>\n",
       "      <td>78</td>\n",
       "      <td>-18</td>\n",
       "      <td>11</td>\n",
       "      <td>9</td>\n",
       "      <td>0.1954</td>\n",
       "      <td>0</td>\n",
       "      <td>29</td>\n",
       "      <td>370224.0</td>\n",
       "    </tr>\n",
       "    <tr>\n",
       "      <th>1</th>\n",
       "      <td>8</td>\n",
       "      <td>High pass</td>\n",
       "      <td>370224</td>\n",
       "      <td>2499719</td>\n",
       "      <td>1609</td>\n",
       "      <td>1H</td>\n",
       "      <td>4.946850</td>\n",
       "      <td>83</td>\n",
       "      <td>177959172</td>\n",
       "      <td>Accurate</td>\n",
       "      <td>...</td>\n",
       "      <td>51</td>\n",
       "      <td>78</td>\n",
       "      <td>75</td>\n",
       "      <td>20</td>\n",
       "      <td>9</td>\n",
       "      <td>16</td>\n",
       "      <td>0.1244</td>\n",
       "      <td>0</td>\n",
       "      <td>-3</td>\n",
       "      <td>3319.0</td>\n",
       "    </tr>\n",
       "    <tr>\n",
       "      <th>2</th>\n",
       "      <td>8</td>\n",
       "      <td>Head pass</td>\n",
       "      <td>3319</td>\n",
       "      <td>2499719</td>\n",
       "      <td>1609</td>\n",
       "      <td>1H</td>\n",
       "      <td>6.542188</td>\n",
       "      <td>82</td>\n",
       "      <td>177959173</td>\n",
       "      <td>Accurate</td>\n",
       "      <td>...</td>\n",
       "      <td>35</td>\n",
       "      <td>75</td>\n",
       "      <td>71</td>\n",
       "      <td>-16</td>\n",
       "      <td>16</td>\n",
       "      <td>12</td>\n",
       "      <td>0.1619</td>\n",
       "      <td>0</td>\n",
       "      <td>-4</td>\n",
       "      <td>120339.0</td>\n",
       "    </tr>\n",
       "    <tr>\n",
       "      <th>3</th>\n",
       "      <td>8</td>\n",
       "      <td>Head pass</td>\n",
       "      <td>120339</td>\n",
       "      <td>2499719</td>\n",
       "      <td>1609</td>\n",
       "      <td>1H</td>\n",
       "      <td>8.143395</td>\n",
       "      <td>82</td>\n",
       "      <td>177959174</td>\n",
       "      <td>Accurate</td>\n",
       "      <td>...</td>\n",
       "      <td>41</td>\n",
       "      <td>71</td>\n",
       "      <td>95</td>\n",
       "      <td>6</td>\n",
       "      <td>12</td>\n",
       "      <td>13</td>\n",
       "      <td>0.1392</td>\n",
       "      <td>0</td>\n",
       "      <td>24</td>\n",
       "      <td>167145.0</td>\n",
       "    </tr>\n",
       "    <tr>\n",
       "      <th>4</th>\n",
       "      <td>8</td>\n",
       "      <td>Simple pass</td>\n",
       "      <td>167145</td>\n",
       "      <td>2499719</td>\n",
       "      <td>1609</td>\n",
       "      <td>1H</td>\n",
       "      <td>10.302366</td>\n",
       "      <td>85</td>\n",
       "      <td>177959175</td>\n",
       "      <td>Accurate</td>\n",
       "      <td>...</td>\n",
       "      <td>72</td>\n",
       "      <td>95</td>\n",
       "      <td>88</td>\n",
       "      <td>31</td>\n",
       "      <td>13</td>\n",
       "      <td>21</td>\n",
       "      <td>0.1072</td>\n",
       "      <td>0</td>\n",
       "      <td>-7</td>\n",
       "      <td>3319.0</td>\n",
       "    </tr>\n",
       "  </tbody>\n",
       "</table>\n",
       "<p>5 rows × 22 columns</p>\n",
       "</div>"
      ],
      "text/plain": [
       "   eventId subEventName  playerId  matchId  teamId matchPeriod   eventSec  \\\n",
       "0        8  Simple pass     25413  2499719    1609          1H   2.758649   \n",
       "1        8    High pass    370224  2499719    1609          1H   4.946850   \n",
       "2        8    Head pass      3319  2499719    1609          1H   6.542188   \n",
       "3        8    Head pass    120339  2499719    1609          1H   8.143395   \n",
       "4        8  Simple pass    167145  2499719    1609          1H  10.302366   \n",
       "\n",
       "  subEventId         id    Result  ... xEnd  yStart  yEnd  attackMetres  \\\n",
       "0         85  177959171  Accurate  ...   31      49    78           -18   \n",
       "1         83  177959172  Accurate  ...   51      78    75            20   \n",
       "2         82  177959173  Accurate  ...   35      75    71           -16   \n",
       "3         82  177959174  Accurate  ...   41      71    95             6   \n",
       "4         85  177959175  Accurate  ...   72      95    88            31   \n",
       "\n",
       "   ZoneStart  ZoneEnd  angle_to_goal  Goal_Value  lateralMetres  \\\n",
       "0         11        9         0.1954           0             29   \n",
       "1          9       16         0.1244           0             -3   \n",
       "2         16       12         0.1619           0             -4   \n",
       "3         12       13         0.1392           0             24   \n",
       "4         13       21         0.1072           0             -7   \n",
       "\n",
       "   ReceivingPlayer  \n",
       "0         370224.0  \n",
       "1           3319.0  \n",
       "2         120339.0  \n",
       "3         167145.0  \n",
       "4           3319.0  \n",
       "\n",
       "[5 rows x 22 columns]"
      ]
     },
     "execution_count": 355,
     "metadata": {},
     "output_type": "execute_result"
    }
   ],
   "source": [
    "Events_England.head()"
   ]
  },
  {
   "cell_type": "code",
   "execution_count": 369,
   "metadata": {},
   "outputs": [
    {
     "data": {
      "text/plain": [
       "Index(['playerId',  'matchId',         10,         11,         12,         15,\n",
       "               16,         17,         18,         19,         20,         21,\n",
       "               22,         23,         24,         25,         26],\n",
       "      dtype='object', name='ZoneStart')"
      ]
     },
     "execution_count": 369,
     "metadata": {},
     "output_type": "execute_result"
    }
   ],
   "source": [
    "var = \"Shot\"\n",
    "test = Events_England.loc[(Events_England.Result == \"Accurate\" ) & (Events_England.subEventName== var )][['playerId', 'matchId', \"ZoneStart\"]].groupby(['playerId', 'matchId', \"ZoneStart\"]).size().reset_index(name='ShotsOnTarget')#.groupby([\"matchId\",'playerId']).agg(list).reset_index()\n",
    "\n",
    "for col in range(1,27):\n",
    "    test[var + \"_ZoneS_\" + str(col)] = None\n",
    "\n",
    "\n",
    "test = test.pivot_table('ShotsOnTarget', ['playerId', 'matchId'], 'ZoneStart').fillna(0).reset_index()\n",
    "test.columns\n",
    "\n"
   ]
  },
  {
   "cell_type": "code",
   "execution_count": 350,
   "metadata": {},
   "outputs": [
    {
     "ename": "TypeError",
     "evalue": "'RangeIndex' object is not callable",
     "output_type": "error",
     "traceback": [
      "\u001b[0;31m---------------------------------------------------------------------------\u001b[0m",
      "\u001b[0;31mTypeError\u001b[0m                                 Traceback (most recent call last)",
      "\u001b[0;32m<ipython-input-350-0afbc43800bb>\u001b[0m in \u001b[0;36m<module>\u001b[0;34m\u001b[0m\n\u001b[0;32m----> 1\u001b[0;31m \u001b[0mtest\u001b[0m\u001b[0;34m.\u001b[0m\u001b[0mindex\u001b[0m\u001b[0;34m(\u001b[0m\u001b[0;34m)\u001b[0m\u001b[0;34m\u001b[0m\u001b[0;34m\u001b[0m\u001b[0m\n\u001b[0m",
      "\u001b[0;31mTypeError\u001b[0m: 'RangeIndex' object is not callable"
     ]
    }
   ],
   "source": [
    "pd.merge(Player_Aggs,)"
   ]
  },
  {
   "cell_type": "code",
   "execution_count": null,
   "metadata": {},
   "outputs": [],
   "source": [
    "df2 = TAM.groupby('matchId').agg(list).reset_index()\n",
    "df3 = pd.DataFrame(None, columns = list(TA.columns))\n",
    "\n",
    "for index, coal in enumerate(list(TAM.columns)):\n",
    "    df3[col] = df2.iloc[:,index]\n",
    "df3.head()\n",
    "\n",
    "df4 = pd.concat([df3, pd.DataFrame(df3['teamId'].to_list(), columns=['team1','team2'])], axis=1, sort = False)\n",
    "result = pd.merge(df4, Matches[['matchId', \"homeTeamId\", \"awayTeamId\"]], on='matchId', how='inner')\n",
    "df4.drop([\"Country\"], axis=1, inplace=True)\n",
    "df4.head()\n",
    "\n",
    "\n",
    "    for var in list(result.columns)[1:-6]:\n",
    "        result = pd.concat([result, pd.DataFrame(df3[var].to_list(), columns=[var+\"1\",var+\"2\"])], axis=1, sort = False)\n",
    "\n",
    "        # Correctly apply allocate home and away aggregate statistics to correct teams\n",
    "        result['home'+var] = (\n",
    "            np.select(\n",
    "                condlist=[result['team1'] == result['homeTeamId'], result['team2'] == result['homeTeamId']], \n",
    "                choicelist=[result[var+\"1\"], result[var+\"2\"]]))\n",
    "\n",
    "        result['away'+var] = (\n",
    "            np.select(\n",
    "                condlist=[result['team1'] == result['awayTeamId'], result['team2'] == result['awayTeamId']], \n",
    "                choicelist=[result[var+\"1\"], result[var+\"2\"]]))\n",
    "\n",
    "        # # drop useless columns that have been replaced\n",
    "        result.drop([ var, var+\"1\", var+\"2\"], inplace = True, axis = 1)\n",
    "    "
   ]
  },
  {
   "cell_type": "code",
   "execution_count": 174,
   "metadata": {},
   "outputs": [],
   "source": [
    "# result is event_df\n",
    "def player_goals(result):\n",
    "\n",
    "    conditions = [\n",
    "            (((result['subEventDescription'].str.match('goal ')) & (result['Result'] == \"Accurate\"))),\n",
    "            (((result['subEventDescription'].str.match('goal ')) & (result['Result'] == \"Inaccurate\") & (result['subEventName'] == \"Shot\"))),\n",
    "            (((result['subEventDescription'].str.match('goal ')) & (result['Result'] == \"Inaccurate\") & (result['subEventName'] != \"Shot\")))\n",
    "            ]\n",
    "\n",
    "    # create a list of the values we want to assign for each condition\n",
    "    values = [1, 1, -1]\n",
    "\n",
    "    # create a new column and us np.select to assign values to it using our lists as arguments\n",
    "    result['Goal_Value'] = np.select(conditions, values, default = 0)\n",
    "    \n",
    "    return result\n",
    "    \n",
    "    "
   ]
  },
  {
   "cell_type": "code",
   "execution_count": 175,
   "metadata": {},
   "outputs": [],
   "source": [
    "### Attack Metres stat (how many forward metres achieved through events)\n",
    "def AccBackwardMetres(event_df):\n",
    "\n",
    "    df = event_df.loc[(event_df.Result == \"Accurate\" ) & (event_df.attackMetres < 0 )].groupby(['matchId','playerId'])['attackMetres'].sum().reset_index().rename(columns={'attackMetres': \"AccBackMetres\"})\n",
    "\n",
    "    return df\n",
    "\n",
    "def InaccBackwardMetres(event_df):\n",
    "\n",
    "    df = event_df.loc[(event_df.Result == \"Inaccurate\") & (event_df.attackMetres < 0 )].groupby(['matchId','playerId'])['attackMetres'].sum().reset_index().rename(columns={'attackMetres': \"InaccBackMetres\"})\n",
    "\n",
    "    return df\n",
    "\n",
    "\n",
    "### Attack Metres stat (how many forward metres achieved through events)\n",
    "def AccForwardMetres(event_df):\n",
    "\n",
    "    df = event_df.loc[(event_df.Result == \"Accurate\") & (event_df.attackMetres > 0 )].groupby(['matchId','playerId'])['attackMetres'].sum().reset_index().rename(columns={'attackMetres': \"AccForwardMetres\"})\n",
    "\n",
    "    return df\n",
    "\n",
    "def InaccForwardMetres(event_df):\n",
    "\n",
    "    df = event_df.loc[(event_df.Result == \"Inaccurate\") & (event_df.attackMetres > 0 ) ].groupby(['matchId','playerId'])['attackMetres'].sum().reset_index().rename(columns={'attackMetres': \"InaccForwardMetres\"})\n",
    "\n",
    "    return df\n"
   ]
  },
  {
   "cell_type": "code",
   "execution_count": 176,
   "metadata": {},
   "outputs": [],
   "source": [
    "# adding in total meterage of accurate and inaccurate movements by players in the vertical plane towards the goal\n",
    "AccBackward = parseEvent_df(AccBackwardMetres)\n",
    "InaccBackward = parseEvent_df(InaccBackwardMetres)\n",
    "AccForward = parseEvent_df(AccForwardMetres)\n",
    "InaccForward= parseEvent_df(InaccForwardMetres)\n",
    "\n",
    "Player_Aggs = pd.merge(Player_Aggs, AccBackward, how= 'left', on =['playerId', 'matchId'])\n",
    "Player_Aggs = pd.merge(Player_Aggs, InaccBackward, how = 'left', on =['playerId', 'matchId'])\n",
    "Player_Aggs = pd.merge(Player_Aggs, AccForward, how= 'left', on =['playerId', 'matchId'])\n",
    "Player_Aggs = pd.merge(Player_Aggs, InaccForward, how = 'left', on =['playerId', 'matchId'])\n",
    "Player_Aggs.AccForwardMetres = Player_Aggs.AccForwardMetres.fillna(0)\n",
    "Player_Aggs.InaccForwardMetres = Player_Aggs.InaccForwardMetres.fillna(0)\n",
    "Player_Aggs.AccBackMetres = Player_Aggs.AccBackMetres.fillna(0)\n",
    "Player_Aggs.InaccBackMetres = Player_Aggs.InaccBackMetres.fillna(0)"
   ]
  },
  {
   "cell_type": "code",
   "execution_count": 177,
   "metadata": {},
   "outputs": [],
   "source": [
    "# Player_Aggs =  Player_Aggs.iloc[:, :-6]"
   ]
  },
  {
   "cell_type": "code",
   "execution_count": 178,
   "metadata": {},
   "outputs": [],
   "source": [
    "def find_goals(event_df):\n",
    "\n",
    "    # Create a column to recognize when a goal is scored\n",
    "    conditions = [\n",
    "        (((event_df['subEventDescription'].str.match('goal ')) & (event_df['Result'] == \"Accurate\"))),\n",
    "        (((event_df['subEventDescription'].str.match('goal ')) & (event_df['Result'] == \"Inaccurate\") & (event_df['subEventName'] == \"Shot\"))),\n",
    "        (((event_df['subEventDescription'].str.match('goal ')) & (event_df['Result'] == \"Inaccurate\") & (event_df['subEventName'] != \"Shot\")))\n",
    "        ]\n",
    "\n",
    "    # create a list of the values we want to assign for each condition\n",
    "    values = [1, 1, -1]\n",
    "\n",
    "    # create a new column and use np.select to assign values to it using our lists as arguments\n",
    "    event_df['Goal_Value'] = np.select(conditions, values, default = 0)\n",
    "    \n",
    "    return event_df.groupby(['playerId', \"matchId\"]).sum().reset_index()[['playerId', 'matchId', 'Goal_Value']]"
   ]
  },
  {
   "cell_type": "code",
   "execution_count": 179,
   "metadata": {},
   "outputs": [],
   "source": [
    "goals = parseEvent_df(find_goals)\n",
    "Player_Aggs = pd.merge(Player_Aggs, goals, how= 'left', on =['playerId', 'matchId'])"
   ]
  },
  {
   "cell_type": "markdown",
   "metadata": {},
   "source": [
    "##### Explore Feature"
   ]
  },
  {
   "cell_type": "code",
   "execution_count": 180,
   "metadata": {},
   "outputs": [
    {
     "data": {
      "text/plain": [
       "array(['Simple pass', 'High pass', 'Head pass', 'Air duel',\n",
       "       'Ground loose ball duel', 'Smart pass', 'Launch',\n",
       "       'Ground defending duel', 'Ground attacking duel', 'Cross', 'Shot',\n",
       "       'Reflexes', 'Touch', 'Clearance', 'Free Kick', 'Corner',\n",
       "       'Hand pass', 'Acceleration', 'Save attempt', 'Free kick cross',\n",
       "       'Foul', 'Free kick shot', 'Hand foul', 'Violent Foul', 'Protest',\n",
       "       'Goalkeeper leaving line', 'Late card foul', 'Out of game foul',\n",
       "       'Penalty', 'Time lost foul', 'Simulation'], dtype=object)"
      ]
     },
     "execution_count": 180,
     "metadata": {},
     "output_type": "execute_result"
    }
   ],
   "source": [
    "Events_England.subEventName.unique()"
   ]
  },
  {
   "cell_type": "markdown",
   "metadata": {},
   "source": [
    "##### Goalkeeping"
   ]
  },
  {
   "cell_type": "code",
   "execution_count": 181,
   "metadata": {},
   "outputs": [],
   "source": [
    "# import datetime\n",
    "# while datetime.datetime.now().hour < 4:\n",
    "#     x = 1+1\n"
   ]
  },
  {
   "cell_type": "markdown",
   "metadata": {},
   "source": [
    "#### Miscellanous "
   ]
  },
  {
   "cell_type": "code",
   "execution_count": 182,
   "metadata": {},
   "outputs": [],
   "source": [
    "def SimulationFouls(event_df):\n",
    "    return event_df[(event_df.subEventName==\"Simulation\")][['playerId', 'matchId']].groupby(['playerId', 'matchId']).size().reset_index(name='SimulationFouls')\n",
    "\n",
    "def Fouls(event_df):\n",
    "    return event_df[(event_df.subEventName.str.contains('foul'))| (event_df.subEventName.str.contains('Foul'))][['playerId', 'matchId']].groupby(['playerId', 'matchId']).size().reset_index(name='FoulsCommited')\n",
    "\n",
    "def Clearances(event_df):\n",
    "    return event_df[(event_df.subEventName==\"Clearance\")][['playerId', 'matchId']].groupby(['playerId', 'matchId']).size().reset_index(name='Clearances')\n",
    "\n",
    "def AccLaunchMetres(event_df):\n",
    "    return event_df.loc[(event_df.Result == \"Accurate\") &(event_df.subEventName==\"Launch\")].groupby(['matchId','playerId'])['attackMetres'].sum().reset_index().rename(columns={'attackMetres': \"AccLaunchMetres\"})\n",
    "\n",
    "def InaccLaunchMetres(event_df):\n",
    "    return event_df.loc[(event_df.Result == \"Inaccurate\") &(event_df.subEventName==\"Launch\")].groupby(['matchId','playerId'])['attackMetres'].sum().reset_index().rename(columns={'attackMetres': \"InaccLaunchMetres\"})\n",
    "\n",
    "def FreeKickCrossKey(event_df):\n",
    "    return event_df[(event_df.subEventName == \"Free kick cross\")&(event_df.subEventDescription.str.contains(\"key\"))][['playerId', 'matchId']].groupby(['playerId', 'matchId']).size().reset_index(name='FKKeyCross')\n",
    "\n",
    "def FreeKickCrossAssists(event_df):\n",
    "    return event_df[(event_df.subEventName == \"Free kick cross\")&(event_df.subEventDescription.str.contains(\"assist\"))][['playerId', 'matchId']].groupby(['playerId', 'matchId']).size().reset_index(name='FKCrossAssists')\n",
    "\n",
    "def FreeKickCrossAccuracy(event_df):\n",
    "    df1= event_df[(event_df.subEventName == \"Free kick cross\")].groupby(['playerId', 'matchId']).size().reset_index(name='FreeKickCrosses')\n",
    "\n",
    "    df2 = event_df[(event_df.subEventName == \"Free kick cross\")& (event_df.Result==\"Accurate\")].groupby(['playerId', 'matchId']).size().reset_index(name='AccFreeKickCrosses')\n",
    "\n",
    "    df1 = pd.merge(df1,df2, how='left', on = ['matchId', 'playerId'])\n",
    "    df1['AccFreeKickCrosses'] = df1['AccFreeKickCrosses'].fillna(0)\n",
    "    df1['FKCrossAccuracy'] = df1['AccFreeKickCrosses'] / df1['FreeKickCrosses']\n",
    "    df1.drop(['AccFreeKickCrosses', 'FreeKickCrosses'], inplace=True, axis =1)\n",
    "    return df1\n"
   ]
  },
  {
   "cell_type": "code",
   "execution_count": 183,
   "metadata": {},
   "outputs": [],
   "source": [
    "Player_Aggs = alter_Player_Aggs(SimulationFouls, \"SimulationFouls\", Player_Aggs)\n",
    "Player_Aggs = alter_Player_Aggs(Fouls, \"FoulsCommited\", Player_Aggs)\n",
    "Player_Aggs = alter_Player_Aggs(Clearances, \"Clearances\", Player_Aggs)\n",
    "Player_Aggs = alter_Player_Aggs(AccLaunchMetres, \"AccLaunchMetres\", Player_Aggs)\n",
    "Player_Aggs = alter_Player_Aggs(InaccLaunchMetres, \"InaccLaunchMetres\", Player_Aggs)\n",
    "Player_Aggs = alter_Player_Aggs(FreeKickCrossKey, \"FKKeyCross\", Player_Aggs)\n",
    "Player_Aggs = alter_Player_Aggs(FreeKickCrossAssists, \"FKCrossAssists\", Player_Aggs)\n",
    "Player_Aggs = alter_Player_Aggs(FreeKickCrossAccuracy, \"FKCrossAccuracy\", Player_Aggs)\n",
    "\n",
    "Player_Aggs = Player_Aggs.drop_duplicates()"
   ]
  },
  {
   "cell_type": "code",
   "execution_count": 184,
   "metadata": {},
   "outputs": [],
   "source": [
    "# create_event to penalize goals scored against\n",
    "# concededGoals, yellowCards, redCards, offsides, throw-in goals"
   ]
  },
  {
   "cell_type": "code",
   "execution_count": 185,
   "metadata": {},
   "outputs": [],
   "source": [
    "#penaltiesConversion Statistic\n",
    "\n",
    "def PenaltiesConverted(event_df):\n",
    "    df1= event_df[(event_df.subEventName == \"Penalty\")].groupby(['playerId', 'matchId']).size().reset_index(name='PenaltiesAttempted')\n",
    "\n",
    "    df2 = event_df[(event_df.subEventName == \"Penalty\")& (event_df.Result==\"Accurate\")].groupby(['playerId', 'matchId']).size().reset_index(name='PenaltiesScored')\n",
    "\n",
    "    df1 = pd.merge(df1,df2, how='left', on = ['matchId', 'playerId'])\n",
    "    df1['PenaltiesScored'] = df1['PenaltiesScored'].fillna(0)\n",
    "    df1['penaltiesConversion'] = df1['PenaltiesScored'] / df1['PenaltiesAttempted']\n",
    "    df1.drop(['PenaltiesScored', 'PenaltiesAttempted' ], inplace=True, axis =1)\n",
    "    return df1\n",
    "\n",
    "Player_Aggs = alter_Player_Aggs(PenaltiesConverted, \"penaltiesConversion\", Player_Aggs)\n",
    "Player_Aggs = Player_Aggs.drop_duplicates()\n",
    "\n"
   ]
  },
  {
   "cell_type": "code",
   "execution_count": 186,
   "metadata": {},
   "outputs": [
    {
     "data": {
      "text/plain": [
       "array(['Simple pass', 'High pass', 'Head pass', 'Air duel',\n",
       "       'Ground loose ball duel', 'Smart pass', 'Launch',\n",
       "       'Ground defending duel', 'Ground attacking duel', 'Cross', 'Shot',\n",
       "       'Reflexes', 'Touch', 'Clearance', 'Free Kick', 'Corner',\n",
       "       'Hand pass', 'Acceleration', 'Save attempt', 'Free kick cross',\n",
       "       'Foul', 'Free kick shot', 'Hand foul', 'Violent Foul', 'Protest',\n",
       "       'Goalkeeper leaving line', 'Late card foul', 'Out of game foul',\n",
       "       'Penalty', 'Time lost foul', 'Simulation'], dtype=object)"
      ]
     },
     "execution_count": 186,
     "metadata": {},
     "output_type": "execute_result"
    }
   ],
   "source": [
    "Events_England.subEventName.unique()"
   ]
  },
  {
   "cell_type": "code",
   "execution_count": 187,
   "metadata": {},
   "outputs": [],
   "source": [
    "# 'Ground loose ball duel', 'Ground defending duel'\n",
    "def dangerousOpponentHalfRecoveries(event_df):\n",
    "    return event_df[((event_df.subEventDescription.str.contains(\"won\")) | (event_df.subEventDescription.str.contains(\"interception\") & (event_df.Result==\"Accurate\"))) & (event_df.subEventName!=\"Ground attacking duel\") & (event_df.xEnd > 60)].groupby(['playerId', 'matchId']).size().reset_index(name='dangerousOpponentHalfRecoveries')\n",
    "\n",
    "def dangerousOwnHalfBallLost(event_df):\n",
    "    return event_df[(event_df.Result==\"Inaccurate\") & (event_df.xEnd<40) & ((event_df.subEventName.str.contains(\"pass\")) | (event_df.subEventName.str.contains(\"Acceleration\")) | (event_df.subEventName.str.contains(\"Clearance\")) | ((event_df.subEventName.str.contains(\"duel\")) &(event_df.subEventName!='Ground defending duel')) | (event_df.subEventName.str.contains(\"Launch\")))].groupby(['playerId', 'matchId']).size().reset_index(name='dangerousOwnHalfBallLost')\n",
    "\n",
    "def dangerousDefDuelsLost(event_df):\n",
    "    return event_df[(event_df.Result==\"Inaccurate\") & (event_df.xEnd<40) & (event_df.subEventName==\"Ground defending duel\")].groupby(['playerId', 'matchId']).size().reset_index(name='dangerousDefDuelsLost')\n"
   ]
  },
  {
   "cell_type": "code",
   "execution_count": 188,
   "metadata": {},
   "outputs": [],
   "source": [
    "Player_Aggs = alter_Player_Aggs(dangerousOpponentHalfRecoveries, \"dangerousOpponentHalfRecoveries\", Player_Aggs)\n",
    "Player_Aggs = alter_Player_Aggs(dangerousOwnHalfBallLost, \"dangerousOwnHalfBallLost\", Player_Aggs)\n",
    "Player_Aggs = alter_Player_Aggs(dangerousDefDuelsLost, \"dangerousDefDuelsLost\", Player_Aggs)\n",
    "\n",
    "Player_Aggs = Player_Aggs.drop_duplicates()\n"
   ]
  },
  {
   "cell_type": "code",
   "execution_count": 189,
   "metadata": {},
   "outputs": [],
   "source": [
    "### Step one proportion of low left shots saved\n",
    "\n",
    "possies = ['low_left', 'mid_left', 'high_left', 'low_center', 'mid_center', 'high_center', 'low_right', 'mid_right', 'high_right']\n",
    "\n",
    "def GoalKeepingZoneEfficiency(event_df, pos):\n",
    "    df1= event_df[((event_df.subEventName==\"Save attempt\") | (event_df.subEventName==\"Reflexes\")) &(event_df.subEventDescription.str.contains(pos))].groupby(['playerId', 'matchId']).size().reset_index(name='total_'+pos)\n",
    "\n",
    "    df2 = event_df[((event_df.subEventName==\"Save attempt\") | (event_df.subEventName==\"Reflexes\")) &(event_df.subEventDescription.str.contains(pos)) & (event_df.Result==\"Accurate\")].groupby(['playerId', 'matchId']).size().reset_index(name=pos+'_saves')\n",
    "\n",
    "    df1 = pd.merge(df1,df2, how='left', on = ['matchId', 'playerId'])\n",
    "    df1[pos+'_saves'] = df1[pos+'_saves'].fillna(0)\n",
    "    df1[pos+'_save_efficiency'] = df1[pos+'_saves'] / df1['total_'+pos]\n",
    "    df1.drop([pos+'_saves', 'total_'+pos], inplace=True, axis =1)\n",
    "    return df1\n",
    "\n",
    "\n",
    "for pos in possies:\n",
    "    a = GoalKeepingZoneEfficiency(Events_England, pos)\n",
    "    b = GoalKeepingZoneEfficiency(Events_France, pos)\n",
    "    c = GoalKeepingZoneEfficiency(Events_Italy, pos)\n",
    "    d = GoalKeepingZoneEfficiency(Events_Spain, pos)\n",
    "    e = GoalKeepingZoneEfficiency(Events_Germany, pos)\n",
    "    df = pd.concat([a,b,c,d,e])\n",
    "    Player_Aggs = pd.merge(Player_Aggs, df, how= 'left', on = ['playerId', 'matchId'])\n",
    "    Player_Aggs[ pos + '_save_efficiency'] = Player_Aggs[pos + '_save_efficiency'].fillna(0)\n",
    "    "
   ]
  },
  {
   "cell_type": "code",
   "execution_count": 190,
   "metadata": {},
   "outputs": [],
   "source": [
    "# Goals allowed\n",
    "def goalsAllowed(event_df):\n",
    "    return event_df[((event_df.subEventName == \"Reflexes\")|(Events_England.subEventName == \"Save attempt\")) & (event_df.Result == \"Inaccurate\") ][['playerId', 'matchId']].groupby(['playerId', 'matchId']).size().reset_index(name='goalsAllowed')\n",
    "\n",
    "# Successful save attempt\n",
    "def Saves(event_df):\n",
    "    return event_df[((event_df.subEventName == \"Save attempt\")|(Events_England.subEventName == \"Save attempt\"))&(event_df.Result == \"Accurate\") ][['playerId', 'matchId']].groupby(['playerId', 'matchId']).size().reset_index(name='GkSaves')\n",
    "\n",
    "# Accurate Hand Pass\n",
    "def SuccessHandPass(event_df):\n",
    "    return event_df[(event_df.subEventName == \"Hand pass\")&(event_df.Result == \"Accurate\") ][['playerId', 'matchId']].groupby(['playerId', 'matchId']).size().reset_index(name='AccurateHandPass')\n",
    "\n",
    "# Inaccurate Hand Pass\n",
    "def FailedHandPass(event_df):\n",
    "    return event_df[(event_df.subEventName == \"Hand pass\")&(event_df.Result == \"Inaccurate\") ][['playerId', 'matchId']].groupby(['playerId', 'matchId']).size().reset_index(name='InaccurateHandPass')\n",
    "\n",
    "# GoalKeeper Leaving Line \n",
    "def LeavingLine(event_df):\n",
    "    return event_df[(event_df.subEventName==\"Goalkeeper leaving line\")][['playerId', 'matchId']].groupby(['playerId', 'matchId']).size().reset_index(name='GKLeavingLineInstance')\n",
    "\n"
   ]
  },
  {
   "cell_type": "code",
   "execution_count": 191,
   "metadata": {},
   "outputs": [
    {
     "name": "stderr",
     "output_type": "stream",
     "text": [
      "<ipython-input-190-726a7d0cce8f>:3: UserWarning: Boolean Series key will be reindexed to match DataFrame index.\n",
      "  return event_df[((event_df.subEventName == \"Reflexes\")|(Events_England.subEventName == \"Save attempt\")) & (event_df.Result == \"Inaccurate\") ][['playerId', 'matchId']].groupby(['playerId', 'matchId']).size().reset_index(name='goalsAllowed')\n",
      "<ipython-input-190-726a7d0cce8f>:7: UserWarning: Boolean Series key will be reindexed to match DataFrame index.\n",
      "  return event_df[((event_df.subEventName == \"Save attempt\")|(Events_England.subEventName == \"Save attempt\"))&(event_df.Result == \"Accurate\") ][['playerId', 'matchId']].groupby(['playerId', 'matchId']).size().reset_index(name='GkSaves')\n"
     ]
    }
   ],
   "source": [
    "Player_Aggs = alter_Player_Aggs(goalsAllowed, \"goalsAllowed\", Player_Aggs)\n",
    "Player_Aggs = alter_Player_Aggs(Saves, \"GkSaves\", Player_Aggs)\n",
    "Player_Aggs = alter_Player_Aggs(SuccessHandPass, \"AccurateHandPass\", Player_Aggs)\n",
    "Player_Aggs = alter_Player_Aggs(FailedHandPass, \"InaccurateHandPass\", Player_Aggs)\n",
    "Player_Aggs = alter_Player_Aggs(LeavingLine, \"GKLeavingLineInstance\", Player_Aggs)\n",
    "Player_Aggs = Player_Aggs.drop_duplicates()\n"
   ]
  },
  {
   "cell_type": "markdown",
   "metadata": {},
   "source": [
    "#### Crosses, Dribbles, Accelerations"
   ]
  },
  {
   "cell_type": "code",
   "execution_count": 192,
   "metadata": {},
   "outputs": [],
   "source": [
    "# Number of succesful accelerations\n",
    "def SuccessAccelerations(event_df):\n",
    "    return event_df[(event_df.subEventName == 'Acceleration') & (event_df.Result == 'Accurate')][['playerId', 'matchId']].groupby(['playerId', 'matchId']).size().reset_index(name='SuccessfulAccels')\n",
    "\n",
    "# Number of failed accelerations\n",
    "def FailedAccelerations(event_df):\n",
    "    return event_df[(event_df.subEventName == 'Acceleration') & (event_df.Result == 'Inaccurate')][['playerId', 'matchId']].groupby(['playerId', 'matchId']).size().reset_index(name='FailedAccels')\n",
    "\n",
    "# Total acceleration metres\n",
    "def AccelDistance(event_df):\n",
    "    return event_df.loc[(event_df.Result == \"Accurate\") & (event_df.subEventName==\"Acceleration\") ].groupby(['matchId','playerId'])['attackMetres'].sum().reset_index().rename(columns={'attackMetres': \"CumAccelerationDist\"})\n",
    "\n",
    "# Accelerations into final third\n",
    "def AccelsIntoFinalThird(event_df):\n",
    "    return event_df.loc[(event_df.Result == \"Accurate\") & (event_df.subEventName==\"Acceleration\") & (event_df.xStart <= 66)  & (event_df.xEnd > 66)].groupby(['matchId','playerId'])['attackMetres'].sum().reset_index().rename(columns={'attackMetres': \"AccelsDistIntoFinal3rd\"})\n",
    "\n",
    "# Acceleration within final third\n",
    "def AccelsWithinFinalThird(event_df):\n",
    "    return event_df.loc[(event_df.Result == \"Accurate\") & (event_df.subEventName==\"Acceleration\") & (event_df.xStart > 66) ].groupby(['matchId','playerId'])['attackMetres'].sum().reset_index().rename(columns={'attackMetres': \"AccelsDistWithinFinal3rd\"})\n",
    "\n"
   ]
  },
  {
   "cell_type": "code",
   "execution_count": 193,
   "metadata": {},
   "outputs": [],
   "source": [
    "Player_Aggs = alter_Player_Aggs(SuccessAccelerations, \"SuccessfulAccels\", Player_Aggs)\n",
    "Player_Aggs = alter_Player_Aggs(FailedAccelerations, \"FailedAccels\", Player_Aggs)\n",
    "Player_Aggs = alter_Player_Aggs(AccelDistance, \"CumAccelerationDist\", Player_Aggs)\n",
    "Player_Aggs = alter_Player_Aggs(AccelsIntoFinalThird, \"AccelsDistIntoFinal3rd\", Player_Aggs)\n",
    "Player_Aggs = alter_Player_Aggs(AccelsWithinFinalThird, \"AccelsDistWithinFinal3rd\", Player_Aggs)\n",
    "\n",
    "Player_Aggs = Player_Aggs.drop_duplicates()"
   ]
  },
  {
   "cell_type": "markdown",
   "metadata": {},
   "source": [
    "##### Crossing"
   ]
  },
  {
   "cell_type": "code",
   "execution_count": 194,
   "metadata": {},
   "outputs": [],
   "source": [
    "# cross assists\n",
    "def crossAssists(event_df):\n",
    "    return event_df[(event_df.subEventName == 'Cross') & (event_df.subEventDescription.str.contains('assist'))][['playerId', 'matchId']].groupby(['playerId', 'matchId']).size().reset_index(name='CrossAssists')\n",
    "\n",
    "# right foot crosses\n",
    "def RightFootCross(event_df):\n",
    "    return event_df[(event_df.subEventName == 'Cross') & (event_df.subEventDescription.str.contains('right_foot'))][['playerId', 'matchId']].groupby(['playerId', 'matchId']).size().reset_index(name='RightFootCross')\n",
    "\n",
    "# left foot crosses\n",
    "def LeftFootCross(event_df):\n",
    "    return event_df[(event_df.subEventName == 'Cross') & (event_df.subEventDescription.str.contains('left_foot'))][['playerId', 'matchId']].groupby(['playerId', 'matchId']).size().reset_index(name='LeftFootCross')\n",
    "\n",
    "# cross key passes\n",
    "def CrossKeyPasses(event_df):\n",
    "    return event_df[(event_df.subEventName == 'Cross') & (event_df.subEventDescription.str.contains('key_pass'))][['playerId', 'matchId']].groupby(['playerId', 'matchId']).size().reset_index(name='CrossKeyPass')\n",
    "\n",
    "# accurate crosses\n",
    "def AccurateCrosses(event_df):\n",
    "    return event_df[(event_df.subEventName == 'Cross') & (event_df.Result==\"Accurate\")][['playerId', 'matchId']].groupby(['playerId', 'matchId']).size().reset_index(name='AccCrosses')\n",
    "\n",
    "# inaccurate crosses\n",
    "def InaccurateCrosses(event_df):\n",
    "    return event_df[(event_df.subEventName == 'Cross') & (event_df.Result==\"Inaccurate\")][['playerId', 'matchId']].groupby(['playerId', 'matchId']).size().reset_index(name='InaccCrosses')\n",
    "\n",
    "# Accurate crosses into penalty box\n",
    "def AccCrossesBox(event_df):\n",
    "    return event_df[(event_df.subEventName == 'Cross') \n",
    "               & (event_df.Result==\"Accurate\") \n",
    "               & (event_df.xEnd > 82)\n",
    "               & (event_df.yEnd < 80)\n",
    "               & (event_df.yEnd > 20)][['playerId', 'matchId']].groupby(['playerId', 'matchId']).size().reset_index(name='AccCrossesIntoBox')\n",
    "\n",
    "# Inaccurate crosses into penalty box\n",
    "def InaccCrossesBox(event_df):\n",
    "    return event_df[(event_df.subEventName == 'Cross') \n",
    "               & (event_df.Result==\"Inaccurate\") \n",
    "               & (event_df.xEnd > 82)\n",
    "               & (event_df.yEnd < 80)\n",
    "               & (event_df.yEnd > 20)][['playerId', 'matchId']].groupby(['playerId', 'matchId']).size().reset_index(name='InaccCrossesIntoBox')\n",
    "\n",
    "\n"
   ]
  },
  {
   "cell_type": "code",
   "execution_count": 195,
   "metadata": {},
   "outputs": [],
   "source": [
    "Player_Aggs = alter_Player_Aggs(crossAssists, \"CrossAssists\", Player_Aggs)\n",
    "Player_Aggs = alter_Player_Aggs(RightFootCross, \"RightFootCross\", Player_Aggs)\n",
    "Player_Aggs = alter_Player_Aggs(LeftFootCross, \"LeftFootCross\", Player_Aggs)\n",
    "Player_Aggs = alter_Player_Aggs(CrossKeyPasses, \"CrossKeyPass\", Player_Aggs)\n",
    "Player_Aggs = alter_Player_Aggs(AccurateCrosses, \"AccCrosses\", Player_Aggs)\n",
    "Player_Aggs = alter_Player_Aggs(InaccurateCrosses, \"InaccCrosses\", Player_Aggs)\n",
    "Player_Aggs = alter_Player_Aggs(AccCrossesBox, \"AccCrossesIntoBox\", Player_Aggs)\n",
    "Player_Aggs = alter_Player_Aggs(InaccCrossesBox, \"InaccCrossesIntoBox\", Player_Aggs)\n",
    "\n",
    "Player_Aggs = Player_Aggs.drop_duplicates()\n"
   ]
  },
  {
   "cell_type": "markdown",
   "metadata": {},
   "source": [
    "#### Tackles & Ground Duels"
   ]
  },
  {
   "cell_type": "code",
   "execution_count": 196,
   "metadata": {},
   "outputs": [],
   "source": [
    "\n",
    "# Sliding tackles won\n",
    "def slidingTacklesWon(event_df):\n",
    "    return event_df[(event_df.subEventDescription.str.contains(\"sliding_tackle won\"))][['playerId', 'matchId']].groupby(['playerId', 'matchId']).size().reset_index(name='SlidingTacklesWon')\n",
    "\n",
    "# Sliding tackles lost\n",
    "def slidingTacklesLost(event_df):\n",
    "    return event_df[(event_df.subEventDescription.str.contains(\"sliding_tackle lost\"))][['playerId', 'matchId']].groupby(['playerId', 'matchId']).size().reset_index(name='SlidingTacklesLost')\n",
    "\n",
    "# Ground Defending Duels Won\n",
    "def GroundDuelsWon(event_df):\n",
    "    return event_df[(event_df.subEventName==\"Ground defending duel\") & event_df.subEventDescription.str.contains(\"won\")][['playerId', 'matchId']].groupby(['playerId', 'matchId']).size().reset_index(name='GroundDefDuelsWon')\n",
    "\n",
    "# Ground Defending Duels Lost\n",
    "def GroundDuelsLost(event_df):\n",
    "    return event_df[(event_df.subEventName==\"Ground defending duel\") & event_df.subEventDescription.str.contains(\"lost\")][['playerId', 'matchId']].groupby(['playerId', 'matchId']).size().reset_index(name='GroundDefDuelsLost')\n",
    "\n",
    "# Ground Defensive Anticipations\n",
    "def GroundDefAnticipations(event_df):\n",
    "    return event_df[(event_df.subEventName==\"Ground defending duel\") & event_df.subEventDescription.str.contains(\"anticipated\")][['playerId', 'matchId']].groupby(['playerId', 'matchId']).size().reset_index(name='DefensiveAnticipations')\n",
    "\n",
    "# Ground Loose Balls Won\n",
    "def GroundLooseBallsWon(event_df):\n",
    "    return event_df[(event_df.subEventName == 'Ground loose ball duel') &(event_df.subEventDescription.str.contains('won'))][['playerId', 'matchId']].groupby(['playerId', 'matchId']).size().reset_index(name='GroundLooseBallsWon')\n",
    "\n",
    "# Ground Loose Balls Lost\n",
    "def GroundLooseBallsLost(event_df):\n",
    "    return event_df[(event_df.subEventName == 'Ground loose ball duel') &(event_df.subEventDescription.str.contains('lost'))][['playerId', 'matchId']].groupby(['playerId', 'matchId']).size().reset_index(name='GroundLooseBallsLost')\n",
    "\n",
    "# Ground attacking duels won\n",
    "def GroundAttackDuelsWon(event_df):\n",
    "    return event_df[(event_df.subEventName == 'Ground attacking duel') &(event_df.subEventDescription.str.contains('won'))][['playerId', 'matchId']].groupby(['playerId', 'matchId']).size().reset_index(name='GroundAttackDuelsWon')\n",
    "\n",
    "# Ground attacking duels lost\n",
    "def GroundAttackDuelsLost(event_df):\n",
    "    return event_df[(event_df.subEventName == 'Ground attacking duel') &(event_df.subEventDescription.str.contains('lost'))][['playerId', 'matchId']].groupby(['playerId', 'matchId']).size().reset_index(name='GroundAttackDuelsLost')\n",
    "\n",
    "# Offensive Touches in box\n",
    "def OffTouchesBox(event_df):\n",
    "    return event_df[(event_df.subEventName == 'Touch')\n",
    "              & (event_df.xStart > 82)\n",
    "              & (event_df.yStart < 80)\n",
    "              & (event_df.yStart > 20)][['playerId', 'matchId']].groupby(['playerId', 'matchId']).size().reset_index(name='OffensiveTouchesBox')\n",
    "\n",
    "\n"
   ]
  },
  {
   "cell_type": "code",
   "execution_count": 197,
   "metadata": {},
   "outputs": [],
   "source": [
    "Player_Aggs = alter_Player_Aggs(slidingTacklesWon, \"SlidingTacklesWon\", Player_Aggs)\n",
    "Player_Aggs = alter_Player_Aggs(slidingTacklesLost, \"SlidingTacklesLost\", Player_Aggs)\n",
    "Player_Aggs = alter_Player_Aggs(GroundDuelsWon, \"GroundDefDuelsWon\", Player_Aggs)\n",
    "Player_Aggs = alter_Player_Aggs(GroundDuelsLost, \"GroundDefDuelsLost\", Player_Aggs)\n",
    "Player_Aggs = alter_Player_Aggs(GroundDefAnticipations, \"DefensiveAnticipations\", Player_Aggs)\n",
    "Player_Aggs = alter_Player_Aggs(GroundLooseBallsWon, \"GroundLooseBallsWon\", Player_Aggs)\n",
    "Player_Aggs = alter_Player_Aggs(GroundLooseBallsLost, \"GroundLooseBallsLost\", Player_Aggs)\n",
    "Player_Aggs = alter_Player_Aggs(GroundAttackDuelsWon, \"GroundAttackDuelsWon\", Player_Aggs)\n",
    "Player_Aggs = alter_Player_Aggs(GroundAttackDuelsLost, \"GroundAttackDuelsLost\", Player_Aggs)\n",
    "Player_Aggs = alter_Player_Aggs(OffTouchesBox, \"OffensiveTouchesBox\", Player_Aggs)\n",
    "\n",
    "Player_Aggs = Player_Aggs.drop_duplicates()\n"
   ]
  },
  {
   "cell_type": "markdown",
   "metadata": {},
   "source": [
    "#### Shots & Goals"
   ]
  },
  {
   "cell_type": "code",
   "execution_count": 198,
   "metadata": {},
   "outputs": [],
   "source": [
    "# Shots on Target\n",
    "def ShotsOnTarget(event_df):\n",
    "    return event_df[(event_df.subEventName==\"Shot\") & (event_df.Result==\"Accurate\")][['playerId', 'matchId']].groupby(['playerId', 'matchId']).size().reset_index(name='ShotsOnTarget')\n",
    "\n",
    "# Shots off Target\n",
    "def ShotsOffTarget(event_df):\n",
    "    return event_df[(event_df.subEventName==\"Shot\") & (event_df.Result==\"Inaccurate\")][['playerId', 'matchId']].groupby(['playerId', 'matchId']).size().reset_index(name='ShotsOffTarget')\n",
    "\n",
    "# Shot opportunity\n",
    "def shot_opportunities(event_df):\n",
    "    return event_df[(event_df.subEventName==\"Shot\") & (event_df.subEventDescription.str.contains(\"opportunity\"))][['playerId', 'matchId']].groupby(['playerId', 'matchId']).size().reset_index(name='ShotOpportunities')\n",
    "\n",
    "# Accurate free kick shots\n",
    "def accFreeKicks(event_df):\n",
    "    return event_df[(event_df.subEventName==\"Free kick shot\") & (event_df.Result==\"Accurate\")][['playerId', 'matchId']].groupby(['playerId', 'matchId']).size().reset_index(name='FreeKickShotAcc')\n",
    "\n",
    "# Inaccurate free kick shots\n",
    "def InaccFreeKicks(event_df):\n",
    "    return event_df[(event_df.subEventName==\"Free kick shot\") & (event_df.Result==\"Inaccurate\")][['playerId', 'matchId']].groupby(['playerId', 'matchId']).size().reset_index(name='FreeKickShotInacc')\n",
    "\n",
    "# Did not score penalty\n",
    "def PenaltyNotGoal(event_df):\n",
    "    return event_df[(event_df.subEventName==\"Penalty\") & (event_df.Result==\"Inaccurate\")][['playerId', 'matchId']].groupby(['playerId', 'matchId']).size().reset_index(name='PenaltyNotScored')\n",
    "\n",
    "# Goal scored with head/body\n",
    "def HeaderGoal(event_df):\n",
    "    return event_df[(event_df.subEventName==\"Shot\") & (event_df.subEventDescription.str.match(\"goal \"))\n",
    "              & (event_df.subEventDescription.str.contains(\"head\"))][['playerId', 'matchId']].groupby(['playerId', 'matchId']).size().reset_index(name='Header/Body_Goal')\n",
    "\n",
    "# Goal scored with right foot\n",
    "def RightFootGoal(event_df): \n",
    "    return event_df[(event_df.subEventName==\"Shot\") & (event_df.subEventDescription.str.match(\"goal \"))\n",
    "              & (event_df.subEventDescription.str.contains(\"right_foot\"))][['playerId', 'matchId']].groupby(['playerId', 'matchId']).size().reset_index(name='RightFootGoal')\n",
    "\n",
    "# Goal scored with left foot\n",
    "def LeftFootGoal(event_df):\n",
    "    return event_df[(event_df.subEventName==\"Shot\") & (event_df.subEventDescription.str.match(\"goal \"))\n",
    "              & (event_df.subEventDescription.str.contains(\"left_foot\"))][['playerId', 'matchId']].groupby(['playerId', 'matchId']).size().reset_index(name='LeftFootGoal')\n",
    "\n",
    "# Counter Attack Goal\n",
    "def CounterAttackGoal(event_df):\n",
    "    return event_df[(event_df.subEventName==\"Shot\") & (event_df.subEventDescription.str.match(\"goal \"))\n",
    "              & (event_df.subEventDescription.str.contains(\"counter_attack\"))][['playerId', 'matchId']].groupby(['playerId', 'matchId']).size().reset_index(name='CounterAttackGoal')\n",
    "\n",
    "# Interception Goal\n",
    "def InterceptionGoal(event_df):\n",
    "    return event_df[(event_df.subEventName==\"Shot\") & (event_df.subEventDescription.str.match(\"goal \"))\n",
    "              & (event_df.subEventDescription.str.contains(\"interception\"))][['playerId', 'matchId']].groupby(['playerId', 'matchId']).size().reset_index(name='InterceptionGoal')\n",
    "\n",
    "# Goal positions\n",
    "def GoalPositions(event_df, pos):\n",
    "    return event_df[(event_df.subEventName==\"Shot\") & (event_df.subEventDescription.str.match(\"goal \"))\n",
    "                  & (event_df.subEventDescription.str.contains(pos))][['playerId', 'matchId']].groupby(['playerId', 'matchId']).size().reset_index(name='Goal_'+pos)\n",
    "    \n",
    "def OwnGoals(event_df):\n",
    "    return event_df[event_df.subEventDescription.str.contains(\"own\")][['playerId', 'matchId']].groupby(['playerId', 'matchId']).size().reset_index(name='OwnGoals')\n",
    "    \n",
    "def shotAccuracy(event_df):\n",
    "    df1 = event_df[(event_df.subEventName.str.contains('Shot')) & (event_df.Result==\"Accurate\")].groupby(['playerId', 'matchId']).size().reset_index(name='ShotAccuracy1')\n",
    "    df2 = event_df[(event_df.subEventName.str.contains('Shot')) ].groupby(['playerId', 'matchId']).size().reset_index(name='ShotAccuracy2')\n",
    "    df1 = pd.merge(df1,df2, how=\"left\", on=['playerId', 'matchId'])\n",
    "    df1['shotAccuracy'] = df1['ShotAccuracy1'] / df1['ShotAccuracy2']\n",
    "    df1.drop(['ShotAccuracy1', 'ShotAccuracy2'], inplace=True, axis =1)\n",
    "    return df1\n",
    "\n"
   ]
  },
  {
   "cell_type": "code",
   "execution_count": 199,
   "metadata": {},
   "outputs": [],
   "source": [
    "# Get positional zones of goals for players\n",
    "\n",
    "possies = ['low_left', 'mid_left', 'high_left', 'low_center', 'mid_center', 'high_center', 'low_right', 'mid_right', 'high_right']\n",
    "for pos in possies:\n",
    "    a = GoalPositions(Events_England, pos)\n",
    "    b = GoalPositions(Events_France, pos)\n",
    "    c = GoalPositions(Events_Italy, pos)\n",
    "    d = GoalPositions(Events_Spain, pos)\n",
    "    e = GoalPositions(Events_Germany, pos)\n",
    "    df = pd.concat([a,b,c,d,e])\n",
    "    Player_Aggs = pd.merge(Player_Aggs, df, how= 'left', on =['playerId', 'matchId'])\n",
    "    Player_Aggs[\"Goal_\"+pos] = Player_Aggs[\"Goal_\"+pos].fillna(0)\n",
    "\n",
    "Player_Aggs = Player_Aggs.drop_duplicates()\n"
   ]
  },
  {
   "cell_type": "code",
   "execution_count": 200,
   "metadata": {},
   "outputs": [],
   "source": [
    "Player_Aggs = alter_Player_Aggs(shotAccuracy, \"shotAccuracy\", Player_Aggs)\n",
    "# Patch up to remove duplicate rows\n",
    "Player_Aggs = Player_Aggs.drop_duplicates()"
   ]
  },
  {
   "cell_type": "code",
   "execution_count": 201,
   "metadata": {},
   "outputs": [],
   "source": [
    "# Add shot and goal summaries for players per match\n",
    "Player_Aggs = alter_Player_Aggs(ShotsOnTarget, \"ShotsOnTarget\", Player_Aggs)\n",
    "Player_Aggs = alter_Player_Aggs(ShotsOffTarget, \"ShotsOffTarget\", Player_Aggs)\n",
    "Player_Aggs = alter_Player_Aggs(shot_opportunities, \"ShotOpportunities\", Player_Aggs)\n",
    "Player_Aggs = alter_Player_Aggs(accFreeKicks, \"FreeKickShotAcc\", Player_Aggs)\n",
    "Player_Aggs = alter_Player_Aggs(InaccFreeKicks, \"FreeKickShotInacc\", Player_Aggs)\n",
    "# Player_Aggs = alter_Player_Aggs(PenaltyGoal, \"PenaltyConverted\", Player_Aggs)\n",
    "Player_Aggs = alter_Player_Aggs(PenaltyNotGoal, \"PenaltyNotScored\", Player_Aggs)\n",
    "Player_Aggs = alter_Player_Aggs(HeaderGoal, \"Header/Body_Goal\", Player_Aggs)\n",
    "Player_Aggs = alter_Player_Aggs(RightFootGoal, \"RightFootGoal\", Player_Aggs)\n",
    "Player_Aggs = alter_Player_Aggs(LeftFootGoal, \"LeftFootGoal\", Player_Aggs)\n",
    "Player_Aggs = alter_Player_Aggs(CounterAttackGoal, \"CounterAttackGoal\", Player_Aggs)\n",
    "Player_Aggs = alter_Player_Aggs(InterceptionGoal, \"InterceptionGoal\", Player_Aggs)\n",
    "Player_Aggs = alter_Player_Aggs(OwnGoals, \"OwnGoals\", Player_Aggs)\n",
    "Player_Aggs = Player_Aggs.drop_duplicates()"
   ]
  },
  {
   "cell_type": "markdown",
   "metadata": {},
   "source": [
    "####   Air duel"
   ]
  },
  {
   "cell_type": "code",
   "execution_count": 202,
   "metadata": {},
   "outputs": [],
   "source": [
    "def AerialDuelsWon(events_df):\n",
    "    return Events_England[(Events_England.subEventName==\"Air duel\") & (Events_England.subEventDescription.str.contains(\"won\"))][['playerId', 'matchId']].groupby(['playerId', 'matchId']).size().reset_index(name='AerialDuelsWon')\n",
    "\n",
    "def AerialDuelsLost(events_df):\n",
    "    return  Events_England[(Events_England.subEventName==\"Air duel\") & (Events_England.subEventDescription.str.contains(\"lost\"))][['playerId', 'matchId']].groupby(['playerId', 'matchId']).size().reset_index(name='AerialDuelsLost')\n",
    "\n"
   ]
  },
  {
   "cell_type": "code",
   "execution_count": 203,
   "metadata": {},
   "outputs": [],
   "source": [
    "Player_Aggs = alter_Player_Aggs(AerialDuelsWon, \"AerialDuelsWon\", Player_Aggs)\n",
    "Player_Aggs = alter_Player_Aggs(AerialDuelsLost, \"AerialDuelsLost\", Player_Aggs)\n",
    "Player_Aggs = Player_Aggs.drop_duplicates()"
   ]
  },
  {
   "cell_type": "markdown",
   "metadata": {},
   "source": [
    "#### Passing"
   ]
  },
  {
   "cell_type": "code",
   "execution_count": 204,
   "metadata": {},
   "outputs": [],
   "source": [
    "# Accurate forward passes\n",
    "def acc_forward_pass(event_df):\n",
    "    return event_df[(event_df.subEventName==\"Simple pass\") \n",
    "                   & (event_df.attackMetres>0)\n",
    "                   & (event_df.Result==\"Accurate\")\n",
    "                   & (event_df.subEventDescription.str.match('generic play'))][['playerId', 'matchId']].groupby(['playerId', 'matchId']).size().reset_index(name='AccurateForwardPasses')\n",
    "\n",
    "# Inaccurate forward passes \n",
    "def inacc_forward_passes(event_df):\n",
    "    return event_df[(event_df.subEventName==\"Simple pass\") \n",
    "                   & (event_df.attackMetres>0)\n",
    "                   & (event_df.Result==\"Inaccurate\")\n",
    "                   & (event_df.subEventDescription.str.match('generic play'))][['playerId', 'matchId']].groupby(['playerId', 'matchId']).size().reset_index(name='InaccurateForwardPasses')\n",
    "\n",
    "# SuccessfulInterceptions ## when a player intercepts a play and makes a successful subsequent play\n",
    "def success_intercept(event_df):\n",
    "    return event_df[(event_df.Result == 'Accurate')\n",
    "                   & (event_df.subEventDescription.str.match('interception'))][['playerId', 'matchId']].groupby(['playerId', 'matchId']).size().reset_index(name='SuccessfulInterceptions')\n",
    "\n",
    "# CounterAttackInterceptions\n",
    "def CounterAttackIntercepts(event_df):\n",
    "    return event_df[(event_df.subEventDescription.str.match('counter_attack interception'))].groupby(['playerId', 'matchId']).size().reset_index(name='CounterAttackIntercept')\n",
    "\n",
    "# DangerousBallLostPassing\n",
    "def dangerous_ball_lost(event_df):\n",
    "    return event_df[(event_df.subEventName.str.contains(\"pass\")) \n",
    "                   & (event_df.subEventDescription.str.match('dangerous_ball_lost'))][['playerId', 'matchId']].groupby(['playerId', 'matchId']).size().reset_index(name='PassLostDangerous')\n",
    "\n",
    "# Counter attack involvements\n",
    "def CounterAttackInvolvements(event_df):\n",
    "    return event_df[(event_df.subEventDescription.str.match('counter_attack')) \n",
    "                  & (event_df.Result == 'Accurate') ][['playerId', 'matchId']].groupby(['playerId', 'matchId']).size().reset_index(name='CounterAttackInvolvements')\n",
    "\n",
    "# Total Assists\n",
    "def total_assists(event_df):\n",
    "    return event_df[(event_df.subEventDescription.str.contains('assist')) \n",
    "                  & (event_df.Result == 'Accurate') ][['playerId', 'matchId']].groupby(['playerId', 'matchId']).size().reset_index(name='TotalAssists')\n",
    "\n",
    "# Inaccurate Keypasses\n",
    "def inacc_key_passes(event_df):\n",
    "    return event_df[(event_df.subEventDescription.str.contains('key_pass')) \n",
    "                  & (event_df.Result == \"Inaccurate\") ][['playerId', 'matchId']].groupby(['playerId', 'matchId']).size().reset_index(name='InaccurateKeyPasses')\n",
    "\n",
    "# Accurate Keypasses\n",
    "def acc_keypasses(event_df):\n",
    "    return event_df[(event_df.subEventDescription.str.contains('key_pass')) \n",
    "                  & (event_df.Result == \"Accurate\") ][['playerId', 'matchId']].groupby(['playerId', 'matchId']).size().reset_index(name='AccurateKeyPasses')\n",
    "\n",
    "# Accurate Through Passes\n",
    "def acc_throughs(event_df):\n",
    "    return event_df[(event_df.subEventDescription.str.contains('through')) \n",
    "                  & (event_df.Result == \"Accurate\") ][['playerId', 'matchId']].groupby(['playerId', 'matchId']).size().reset_index(name='AccurateThroughPasses')\n",
    "\n",
    "# Inaccurate Through Passes\n",
    "def inacc_throughs(event_df):\n",
    "    return event_df[(event_df.subEventDescription.str.contains('through')) \n",
    "                  & (event_df.Result == \"Inaccurate\") ][['playerId', 'matchId']].groupby(['playerId', 'matchId']).size().reset_index(name='InaccurateThroughPasses')\n",
    "\n",
    "# Accurate Smart Passes \n",
    "def acc_smart_passes(event_df):\n",
    "    return event_df[(event_df.subEventName.str.match('Smart pass')) \n",
    "                  & (event_df.Result == \"Accurate\") ][['playerId', 'matchId']].groupby(['playerId', 'matchId']).size().reset_index(name='AccurateSmartPasses')\n",
    "\n",
    "# Inaccurate Smart Passes \n",
    "def inacc_smartPasses(event_df):\n",
    "    return event_df[(event_df.subEventName.str.match('Smart pass')) \n",
    "                  & (event_df.Result == \"Inaccurate\") ][['playerId', 'matchId']].groupby(['playerId', 'matchId']).size().reset_index(name='InaccurateSmartPasses')\n",
    "\n",
    "\n",
    "# Through passes into final third\n",
    "def throughs_into_final(event_df):\n",
    "    return event_df[(event_df.subEventDescription.str.contains('through')) \n",
    "                  & (event_df.xStart < 67 ) \n",
    "                  & (event_df.xEnd > 66 ) \n",
    "                 & (event_df.Result == \"Accurate\") ][['playerId', 'matchId']].groupby(['playerId', 'matchId']).size().reset_index(name='AccThroughsIntoFinalThird')\n",
    "\n",
    "# Accurate Passes into final third\n",
    "def accPasses_into_final(event_df):\n",
    "    return event_df[ ( event_df.subEventName.str.contains('pass'))\n",
    "        & (event_df.xStart < 67 ) \n",
    "                  & (event_df.xEnd > 66) \n",
    "                 & (event_df.Result == \"Accurate\")\n",
    "                & (event_df.Goal_Value != 1)][['playerId', 'matchId']].groupby(['playerId', 'matchId']).size().reset_index(name='AccPassesIntoFinalThird')\n",
    "\n",
    "# Accurate Passes into final third\n",
    "def InaccPasses_into_final(event_df):\n",
    "    return event_df[ ( event_df.subEventName.str.contains('pass'))\n",
    "        & (event_df.xStart < 67 ) \n",
    "                  & (event_df.xEnd > 66) \n",
    "                 & (event_df.Result == \"Inaccurate\")\n",
    "                & (event_df.Goal_Value != 1)][['playerId', 'matchId']].groupby(['playerId', 'matchId']).size().reset_index(name='InaccPassesIntoFinalThird')\n",
    "\n",
    "\n",
    "# Accurate Passes within final third\n",
    "def accPasses_within_finalThird(event_df):\n",
    "    return event_df[ (event_df.subEventName.str.contains(\"pass\") )\n",
    "                   & (event_df.xStart > 66 ) \n",
    "                  & (event_df.xEnd > 66 ) \n",
    "                 & (event_df.Result == \"Accurate\")\n",
    "                & (event_df.Goal_Value != 1)][['playerId', 'matchId']].groupby(['playerId', 'matchId']).size().reset_index(name='AccPassesWithinFinalThird')\n",
    "\n",
    "# Inaccurate Passes within final third   \n",
    "def inaccPasses_within_finalThird(event_df):\n",
    "    return event_df[ (event_df.subEventName.str.contains(\"pass\") )\n",
    "                   & (event_df.xStart > 66 ) \n",
    "                  & (event_df.xEnd > 66) \n",
    "                 & (event_df.Result == \"Inaccurate\")\n",
    "                & (event_df.Goal_Value != 1)][['playerId', 'matchId']].groupby(['playerId', 'matchId']).size().reset_index(name='InaccPassesWithinFinalThird')\n",
    "\n"
   ]
  },
  {
   "cell_type": "code",
   "execution_count": 205,
   "metadata": {},
   "outputs": [],
   "source": [
    "def shortPassAccuracy(event_df):\n",
    "    event_df['lateralMetres'] = event_df['yEnd']- event_df['yStart']\n",
    "    df1 = event_df[(event_df.subEventName.str.contains('pass')) & (abs(event_df.attackMetres)<20) & (abs(event_df.lateralMetres<20)) & (event_df.Result==\"Accurate\")].groupby(['playerId', 'matchId']).size().reset_index(name='PassingAccuracy1')\n",
    "    df2 = event_df[(event_df.subEventName.str.contains('pass'))& (abs(event_df.attackMetres)<20) & (abs(event_df.lateralMetres<20))  ].groupby(['playerId', 'matchId']).size().reset_index(name='PassingAccuracy2')\n",
    "    df1 = pd.merge(df1,df2, how=\"left\", on=['playerId', 'matchId'])\n",
    "    df1['shortPassAccuracy'] = df1['PassingAccuracy1'] / df1['PassingAccuracy2']\n",
    "    df1.drop(['PassingAccuracy1', 'PassingAccuracy2'], inplace=True, axis =1)\n",
    "    return df1"
   ]
  },
  {
   "cell_type": "code",
   "execution_count": 206,
   "metadata": {},
   "outputs": [],
   "source": [
    "def shortLongPassRatio(event_df):\n",
    "    event_df['lateralMetres'] = event_df['yEnd']- event_df['yStart']\n",
    "    df1 = event_df[(event_df.subEventName.str.contains('pass')) & ((event_df.attackMetres)<20) & (abs(event_df.lateralMetres<20)) & (event_df.Result==\"Accurate\")].groupby(['playerId', 'matchId']).size().reset_index(name='PassingAccuracy1')\n",
    "    df2 = event_df[(event_df.subEventName.str.contains('pass')) & (((event_df.attackMetres)>20) | (abs(event_df.lateralMetres>20))) & (event_df.Result==\"Accurate\")].groupby(['playerId', 'matchId']).size().reset_index(name='PassingAccuracy2')\n",
    "    df1 = pd.merge(df1,df2, how=\"left\", on=['playerId', 'matchId'])\n",
    "    df1['shortLongPassRatio'] = df1['PassingAccuracy1'] / df1['PassingAccuracy2']\n",
    "    df1.drop(['PassingAccuracy1', 'PassingAccuracy2'], inplace=True, axis =1)\n",
    "    return df1\n"
   ]
  },
  {
   "cell_type": "code",
   "execution_count": 207,
   "metadata": {},
   "outputs": [],
   "source": [
    "def longPassAccuracy(event_df):\n",
    "    event_df['lateralMetres'] = event_df['yEnd']- event_df['yStart']\n",
    "    df1 = event_df[(event_df.subEventName.str.contains('pass')) & ((abs(event_df.attackMetres)>20) | abs(event_df.lateralMetres>20)) & (event_df.Result==\"Accurate\")].groupby(['playerId', 'matchId']).size().reset_index(name='PassingAccuracy1')\n",
    "    df2 = event_df[(event_df.subEventName.str.contains('pass')) & ((abs(event_df.attackMetres)>20) | abs(event_df.lateralMetres>20)) ].groupby(['playerId', 'matchId']).size().reset_index(name='PassingAccuracy2')\n",
    "    df1 = pd.merge(df1,df2, how=\"left\", on=['playerId', 'matchId'])\n",
    "    df1['longPassAccuracy'] = df1['PassingAccuracy1'] / df1['PassingAccuracy2']\n",
    "    df1.drop(['PassingAccuracy1', 'PassingAccuracy2'], inplace=True, axis =1)\n",
    "    return df1"
   ]
  },
  {
   "cell_type": "code",
   "execution_count": 208,
   "metadata": {},
   "outputs": [],
   "source": [
    "Player_Aggs = alter_Player_Aggs(shortPassAccuracy, \"shortPassAccuracy\", Player_Aggs)\n",
    "Player_Aggs = alter_Player_Aggs(longPassAccuracy, \"longPassAccuracy\", Player_Aggs)\n",
    "Player_Aggs = alter_Player_Aggs(shortLongPassRatio, \"shortLongPassRatio\", Player_Aggs)"
   ]
  },
  {
   "cell_type": "markdown",
   "metadata": {},
   "source": [
    "##### Passing Summary Stats Aggregated per player per match"
   ]
  },
  {
   "cell_type": "code",
   "execution_count": 209,
   "metadata": {},
   "outputs": [],
   "source": [
    "Player_Aggs = alter_Player_Aggs(inaccPasses_within_finalThird, \"InaccPassesWithinFinalThird\", Player_Aggs)\n",
    "Player_Aggs = alter_Player_Aggs(accPasses_within_finalThird, \"AccPassesWithinFinalThird\", Player_Aggs)\n",
    "Player_Aggs = alter_Player_Aggs(accPasses_into_final, \"AccPassesIntoFinalThird\", Player_Aggs)\n",
    "Player_Aggs = alter_Player_Aggs(InaccPasses_into_final, \"InaccPassesIntoFinalThird\", Player_Aggs)\n",
    "Player_Aggs = alter_Player_Aggs(throughs_into_final, \"AccThroughsIntoFinalThird\", Player_Aggs)\n",
    "Player_Aggs = alter_Player_Aggs(inacc_smartPasses, \"InaccurateSmartPasses\", Player_Aggs)\n",
    "Player_Aggs = alter_Player_Aggs(acc_smart_passes, \"AccurateSmartPasses\", Player_Aggs)\n",
    "Player_Aggs = alter_Player_Aggs(inacc_throughs, \"InaccurateThroughPasses\", Player_Aggs)\n",
    "Player_Aggs = alter_Player_Aggs(acc_throughs, \"AccurateThroughPasses\", Player_Aggs)\n",
    "Player_Aggs = alter_Player_Aggs(acc_keypasses, \"AccurateKeyPasses\", Player_Aggs) \n",
    "Player_Aggs = alter_Player_Aggs(inacc_key_passes, \"InaccurateKeyPasses\", Player_Aggs)\n",
    "Player_Aggs = alter_Player_Aggs(total_assists, \"TotalAssists\", Player_Aggs)\n",
    "Player_Aggs = alter_Player_Aggs(CounterAttackInvolvements, \"CounterAttackInvolvements\", Player_Aggs) \n",
    "Player_Aggs = alter_Player_Aggs(dangerous_ball_lost, \"PassLostDangerous\", Player_Aggs) \n",
    "Player_Aggs = alter_Player_Aggs(CounterAttackIntercepts, \"CounterAttackIntercept\", Player_Aggs) \n",
    "Player_Aggs = alter_Player_Aggs(success_intercept, \"SuccessfulInterceptions\", Player_Aggs) \n",
    "Player_Aggs = alter_Player_Aggs(inacc_forward_passes, \"InaccurateForwardPasses\", Player_Aggs) \n",
    "Player_Aggs = alter_Player_Aggs(acc_forward_pass, \"AccurateForwardPasses\", Player_Aggs) \n",
    "Player_Aggs = Player_Aggs.drop_duplicates()"
   ]
  },
  {
   "cell_type": "markdown",
   "metadata": {},
   "source": [
    "#### Corners"
   ]
  },
  {
   "cell_type": "code",
   "execution_count": 210,
   "metadata": {},
   "outputs": [],
   "source": [
    "def corner_assists(event_df):\n",
    "    return event_df[(event_df.subEventName==\"Corner\") & (event_df.subEventDescription.str.match('assist'))][['playerId', 'matchId']].groupby(['playerId', 'matchId']).size().reset_index(name='CornerAssists')\n",
    "\n",
    "def corner_opportunity(event_df):\n",
    "    return event_df[(event_df.subEventName==\"Corner\") & (event_df.subEventDescription.str.match('key_pass'))][['playerId', 'matchId']].groupby(['playerId', 'matchId']).size().reset_index(name='CornerOpportunitiesCreated')\n",
    "\n",
    "def corner_success(event_df):\n",
    "    return event_df[(event_df.subEventName==\"Corner\") & (event_df.Result==\"Accurate\")][['playerId', 'matchId']].groupby(['playerId', 'matchId']).size().reset_index(name='SuccessfulCorners')\n",
    "\n",
    "def corner_fail(event_df):\n",
    "    return event_df[(event_df.subEventName==\"Corner\") & (event_df.Result==\"Inaccurate\")][['playerId', 'matchId']].groupby(['playerId', 'matchId']).size().reset_index(name='FailedCorners')\n"
   ]
  },
  {
   "cell_type": "code",
   "execution_count": 211,
   "metadata": {},
   "outputs": [],
   "source": [
    "Player_Aggs = alter_Player_Aggs(corner_assists, \"CornerAssists\", Player_Aggs)\n",
    "Player_Aggs = alter_Player_Aggs(corner_opportunity, \"CornerOpportunitiesCreated\", Player_Aggs)\n",
    "Player_Aggs = alter_Player_Aggs(corner_success, \"SuccessfulCorners\", Player_Aggs)\n",
    "Player_Aggs = alter_Player_Aggs(corner_fail, \"FailedCorners\", Player_Aggs)"
   ]
  },
  {
   "cell_type": "code",
   "execution_count": 212,
   "metadata": {},
   "outputs": [
    {
     "data": {
      "text/html": [
       "<div>\n",
       "<style scoped>\n",
       "    .dataframe tbody tr th:only-of-type {\n",
       "        vertical-align: middle;\n",
       "    }\n",
       "\n",
       "    .dataframe tbody tr th {\n",
       "        vertical-align: top;\n",
       "    }\n",
       "\n",
       "    .dataframe thead th {\n",
       "        text-align: right;\n",
       "    }\n",
       "</style>\n",
       "<table border=\"1\" class=\"dataframe\">\n",
       "  <thead>\n",
       "    <tr style=\"text-align: right;\">\n",
       "      <th></th>\n",
       "      <th>shortName</th>\n",
       "      <th>Position</th>\n",
       "      <th>playerId</th>\n",
       "      <th>weight</th>\n",
       "      <th>height</th>\n",
       "      <th>foot</th>\n",
       "      <th>matchId</th>\n",
       "      <th>xStart</th>\n",
       "      <th>yStart</th>\n",
       "      <th>teamId</th>\n",
       "      <th>...</th>\n",
       "      <th>CounterAttackInvolvements</th>\n",
       "      <th>PassLostDangerous</th>\n",
       "      <th>CounterAttackIntercept</th>\n",
       "      <th>SuccessfulInterceptions</th>\n",
       "      <th>InaccurateForwardPasses</th>\n",
       "      <th>AccurateForwardPasses</th>\n",
       "      <th>CornerAssists</th>\n",
       "      <th>CornerOpportunitiesCreated</th>\n",
       "      <th>SuccessfulCorners</th>\n",
       "      <th>FailedCorners</th>\n",
       "    </tr>\n",
       "  </thead>\n",
       "  <tbody>\n",
       "    <tr>\n",
       "      <th>0</th>\n",
       "      <td>M. \\u00d6zil</td>\n",
       "      <td>MID</td>\n",
       "      <td>3319</td>\n",
       "      <td>76.0</td>\n",
       "      <td>180.0</td>\n",
       "      <td>left</td>\n",
       "      <td>2499719</td>\n",
       "      <td>63.549020</td>\n",
       "      <td>43.901961</td>\n",
       "      <td>1609</td>\n",
       "      <td>...</td>\n",
       "      <td>0.0</td>\n",
       "      <td>0.000000</td>\n",
       "      <td>0.0</td>\n",
       "      <td>0.937500</td>\n",
       "      <td>9.0</td>\n",
       "      <td>24.0</td>\n",
       "      <td>0.0</td>\n",
       "      <td>0.0</td>\n",
       "      <td>0.0</td>\n",
       "      <td>0.9375</td>\n",
       "    </tr>\n",
       "    <tr>\n",
       "      <th>1</th>\n",
       "      <td>A. Ramsey</td>\n",
       "      <td>MID</td>\n",
       "      <td>7870</td>\n",
       "      <td>76.0</td>\n",
       "      <td>183.0</td>\n",
       "      <td>right</td>\n",
       "      <td>2499719</td>\n",
       "      <td>61.857143</td>\n",
       "      <td>48.333333</td>\n",
       "      <td>1609</td>\n",
       "      <td>...</td>\n",
       "      <td>0.0</td>\n",
       "      <td>0.000000</td>\n",
       "      <td>0.0</td>\n",
       "      <td>0.000000</td>\n",
       "      <td>2.0</td>\n",
       "      <td>3.0</td>\n",
       "      <td>0.0</td>\n",
       "      <td>0.0</td>\n",
       "      <td>0.0</td>\n",
       "      <td>0.0000</td>\n",
       "    </tr>\n",
       "    <tr>\n",
       "      <th>2</th>\n",
       "      <td>T. Walcott</td>\n",
       "      <td>FWD</td>\n",
       "      <td>7879</td>\n",
       "      <td>68.0</td>\n",
       "      <td>176.0</td>\n",
       "      <td>right</td>\n",
       "      <td>2499719</td>\n",
       "      <td>50.250000</td>\n",
       "      <td>86.500000</td>\n",
       "      <td>1609</td>\n",
       "      <td>...</td>\n",
       "      <td>0.0</td>\n",
       "      <td>0.000000</td>\n",
       "      <td>0.0</td>\n",
       "      <td>0.000000</td>\n",
       "      <td>0.0</td>\n",
       "      <td>0.0</td>\n",
       "      <td>0.0</td>\n",
       "      <td>0.0</td>\n",
       "      <td>0.0</td>\n",
       "      <td>0.0000</td>\n",
       "    </tr>\n",
       "    <tr>\n",
       "      <th>3</th>\n",
       "      <td>P. \\u010cech</td>\n",
       "      <td>GKP</td>\n",
       "      <td>7882</td>\n",
       "      <td>90.0</td>\n",
       "      <td>196.0</td>\n",
       "      <td>left</td>\n",
       "      <td>2499719</td>\n",
       "      <td>10.380952</td>\n",
       "      <td>40.571429</td>\n",
       "      <td>1609</td>\n",
       "      <td>...</td>\n",
       "      <td>0.0</td>\n",
       "      <td>0.000000</td>\n",
       "      <td>0.0</td>\n",
       "      <td>0.000000</td>\n",
       "      <td>0.0</td>\n",
       "      <td>7.0</td>\n",
       "      <td>0.0</td>\n",
       "      <td>0.0</td>\n",
       "      <td>0.0</td>\n",
       "      <td>0.0000</td>\n",
       "    </tr>\n",
       "    <tr>\n",
       "      <th>4</th>\n",
       "      <td>R. Holding</td>\n",
       "      <td>DEF</td>\n",
       "      <td>370224</td>\n",
       "      <td>75.0</td>\n",
       "      <td>189.0</td>\n",
       "      <td>right</td>\n",
       "      <td>2499719</td>\n",
       "      <td>35.337500</td>\n",
       "      <td>76.550000</td>\n",
       "      <td>1609</td>\n",
       "      <td>...</td>\n",
       "      <td>0.0</td>\n",
       "      <td>2.647059</td>\n",
       "      <td>0.0</td>\n",
       "      <td>1.323529</td>\n",
       "      <td>4.0</td>\n",
       "      <td>25.0</td>\n",
       "      <td>0.0</td>\n",
       "      <td>0.0</td>\n",
       "      <td>0.0</td>\n",
       "      <td>0.0000</td>\n",
       "    </tr>\n",
       "  </tbody>\n",
       "</table>\n",
       "<p>5 rows × 118 columns</p>\n",
       "</div>"
      ],
      "text/plain": [
       "      shortName Position  playerId  weight  height   foot  matchId     xStart  \\\n",
       "0  M. \\u00d6zil      MID      3319    76.0   180.0   left  2499719  63.549020   \n",
       "1     A. Ramsey      MID      7870    76.0   183.0  right  2499719  61.857143   \n",
       "2    T. Walcott      FWD      7879    68.0   176.0  right  2499719  50.250000   \n",
       "3  P. \\u010cech      GKP      7882    90.0   196.0   left  2499719  10.380952   \n",
       "4    R. Holding      DEF    370224    75.0   189.0  right  2499719  35.337500   \n",
       "\n",
       "      yStart  teamId  ... CounterAttackInvolvements  PassLostDangerous  \\\n",
       "0  43.901961    1609  ...                       0.0           0.000000   \n",
       "1  48.333333    1609  ...                       0.0           0.000000   \n",
       "2  86.500000    1609  ...                       0.0           0.000000   \n",
       "3  40.571429    1609  ...                       0.0           0.000000   \n",
       "4  76.550000    1609  ...                       0.0           2.647059   \n",
       "\n",
       "   CounterAttackIntercept SuccessfulInterceptions  InaccurateForwardPasses  \\\n",
       "0                     0.0                0.937500                      9.0   \n",
       "1                     0.0                0.000000                      2.0   \n",
       "2                     0.0                0.000000                      0.0   \n",
       "3                     0.0                0.000000                      0.0   \n",
       "4                     0.0                1.323529                      4.0   \n",
       "\n",
       "   AccurateForwardPasses  CornerAssists  CornerOpportunitiesCreated  \\\n",
       "0                   24.0            0.0                         0.0   \n",
       "1                    3.0            0.0                         0.0   \n",
       "2                    0.0            0.0                         0.0   \n",
       "3                    7.0            0.0                         0.0   \n",
       "4                   25.0            0.0                         0.0   \n",
       "\n",
       "   SuccessfulCorners  FailedCorners  \n",
       "0                0.0         0.9375  \n",
       "1                0.0         0.0000  \n",
       "2                0.0         0.0000  \n",
       "3                0.0         0.0000  \n",
       "4                0.0         0.0000  \n",
       "\n",
       "[5 rows x 118 columns]"
      ]
     },
     "execution_count": 212,
     "metadata": {},
     "output_type": "execute_result"
    }
   ],
   "source": [
    "Player_Aggs.head()"
   ]
  },
  {
   "cell_type": "code",
   "execution_count": 213,
   "metadata": {},
   "outputs": [],
   "source": [
    "Player_Aggs.iloc[:,6:] = Player_Aggs.iloc[:,6:].fillna(0)"
   ]
  },
  {
   "cell_type": "markdown",
   "metadata": {},
   "source": [
    "#### Receiving Player"
   ]
  },
  {
   "cell_type": "code",
   "execution_count": 214,
   "metadata": {},
   "outputs": [
    {
     "data": {
      "text/html": [
       "<div>\n",
       "<style scoped>\n",
       "    .dataframe tbody tr th:only-of-type {\n",
       "        vertical-align: middle;\n",
       "    }\n",
       "\n",
       "    .dataframe tbody tr th {\n",
       "        vertical-align: top;\n",
       "    }\n",
       "\n",
       "    .dataframe thead th {\n",
       "        text-align: right;\n",
       "    }\n",
       "</style>\n",
       "<table border=\"1\" class=\"dataframe\">\n",
       "  <thead>\n",
       "    <tr style=\"text-align: right;\">\n",
       "      <th></th>\n",
       "      <th>eventId</th>\n",
       "      <th>subEventName</th>\n",
       "      <th>playerId</th>\n",
       "      <th>matchId</th>\n",
       "      <th>teamId</th>\n",
       "      <th>matchPeriod</th>\n",
       "      <th>eventSec</th>\n",
       "      <th>subEventId</th>\n",
       "      <th>id</th>\n",
       "      <th>Result</th>\n",
       "      <th>...</th>\n",
       "      <th>xStart</th>\n",
       "      <th>xEnd</th>\n",
       "      <th>yStart</th>\n",
       "      <th>yEnd</th>\n",
       "      <th>attackMetres</th>\n",
       "      <th>ZoneStart</th>\n",
       "      <th>ZoneEnd</th>\n",
       "      <th>angle_to_goal</th>\n",
       "      <th>Goal_Value</th>\n",
       "      <th>lateralMetres</th>\n",
       "    </tr>\n",
       "  </thead>\n",
       "  <tbody>\n",
       "    <tr>\n",
       "      <th>0</th>\n",
       "      <td>8</td>\n",
       "      <td>Simple pass</td>\n",
       "      <td>25413</td>\n",
       "      <td>2499719</td>\n",
       "      <td>1609</td>\n",
       "      <td>1H</td>\n",
       "      <td>2.758649</td>\n",
       "      <td>85</td>\n",
       "      <td>177959171</td>\n",
       "      <td>Accurate</td>\n",
       "      <td>...</td>\n",
       "      <td>49</td>\n",
       "      <td>31</td>\n",
       "      <td>49</td>\n",
       "      <td>78</td>\n",
       "      <td>-18</td>\n",
       "      <td>11</td>\n",
       "      <td>9</td>\n",
       "      <td>0.1954</td>\n",
       "      <td>0</td>\n",
       "      <td>29</td>\n",
       "    </tr>\n",
       "    <tr>\n",
       "      <th>1</th>\n",
       "      <td>8</td>\n",
       "      <td>High pass</td>\n",
       "      <td>370224</td>\n",
       "      <td>2499719</td>\n",
       "      <td>1609</td>\n",
       "      <td>1H</td>\n",
       "      <td>4.946850</td>\n",
       "      <td>83</td>\n",
       "      <td>177959172</td>\n",
       "      <td>Accurate</td>\n",
       "      <td>...</td>\n",
       "      <td>31</td>\n",
       "      <td>51</td>\n",
       "      <td>78</td>\n",
       "      <td>75</td>\n",
       "      <td>20</td>\n",
       "      <td>9</td>\n",
       "      <td>16</td>\n",
       "      <td>0.1244</td>\n",
       "      <td>0</td>\n",
       "      <td>-3</td>\n",
       "    </tr>\n",
       "    <tr>\n",
       "      <th>2</th>\n",
       "      <td>8</td>\n",
       "      <td>Head pass</td>\n",
       "      <td>3319</td>\n",
       "      <td>2499719</td>\n",
       "      <td>1609</td>\n",
       "      <td>1H</td>\n",
       "      <td>6.542188</td>\n",
       "      <td>82</td>\n",
       "      <td>177959173</td>\n",
       "      <td>Accurate</td>\n",
       "      <td>...</td>\n",
       "      <td>51</td>\n",
       "      <td>35</td>\n",
       "      <td>75</td>\n",
       "      <td>71</td>\n",
       "      <td>-16</td>\n",
       "      <td>16</td>\n",
       "      <td>12</td>\n",
       "      <td>0.1619</td>\n",
       "      <td>0</td>\n",
       "      <td>-4</td>\n",
       "    </tr>\n",
       "    <tr>\n",
       "      <th>3</th>\n",
       "      <td>8</td>\n",
       "      <td>Head pass</td>\n",
       "      <td>120339</td>\n",
       "      <td>2499719</td>\n",
       "      <td>1609</td>\n",
       "      <td>1H</td>\n",
       "      <td>8.143395</td>\n",
       "      <td>82</td>\n",
       "      <td>177959174</td>\n",
       "      <td>Accurate</td>\n",
       "      <td>...</td>\n",
       "      <td>35</td>\n",
       "      <td>41</td>\n",
       "      <td>71</td>\n",
       "      <td>95</td>\n",
       "      <td>6</td>\n",
       "      <td>12</td>\n",
       "      <td>13</td>\n",
       "      <td>0.1392</td>\n",
       "      <td>0</td>\n",
       "      <td>24</td>\n",
       "    </tr>\n",
       "    <tr>\n",
       "      <th>4</th>\n",
       "      <td>8</td>\n",
       "      <td>Simple pass</td>\n",
       "      <td>167145</td>\n",
       "      <td>2499719</td>\n",
       "      <td>1609</td>\n",
       "      <td>1H</td>\n",
       "      <td>10.302366</td>\n",
       "      <td>85</td>\n",
       "      <td>177959175</td>\n",
       "      <td>Accurate</td>\n",
       "      <td>...</td>\n",
       "      <td>41</td>\n",
       "      <td>72</td>\n",
       "      <td>95</td>\n",
       "      <td>88</td>\n",
       "      <td>31</td>\n",
       "      <td>13</td>\n",
       "      <td>21</td>\n",
       "      <td>0.1072</td>\n",
       "      <td>0</td>\n",
       "      <td>-7</td>\n",
       "    </tr>\n",
       "    <tr>\n",
       "      <th>5</th>\n",
       "      <td>8</td>\n",
       "      <td>Simple pass</td>\n",
       "      <td>3319</td>\n",
       "      <td>2499719</td>\n",
       "      <td>1609</td>\n",
       "      <td>1H</td>\n",
       "      <td>12.548934</td>\n",
       "      <td>85</td>\n",
       "      <td>177959177</td>\n",
       "      <td>Inaccurate</td>\n",
       "      <td>...</td>\n",
       "      <td>72</td>\n",
       "      <td>77</td>\n",
       "      <td>88</td>\n",
       "      <td>75</td>\n",
       "      <td>5</td>\n",
       "      <td>21</td>\n",
       "      <td>20</td>\n",
       "      <td>0.1264</td>\n",
       "      <td>0</td>\n",
       "      <td>-13</td>\n",
       "    </tr>\n",
       "    <tr>\n",
       "      <th>6</th>\n",
       "      <td>8</td>\n",
       "      <td>Head pass</td>\n",
       "      <td>8653</td>\n",
       "      <td>2499719</td>\n",
       "      <td>1631</td>\n",
       "      <td>1H</td>\n",
       "      <td>13.961228</td>\n",
       "      <td>82</td>\n",
       "      <td>177959186</td>\n",
       "      <td>Accurate</td>\n",
       "      <td>...</td>\n",
       "      <td>23</td>\n",
       "      <td>39</td>\n",
       "      <td>25</td>\n",
       "      <td>15</td>\n",
       "      <td>16</td>\n",
       "      <td>6</td>\n",
       "      <td>10</td>\n",
       "      <td>0.1174</td>\n",
       "      <td>0</td>\n",
       "      <td>-10</td>\n",
       "    </tr>\n",
       "    <tr>\n",
       "      <th>7</th>\n",
       "      <td>1</td>\n",
       "      <td>Air duel</td>\n",
       "      <td>8013</td>\n",
       "      <td>2499719</td>\n",
       "      <td>1631</td>\n",
       "      <td>1H</td>\n",
       "      <td>14.765321</td>\n",
       "      <td>10</td>\n",
       "      <td>177959189</td>\n",
       "      <td>Inaccurate</td>\n",
       "      <td>...</td>\n",
       "      <td>39</td>\n",
       "      <td>33</td>\n",
       "      <td>15</td>\n",
       "      <td>20</td>\n",
       "      <td>-6</td>\n",
       "      <td>10</td>\n",
       "      <td>6</td>\n",
       "      <td>0.1233</td>\n",
       "      <td>0</td>\n",
       "      <td>5</td>\n",
       "    </tr>\n",
       "    <tr>\n",
       "      <th>9</th>\n",
       "      <td>8</td>\n",
       "      <td>Head pass</td>\n",
       "      <td>167145</td>\n",
       "      <td>2499719</td>\n",
       "      <td>1609</td>\n",
       "      <td>1H</td>\n",
       "      <td>15.320341</td>\n",
       "      <td>82</td>\n",
       "      <td>177959178</td>\n",
       "      <td>Accurate</td>\n",
       "      <td>...</td>\n",
       "      <td>67</td>\n",
       "      <td>59</td>\n",
       "      <td>80</td>\n",
       "      <td>61</td>\n",
       "      <td>-8</td>\n",
       "      <td>17</td>\n",
       "      <td>16</td>\n",
       "      <td>0.1665</td>\n",
       "      <td>0</td>\n",
       "      <td>-19</td>\n",
       "    </tr>\n",
       "    <tr>\n",
       "      <th>10</th>\n",
       "      <td>8</td>\n",
       "      <td>Head pass</td>\n",
       "      <td>49876</td>\n",
       "      <td>2499719</td>\n",
       "      <td>1609</td>\n",
       "      <td>1H</td>\n",
       "      <td>18.051875</td>\n",
       "      <td>82</td>\n",
       "      <td>177959179</td>\n",
       "      <td>Accurate</td>\n",
       "      <td>...</td>\n",
       "      <td>59</td>\n",
       "      <td>45</td>\n",
       "      <td>61</td>\n",
       "      <td>45</td>\n",
       "      <td>-14</td>\n",
       "      <td>16</td>\n",
       "      <td>11</td>\n",
       "      <td>0.2268</td>\n",
       "      <td>0</td>\n",
       "      <td>-16</td>\n",
       "    </tr>\n",
       "  </tbody>\n",
       "</table>\n",
       "<p>10 rows × 21 columns</p>\n",
       "</div>"
      ],
      "text/plain": [
       "    eventId subEventName  playerId  matchId  teamId matchPeriod   eventSec  \\\n",
       "0         8  Simple pass     25413  2499719    1609          1H   2.758649   \n",
       "1         8    High pass    370224  2499719    1609          1H   4.946850   \n",
       "2         8    Head pass      3319  2499719    1609          1H   6.542188   \n",
       "3         8    Head pass    120339  2499719    1609          1H   8.143395   \n",
       "4         8  Simple pass    167145  2499719    1609          1H  10.302366   \n",
       "5         8  Simple pass      3319  2499719    1609          1H  12.548934   \n",
       "6         8    Head pass      8653  2499719    1631          1H  13.961228   \n",
       "7         1     Air duel      8013  2499719    1631          1H  14.765321   \n",
       "9         8    Head pass    167145  2499719    1609          1H  15.320341   \n",
       "10        8    Head pass     49876  2499719    1609          1H  18.051875   \n",
       "\n",
       "   subEventId         id      Result  ... xStart  xEnd  yStart  yEnd  \\\n",
       "0          85  177959171    Accurate  ...     49    31      49    78   \n",
       "1          83  177959172    Accurate  ...     31    51      78    75   \n",
       "2          82  177959173    Accurate  ...     51    35      75    71   \n",
       "3          82  177959174    Accurate  ...     35    41      71    95   \n",
       "4          85  177959175    Accurate  ...     41    72      95    88   \n",
       "5          85  177959177  Inaccurate  ...     72    77      88    75   \n",
       "6          82  177959186    Accurate  ...     23    39      25    15   \n",
       "7          10  177959189  Inaccurate  ...     39    33      15    20   \n",
       "9          82  177959178    Accurate  ...     67    59      80    61   \n",
       "10         82  177959179    Accurate  ...     59    45      61    45   \n",
       "\n",
       "    attackMetres  ZoneStart  ZoneEnd  angle_to_goal  Goal_Value  lateralMetres  \n",
       "0            -18         11        9         0.1954           0             29  \n",
       "1             20          9       16         0.1244           0             -3  \n",
       "2            -16         16       12         0.1619           0             -4  \n",
       "3              6         12       13         0.1392           0             24  \n",
       "4             31         13       21         0.1072           0             -7  \n",
       "5              5         21       20         0.1264           0            -13  \n",
       "6             16          6       10         0.1174           0            -10  \n",
       "7             -6         10        6         0.1233           0              5  \n",
       "9             -8         17       16         0.1665           0            -19  \n",
       "10           -14         16       11         0.2268           0            -16  \n",
       "\n",
       "[10 rows x 21 columns]"
      ]
     },
     "execution_count": 214,
     "metadata": {},
     "output_type": "execute_result"
    }
   ],
   "source": [
    "Events_England[0:10]"
   ]
  },
  {
   "cell_type": "code",
   "execution_count": 215,
   "metadata": {},
   "outputs": [],
   "source": [
    "Events_England[\"ReceivingPlayer\"] = Events_England['playerId'].shift(-1)"
   ]
  },
  {
   "cell_type": "markdown",
   "metadata": {},
   "source": [
    "### Machine Learning"
   ]
  },
  {
   "cell_type": "code",
   "execution_count": 216,
   "metadata": {},
   "outputs": [],
   "source": [
    "# fig, ax = plt.subplots()\n",
    "# fig.set_size_inches(14,4)\n",
    "# plt.subplot(121)\n",
    "# sns.kdeplot(Events_England[\"xStart\"], Events_England['yStart'], shade = True)\n",
    "# plt.show()"
   ]
  },
  {
   "cell_type": "code",
   "execution_count": 277,
   "metadata": {},
   "outputs": [
    {
     "data": {
      "text/plain": [
       "(0.0, 100.0)"
      ]
     },
     "execution_count": 277,
     "metadata": {},
     "output_type": "execute_result"
    },
    {
     "data": {
      "image/png": "[encoded data removed]",
      "text/plain": [
       "<Figure size 720x504 with 1 Axes>"
      ]
     },
     "metadata": {
      "needs_background": "light"
     },
     "output_type": "display_data"
    }
   ],
   "source": [
    "fig = plt.figure()\n",
    "fig.set_size_inches(10, 7)\n",
    "ax=fig.add_subplot(1,1,1)\n",
    "\n",
    "# pitch borderline and centrer line\n",
    "plt.plot([0,0],[0,100], color=\"black\")\n",
    "plt.plot([0,100],[100,100], color=\"black\")\n",
    "plt.plot([100,100],[100,0], color=\"black\")\n",
    "plt.plot([100,0],[0,0], color=\"black\")\n",
    "plt.plot([50,50],[0,100], color=\"black\") # center line\n",
    "\n",
    "# left penalty area\n",
    "plt.plot([16.5,16.5],[75,25],color=\"black\")\n",
    "plt.plot([0,16.5],[75,75],color=\"black\")\n",
    "plt.plot([16.5,0],[25,25],color=\"black\")\n",
    "\n",
    "#Right Penalty Area\n",
    "plt.plot([83.5,100],[75,75],color=\"black\")\n",
    "plt.plot([83.5,83.5],[75,25],color=\"black\")\n",
    "plt.plot([83.5,100],[25,25],color=\"black\")\n",
    "\n",
    "#Left 6-yard Box\n",
    "plt.plot([0,5.5],[64,64],color=\"black\")\n",
    "plt.plot([5.5,5.5],[64,36],color=\"black\")\n",
    "plt.plot([5.5,0.5],[36,36],color=\"black\")\n",
    "\n",
    "#Right 6-yard Box\n",
    "plt.plot([100,94.5],[64,64],color=\"black\")\n",
    "plt.plot([94.5,94.5],[64,36],color=\"black\")\n",
    "plt.plot([94.5,100],[36,36],color=\"black\")\n",
    "\n",
    "#Prepare Circles\n",
    "centreCircle = plt.Circle((50,50),9.15,color=\"black\",fill=False)\n",
    "centreSpot = plt.Circle((50,50),0.6,color=\"black\")\n",
    "leftPenSpot = plt.Circle((11,50),0.6,color=\"black\")\n",
    "rightPenSpot = plt.Circle((89,50),0.6,color=\"black\")\n",
    "\n",
    "# zones\n",
    "plt.plot([100,0],[25,25],color=\"black\", linestyle='--') \n",
    "plt.plot([100,0],[75,75],color=\"black\", linestyle='--') \n",
    "plt.plot([100,0],[25,25],color=\"black\", linestyle='--') \n",
    "plt.plot([33,33],[75,25],color=\"black\", linestyle='--')\n",
    "plt.plot([67,67],[75,25],color=\"black\", linestyle='--')\n",
    "plt.plot([33,33],[100,75],color=\"black\", linestyle='--')\n",
    "plt.plot([16.5,16.5],[100,75],color=\"black\", linestyle='--')\n",
    "plt.plot([67,67],[100,75],color=\"black\", linestyle='--')\n",
    "plt.plot([83.5,83.5],[100,75],color=\"black\", linestyle='--')\n",
    "plt.plot([33,33],[0,25],color=\"black\", linestyle='--')\n",
    "plt.plot([16.5,16.5],[0,25],color=\"black\", linestyle='--')\n",
    "plt.plot([67,67],[0,25],color=\"black\", linestyle='--')\n",
    "plt.plot([83.5,83.5],[0,25],color=\"black\", linestyle='--')\n",
    "plt.plot([16.5,83.5],[50,50],color=\"black\", linestyle='--')\n",
    "plt.plot([33,33],[0,25],color=\"black\", linestyle='--')\n",
    "plt.plot([0,16.5],[64,64],color=\"black\", linestyle='--')\n",
    "plt.plot([0,16.5],[36,36],color=\"black\", linestyle='--')\n",
    "plt.plot([83.5,100],[64,64],color=\"black\", linestyle='--')\n",
    "plt.plot([83.5,100],[36,36],color=\"black\", linestyle='--')\n",
    "\n",
    "#Draw Circles\n",
    "ax.add_patch(centreCircle)\n",
    "ax.add_patch(centreSpot)\n",
    "ax.add_patch(leftPenSpot)\n",
    "ax.add_patch(rightPenSpot)\n",
    "\n",
    "#Prepare Arcs\n",
    "leftArc = Arc((11,50),height=18.3,width=18.3,angle=0,theta1=310,theta2=50,color=\"black\")\n",
    "rightArc = Arc((89,50),height=18.3,width=18.3,angle=0,theta1=130,theta2=230,color=\"black\")\n",
    "\n",
    "#Draw Arcs\n",
    "ax.add_patch(leftArc)\n",
    "ax.add_patch(rightArc)\n",
    "\n",
    "# #Tidy Axes\n",
    "# plt.axis('off')\n",
    "\n",
    "# K-Means Live formation\n",
    "plt.scatter(X[:, 0], X[:, 1], c=y_kmeans, s=20, cmap='viridis')\n",
    "plt.scatter(centers[:, 0], centers[:, 1], c='black', s=200, alpha=0.5)\n",
    "\n",
    "# Heat Map of Player and Action Type\n",
    "# team = Events_England[(Events_England.teamId == 1612)  & (Events_England.subEventName==\"Shot\") ]\n",
    "# sns.kdeplot(team[\"xStart\"],team[\"yStart\"], shade=True)\n",
    "\n",
    "plt.ylim(100, 0)\n",
    "plt.xlim(0, 100)\n",
    "\n",
    "\n"
   ]
  },
  {
   "cell_type": "code",
   "execution_count": 218,
   "metadata": {},
   "outputs": [],
   "source": [
    "# # Parsing player positions on field for each match in a season, and adding output to Matches summary dataframe\n",
    "\n",
    "# for match in matches:\n",
    "#     trial = trial2[trial2['matchId']== match]\n",
    "#     refs = list(Matches[Matches['matchId']==match].loc[:,'homePlayer1':'awayBenchPlayer7'].transpose().index)\n",
    "#     ids = [int(value) for value in Matches[Matches['matchId']==match].loc[:,'homePlayer1':'awayBenchPlayer7'].transpose().values]\n",
    "#     test = pd.DataFrame(zip(ids, refs), columns = ['playerId', 'playerRefs'])\n",
    "#     trial = pd.merge(test, trial, on=\"pla`ayerId\")\n",
    "#     pt1 = pd.pivot_table(trial, values = 'xStart', index='matchId', columns = 'playerRefs').reset_index().add_prefix('xPos_')\n",
    "#     pt1 = pt1.rename(columns = {'xPos_matchId': \"matchId\"})\n",
    "#     pt2 = pd.pivot_table(trial, values = 'yStart', index='matchId', columns = 'playerRefs').reset_index().add_prefix('yPos_')\n",
    "#     pt2 = pt2.rename(columns = {'yPos_matchId': \"matchId\"})\n",
    "#     pt = pd.merge(pt1, pt2, on=\"matchId\")\n",
    "#     temp_df = temp_df.append(pt, ignore_index = True)\n",
    "\n",
    "# England_Matches = pd.merge(England_Matches, temp_df, on = 'matchId').fillna(0) # consider removing bench players, also consider ignoring goalkeepers\n",
    "\n",
    "\n",
    "\n",
    "\n"
   ]
  },
  {
   "cell_type": "code",
   "execution_count": 219,
   "metadata": {},
   "outputs": [],
   "source": [
    "# Likely I will decide to deprecate this\n",
    "\n",
    "# Create a function to aggregate stats for a match \n",
    "\n",
    "# stat is the string representation of stat desired\n",
    "# unique_df is the unique df developed prior to represent stat grouped by player and match\n",
    "# def advanced_stats(unique_df, stat, match_df):\n",
    "\n",
    "#     matches = list(unique_df['matchId'].unique())\n",
    "#     temp_df = pd.DataFrame()\n",
    "\n",
    "#     for match in matches:\n",
    "#         trial = unique_df[unique_df['matchId']== match]\n",
    "#         refs = list(Matches[Matches['matchId']==match].loc[:,'homePlayer1':'awayBenchPlayer7'].transpose().index)\n",
    "#         ids = [int(value) for value in Matches[Matches['matchId']==match].loc[:,'homePlayer1':'awayBenchPlayer7'].transpose().values]\n",
    "#         test = pd.DataFrame(zip(ids, refs), columns = ['playerId', 'playerRefs'])\n",
    "#         trial = pd.merge(test, trial, on=\"playerId\")\n",
    "#         pt = pd.pivot_table(trial, values = stat, index='matchId', columns = 'playerRefs').reset_index().add_prefix(stat)\n",
    "#         pt = pt.rename(columns = {stat + '_matchId': \"matchId\"})\n",
    "#     #     pt2 = pd.pivot_table(trial, values = 'yStart', index='matchId', columns = 'playerRefs').reset_index().add_prefix('yPos_')\n",
    "#     #     pt2 = pt2.rename(columns = {'yPos_matchId': \"matchId\"})\n",
    "#     #     pt = pd.merge(pt1, pt2, on=\"matchId\")\n",
    "#         temp_df = temp_df.append(pt, ignore_index = True)\n",
    "\n",
    "#     match_df = pd.merge(match_df, temp_df, on = 'matchId').fillna(0) \n",
    "\n",
    "#     return match_df\n",
    "\n"
   ]
  },
  {
   "cell_type": "code",
   "execution_count": 220,
   "metadata": {},
   "outputs": [],
   "source": [
    "# # Function to transform match events into meaningul player performance profiles for machine learning\n",
    "# def match_agg(eT, event_df):\n",
    "\n",
    "#     df1 = pd.DataFrame(event_df[event_df[\"subEventName\"]== eT ][['matchId', \"teamId\", \"subEventName\"]])\n",
    "#     df1 = df1.groupby(['matchId','teamId']).size().to_frame(eT).reset_index()\n",
    "#     df2 = df1.groupby('matchId').agg(['unique']).reset_index()\n",
    "#     df3 = pd.DataFrame(None, columns = ['matchId', 'teamId', eT])\n",
    "#     df3['matchId'], df3['teamId'], df3[eT] = df2.iloc[:, 0], df2.iloc[:,1], df2.iloc[:,2]\n",
    "#     df4 = pd.concat([df3, pd.DataFrame(df3['teamId'].to_list(), columns=['team1','team2'])], axis=1, sort = False)\n",
    "#     result = pd.merge(df4, Matches[['matchId', \"homeTeamId\", \"awayTeamId\"]], on='matchId', how='inner')\n",
    "#     result = pd.concat([result, pd.DataFrame(df3[eT].to_list(), columns=[eT+\"1\",eT+\"2\"])], axis=1, sort = False)\n",
    "#     result = result.fillna(0) # handle na values where teams had no corners in a match\n",
    "\n",
    "#     # fill in zeros to teams where there were no corners for a team\n",
    "#     result[eT] = result[eT].apply(lambda row: list(row)+[0] if len(row)==1 else row)\n",
    "\n",
    "#     # Correctly apply allocate home and away aggregate statistics to correct teams\n",
    "#     result['home'+eT] = (\n",
    "#         np.select(\n",
    "#             condlist=[result['team1'] == result['homeTeamId'], result['team2'] == result['homeTeamId']], \n",
    "#             choicelist=[result[eT+\"1\"], result[eT+\"2\"]]))\n",
    "\n",
    "#     result['away'+eT] = (\n",
    "#         np.select(\n",
    "#             condlist=[result['team1'] == result['awayTeamId'], result['team2'] == result['awayTeamId']], \n",
    "#             choicelist=[result[eT+\"1\"], result[eT+\"2\"]]))\n",
    "    \n",
    "#     # Create a column to recognize when a goal is scored\n",
    "#     conditions = [\n",
    "#         (((result['subEventDescription'].str.match('goal ')) & (result['Result'] == \"Success\"))),\n",
    "#         (((result['subEventDescription'].str.match('goal ')) & (result['Result'] == \"Failure\") & (result['subEventName'] == \"Shot\"))),\n",
    "#         (((result['subEventDescription'].str.match('goal ')) & (result['Result'] == \"Failure\") & (result['subEventName'] != \"Shot\")))\n",
    "#         ]\n",
    "\n",
    "#     # create a list of the values we want to assign for each condition\n",
    "#     values = [1, 1, -1]\n",
    "\n",
    "#     # create a new column and use np.select to assign values to it using our lists as arguments\n",
    "#     result['Goal_Value'] = np.select(conditions, values, default = 0)\n",
    "    \n",
    "#     #result = result[result['playerId']!= 0]\n",
    "\n",
    "#     # # drop useless columns that have been replaced\n",
    "#     result.drop(['teamId', eT, \"team1\", \"team2\", eT+\"1\", eT+\"2\"], inplace = True, axis = 1 )\n",
    "    \n",
    "#     return result"
   ]
  },
  {
   "cell_type": "code",
   "execution_count": 221,
   "metadata": {},
   "outputs": [],
   "source": [
    "### Successful Vertical Yards Now Merge\n",
    "\n",
    "# df = Events_England.loc[Events_England.Result == \"Success\" ].groupby(['matchId','playerId'])['attackMetres'].sum().reset_index()\n",
    "# df2 = Events_England.loc[Events_England.Result == \"Failure\" ].groupby(['matchId','playerId'])['attackMetres'].sum().reset_index()\n",
    "\n",
    "# with names, positions and clubs for reference\n",
    "#df = pd.merge(Events_England.loc[Events_England.Result == \"Success\" ].groupby(['matchId','playerId'])['attackYards'].sum().reset_index(), Players[['playerId', 'shortName', \"Position\", 'clubName']], on = 'playerId').sort_values(by ='attackYards', ascending = False)\n",
    "#df2 = pd.merge(Events_England.loc[Events_England.Result == \"Failure\" ].groupby(['matchId','playerId'])['attackYards'].sum().reset_index(), Players[['playerId', 'shortName', \"Position\", 'clubName']], on = 'playerId').sort_values(by ='attackYards', ascending = False)\n",
    "\n",
    "# .sort_values(by ='attackYards', ascending = False)\n",
    "\n"
   ]
  },
  {
   "cell_type": "code",
   "execution_count": 222,
   "metadata": {},
   "outputs": [],
   "source": [
    "# dataframes of brute sum of attacking yard attempts without success or failure measures\n",
    "\n",
    "#df  = pd.merge(Events_England.groupby(['matchId','playerId'])['attackYards'].agg(['sum']).reset_index(), Players[['playerId', 'shortName', \"Position\", 'clubName']], on ='playerId').sort_values(by ='sum', ascending = False).rename(columns={'sum':'attackYards'})\n",
    "# df = Events_England.groupby(['matchId','playerId'])['attackYards'].agg(['sum']).reset_index().sort_values(by ='sum', ascending = False).rename(columns={'sum':'attackYards'})\n"
   ]
  },
  {
   "cell_type": "markdown",
   "metadata": {},
   "source": [
    "### Machine Learning"
   ]
  },
  {
   "cell_type": "code",
   "execution_count": 223,
   "metadata": {},
   "outputs": [],
   "source": [
    "Player_Aggs = pd.merge(Player_Aggs, Matches[['matchId', \"Country\", \"Result\"]], how = 'left', on = 'matchId' )"
   ]
  },
  {
   "cell_type": "code",
   "execution_count": 224,
   "metadata": {},
   "outputs": [],
   "source": [
    "# import datetime\n",
    "# while datetime.datetime.now().hour < 5:\n",
    "#     x = 1+1"
   ]
  },
  {
   "cell_type": "code",
   "execution_count": 225,
   "metadata": {},
   "outputs": [],
   "source": [
    "from sklearn.cluster import KMeans \n",
    "from sklearn import metrics \n",
    "from scipy.spatial.distance import cdist \n",
    "import matplotlib.pyplot as plt  \n",
    "import matplotlib.patches as patches\n"
   ]
  },
  {
   "cell_type": "markdown",
   "metadata": {},
   "source": [
    "##### KMeans for detecting and visualizing team formations"
   ]
  },
  {
   "cell_type": "code",
   "execution_count": 226,
   "metadata": {},
   "outputs": [],
   "source": [
    "# live adaptable formation\n",
    "def team_formation(event_df, teamId, matchId):\n",
    "    event_df = event_df[(event_df.teamId==teamId)&(event_df.matchId==matchId)]\n",
    "    maxtime = event_df.eventSec.max()\n",
    "    if maxtime > 1200:\n",
    "        mintime = maxtime - 1200 # last 20mins of match data for formation revelation\n",
    "    else:\n",
    "        mintime = 0\n",
    "    x1 = np.array(event_df[(event_df.eventSec > mintime)].xStart) \n",
    "    x2 = np.array(event_df[(event_df.eventSec > mintime)].yStart)\n",
    "    X = np.array(list(zip(x1, x2))).reshape(len(x1), 2) \n",
    "    return x1, x2, X"
   ]
  },
  {
   "cell_type": "code",
   "execution_count": 227,
   "metadata": {},
   "outputs": [],
   "source": [
    "#Creating the data \n",
    "x1, x2, X = team_formation(Events_England, 1609, 2499719)\n"
   ]
  },
  {
   "cell_type": "code",
   "execution_count": 304,
   "metadata": {},
   "outputs": [
    {
     "data": {
      "text/plain": [
       "<matplotlib.collections.PathCollection at 0x2ae29b1b5640>"
      ]
     },
     "execution_count": 304,
     "metadata": {},
     "output_type": "execute_result"
    },
    {
     "data": {
      "image/png": "[encoded data removed]",
      "text/plain": [
       "<Figure size 432x288 with 1 Axes>"
      ]
     },
     "metadata": {
      "needs_background": "light"
     },
     "output_type": "display_data"
    }
   ],
   "source": [
    "kmeans = KMeans(n_clusters=11)\n",
    "kmeans.fit(X)\n",
    "y_kmeans = kmeans.predict(X)\n",
    "\n",
    "plt.scatter(X[:, 0], X[:, 1], c=y_kmeans, s=20, cmap='viridis')\n",
    "centers = kmeans.cluster_centers_\n",
    "plt.scatter(centers[:, 0], centers[:, 1], c='black', s=200, alpha=0.5)"
   ]
  },
  {
   "cell_type": "code",
   "execution_count": 229,
   "metadata": {},
   "outputs": [],
   "source": [
    "#Creating the data \n",
    "x1 = np.array(Player_Aggs[Player_Aggs['gameTime (min)']>45].xStart) \n",
    "x2 = np.array(Player_Aggs[Player_Aggs['gameTime (min)']>45].yStart)\n",
    "X = np.array(list(zip(x1, x2))).reshape(len(x1), 2) "
   ]
  },
  {
   "cell_type": "code",
   "execution_count": 230,
   "metadata": {},
   "outputs": [],
   "source": [
    "distortions = [] \n",
    "inertias = [] \n",
    "mapping1 = {} \n",
    "mapping2 = {} \n",
    "K = range(1,15) \n",
    "  \n",
    "for k in K: \n",
    "    #Building and fitting the model \n",
    "    kmeanModel = KMeans(n_clusters=k).fit(X) \n",
    "    kmeanModel.fit(X)     \n",
    "      \n",
    "    distortions.append(sum(np.min(cdist(X, kmeanModel.cluster_centers_, \n",
    "                      'euclidean'),axis=1)) / X.shape[0]) \n",
    "    inertias.append(kmeanModel.inertia_) \n",
    "  \n",
    "    mapping1[k] = sum(np.min(cdist(X, kmeanModel.cluster_centers_, \n",
    "                 'euclidean'),axis=1)) / X.shape[0] \n",
    "    mapping2[k] = kmeanModel.inertia_"
   ]
  },
  {
   "cell_type": "code",
   "execution_count": 231,
   "metadata": {},
   "outputs": [
    {
     "data": {
      "image/png": "[encoded data removed]",
      "text/plain": [
       "<Figure size 432x288 with 1 Axes>"
      ]
     },
     "metadata": {
      "needs_background": "light"
     },
     "output_type": "display_data"
    }
   ],
   "source": [
    "plt.plot(K, inertias, 'bx-') \n",
    "plt.xlabel('Values of K') \n",
    "plt.ylabel('Inertia') \n",
    "plt.title('The Elbow Method using Inertia') \n",
    "plt.show() "
   ]
  },
  {
   "cell_type": "code",
   "execution_count": 232,
   "metadata": {},
   "outputs": [
    {
     "data": {
      "image/png": "[encoded data removed]",
      "text/plain": [
       "<Figure size 432x288 with 1 Axes>"
      ]
     },
     "metadata": {
      "needs_background": "light"
     },
     "output_type": "display_data"
    }
   ],
   "source": [
    "plt.plot(K, distortions, 'bx-') \n",
    "plt.xlabel('Values of K') \n",
    "plt.ylabel('Distortion') \n",
    "plt.title('The Elbow Method using Distortion') \n",
    "plt.show() "
   ]
  },
  {
   "cell_type": "code",
   "execution_count": 233,
   "metadata": {},
   "outputs": [],
   "source": [
    "kmeans = KMeans(n_clusters=4)\n",
    "kmeans.fit(X)\n",
    "y_kmeans = kmeans.predict(X)"
   ]
  },
  {
   "cell_type": "code",
   "execution_count": 234,
   "metadata": {},
   "outputs": [],
   "source": [
    "# This is what four pitch area location clusters look like"
   ]
  },
  {
   "cell_type": "code",
   "execution_count": 235,
   "metadata": {},
   "outputs": [
    {
     "data": {
      "text/plain": [
       "<matplotlib.collections.PathCollection at 0x2ae29d825e20>"
      ]
     },
     "execution_count": 235,
     "metadata": {},
     "output_type": "execute_result"
    },
    {
     "data": {
      "image/png": "[encoded data removed]",
      "text/plain": [
       "<Figure size 432x288 with 1 Axes>"
      ]
     },
     "metadata": {
      "needs_background": "light"
     },
     "output_type": "display_data"
    }
   ],
   "source": [
    "\n",
    "plt.scatter(X[:, 0], X[:, 1], c=y_kmeans, s=50, cmap='viridis')\n",
    "centers = kmeans.cluster_centers_\n",
    "plt.scatter(centers[:, 0], centers[:, 1], c='black', s=200, alpha=0.5)"
   ]
  },
  {
   "cell_type": "code",
   "execution_count": 236,
   "metadata": {},
   "outputs": [
    {
     "data": {
      "text/plain": [
       "<matplotlib.collections.PathCollection at 0x2ae29d79efd0>"
      ]
     },
     "execution_count": 236,
     "metadata": {},
     "output_type": "execute_result"
    },
    {
     "data": {
      "image/png": "[encoded data removed]",
      "text/plain": [
       "<Figure size 432x288 with 1 Axes>"
      ]
     },
     "metadata": {
      "needs_background": "light"
     },
     "output_type": "display_data"
    }
   ],
   "source": [
    "plt.scatter(X[:, 0], X[:, 1], c=y_kmeans, s=50, cmap='viridis')\n",
    "\n",
    "centers = kmeans.cluster_centers_\n",
    "plt.scatter(centers[:, 0], centers[:, 1], c='black', s=200, alpha=0.5)"
   ]
  },
  {
   "cell_type": "code",
   "execution_count": 237,
   "metadata": {},
   "outputs": [],
   "source": [
    "#### Traditional 11 pitch positions"
   ]
  },
  {
   "cell_type": "code",
   "execution_count": 238,
   "metadata": {},
   "outputs": [],
   "source": [
    "kmeans = KMeans(n_clusters=11)\n",
    "kmeans.fit(X)\n",
    "y_kmeans = kmeans.predict(X)"
   ]
  },
  {
   "cell_type": "code",
   "execution_count": 239,
   "metadata": {},
   "outputs": [
    {
     "data": {
      "text/plain": [
       "<matplotlib.collections.PathCollection at 0x2ae29d6814c0>"
      ]
     },
     "execution_count": 239,
     "metadata": {},
     "output_type": "execute_result"
    },
    {
     "data": {
      "image/png": "[encoded data removed]",
      "text/plain": [
       "<Figure size 432x288 with 1 Axes>"
      ]
     },
     "metadata": {
      "needs_background": "light"
     },
     "output_type": "display_data"
    }
   ],
   "source": [
    "plt.scatter(X[:, 0], X[:, 1], c=y_kmeans, s=50, cmap='viridis')\n",
    "centers = kmeans.cluster_centers_\n",
    "plt.scatter(centers[:, 0], centers[:, 1], c='black', s=200, alpha=0.5)"
   ]
  },
  {
   "cell_type": "code",
   "execution_count": 240,
   "metadata": {},
   "outputs": [],
   "source": [
    "kmeans = KMeans(n_clusters=22)\n",
    "kmeans.fit(X)\n",
    "y_kmeans = kmeans.predict(X)"
   ]
  },
  {
   "cell_type": "code",
   "execution_count": 241,
   "metadata": {},
   "outputs": [
    {
     "data": {
      "text/plain": [
       "<matplotlib.collections.PathCollection at 0x2ae29d579790>"
      ]
     },
     "execution_count": 241,
     "metadata": {},
     "output_type": "execute_result"
    },
    {
     "data": {
      "image/png": "[encoded data removed]",
      "text/plain": [
       "<Figure size 432x288 with 1 Axes>"
      ]
     },
     "metadata": {
      "needs_background": "light"
     },
     "output_type": "display_data"
    }
   ],
   "source": [
    "plt.scatter(X[:, 0], X[:, 1], c=y_kmeans, s=50, cmap='viridis')\n",
    "centers = kmeans.cluster_centers_\n",
    "plt.scatter(centers[:, 0], centers[:, 1], c='black', s=200, alpha=0.5)"
   ]
  },
  {
   "cell_type": "markdown",
   "metadata": {},
   "source": [
    "### Comparing Two Teams in a head to head"
   ]
  },
  {
   "cell_type": "code",
   "execution_count": 242,
   "metadata": {},
   "outputs": [
    {
     "data": {
      "text/html": [
       "<div>\n",
       "<style scoped>\n",
       "    .dataframe tbody tr th:only-of-type {\n",
       "        vertical-align: middle;\n",
       "    }\n",
       "\n",
       "    .dataframe tbody tr th {\n",
       "        vertical-align: top;\n",
       "    }\n",
       "\n",
       "    .dataframe thead th {\n",
       "        text-align: right;\n",
       "    }\n",
       "</style>\n",
       "<table border=\"1\" class=\"dataframe\">\n",
       "  <thead>\n",
       "    <tr style=\"text-align: right;\">\n",
       "      <th></th>\n",
       "      <th>city</th>\n",
       "      <th>name</th>\n",
       "      <th>teamId</th>\n",
       "      <th>officialName</th>\n",
       "      <th>area</th>\n",
       "      <th>type</th>\n",
       "    </tr>\n",
       "  </thead>\n",
       "  <tbody>\n",
       "    <tr>\n",
       "      <th>15</th>\n",
       "      <td>Barcelona</td>\n",
       "      <td>Barcelona</td>\n",
       "      <td>676</td>\n",
       "      <td>FC Barcelona</td>\n",
       "      <td>{'name': 'Spain', 'id': '724', 'alpha3code': '...</td>\n",
       "      <td>club</td>\n",
       "    </tr>\n",
       "  </tbody>\n",
       "</table>\n",
       "</div>"
      ],
      "text/plain": [
       "         city       name  teamId  officialName  \\\n",
       "15  Barcelona  Barcelona     676  FC Barcelona   \n",
       "\n",
       "                                                 area  type  \n",
       "15  {'name': 'Spain', 'id': '724', 'alpha3code': '...  club  "
      ]
     },
     "execution_count": 242,
     "metadata": {},
     "output_type": "execute_result"
    }
   ],
   "source": [
    "Teams[Teams[\"name\"].str.contains('Barcelona')]"
   ]
  },
  {
   "cell_type": "code",
   "execution_count": 243,
   "metadata": {},
   "outputs": [],
   "source": [
    "#Creating the data\n",
    "manUtdBad = Player_Aggs[(Player_Aggs['gameTime (min)']>45) & (Player_Aggs.teamId ==1611) &(((Player_Aggs.homeAway==\"home\") & (Player_Aggs.Result==-1)) | ((Player_Aggs.homeAway==\"away\") & (Player_Aggs.Result==1)))]\n",
    "manUtdGood = Player_Aggs[(Player_Aggs['gameTime (min)']>45) & (Player_Aggs.teamId ==1611) &(((Player_Aggs.homeAway==\"home\") & (Player_Aggs.Result==1)) | ((Player_Aggs.homeAway==\"away\") & (Player_Aggs.Result==-1)))]\n",
    "liverpoolGood = Player_Aggs[(Player_Aggs['gameTime (min)']>45) & (Player_Aggs.teamId ==1612) &(((Player_Aggs.homeAway==\"home\") & (Player_Aggs.Result==1)) | ((Player_Aggs.homeAway==\"away\") & (Player_Aggs.Result==-1)))]\n",
    "liverpoolBad = Player_Aggs[(Player_Aggs['gameTime (min)']>45) & (Player_Aggs.teamId ==1612) &(((Player_Aggs.homeAway==\"home\") & (Player_Aggs.Result==-1)) | ((Player_Aggs.homeAway==\"away\") & (Player_Aggs.Result==1)))]\n",
    "barcelonaBad = Player_Aggs[(Player_Aggs['gameTime (min)']>45) & (Player_Aggs.teamId ==676) &(((Player_Aggs.homeAway==\"home\") & (Player_Aggs.Result==-1)) | ((Player_Aggs.homeAway==\"away\") & (Player_Aggs.Result==1)))]\n",
    "barcelonaGood = Player_Aggs[(Player_Aggs['gameTime (min)']>45) & (Player_Aggs.teamId ==676) &(((Player_Aggs.homeAway==\"home\") & (Player_Aggs.Result==1)) | ((Player_Aggs.homeAway==\"away\") & (Player_Aggs.Result==-1)))]\n",
    "\n",
    "\n",
    "x1 = np.array(manUtdBad.xStart) \n",
    "x2 = np.array(manUtdBad.yStart)\n",
    "X = np.array(list(zip(x1, x2))).reshape(len(x1), 2) "
   ]
  },
  {
   "cell_type": "code",
   "execution_count": 244,
   "metadata": {},
   "outputs": [
    {
     "data": {
      "text/plain": [
       "<matplotlib.collections.PathCollection at 0x2ae29d45e820>"
      ]
     },
     "execution_count": 244,
     "metadata": {},
     "output_type": "execute_result"
    },
    {
     "data": {
      "image/png": "[encoded data removed]",
      "text/plain": [
       "<Figure size 432x288 with 1 Axes>"
      ]
     },
     "metadata": {
      "needs_background": "light"
     },
     "output_type": "display_data"
    }
   ],
   "source": [
    "kmeans = KMeans(n_clusters=11)\n",
    "kmeans.fit(X)\n",
    "y_kmeans = kmeans.predict(X)\n",
    "\n",
    "plt.scatter(X[:, 0], X[:, 1], c=y_kmeans, s=50, cmap='viridis')\n",
    "centers2 = kmeans.cluster_centers_\n",
    "plt.scatter(centers[:, 0], centers[:, 1], c='black', s=200, alpha=0.5)"
   ]
  },
  {
   "cell_type": "code",
   "execution_count": 245,
   "metadata": {},
   "outputs": [],
   "source": [
    "x1 = np.array(manUtdGood.xStart) \n",
    "x2 = np.array(manUtdGood.yStart)\n",
    "X = np.array(list(zip(x1, x2))).reshape(len(x1), 2) \n"
   ]
  },
  {
   "cell_type": "code",
   "execution_count": 246,
   "metadata": {},
   "outputs": [
    {
     "data": {
      "text/plain": [
       "<matplotlib.collections.PathCollection at 0x2ae29d38e100>"
      ]
     },
     "execution_count": 246,
     "metadata": {},
     "output_type": "execute_result"
    },
    {
     "data": {
      "image/png": "[encoded data removed]",
      "text/plain": [
       "<Figure size 432x288 with 1 Axes>"
      ]
     },
     "metadata": {
      "needs_background": "light"
     },
     "output_type": "display_data"
    }
   ],
   "source": [
    "kmeans = KMeans(n_clusters=11)\n",
    "kmeans.fit(X)\n",
    "y_kmeans = kmeans.predict(X)\n",
    "\n",
    "plt.scatter(X[:, 0], X[:, 1], c=y_kmeans, s=50, cmap='viridis')\n",
    "centers = kmeans.cluster_centers_\n",
    "plt.scatter(centers[:, 0], centers[:, 1], c='black', s=200, alpha=0.5)\n",
    "# plt.scatter(centers2[:, 0], centers2[:, 1], c='red', s=200, alpha=0.5)\n"
   ]
  },
  {
   "cell_type": "code",
   "execution_count": 247,
   "metadata": {},
   "outputs": [],
   "source": [
    "manUtd = Player_Aggs[(Player_Aggs['gameTime (min)']>45) & (Player_Aggs.teamId ==1611)]\n",
    "barca = Player_Aggs[(Player_Aggs['gameTime (min)']>45) & (Player_Aggs.teamId ==676)]       "
   ]
  },
  {
   "cell_type": "code",
   "execution_count": 248,
   "metadata": {},
   "outputs": [
    {
     "data": {
      "text/plain": [
       "<matplotlib.collections.PathCollection at 0x2ae29d304fd0>"
      ]
     },
     "execution_count": 248,
     "metadata": {},
     "output_type": "execute_result"
    },
    {
     "data": {
      "image/png": "[encoded data removed]",
      "text/plain": [
       "<Figure size 432x288 with 1 Axes>"
      ]
     },
     "metadata": {
      "needs_background": "light"
     },
     "output_type": "display_data"
    }
   ],
   "source": [
    "## Man Utd\n",
    "x1 = np.array(manUtd.xStart) \n",
    "x2 = np.array(manUtd.yStart)\n",
    "X = np.array(list(zip(x1, x2))).reshape(len(x1), 2) \n",
    "\n",
    "kmeans = KMeans(n_clusters=11)\n",
    "kmeans.fit(X)\n",
    "y_kmeans = kmeans.predict(X)\n",
    "\n",
    "plt.scatter(X[:, 0], X[:, 1], c=y_kmeans, s=50, cmap='viridis')\n",
    "centers = kmeans.cluster_centers_\n",
    "plt.scatter(centers[:, 0], centers[:, 1], c='black', s=200, alpha=0.5)"
   ]
  },
  {
   "cell_type": "code",
   "execution_count": 249,
   "metadata": {},
   "outputs": [
    {
     "data": {
      "text/plain": [
       "<matplotlib.collections.PathCollection at 0x2ae29d1a5700>"
      ]
     },
     "execution_count": 249,
     "metadata": {},
     "output_type": "execute_result"
    },
    {
     "data": {
      "image/png": "[encoded data removed]",
      "text/plain": [
       "<Figure size 432x288 with 1 Axes>"
      ]
     },
     "metadata": {
      "needs_background": "light"
     },
     "output_type": "display_data"
    }
   ],
   "source": [
    "## Barcelona\n",
    "x1 = np.array(barca.xStart) \n",
    "x2 = np.array(barca.yStart)\n",
    "X = np.array(list(zip(x1, x2))).reshape(len(x1), 2) \n",
    "\n",
    "kmeans = KMeans(n_clusters=11)\n",
    "kmeans.fit(X)\n",
    "y_kmeans = kmeans.predict(X)\n",
    "\n",
    "plt.scatter(X[:, 0], X[:, 1], c=y_kmeans, s=50, cmap='viridis')\n",
    "centers = kmeans.cluster_centers_\n",
    "plt.scatter(centers[:, 0], centers[:, 1], c='black', s=200, alpha=0.5)"
   ]
  },
  {
   "cell_type": "markdown",
   "metadata": {},
   "source": [
    "##### Team Aggregates and Clustering Tactics"
   ]
  },
  {
   "cell_type": "code",
   "execution_count": 250,
   "metadata": {},
   "outputs": [],
   "source": [
    "dropcols = ['playerId',\n",
    " 'weight',\n",
    " 'height',\n",
    " 'xStart',\n",
    " 'yStart',\n",
    " 'homeTeamId',\n",
    " 'awayTeamId',\n",
    " 'gameTime (min)',\n",
    " 'FKCrossAccuracy',\n",
    " 'penaltiesConversion',\n",
    " 'low_left_save_efficiency',\n",
    " 'mid_left_save_efficiency',\n",
    " 'high_left_save_efficiency',\n",
    " 'low_center_save_efficiency',\n",
    " 'mid_center_save_efficiency',\n",
    " 'high_center_save_efficiency',\n",
    " 'low_right_save_efficiency',\n",
    " 'mid_right_save_efficiency',\n",
    " 'high_right_save_efficiency',\n",
    " 'shotAccuracy',\n",
    " 'shortPassAccuracy',\n",
    " 'longPassAccuracy',\n",
    " 'shortLongPassRatio',\n",
    " 'Result']\n"
   ]
  },
  {
   "cell_type": "code",
   "execution_count": 251,
   "metadata": {},
   "outputs": [],
   "source": [
    "Team_Aggs_Matches = Player_Aggs.groupby(['matchId', 'teamId' ]).sum().reset_index()\n",
    "Team_Aggs_Matches.drop(columns = dropcols, inplace=True, axis=1)\n",
    "Team_Aggs_Matches = pd.merge(Team_Aggs_Matches, Matches[['matchId', \"Country\"]], on='matchId', how = 'left')"
   ]
  },
  {
   "cell_type": "code",
   "execution_count": 252,
   "metadata": {},
   "outputs": [],
   "source": [
    "Teams['Country'] = [row['name'] for row in Teams.area]"
   ]
  },
  {
   "cell_type": "code",
   "execution_count": 253,
   "metadata": {},
   "outputs": [],
   "source": [
    "Team_Aggs = Team_Aggs_Matches.groupby(['teamId']).sum().reset_index()\n",
    "Team_Aggs.drop(columns = 'matchId', inplace=True, axis=1)\n",
    "Team_Aggs = pd.merge(Team_Aggs, Teams[['teamId', 'Country']], how = 'left', on = 'teamId')"
   ]
  },
  {
   "cell_type": "code",
   "execution_count": 254,
   "metadata": {},
   "outputs": [],
   "source": [
    "def Matches_df(TAM, TA):\n",
    "    df2 = TAM.groupby('matchId').agg(list).reset_index()\n",
    "    df3 = pd.DataFrame(None, columns = list(TA.columns))\n",
    "\n",
    "    for index, col in enumerate(list(TAM.columns)):\n",
    "        df3[col] = df2.iloc[:,index]\n",
    "    df3.head()\n",
    "\n",
    "    df4 = pd.concat([df3, pd.DataFrame(df3['teamId'].to_list(), columns=['team1','team2'])], axis=1, sort = False)\n",
    "    result = pd.merge(df4, Matches[['matchId', \"homeTeamId\", \"awayTeamId\"]], on='matchId', how='inner')\n",
    "    df4.drop([\"Country\"], axis=1, inplace=True)\n",
    "    df4.head()\n",
    "\n",
    "    for var in list(result.columns)[1:-6]:\n",
    "        result = pd.concat([result, pd.DataFrame(df3[var].to_list(), columns=[var+\"1\",var+\"2\"])], axis=1, sort = False)\n",
    "\n",
    "        # Correctly apply allocate home and away aggregate statistics to correct teams\n",
    "        result['home'+var] = (\n",
    "            np.select(\n",
    "                condlist=[result['team1'] == result['homeTeamId'], result['team2'] == result['homeTeamId']], \n",
    "                choicelist=[result[var+\"1\"], result[var+\"2\"]]))\n",
    "\n",
    "        result['away'+var] = (\n",
    "            np.select(\n",
    "                condlist=[result['team1'] == result['awayTeamId'], result['team2'] == result['awayTeamId']], \n",
    "                choicelist=[result[var+\"1\"], result[var+\"2\"]]))\n",
    "\n",
    "        # # drop useless columns that have been replaced\n",
    "        result.drop([ var, var+\"1\", var+\"2\"], inplace = True, axis = 1 )\n",
    "\n",
    "    # # drop useless columns that have been replaced\n",
    "    result.drop(['Country','teamId',\"team1\", \"team2\"], inplace = True, axis = 1 )\n",
    "    result = pd.merge(result, Matches[['matchId', \"Result\"]], on='matchId', how = 'left')\n",
    "    return result"
   ]
  },
  {
   "cell_type": "code",
   "execution_count": 255,
   "metadata": {},
   "outputs": [],
   "source": [
    "result = Matches_df(Team_Aggs_Matches, Team_Aggs)"
   ]
  },
  {
   "cell_type": "markdown",
   "metadata": {},
   "source": [
    "### Experiment: Extracting features of team playing style using Random Forests"
   ]
  },
  {
   "cell_type": "code",
   "execution_count": 256,
   "metadata": {},
   "outputs": [],
   "source": [
    "from sklearn.ensemble import RandomForestClassifier\n",
    "from sklearn.model_selection import train_test_split\n",
    "from sklearn.feature_selection import SelectFromModel\n",
    "from sklearn.preprocessing import StandardScaler\n",
    "from sklearn.metrics import accuracy_score\n",
    "from sklearn.metrics import classification_report\n",
    "from sklearn.metrics import roc_curve\n",
    "from sklearn.model_selection import GridSearchCV\n",
    "from sklearn.metrics import roc_auc_score\n",
    "from sklearn.metrics import confusion_matrix\n",
    "from sklearn.metrics import auc\n"
   ]
  },
  {
   "cell_type": "code",
   "execution_count": 257,
   "metadata": {},
   "outputs": [],
   "source": [
    "param_grid = {\n",
    "    'n_estimators': [200,400,500, 700,1000,2000]\n",
    "}"
   ]
  },
  {
   "cell_type": "code",
   "execution_count": 288,
   "metadata": {},
   "outputs": [],
   "source": [
    "X_all = result.loc[:, ~result.columns.isin(['teamId', 'matchId', 'homeTeamId', 'awayTeamId', 'awayGoal_Value','homegoalsAllowed', 'awaygoalsAllowed'\n",
    "                                           ,'homeGoal_low_left', 'homeGoal_mid_left', 'awayGoal_mid_right',\n",
    "                                           'homeGoal_Value', 'homeCrossAssists', 'homeCornerAssists',\n",
    "                                           'homeGoal_low_center', 'homeTotalAssists','homeRightFootGoal', 'awayRightFootGoal'\n",
    "                                           ,'homeRightFootGoal', 'awayRightFootGoal',\n",
    "       'homeLeftFootGoal', 'awayLeftFootGoal', 'homeTotalAssists',\n",
    "       'awayTotalAssists',\"Result\", 'awayGoal_low_left', 'awayGoal_low_center',\n",
    "       'homeGoal_low_right', 'awayGoal_low_right','homeHeader/Body_Goal', 'awayHeader/Body_Goal','awayCrossAssists',\n",
    "                                           'awayCrossAssists','awayInterceptionGoal',\n",
    " 'homeInterceptionGoal',\n",
    " 'awayOwnGoals',\n",
    " 'homeFKCrossAssists',\n",
    " 'homeGoal_high_left',\n",
    " 'awayFKCrossAssists',\n",
    " 'homeOwnGoals',\n",
    " 'homeGoal_high_right',\n",
    " 'awayGoal_high_center',\n",
    " 'awayGoal_high_left','awayInterceptionGoal',\n",
    " 'homeInterceptionGoal',\n",
    " 'awayOwnGoals',\n",
    " 'awayPenaltyNotScored',\n",
    " 'homeFKCrossAssists',\n",
    " 'homeGoal_high_left',\n",
    " 'awayFKCrossAssists',\n",
    "'awayGoal_mid_left', 'homeGoal_mid_right','homeGoal_mid_center','awayGoal_high_right','awayGoal_mid_center',\n",
    " 'homeGoal_high_center','awayCornerAssists',\n",
    " 'homeOwnGoals',\n",
    " 'homeGoal_high_right',\n",
    " 'awayGoal_high_center'                                      \n",
    " 'awayGoal_high_left', 'homeCounterAttackGoal'])]\n",
    "\n",
    "y_all = result[\"Result\"].values"
   ]
  },
  {
   "cell_type": "code",
   "execution_count": 289,
   "metadata": {},
   "outputs": [],
   "source": [
    "X_all = X_all.replace([np.inf, -np.inf], np.nan)\n",
    "X_all = X_all.fillna(X_all.mean())"
   ]
  },
  {
   "cell_type": "code",
   "execution_count": 290,
   "metadata": {},
   "outputs": [],
   "source": [
    "X_train, X_test, y_train, y_test = train_test_split(X_all, y_all, shuffle=True, test_size= 0.2, train_size=0.8, random_state=3)\n"
   ]
  },
  {
   "cell_type": "code",
   "execution_count": 291,
   "metadata": {},
   "outputs": [],
   "source": [
    "clf = RandomForestClassifier(n_estimators = 1000, random_state=3)"
   ]
  },
  {
   "cell_type": "code",
   "execution_count": 292,
   "metadata": {},
   "outputs": [
    {
     "data": {
      "text/plain": [
       "RandomForestClassifier(n_estimators=1000, random_state=3)"
      ]
     },
     "execution_count": 292,
     "metadata": {},
     "output_type": "execute_result"
    }
   ],
   "source": [
    "clf.fit(X_train, y_train)"
   ]
  },
  {
   "cell_type": "code",
   "execution_count": 293,
   "metadata": {},
   "outputs": [],
   "source": [
    "#CV_rfc = GridSearchCV(estimator=clf, param_grid=param_grid, cv= 10)"
   ]
  },
  {
   "cell_type": "code",
   "execution_count": 294,
   "metadata": {},
   "outputs": [],
   "source": [
    "#CV_rfc.fit(X_train, y_train)"
   ]
  },
  {
   "cell_type": "code",
   "execution_count": 295,
   "metadata": {},
   "outputs": [],
   "source": [
    "#CV_rfc.best_estimator_"
   ]
  },
  {
   "cell_type": "code",
   "execution_count": 296,
   "metadata": {},
   "outputs": [
    {
     "name": "stdout",
     "output_type": "stream",
     "text": [
      "              precision    recall  f1-score   support\n",
      "\n",
      "          -1       0.71      0.72      0.71       110\n",
      "           0       0.50      0.11      0.18        93\n",
      "           1       0.66      0.95      0.78       163\n",
      "\n",
      "    accuracy                           0.67       366\n",
      "   macro avg       0.62      0.59      0.56       366\n",
      "weighted avg       0.63      0.67      0.61       366\n",
      "\n",
      "accuracy score: 0.6667\n"
     ]
    }
   ],
   "source": [
    "labels = [-1,0,1]\n",
    "y_pred = clf.predict(X_test)\n",
    "\n",
    "\n",
    "print(classification_report(y_test, y_pred, labels = labels))\n",
    "print('accuracy score: {0:.4f}'.format(accuracy_score(y_test,y_pred)))"
   ]
  },
  {
   "cell_type": "code",
   "execution_count": 297,
   "metadata": {},
   "outputs": [
    {
     "data": {
      "image/png": "[encoded data removed]",
      "text/plain": [
       "<Figure size 468x324 with 1 Axes>"
      ]
     },
     "metadata": {
      "needs_background": "light"
     },
     "output_type": "display_data"
    },
    {
     "data": {
      "text/plain": [
       "<Figure size 360x360 with 0 Axes>"
      ]
     },
     "metadata": {},
     "output_type": "display_data"
    }
   ],
   "source": [
    "idx = list(clf.feature_importances_.argsort()[0:25])\n",
    "col = list(X_train.columns[idx])\n",
    "#modelname.feature_importance_\n",
    "y = clf.feature_importances_[0:25]\n",
    "#plot\n",
    "fig, ax = plt.subplots() \n",
    "width = 0.4 # the width of the bars \n",
    "ind = np.arange(len(y)) # the x locations for the groups\n",
    "ax.barh(ind, y, width, color='green')\n",
    "ax.set_yticks(ind+width/10)\n",
    "ax.set_yticklabels(col, minor=False)\n",
    "plt.title('Feature importance in RandomForest Classifier')\n",
    "plt.xlabel('Relative importance')\n",
    "plt.ylabel('feature') \n",
    "plt.figure(figsize=(5,5))\n",
    "fig.set_size_inches(6.5, 4.5, forward=True)"
   ]
  },
  {
   "cell_type": "code",
   "execution_count": 298,
   "metadata": {},
   "outputs": [
    {
     "name": "stdout",
     "output_type": "stream",
     "text": [
      "Predicted Result  -1   0    1\n",
      "Actual Result                \n",
      "-1                79   9   22\n",
      " 0                26  10   57\n",
      " 1                 7   1  155\n",
      "[0, 1, -1]\n"
     ]
    }
   ],
   "source": [
    "print(pd.crosstab(y_test, y_pred, rownames=['Actual Result'], colnames=['Predicted Result']))\n",
    "class_name = list(set(y_test)) \n",
    "print(class_name)"
   ]
  },
  {
   "cell_type": "code",
   "execution_count": 269,
   "metadata": {},
   "outputs": [
    {
     "data": {
      "text/plain": [
       "['events_Spain.json',\n",
       " 'events_Germany.json',\n",
       " 'events_France.json',\n",
       " 'events_European_Championship.json',\n",
       " 'tree_nonlimited.dot',\n",
       " 'tree.dot',\n",
       " 'events_England.json',\n",
       " 'events_World_Cup.json',\n",
       " '.DS_Store',\n",
       " 'events_Italy.json']"
      ]
     },
     "execution_count": 269,
     "metadata": {},
     "output_type": "execute_result"
    }
   ],
   "source": [
    "from sklearn import tree\n",
    "import graphviz\n",
    "os.listdir()"
   ]
  },
  {
   "cell_type": "code",
   "execution_count": 270,
   "metadata": {},
   "outputs": [],
   "source": [
    "# estimator_nonlimited = clf.estimators_[5]\n",
    "# fn = list(X_train.columns)\n",
    "# # from sklearn.tree import export_graphviz\n",
    "# # export_graphviz(estimator_limited, out_file='tree_limited.dot', feature_names = iris.feature_names,\n",
    "# #                 class_names = iris.target_names,\n",
    "# #                 rounded = True, proportion = False, precision = 2, filled = True)\n",
    "\n",
    "# export_graphviz(estimator_nonlimited, out_file='tree_nonlimited.dot', feature_names = fn,\n",
    "#                 class_names = [\"W\", \"L\", 'D'],\n",
    "#                 rounded = True, proportion = False, precision = 2, filled = True)\n",
    "\n",
    "\n",
    "# import pydot\n",
    "\n",
    "# (graph,) = pydot.graph_from_dot_file('tree_nonlimited.dot')\n",
    "# graph.write_png('tree_nonlimited.png')\n",
    "# graph.draw('tree_nonlimited.png')\n",
    "\n",
    "\n",
    "# # !dot -Tpng tree_limited.dot -o tree_nonlimited.png -Gdpi=600\n",
    "# # from IPython.display import Image\n",
    "# # Image(filename = 'tree_nonlimited.png')"
   ]
  },
  {
   "cell_type": "code",
   "execution_count": 271,
   "metadata": {},
   "outputs": [
    {
     "data": {
      "text/plain": [
       "'/group/interns202010/jmakins/Data/events'"
      ]
     },
     "execution_count": 271,
     "metadata": {},
     "output_type": "execute_result"
    }
   ],
   "source": [
    "os.getcwd()"
   ]
  },
  {
   "cell_type": "code",
   "execution_count": 272,
   "metadata": {},
   "outputs": [
    {
     "ename": "ModuleNotFoundError",
     "evalue": "No module named 'dtreeviz'",
     "output_type": "error",
     "traceback": [
      "\u001b[0;31m---------------------------------------------------------------------------\u001b[0m",
      "\u001b[0;31mModuleNotFoundError\u001b[0m                       Traceback (most recent call last)",
      "\u001b[0;32m<ipython-input-272-cb51e6a3c8a2>\u001b[0m in \u001b[0;36m<module>\u001b[0;34m\u001b[0m\n\u001b[0;32m----> 1\u001b[0;31m \u001b[0;32mfrom\u001b[0m \u001b[0mdtreeviz\u001b[0m\u001b[0;34m.\u001b[0m\u001b[0mtrees\u001b[0m \u001b[0;32mimport\u001b[0m \u001b[0;34m*\u001b[0m\u001b[0;34m\u001b[0m\u001b[0;34m\u001b[0m\u001b[0m\n\u001b[0m\u001b[1;32m      2\u001b[0m \u001b[0;32mfrom\u001b[0m \u001b[0mIPython\u001b[0m\u001b[0;34m.\u001b[0m\u001b[0mcore\u001b[0m\u001b[0;34m.\u001b[0m\u001b[0mdisplay\u001b[0m \u001b[0;32mimport\u001b[0m \u001b[0mdisplay\u001b[0m\u001b[0;34m,\u001b[0m \u001b[0mHTML\u001b[0m\u001b[0;34m\u001b[0m\u001b[0;34m\u001b[0m\u001b[0m\n\u001b[1;32m      3\u001b[0m \u001b[0;34m\u001b[0m\u001b[0m\n\u001b[1;32m      4\u001b[0m \u001b[0mdtree\u001b[0m \u001b[0;34m=\u001b[0m \u001b[0mtree\u001b[0m\u001b[0;34m.\u001b[0m\u001b[0mDecisionTreeClassifier\u001b[0m\u001b[0;34m(\u001b[0m\u001b[0mrandom_state\u001b[0m\u001b[0;34m=\u001b[0m\u001b[0;36m0\u001b[0m\u001b[0;34m)\u001b[0m\u001b[0;34m\u001b[0m\u001b[0;34m\u001b[0m\u001b[0m\n\u001b[1;32m      5\u001b[0m \u001b[0mdtree\u001b[0m \u001b[0;34m=\u001b[0m \u001b[0mdtree\u001b[0m\u001b[0;34m.\u001b[0m\u001b[0mfit\u001b[0m\u001b[0;34m(\u001b[0m\u001b[0mX_train\u001b[0m\u001b[0;34m,\u001b[0m \u001b[0my_train\u001b[0m\u001b[0;34m)\u001b[0m\u001b[0;34m\u001b[0m\u001b[0;34m\u001b[0m\u001b[0m\n",
      "\u001b[0;31mModuleNotFoundError\u001b[0m: No module named 'dtreeviz'"
     ]
    }
   ],
   "source": [
    "from dtreeviz.trees import *\n",
    "from IPython.core.display import display, HTML\n",
    "\n",
    "dtree = tree.DecisionTreeClassifier(random_state=0)\n",
    "dtree = dtree.fit(X_train, y_train)\n",
    "viz = dtreeviz(dtree,\n",
    "               X_train,\n",
    "               y_train,\n",
    "               feature_names=fn, \n",
    "               class_names=cn,\n",
    "               fancy=False) \n",
    "\n",
    "display(HTML(viz.svg()))"
   ]
  },
  {
   "cell_type": "code",
   "execution_count": null,
   "metadata": {},
   "outputs": [],
   "source": [
    "y_predict_proba = clf.predict_proba(X_test)\n",
    "\n",
    "# Compute ROC curve and ROC AUC for each class\n",
    "n_classes = 3\n",
    "fpr = dict()\n",
    "tpr = dict()\n",
    "roc_auc = dict()\n",
    "all_y_test_i = np.array([])\n",
    "all_y_predict_proba = np.array([])\n",
    "for i in [-1,0,1]:\n",
    "    y_test_i = list(map(lambda x: 1 if x == i else 0, list(y_test)))\n",
    "    if len(all_y_test_i) >0:\n",
    "        all_y_test_i = np.concatenate([all_y_test_i, y_test_i])\n",
    "    else:\n",
    "        all_y_test_i = y_test_i\n",
    "    all_y_predict_proba = np.concatenate([all_y_predict_proba, y_predict_proba[:, i]])\n",
    "    fpr[i], tpr[i], _ = roc_curve(y_test_i, y_predict_proba[:, i])\n",
    "    roc_auc[i] = auc(fpr[i], tpr[i])\n",
    "\n",
    "# Compute micro-average ROC curve and ROC area\n",
    "fpr[\"average\"], tpr[\"average\"], _ = roc_curve(all_y_test_i, all_y_predict_proba)\n",
    "roc_auc[\"average\"] = auc(fpr[\"average\"], tpr[\"average\"])\n",
    "\n",
    "\n",
    "# Plot average ROC Curve\n",
    "plt.figure()\n",
    "plt.plot(fpr[\"average\"], tpr[\"average\"],\n",
    "         label='Average ROC curve (area = {0:0.2f})'\n",
    "               ''.format(roc_auc[\"average\"]),\n",
    "         color='deeppink', linestyle=':', linewidth=4)\n",
    "\n",
    "# Plot each individual ROC curve\n",
    "for i in [-1,0,1]:\n",
    "    plt.plot(fpr[i], tpr[i], lw=2,\n",
    "             label='ROC curve of class {0} (area = {1:0.2f})'\n",
    "             ''.format(i, roc_auc[i]))\n",
    "\n",
    "plt.plot([0, 1], [0, 1], 'k--', lw=2)\n",
    "plt.xlim([0.0, 1.0])\n",
    "plt.ylim([0.0, 1.05])\n",
    "plt.xlabel('False Positive Rate')\n",
    "plt.ylabel('True Positive Rate')\n",
    "plt.title('Some extension of Receiver operating characteristic to multi-class')\n",
    "plt.legend(loc=\"lower right\")\n",
    "plt.show()"
   ]
  },
  {
   "cell_type": "code",
   "execution_count": null,
   "metadata": {},
   "outputs": [],
   "source": [
    "# generate a no skill prediction (majority class)\n",
    "# ns_probs = [0 for _ in range(len(y_test))]\n",
    "# ns_fpr, ns_tpr, _ = roc_curve(y_test, ns_probs)\n",
    "# plt.plot(ns_fpr, ns_tpr, linestyle='--', label='No Skill')\n",
    "\n",
    "# #Now calculate the AUC for each class separately\n",
    "\n",
    "y_predict_proba = clf.predict_proba(X_test)\n",
    "fpr = dict()\n",
    "tpr = dict()\n",
    "roc_auc = dict()\n",
    "all_y_test_i = np.array([])\n",
    "all_y_predict_proba = np.array([])\n",
    "\n",
    "WDL = [\"Draw\",\"Home Win\", \"Home Loss\"]\n",
    "\n",
    "\n",
    "for pp in [-1,0,1]:\n",
    "    fpr, tpr, thresholds = metrics.roc_curve(y_test,  \n",
    "                     clf.predict_proba(X_test)[:,pp], pos_label = pp)\n",
    "    plt.plot(fpr, tpr,  marker='.', label= WDL[pp])\n",
    "    auroc = round(metrics.auc(fpr, tpr),2)\n",
    "    print('RF',WDL[pp],'--AUC--->',auroc)\n",
    "\n",
    "plt.xlabel('False Positive Rate')\n",
    "plt.ylabel('True Positive Rate')\n",
    "# show the legend\n",
    "plt.legend()\n",
    "# show the plot\n",
    "plt.show()\n",
    "\n"
   ]
  },
  {
   "cell_type": "code",
   "execution_count": null,
   "metadata": {},
   "outputs": [],
   "source": [
    "n_matches = Matches.shape[0]\n",
    "n_features = Matches.shape[1] -1\n",
    "n_homewins =  len(Matches[Matches.Result==1])\n",
    "win_rate = (float(n_homewins) / (n_matches)) * 100\n",
    "n_homeloss =  len(Matches[Matches.Result==-1])\n",
    "loss_rate = (float(n_homeloss) / (n_matches)) * 100\n",
    "print(\"Total number of matches: {}\".format(n_matches))\n",
    "print(\"Number of features: {}\".format(n_features))\n",
    "print('Number of matches won by home side: {}'.format(n_homewins))\n",
    "print('Win rate of home team {:2f}%'.format(win_rate))\n",
    "print('Loss rate of home team {:2f}%'.format(loss_rate))\n",
    "print(collections.Counter(Matches.Result))"
   ]
  },
  {
   "cell_type": "code",
   "execution_count": null,
   "metadata": {},
   "outputs": [],
   "source": [
    "dropcols = [\n",
    " 'playerId',\n",
    " 'weight',\n",
    " 'height',\n",
    " 'xStart',\n",
    " 'yStart',\n",
    " 'homeTeamId',\n",
    " 'awayTeamId',\n",
    " 'gameTime (min)',\n",
    "#  'AccurateAttackMetres',\n",
    "#  'InaccurateAttackMetres',\n",
    "#  'Goal_Value',\n",
    "#  'SimulationFouls',\n",
    "#  'FoulsCommited',\n",
    "#  'Clearances',\n",
    "#  'AccLaunchMetres',\n",
    "#  'InaccLaunchMetres',\n",
    "#  'FKKeyCross',\n",
    "#  'FKCrossAssists',\n",
    " 'FKCrossAccuracy',\n",
    " 'penaltiesConversion',\n",
    "#  'dangerousOpponentHalfRecoveries',\n",
    "#  'dangerousOwnHalfBallLost',\n",
    "#  'dangerousDefDuelsLost',\n",
    " 'low_left_save_efficiency',\n",
    " 'mid_left_save_efficiency',\n",
    " 'high_left_save_efficiency',\n",
    " 'low_center_save_efficiency',\n",
    " 'mid_center_save_efficiency',\n",
    " 'high_center_save_efficiency',\n",
    " 'low_right_save_efficiency',\n",
    " 'mid_right_save_efficiency',\n",
    " 'high_right_save_efficiency',\n",
    "#  'goalsAllowed',\n",
    "#  'GkSaves',\n",
    "#  'AccurateHandPass',\n",
    "#  'InaccurateHandPass',\n",
    "#  'GKLeavingLineInstance',\n",
    "#  'SuccessfulAccels',\n",
    "#  'FailedAccels',\n",
    "#  'CumAccelerationDist',\n",
    "#  'AccelsDistIntoFinal3rd',\n",
    "#  'AccelsDistWithinFinal3rd',\n",
    "#  'CrossAssists',\n",
    "#  'RightFootCross',\n",
    "#  'LeftFootCross',\n",
    "#  'CrossKeyPass',\n",
    "#  'AccCrosses',\n",
    "#  'InaccCrosses',\n",
    "#  'AccCrossesIntoBox',\n",
    "#  'InaccCrossesIntoBox',\n",
    "#  'SlidingTacklesWon',\n",
    "#  'SlidingTacklesLost',\n",
    "#  'GroundDefDuelsWon',\n",
    "#  'GroundDefDuelsLost',\n",
    "#  'DefensiveAnticipations',\n",
    "#  'GroundLooseBallsWon',\n",
    "#  'GroundLooseBallsLost',\n",
    "#  'GroundAttackDuelsWon',\n",
    "#  'GroundAttackDuelsLost',\n",
    "#  'OffensiveTouchesBox',\n",
    "#  'Goal_low_left',\n",
    "#  'Goal_mid_left',\n",
    "#  'Goal_high_left',\n",
    "#  'Goal_low_center',\n",
    "#  'Goal_mid_center',\n",
    "#  'Goal_high_center',\n",
    "#  'Goal_low_right',\n",
    "#  'Goal_mid_right',\n",
    "#  'Goal_high_right',\n",
    " 'shotAccuracy',\n",
    "#  'ShotsOnTarget',\n",
    "#  'ShotsOffTarget',\n",
    "#  'ShotOpportunities',\n",
    "#  'FreeKickShotAcc',\n",
    "#  'FreeKickShotInacc',\n",
    "#  'PenaltyNotScored',\n",
    "#  'Header/Body_Goal',\n",
    "#  'RightFootGoal',\n",
    "#  'LeftFootGoal',\n",
    "#  'CounterAttackGoal',\n",
    "#  'InterceptionGoal',\n",
    "#  'OwnGoals',\n",
    "#  'AerialDuelsWon',\n",
    "#  'AerialDuelsLost',\n",
    " 'shortPassAccuracy',\n",
    " 'longPassAccuracy',\n",
    " 'shortLongPassRatio',\n",
    "#  'InaccPassesWithinFinalThird',\n",
    "#  'AccPassesWithinFinalThird',\n",
    "#  'AccPassesIntoFinalThird',\n",
    "#  'InaccPassesIntoFinalThird',\n",
    "#  'AccThroughsIntoFinalThird',\n",
    "#  'InaccurateSmartPasses',\n",
    "#  'AccurateSmartPasses',\n",
    "#  'InaccurateThroughPasses',\n",
    "#  'AccurateThroughPasses',\n",
    "#  'AccurateKeyPasses',\n",
    "#  'InaccurateKeyPasses',\n",
    "#  'TotalAssists',\n",
    "#  'CounterAttackInvolvements',\n",
    "#  'PassLostDangerous',\n",
    "#  'CounterAttackIntercept',\n",
    "#  'SuccessfulInterceptions',\n",
    "#  'InaccurateForwardPasses',\n",
    "#  'AccurateForwardPasses',\n",
    "#  'CornerAssists',\n",
    "#  'CornerOpportunitiesCreated',\n",
    "#  'SuccessfulCorners',\n",
    "#  'FailedCorners',\n",
    " 'Result']"
   ]
  }
 ],
 "metadata": {
  "kernelspec": {
   "display_name": "Python 3",
   "language": "python",
   "name": "python3"
  },
  "language_info": {
   "codemirror_mode": {
    "name": "ipython",
    "version": 3
   },
   "file_extension": ".py",
   "mimetype": "text/x-python",
   "name": "python",
   "nbconvert_exporter": "python",
   "pygments_lexer": "ipython3",
   "version": "3.8.6"
  }
 },
 "nbformat": 4,
 "nbformat_minor": 4
}
