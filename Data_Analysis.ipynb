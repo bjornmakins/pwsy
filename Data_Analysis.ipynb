{
 "cells": [
  {
   "cell_type": "code",
   "execution_count": 2,
   "metadata": {},
   "outputs": [],
   "source": [
    "import pandas as pd # data manipulation\n",
    "pd.options.mode.chained_assignment = None  # default='warn'\n",
    "import numpy as np #  mathematical support for large, multi-dimensional arrays and matrices\n",
    "import os"
   ]
  },
  {
   "cell_type": "code",
   "execution_count": 3,
   "metadata": {},
   "outputs": [
    {
     "name": "stderr",
     "output_type": "stream",
     "text": [
      "Matplotlib created a temporary config/cache directory at /tmp/matplotlib-lp4tih6f because the default path (/home/jovyan/.cache/matplotlib) is not a writable directory; it is highly recommended to set the MPLCONFIGDIR environment variable to a writable directory, in particular to speed up the import of Matplotlib and to better support multiprocessing.\n"
     ]
    }
   ],
   "source": [
    "import sqlite3\n",
    "import seaborn as sns\n",
    "import matplotlib.pyplot as plt\n",
    "%matplotlib inline\n",
    "import collections"
   ]
  },
  {
   "cell_type": "code",
   "execution_count": 4,
   "metadata": {},
   "outputs": [],
   "source": [
    "from sklearn.model_selection import train_test_split\n",
    "from sklearn.tree import DecisionTreeRegressor \n",
    "import re"
   ]
  },
  {
   "cell_type": "markdown",
   "metadata": {},
   "source": [
    "### Set Directory"
   ]
  },
  {
   "cell_type": "code",
   "execution_count": 5,
   "metadata": {},
   "outputs": [
    {
     "data": {
      "text/plain": [
       "'/scratch/interns202010/jmakins/jupyter-dir'"
      ]
     },
     "execution_count": 5,
     "metadata": {},
     "output_type": "execute_result"
    }
   ],
   "source": [
    "os.getcwd()"
   ]
  },
  {
   "cell_type": "code",
   "execution_count": 6,
   "metadata": {},
   "outputs": [],
   "source": [
    "try:\n",
    "    os.chdir('/group/interns202010/jmakins/Data')\n",
    "except:\n",
    "    pass"
   ]
  },
  {
   "cell_type": "code",
   "execution_count": 7,
   "metadata": {},
   "outputs": [
    {
     "data": {
      "text/plain": [
       "['world_soccer_database.sqlite',\n",
       " 'events',\n",
       " 'referees.json',\n",
       " 'players_old.json',\n",
       " 'players.json',\n",
       " 'competitions.json',\n",
       " 'teams.json',\n",
       " 'coaches.json',\n",
       " 'players_old.csv',\n",
       " 'matches',\n",
       " '.DS_Store']"
      ]
     },
     "execution_count": 7,
     "metadata": {},
     "output_type": "execute_result"
    }
   ],
   "source": [
    "os.listdir()"
   ]
  },
  {
   "cell_type": "code",
   "execution_count": 8,
   "metadata": {},
   "outputs": [],
   "source": [
    "Teams = pd.read_json('teams.json')\n",
    "Competitions = pd.read_json('competitions.json')\n",
    "Players = pd.read_json('players.json')\n",
    "Coaches = pd.read_json('coaches.json') # Managers"
   ]
  },
  {
   "cell_type": "code",
   "execution_count": null,
   "metadata": {},
   "outputs": [],
   "source": []
  },
  {
   "cell_type": "code",
   "execution_count": 12,
   "metadata": {},
   "outputs": [],
   "source": [
    "try:\n",
    "    os.chdir('/group/interns202010/jmakins/Data/matches')\n",
    "except:\n",
    "    pass\n",
    "England = pd.read_json('matches_England.json')\n",
    "France = pd.read_json('matches_France.json')\n",
    "Italy = pd.read_json('matches_Italy.json')\n",
    "Spain = pd.read_json('matches_Spain.json')\n",
    "Germany = pd.read_json('matches_Germany.json')\n",
    "#World_Cup = pd.read_json('matches_World_Cup.json')\n",
    "#Euro_Champs = pd.read_json('matches_European_Championship.json')"
   ]
  },
  {
   "cell_type": "code",
   "execution_count": 13,
   "metadata": {},
   "outputs": [],
   "source": [
    "# Adding country labels to match observations\n",
    "England['Country'] = 'England'\n",
    "France['Country'] = 'France'\n",
    "Italy['Country'] = 'Italy'\n",
    "Spain['Country'] = 'Spain'\n",
    "Germany['Country'] = \"Germany\"\n",
    "#World_Cup['Country'] = 'World Cup'\n",
    "#Euro_Champs['Country'] = 'European Champs'"
   ]
  },
  {
   "cell_type": "code",
   "execution_count": 14,
   "metadata": {},
   "outputs": [],
   "source": [
    "try:\n",
    "    os.chdir('/group/interns202010/jmakins/Data/events')\n",
    "except:\n",
    "    pass"
   ]
  },
  {
   "cell_type": "code",
   "execution_count": 15,
   "metadata": {},
   "outputs": [],
   "source": [
    "#test = pd.read_json('events_England.json')"
   ]
  },
  {
   "cell_type": "code",
   "execution_count": 16,
   "metadata": {},
   "outputs": [],
   "source": [
    "## IF Topaz goes down, use Kaggle GPU ##\n",
    "\n",
    "# os.chdir('/kaggle/input/football-event-data')\n",
    "\n",
    "# Teams = pd.read_json('teams.json')\n",
    "# Competitions = pd.read_json('competitions.json')\n",
    "# Players = pd.read_json('players.json')\n",
    "# Coaches = pd.read_json('coaches.json') # Managers\n",
    "\n",
    "# England = pd.read_json('matches_England.json')\n",
    "# France = pd.read_json('matches_France.json')\n",
    "# Italy = pd.read_json('matches_Italy.json')\n",
    "# Spain = pd.read_json('matches_Spain.json')\n",
    "# Germany = pd.read_json('matches_Germany.json')\n",
    "\n",
    "# England['Country'] = 'England'\n",
    "# France['Country'] = 'France'\n",
    "# Italy['Country'] = 'Italy'\n",
    "# Spain['Country'] = 'Spain'\n",
    "# Germany['Country'] = \"Germany\""
   ]
  },
  {
   "cell_type": "code",
   "execution_count": 17,
   "metadata": {},
   "outputs": [],
   "source": [
    "#Matches.loc[((Matches['homeTeamId']==1644) & (Matches['awayTeamId']==1659)) | ((Matches['homeTeamId']==1659) & (Matches['awayTeamId']==1644))]\n"
   ]
  },
  {
   "cell_type": "code",
   "execution_count": 18,
   "metadata": {},
   "outputs": [],
   "source": [
    "#Events_England[Events_England['matchId']==2500037]"
   ]
  },
  {
   "cell_type": "code",
   "execution_count": 19,
   "metadata": {},
   "outputs": [],
   "source": [
    "#Events_England[(Events_England['subEventDescription'].str.match('goal ')) & (Events_England['Result']==\"Failure\") & (Events_England['subEventName']==\"Shot\")]\n"
   ]
  },
  {
   "cell_type": "code",
   "execution_count": 20,
   "metadata": {},
   "outputs": [],
   "source": [
    "#Events_England.loc[(Events_England['subEventDescription'].str.match(\"goal \")) & (Events_England['Result']==\"Success\")].subEventName.unique()\n"
   ]
  },
  {
   "cell_type": "code",
   "execution_count": 21,
   "metadata": {},
   "outputs": [],
   "source": [
    "Events_France = pd.read_json('events_France.json')\n",
    "Events_Spain = pd.read_json('events_Spain.json')\n",
    "Events_Germany = pd.read_json('events_Germany.json')\n",
    "#Events_EuroChamps = pd.read_json('events_European_Championship.json')\n",
    "#Events_World_Cup = pd.read_json('events_World_Cup.json')\n",
    "Events_Italy = pd.read_json('events_Italy.json')\n",
    "Events_England = pd.read_json('events_England.json')"
   ]
  },
  {
   "cell_type": "code",
   "execution_count": 22,
   "metadata": {},
   "outputs": [],
   "source": [
    "## We have a function for this now further down to be applied across all european regions\n",
    "\n",
    "## Solution to convert second half time into \n",
    "# secs_to_add = list(Events_England[Events_England['matchPeriod']==\"1H\"].groupby('matchId').tail(1)['eventSec'])\n",
    "# match_ids = list(Events_England[\"matchId\"].unique())\n",
    "\n",
    "# for idx in range(0, len(match_ids)):\n",
    "#     Events_England['eventSec'] = list(np.where(\n",
    "#        (Events_England['matchId'] == match_ids[idx]) & (Events_England['matchPeriod'] == \"2H\") , Events_England['eventSec'] + secs_to_add[idx], Events_England['eventSec']\n",
    "#        ))"
   ]
  },
  {
   "cell_type": "code",
   "execution_count": 23,
   "metadata": {},
   "outputs": [
    {
     "data": {
      "text/html": [
       "<div>\n",
       "<style scoped>\n",
       "    .dataframe tbody tr th:only-of-type {\n",
       "        vertical-align: middle;\n",
       "    }\n",
       "\n",
       "    .dataframe tbody tr th {\n",
       "        vertical-align: top;\n",
       "    }\n",
       "\n",
       "    .dataframe thead th {\n",
       "        text-align: right;\n",
       "    }\n",
       "</style>\n",
       "<table border=\"1\" class=\"dataframe\">\n",
       "  <thead>\n",
       "    <tr style=\"text-align: right;\">\n",
       "      <th></th>\n",
       "      <th>eventId</th>\n",
       "      <th>subEventName</th>\n",
       "      <th>tags</th>\n",
       "      <th>playerId</th>\n",
       "      <th>positions</th>\n",
       "      <th>matchId</th>\n",
       "      <th>eventName</th>\n",
       "      <th>teamId</th>\n",
       "      <th>matchPeriod</th>\n",
       "      <th>eventSec</th>\n",
       "      <th>subEventId</th>\n",
       "      <th>id</th>\n",
       "    </tr>\n",
       "  </thead>\n",
       "  <tbody>\n",
       "    <tr>\n",
       "      <th>1763</th>\n",
       "      <td>8</td>\n",
       "      <td>Launch</td>\n",
       "      <td>[{'id': 1802}]</td>\n",
       "      <td>8480</td>\n",
       "      <td>[{'y': 53, 'x': 7}, {'y': 49, 'x': 46}]</td>\n",
       "      <td>2499719</td>\n",
       "      <td>Pass</td>\n",
       "      <td>1631</td>\n",
       "      <td>2H</td>\n",
       "      <td>2992.491575</td>\n",
       "      <td>84</td>\n",
       "      <td>177961040</td>\n",
       "    </tr>\n",
       "    <tr>\n",
       "      <th>1764</th>\n",
       "      <td>8</td>\n",
       "      <td>Head pass</td>\n",
       "      <td>[{'id': 1801}]</td>\n",
       "      <td>49876</td>\n",
       "      <td>[{'y': 51, 'x': 54}, {'y': 58, 'x': 73}]</td>\n",
       "      <td>2499719</td>\n",
       "      <td>Pass</td>\n",
       "      <td>1609</td>\n",
       "      <td>2H</td>\n",
       "      <td>2994.900590</td>\n",
       "      <td>82</td>\n",
       "      <td>177961035</td>\n",
       "    </tr>\n",
       "    <tr>\n",
       "      <th>1765</th>\n",
       "      <td>10</td>\n",
       "      <td>Shot</td>\n",
       "      <td>[{'id': 402}, {'id': 201}, {'id': 1216}, {'id'...</td>\n",
       "      <td>7870</td>\n",
       "      <td>[{'y': 58, 'x': 73}, {'y': 0, 'x': 0}]</td>\n",
       "      <td>2499719</td>\n",
       "      <td>Shot</td>\n",
       "      <td>1609</td>\n",
       "      <td>2H</td>\n",
       "      <td>2997.086392</td>\n",
       "      <td>100</td>\n",
       "      <td>177961036</td>\n",
       "    </tr>\n",
       "    <tr>\n",
       "      <th>1766</th>\n",
       "      <td>5</td>\n",
       "      <td>Ball out of the field</td>\n",
       "      <td>[]</td>\n",
       "      <td>0</td>\n",
       "      <td>[{'y': 48, 'x': 3}, {'y': 100, 'x': 100}]</td>\n",
       "      <td>2499719</td>\n",
       "      <td>Interruption</td>\n",
       "      <td>1631</td>\n",
       "      <td>2H</td>\n",
       "      <td>2998.963701</td>\n",
       "      <td>50</td>\n",
       "      <td>177961041</td>\n",
       "    </tr>\n",
       "    <tr>\n",
       "      <th>1767</th>\n",
       "      <td>3</td>\n",
       "      <td>Goal kick</td>\n",
       "      <td>[]</td>\n",
       "      <td>8480</td>\n",
       "      <td>[{'y': 100, 'x': 100}, {'y': 100, 'x': 100}]</td>\n",
       "      <td>2499719</td>\n",
       "      <td>Free Kick</td>\n",
       "      <td>1631</td>\n",
       "      <td>2H</td>\n",
       "      <td>3006.647279</td>\n",
       "      <td>34</td>\n",
       "      <td>177961042</td>\n",
       "    </tr>\n",
       "  </tbody>\n",
       "</table>\n",
       "</div>"
      ],
      "text/plain": [
       "      eventId           subEventName  \\\n",
       "1763        8                 Launch   \n",
       "1764        8              Head pass   \n",
       "1765       10                   Shot   \n",
       "1766        5  Ball out of the field   \n",
       "1767        3              Goal kick   \n",
       "\n",
       "                                                   tags  playerId  \\\n",
       "1763                                     [{'id': 1802}]      8480   \n",
       "1764                                     [{'id': 1801}]     49876   \n",
       "1765  [{'id': 402}, {'id': 201}, {'id': 1216}, {'id'...      7870   \n",
       "1766                                                 []         0   \n",
       "1767                                                 []      8480   \n",
       "\n",
       "                                         positions  matchId     eventName  \\\n",
       "1763       [{'y': 53, 'x': 7}, {'y': 49, 'x': 46}]  2499719          Pass   \n",
       "1764      [{'y': 51, 'x': 54}, {'y': 58, 'x': 73}]  2499719          Pass   \n",
       "1765        [{'y': 58, 'x': 73}, {'y': 0, 'x': 0}]  2499719          Shot   \n",
       "1766     [{'y': 48, 'x': 3}, {'y': 100, 'x': 100}]  2499719  Interruption   \n",
       "1767  [{'y': 100, 'x': 100}, {'y': 100, 'x': 100}]  2499719     Free Kick   \n",
       "\n",
       "      teamId matchPeriod     eventSec subEventId         id  \n",
       "1763    1631          2H  2992.491575         84  177961040  \n",
       "1764    1609          2H  2994.900590         82  177961035  \n",
       "1765    1609          2H  2997.086392        100  177961036  \n",
       "1766    1631          2H  2998.963701         50  177961041  \n",
       "1767    1631          2H  3006.647279         34  177961042  "
      ]
     },
     "execution_count": 23,
     "metadata": {},
     "output_type": "execute_result"
    }
   ],
   "source": [
    "# Example of an events table\n",
    "Events_England[Events_England['matchId'] == 2499719].tail()"
   ]
  },
  {
   "cell_type": "markdown",
   "metadata": {},
   "source": [
    "### Data Cleaning"
   ]
  },
  {
   "cell_type": "code",
   "execution_count": 24,
   "metadata": {},
   "outputs": [],
   "source": [
    "Matches = pd.concat([England, France, Italy, Spain, Germany], ignore_index=True)"
   ]
  },
  {
   "cell_type": "code",
   "execution_count": 25,
   "metadata": {},
   "outputs": [],
   "source": [
    "Matches.drop(['duration'], inplace=True, axis =1) # removing groupName variable from World Cups"
   ]
  },
  {
   "cell_type": "code",
   "execution_count": 26,
   "metadata": {},
   "outputs": [],
   "source": [
    "Players.drop([\"passportArea\"], inplace = True, axis = 1)"
   ]
  },
  {
   "cell_type": "code",
   "execution_count": 27,
   "metadata": {},
   "outputs": [],
   "source": [
    "Players = Players.rename(columns ={'wyId': 'playerId'}) # rename for convenience"
   ]
  },
  {
   "cell_type": "code",
   "execution_count": 28,
   "metadata": {},
   "outputs": [],
   "source": [
    "Teams = Teams.rename(columns = {'wyId': 'teamId'})\n",
    "Players = Players.rename(columns = {'currentTeamId': 'teamId'})\n",
    "Players = pd.merge(Players,Teams[['teamId', 'officialName']], on = 'teamId').rename(columns = {'officialName': 'clubName'})"
   ]
  },
  {
   "cell_type": "code",
   "execution_count": 29,
   "metadata": {},
   "outputs": [],
   "source": [
    "Players['Position'] = Players.role.apply(pd.Series)['code3'].values"
   ]
  },
  {
   "cell_type": "code",
   "execution_count": 30,
   "metadata": {},
   "outputs": [],
   "source": [
    "Players['birthCountry'] = Players.birthArea.apply(pd.Series)['name'].values"
   ]
  },
  {
   "cell_type": "code",
   "execution_count": 31,
   "metadata": {},
   "outputs": [],
   "source": [
    "Players.drop([\"birthArea\", 'role'], inplace = True, axis = 1)"
   ]
  },
  {
   "cell_type": "markdown",
   "metadata": {},
   "source": [
    "### Manipulate Match Data"
   ]
  },
  {
   "cell_type": "code",
   "execution_count": 32,
   "metadata": {},
   "outputs": [],
   "source": [
    "teams = [list(x.keys()) for x in Matches.teamsData] # create two columns for identifying teams in match"
   ]
  },
  {
   "cell_type": "code",
   "execution_count": 33,
   "metadata": {},
   "outputs": [],
   "source": [
    "teams = [list(x.keys()) for x in Matches.teamsData] # create two columns for identifying teams in match\n",
    "homeTeam, awayTeam = [],[]\n",
    "for x in teams:\n",
    "    homeTeam.append(x[0])\n",
    "    awayTeam.append(x[1])"
   ]
  },
  {
   "cell_type": "code",
   "execution_count": 34,
   "metadata": {},
   "outputs": [],
   "source": [
    "# add columns for additional match statistics\n",
    "Matches[\"homeManagerId\"] = None\n",
    "for name in [\"Score\", \"ScoreHT\", \"ScoreET\", \"ScoreP\"]:\n",
    "    colname = \"home\" + name\n",
    "    colname2 = \"away\" + name\n",
    "    Matches[colname] = None\n",
    "    Matches[colname2] = None"
   ]
  },
  {
   "cell_type": "code",
   "execution_count": 35,
   "metadata": {},
   "outputs": [],
   "source": [
    "# parse Home and Away teams as features from nest dictionary\n",
    "teams = [list(x.keys()) for x in Matches.teamsData] # create two columns for identifying teams in match\n",
    "homeTeam, awayTeam = [],[]\n",
    "for game, team in enumerate(teams):\n",
    "    if Matches.teamsData[game:game+1][game][team[0]]['side'] == 'home':\n",
    "        homeTeam.append(team[0])\n",
    "        awayTeam.append(team[1])\n",
    "    else:\n",
    "        awayTeam.append(team[0])\n",
    "        homeTeam.append(team[1])"
   ]
  },
  {
   "cell_type": "code",
   "execution_count": 36,
   "metadata": {},
   "outputs": [],
   "source": [
    "def get_team_stats(df, team): # function to parse team match stats from dictionary embedded in column teamsData from the Matches dataframe\n",
    "    \n",
    "    Bench, Starters, Manager, Score, ScoreHT, ScoreET, ScoreP, teamId = [],[],[],[],[],[],[],[]\n",
    "    \n",
    "    for game in range(0, len(df)):\n",
    "\n",
    "        Bench.append(list(pd.DataFrame.from_dict(df.teamsData[game][team[game]]['formation']['bench'])['playerId']))\n",
    "        Starters.append(list(pd.DataFrame.from_dict(df.teamsData[game][team[game]]['formation']['lineup'])['playerId']))\n",
    "        Manager.append(df.teamsData[game][team[game]]['coachId'])\n",
    "        Score.append(df.teamsData[game][team[game]]['score'])\n",
    "        ScoreHT.append(df.teamsData[game][team[game]]['scoreHT'])\n",
    "        ScoreET.append(df.teamsData[game][team[game]]['scoreET'])\n",
    "        ScoreP.append(df.teamsData[game][team[game]]['scoreP'])\n",
    "        teamId.append(df.teamsData[game][team[game]]['teamId'])\n",
    "    \n",
    "    return Bench, Starters, Manager, Score, ScoreHT, ScoreET, ScoreP, teamId\n",
    "\n",
    "homeBench, homeStarters, homeManager, homeScore, homeScoreHT, homeScoreET, homeScoreP, homeTeamId = get_team_stats(Matches, homeTeam)\n",
    "awayBench, awayStarters, awayManager, awayScore, awayScoreHT, awayScoreET, awayScoreP, awayTeamId = get_team_stats(Matches, awayTeam)\n"
   ]
  },
  {
   "cell_type": "code",
   "execution_count": 37,
   "metadata": {},
   "outputs": [],
   "source": [
    "# Automating Bench Line Up Column Generation\n",
    "\n",
    "homeColNames = []\n",
    "for num in range(1,14): # add columns for home bench playerId\n",
    "     homeColNames.append(\"homeBenchPlayer\" + str(num))\n",
    "        \n",
    "awayColNames = []\n",
    "for num in range(1,14): # add columns for away bench playerId\n",
    "    awayColNames.append(\"awayBenchPlayer\" + str(num))\n",
    "    \n"
   ]
  },
  {
   "cell_type": "code",
   "execution_count": 38,
   "metadata": {},
   "outputs": [
    {
     "data": {
      "text/plain": [
       "Counter({7: 1425, 6: 18, 5: 1, 8: 5, 12: 205, 10: 49, 11: 101, 9: 21, 13: 1})"
      ]
     },
     "execution_count": 38,
     "metadata": {},
     "output_type": "execute_result"
    }
   ],
   "source": [
    "# Inspecting bench counts as during errror handling reveals some matches had bench sizes of between 8 and 13 for certain fixtures\n",
    "import collections\n",
    "collections.Counter(list(map(lambda x: len(x), homeBench)))"
   ]
  },
  {
   "cell_type": "code",
   "execution_count": 39,
   "metadata": {},
   "outputs": [],
   "source": [
    "# Adding Bench Line Ups to DataFrame\n",
    "\n",
    "homeBench2 = pd.DataFrame(homeBench,\n",
    "     columns=homeColNames)\n",
    "awayBench2 = pd.DataFrame(awayBench,\n",
    "     columns=awayColNames)\n"
   ]
  },
  {
   "cell_type": "code",
   "execution_count": 40,
   "metadata": {},
   "outputs": [],
   "source": [
    "# Automating Starting Line Up Column Generation\n",
    "\n",
    "homeColNames =[]\n",
    "for num in range(1,12): # add columns for starting playerId\n",
    "     homeColNames.append(\"homePlayer\" + str(num))\n",
    "        \n",
    "awayColNames = []\n",
    "for num in range(1,12): # add columns for starting playerId\n",
    "    awayColNames.append(\"awayPlayer\" + str(num))\n"
   ]
  },
  {
   "cell_type": "code",
   "execution_count": 41,
   "metadata": {},
   "outputs": [],
   "source": [
    "# Joining starting line ups, benches to matches dataframe\n",
    "\n",
    "homeStarters2 = pd.DataFrame(homeStarters,\n",
    "     columns=homeColNames)\n",
    "awayStarters2 = pd.DataFrame(awayStarters,\n",
    "     columns=awayColNames)\n",
    "\n",
    "Matches = Matches.join([homeStarters2, awayStarters2, homeBench2, awayBench2])\n"
   ]
  },
  {
   "cell_type": "code",
   "execution_count": 42,
   "metadata": {},
   "outputs": [],
   "source": [
    "# add individual columns of match data\n",
    "Matches['homeManager'] = homeManager\n",
    "Matches['homeScore'] = homeScore\n",
    "Matches['homeScoreHT'] = homeScoreHT\n",
    "Matches['homeScoreET'] = homeScoreET\n",
    "Matches['homeScoreP'] = homeScoreP\n",
    "Matches['homeTeamId'] = homeTeamId\n",
    "Matches['awayManager'] = awayManager\n",
    "Matches['awayScore'] = awayScore\n",
    "Matches['awayScoreHT'] = awayScoreHT\n",
    "Matches['awayScoreET'] = awayScoreET\n",
    "Matches['awayScoreP'] = awayScoreP\n",
    "Matches['awayTeamId'] = awayTeamId"
   ]
  },
  {
   "cell_type": "code",
   "execution_count": 43,
   "metadata": {},
   "outputs": [],
   "source": [
    "Matches.drop([\"teamsData\"], inplace = True, axis = 1)"
   ]
  },
  {
   "cell_type": "code",
   "execution_count": 44,
   "metadata": {},
   "outputs": [],
   "source": [
    "# Classify Match Result as W, L or D for teams\n",
    "conditions = [\n",
    "    (Matches['winner'] == 0),\n",
    "    (Matches['winner'] == Matches['awayTeamId']),\n",
    "    (Matches['winner'] == Matches['homeTeamId'])\n",
    "    ]\n",
    "\n",
    "# create a list of the values we want to assign for each condition\n",
    "values = [0, -1, 1]\n",
    "\n",
    "# create a new column and use np.select to assign values to it using our lists as arguments\n",
    "Matches['Result'] = np.select(conditions, values)"
   ]
  },
  {
   "cell_type": "markdown",
   "metadata": {},
   "source": [
    "###### Relating table to access Referee Data"
   ]
  },
  {
   "cell_type": "code",
   "execution_count": 45,
   "metadata": {},
   "outputs": [],
   "source": [
    "# os.chdir('/group/interns202010/jmakins/Data')"
   ]
  },
  {
   "cell_type": "code",
   "execution_count": 46,
   "metadata": {},
   "outputs": [],
   "source": [
    "\n",
    "# sql_conn = sqlite3.connect('world_soccer_database.sqlite') # soccer database containing over 100,000 match results which is updated monthly\n",
    "\n",
    "# Match_TeamStats = pd.read_sql_query(\"SELECT * FROM football_data\", sql_conn)\n",
    "\n",
    "# # parsing betting odds variables from analysis\n",
    "# drop_columns = [\"B365H\",\"B365D\",\"B365A\",\"BSH\",\"BSD\",\"BSA\",\"BWH\",\"BWD\",\"BWA\",\"GBH\",\"GBD\",\"GBA\",\"IWH\",\"IWD\",\"IWA\",\"LBH\",\"LBD\",\"LBA\",\n",
    "# \"PSH\", \"PH\",\"PSD\", \"PD\",\"PSA\", \"PA\",\"SOH\",\"SOD\",\"SOA\",\"SBH\",\"SBD\",\"SBA\",\"SJH\",\"SJD\",\"SJA\",\"SYH\",\"SYD\",\"SYA\",\"VCH\",\n",
    "# \"VCD\",\"VCA\",\"WHH\",\"WHD\",\"WHA\",\"Bb1X2\",\"BbMxH\",\"BbAvH\",\"BbMxD\",\"BbAvD\",\"BbMxA\",\"BbAvA\",\"MaxH\",\"MaxD\",\"MaxA\",\n",
    "# \"AvgH\",\"AvgD\",\"AvgA\",\"BbOU\",\"BbMx>2.5\",\"BbAv>2.5\",\"BbMx<2.5\",\"BbAv<2.5\",\"GB>2.5\",\"GB<2.5\",\"B365>2.5\",\"B365<2.5\",\n",
    "# \"P>2.5\",\"P<2.5\",\"Max>2.5\",\"Max<2.5\",\"Avg>2.5\",\"Avg<2.5\",\"BbAH\",\"BbAHh\",\"AHh\",\"BbMxAHH\",\"BbAvAHH\",\"BbMxAHA\",\n",
    "# \"BbAvAHA\",\"GBAHH\",\"GBAHA\",\"GBAH\",\"LBAHH\",\"LBAHA\",\"LBAH\",\"B365AHH\",\"B365AHA\",\"B365AH\",\"PAHH\", \"AvgC<2.5\",\n",
    "# \"PAHA\",\"MaxAHH\",\"MaxAHA\",\"AvgAHH\",\"AvgAHA\",\"WHCH\",\"WHCD\",\"WHCA\", \"VCCH\", \"VCCA\", \"PSCH\", \"PSCD\", \"PCAHH\", \"PCAHA\", \"PC>2.5\", \"PC<2.5\", \"MaxCH\", \"MaxCAHH\", \"MaxCD\",\n",
    "# \"MaxCAHA\", \"MaxCA\", \"MaxC>2.5\", \"MaxC<2.5\", \"IWCH\", \"IWCD\", \"IWCA\", \"AvgC>2.5\",\"AvgCA\",\"AvgCAHA\",\"AvgCAHH\",\n",
    "# \"AvgCD\",\"AvgCH\",\"B365C<2.5\",\"B365C>2.5\",\"B365CA\",\"B365CAHA\",\"B365CAHH\",\"B365CD\",\"B365CH\",\"BWCA\", \"BWCD\", \"BWCH\", \"VCCD\", \"PSCA\"] \n",
    "\n",
    "# Match_TeamStats.drop(drop_columns, inplace=True, axis =1) # removing betting odds from dataframe\n",
    "\n",
    "\n",
    "\n"
   ]
  },
  {
   "cell_type": "code",
   "execution_count": 47,
   "metadata": {},
   "outputs": [],
   "source": [
    "# Match_TeamStats = Match_TeamStats[Match_TeamStats['Datetime'].str.contains('2017|2018')]"
   ]
  },
  {
   "cell_type": "code",
   "execution_count": 48,
   "metadata": {},
   "outputs": [],
   "source": [
    "Matches[\"date\"] = pd.to_datetime(Matches['dateutc']).dt.date # create a date column for Matches dataframe"
   ]
  },
  {
   "cell_type": "code",
   "execution_count": 49,
   "metadata": {},
   "outputs": [],
   "source": [
    "Matches[\"time\"] = pd.to_datetime(Matches['dateutc']).dt.time # create a time column for Matches dataframe"
   ]
  },
  {
   "cell_type": "code",
   "execution_count": 50,
   "metadata": {},
   "outputs": [],
   "source": [
    "# Prelim Dimensionality Reduction\n",
    "cols2Drop = ['status', 'roundId', 'gameweek', 'dateutc', 'label', 'referees', 'homeManagerId', 'seasonId']\n",
    "Matches.drop(cols2Drop, inplace=True, axis =1)\n",
    "Matches.drop(['winner', 'date', 'time'], inplace = True, axis =1)"
   ]
  },
  {
   "cell_type": "code",
   "execution_count": 51,
   "metadata": {},
   "outputs": [],
   "source": [
    "Matches.rename(columns={'wyId':'matchId'}, inplace=True)"
   ]
  },
  {
   "cell_type": "code",
   "execution_count": 52,
   "metadata": {},
   "outputs": [],
   "source": [
    "Matches = Matches.fillna(0) # fill bench7players with Ids = 0 in order to prevent program crashing"
   ]
  },
  {
   "cell_type": "code",
   "execution_count": 53,
   "metadata": {},
   "outputs": [],
   "source": [
    "# Match_TeamStats['date'] = pd.to_datetime(Match_TeamStats['Datetime']).dt.date"
   ]
  },
  {
   "cell_type": "code",
   "execution_count": 54,
   "metadata": {},
   "outputs": [],
   "source": [
    "# # Get Referee and Home/Away Team Information\n",
    "# Match_TeamStats.merge(Matches, how = \"inner\", indicator = False)"
   ]
  },
  {
   "cell_type": "code",
   "execution_count": 55,
   "metadata": {},
   "outputs": [],
   "source": [
    "# Matches = Match_TeamStats.merge(Matches, how = \"inner\", indicator = False)"
   ]
  },
  {
   "cell_type": "code",
   "execution_count": 56,
   "metadata": {},
   "outputs": [],
   "source": [
    "# Matches.drop(['gameweek', 'seasonId', 'dateutc', 'label', 'Season', 'status', 'roundId'], inplace= True, axis =1)"
   ]
  },
  {
   "cell_type": "code",
   "execution_count": 57,
   "metadata": {},
   "outputs": [],
   "source": [
    "# Matches.drop(['Datetime', 'Div','FTHG', 'FTAG', 'FTR', 'HTHG', 'HTAG', 'HTR', 'ABP', 'AC',\n",
    "#        'AF', 'AFKC', 'AHCh', 'AHW', 'AO', 'AR', 'AS', 'AST', 'AT', 'AY',\n",
    "#        'Attendance', 'Date', 'HBP', 'HC', 'HF', 'HFKC', 'HHW', 'HO', 'HR',\n",
    "#        'HS', 'HST', 'HT', 'HY', 'Time', 'referees'], inplace= True, axis =1)"
   ]
  },
  {
   "cell_type": "markdown",
   "metadata": {},
   "source": [
    "### Events Manipulation for Match/Player Stats and then combine with existing Match(test) dataframe from aboves"
   ]
  },
  {
   "cell_type": "code",
   "execution_count": 416,
   "metadata": {},
   "outputs": [],
   "source": [
    "# Numberize match period\n",
    "for df in [Events_England, Events_Italy, Events_France, Events_Germany, Events_Spain]:\n",
    "    df['matchPeriod'][(df.matchPeriod == \"1H\")] = 1\n",
    "    df['matchPeriod'][(df.matchPeriod == \"2H\")] = 2\n"
   ]
  },
  {
   "cell_type": "code",
   "execution_count": 388,
   "metadata": {},
   "outputs": [
    {
     "data": {
      "text/html": [
       "<div>\n",
       "<style scoped>\n",
       "    .dataframe tbody tr th:only-of-type {\n",
       "        vertical-align: middle;\n",
       "    }\n",
       "\n",
       "    .dataframe tbody tr th {\n",
       "        vertical-align: top;\n",
       "    }\n",
       "\n",
       "    .dataframe thead th {\n",
       "        text-align: right;\n",
       "    }\n",
       "</style>\n",
       "<table border=\"1\" class=\"dataframe\">\n",
       "  <thead>\n",
       "    <tr style=\"text-align: right;\">\n",
       "      <th></th>\n",
       "      <th>eventId</th>\n",
       "      <th>subEventName</th>\n",
       "      <th>playerId</th>\n",
       "      <th>matchId</th>\n",
       "      <th>teamId</th>\n",
       "      <th>matchPeriod</th>\n",
       "      <th>eventSec</th>\n",
       "      <th>subEventId</th>\n",
       "      <th>id</th>\n",
       "      <th>Result</th>\n",
       "      <th>subEventDescription</th>\n",
       "      <th>xStart</th>\n",
       "      <th>xEnd</th>\n",
       "      <th>yStart</th>\n",
       "      <th>yEnd</th>\n",
       "      <th>attackMetres</th>\n",
       "      <th>distance_to_goal</th>\n",
       "      <th>angle_to_goal</th>\n",
       "      <th>Goal_Value</th>\n",
       "      <th>lateralMetres</th>\n",
       "    </tr>\n",
       "  </thead>\n",
       "  <tbody>\n",
       "    <tr>\n",
       "      <th>0</th>\n",
       "      <td>8</td>\n",
       "      <td>Simple pass</td>\n",
       "      <td>25413</td>\n",
       "      <td>2499719</td>\n",
       "      <td>1609</td>\n",
       "      <td>1</td>\n",
       "      <td>2.758649</td>\n",
       "      <td>85</td>\n",
       "      <td>177959171</td>\n",
       "      <td>Accurate</td>\n",
       "      <td>generic play</td>\n",
       "      <td>49</td>\n",
       "      <td>31</td>\n",
       "      <td>49</td>\n",
       "      <td>78</td>\n",
       "      <td>-18</td>\n",
       "      <td>51.01</td>\n",
       "      <td>0.1954</td>\n",
       "      <td>0</td>\n",
       "      <td>29</td>\n",
       "    </tr>\n",
       "    <tr>\n",
       "      <th>1</th>\n",
       "      <td>8</td>\n",
       "      <td>High pass</td>\n",
       "      <td>370224</td>\n",
       "      <td>2499719</td>\n",
       "      <td>1609</td>\n",
       "      <td>1</td>\n",
       "      <td>4.946850</td>\n",
       "      <td>83</td>\n",
       "      <td>177959172</td>\n",
       "      <td>Accurate</td>\n",
       "      <td>generic play</td>\n",
       "      <td>31</td>\n",
       "      <td>51</td>\n",
       "      <td>78</td>\n",
       "      <td>75</td>\n",
       "      <td>20</td>\n",
       "      <td>74.46</td>\n",
       "      <td>0.1244</td>\n",
       "      <td>0</td>\n",
       "      <td>3</td>\n",
       "    </tr>\n",
       "    <tr>\n",
       "      <th>2</th>\n",
       "      <td>8</td>\n",
       "      <td>Head pass</td>\n",
       "      <td>3319</td>\n",
       "      <td>2499719</td>\n",
       "      <td>1609</td>\n",
       "      <td>1</td>\n",
       "      <td>6.542188</td>\n",
       "      <td>82</td>\n",
       "      <td>177959173</td>\n",
       "      <td>Accurate</td>\n",
       "      <td>generic play</td>\n",
       "      <td>51</td>\n",
       "      <td>35</td>\n",
       "      <td>75</td>\n",
       "      <td>71</td>\n",
       "      <td>-16</td>\n",
       "      <td>55.01</td>\n",
       "      <td>0.1619</td>\n",
       "      <td>0</td>\n",
       "      <td>4</td>\n",
       "    </tr>\n",
       "    <tr>\n",
       "      <th>3</th>\n",
       "      <td>8</td>\n",
       "      <td>Head pass</td>\n",
       "      <td>120339</td>\n",
       "      <td>2499719</td>\n",
       "      <td>1609</td>\n",
       "      <td>1</td>\n",
       "      <td>8.143395</td>\n",
       "      <td>82</td>\n",
       "      <td>177959174</td>\n",
       "      <td>Accurate</td>\n",
       "      <td>generic play</td>\n",
       "      <td>35</td>\n",
       "      <td>41</td>\n",
       "      <td>71</td>\n",
       "      <td>95</td>\n",
       "      <td>6</td>\n",
       "      <td>68.31</td>\n",
       "      <td>0.1392</td>\n",
       "      <td>0</td>\n",
       "      <td>24</td>\n",
       "    </tr>\n",
       "    <tr>\n",
       "      <th>4</th>\n",
       "      <td>8</td>\n",
       "      <td>Simple pass</td>\n",
       "      <td>167145</td>\n",
       "      <td>2499719</td>\n",
       "      <td>1609</td>\n",
       "      <td>1</td>\n",
       "      <td>10.302366</td>\n",
       "      <td>85</td>\n",
       "      <td>177959175</td>\n",
       "      <td>Accurate</td>\n",
       "      <td>generic play</td>\n",
       "      <td>41</td>\n",
       "      <td>72</td>\n",
       "      <td>95</td>\n",
       "      <td>88</td>\n",
       "      <td>31</td>\n",
       "      <td>74.20</td>\n",
       "      <td>0.1072</td>\n",
       "      <td>0</td>\n",
       "      <td>7</td>\n",
       "    </tr>\n",
       "  </tbody>\n",
       "</table>\n",
       "</div>"
      ],
      "text/plain": [
       "   eventId subEventName  playerId  matchId  teamId matchPeriod   eventSec  \\\n",
       "0        8  Simple pass     25413  2499719    1609           1   2.758649   \n",
       "1        8    High pass    370224  2499719    1609           1   4.946850   \n",
       "2        8    Head pass      3319  2499719    1609           1   6.542188   \n",
       "3        8    Head pass    120339  2499719    1609           1   8.143395   \n",
       "4        8  Simple pass    167145  2499719    1609           1  10.302366   \n",
       "\n",
       "  subEventId         id    Result subEventDescription  xStart  xEnd  yStart  \\\n",
       "0         85  177959171  Accurate        generic play      49    31      49   \n",
       "1         83  177959172  Accurate        generic play      31    51      78   \n",
       "2         82  177959173  Accurate        generic play      51    35      75   \n",
       "3         82  177959174  Accurate        generic play      35    41      71   \n",
       "4         85  177959175  Accurate        generic play      41    72      95   \n",
       "\n",
       "   yEnd  attackMetres  distance_to_goal  angle_to_goal  Goal_Value  \\\n",
       "0    78           -18             51.01         0.1954           0   \n",
       "1    75            20             74.46         0.1244           0   \n",
       "2    71           -16             55.01         0.1619           0   \n",
       "3    95             6             68.31         0.1392           0   \n",
       "4    88            31             74.20         0.1072           0   \n",
       "\n",
       "   lateralMetres  \n",
       "0             29  \n",
       "1              3  \n",
       "2              4  \n",
       "3             24  \n",
       "4              7  "
      ]
     },
     "execution_count": 388,
     "metadata": {},
     "output_type": "execute_result"
    }
   ],
   "source": [
    "Events_England.head()"
   ]
  },
  {
   "cell_type": "code",
   "execution_count": 59,
   "metadata": {},
   "outputs": [
    {
     "data": {
      "text/plain": [
       "array(['Simple pass', 'High pass', 'Head pass', 'Air duel',\n",
       "       'Ground loose ball duel', 'Smart pass', 'Launch',\n",
       "       'Ground defending duel', 'Ground attacking duel', 'Foul',\n",
       "       'Free Kick', 'Cross', 'Shot', 'Reflexes', 'Touch', 'Clearance',\n",
       "       'Ball out of the field', 'Throw in', 'Goal kick', 'Corner',\n",
       "       'Goalkeeper leaving line', 'Hand pass', 'Acceleration',\n",
       "       'Save attempt', '', 'Free kick cross', 'Free kick shot',\n",
       "       'Hand foul', 'Violent Foul', 'Protest', 'Whistle',\n",
       "       'Late card foul', 'Out of game foul', 'Penalty', 'Time lost foul',\n",
       "       'Simulation'], dtype=object)"
      ]
     },
     "execution_count": 59,
     "metadata": {},
     "output_type": "execute_result"
    }
   ],
   "source": [
    "Events_England['subEventName'].unique()"
   ]
  },
  {
   "cell_type": "code",
   "execution_count": 60,
   "metadata": {},
   "outputs": [],
   "source": [
    "# Decroos Github\n",
    "tags = [\n",
    "    (101, \"goal\"),\n",
    "    (102, \"own_goal\"),\n",
    "    (301, \"assist\"),\n",
    "    (302, \"key_pass\"),\n",
    "    (1901, \"counter_attack\"),\n",
    "    (401, \"left_foot\"),\n",
    "    (402, \"right_foot\"),\n",
    "    (403, \"head/body\"),\n",
    "    (1101, \"direct\"),\n",
    "    (1102, \"indirect\"),\n",
    "    (2001, \"dangerous_ball_lost\"),\n",
    "    (2101, \"blocked\"),\n",
    "    (801, \"high\"),\n",
    "    (802, \"low\"),\n",
    "    (1401, \"interception\"),\n",
    "    (1501, \"clearance\"),\n",
    "    (201, \"opportunity\"),\n",
    "    (1301, \"feint\"),\n",
    "    (1302, \"missed_ball\"),\n",
    "    (501, \"free_space_right\"),\n",
    "    (502, \"free_space_left\"),\n",
    "    (503, \"take_on_left\"),\n",
    "    (504, \"take_on_right\"),\n",
    "    (1601, \"sliding_tackle\"),\n",
    "    (601, \"anticipated\"),\n",
    "    (602, \"anticipation\"),\n",
    "    (1701, \"red_card\"),\n",
    "    (1702, \"yellow_card\"),\n",
    "    (1703, \"second_yellow_card\"),\n",
    "    (1201, \"position_goal_low_center\"),\n",
    "    (1202, \"position_goal_low_right\"),\n",
    "    (1203, \"position_goal_mid_center\"),\n",
    "    (1204, \"position_goal_mid_left\"),\n",
    "    (1205, \"position_goal_low_left\"),\n",
    "    (1206, \"position_goal_mid_right\"),\n",
    "    (1207, \"position_goal_high_center\"),\n",
    "    (1208, \"position_goal_high_left\"),\n",
    "    (1209, \"position_goal_high_right\"),\n",
    "    (1210, \"position_out_low_right\"),\n",
    "    (1211, \"position_out_mid_left\"),\n",
    "    (1212, \"position_out_low_left\"),\n",
    "    (1213, \"position_out_mid_right\"),\n",
    "    (1214, \"position_out_high_center\"),\n",
    "    (1215, \"position_out_high_left\"),\n",
    "    (1216, \"position_out_high_right\"),\n",
    "    (1217, \"position_post_low_right\"),\n",
    "    (1218, \"position_post_mid_left\"),\n",
    "    (1219, \"position_post_low_left\"),\n",
    "    (1220, \"position_post_mid_right\"),\n",
    "    (1221, \"position_post_high_center\"),\n",
    "    (1222, \"position_post_high_left\"),\n",
    "    (1223, \"position_post_high_right\"),\n",
    "    (901, \"through\"),\n",
    "    (1001, \"fairplay\"),\n",
    "    (701, \"lost\"),\n",
    "    (702, \"neutral\"),\n",
    "    (703, \"won\"),\n",
    "    (1801, \"accurate\"),\n",
    "    (1802, \"not_accurate\"),\n",
    "]"
   ]
  },
  {
   "cell_type": "code",
   "execution_count": 61,
   "metadata": {},
   "outputs": [],
   "source": [
    "tags = dict(tags)"
   ]
  },
  {
   "cell_type": "code",
   "execution_count": 62,
   "metadata": {},
   "outputs": [],
   "source": [
    "# ## I have kept this cell encase we need to impute integers for ML algorithms as oppose to strings\n",
    "# event_tag_ids = []\n",
    "# for ids in  list(trial[0:10]['tags']):\n",
    "#     event_tag_ids.append(list(map(lambda y: y['id'], ids)))\n",
    "# trial['event_tag_ids'] = event_tag_ids"
   ]
  },
  {
   "cell_type": "code",
   "execution_count": 63,
   "metadata": {},
   "outputs": [],
   "source": [
    "# Store event type tags ids in new column\n",
    "def event_tags(event_df):\n",
    "    event_tags = []\n",
    "    for ids in list(event_df['tags']):\n",
    "        event_tags.append(list(map(lambda y: tags[y['id']], ids)))\n",
    "\n",
    "    event_df['event_tags'] = event_tags\n",
    "    return event_df"
   ]
  },
  {
   "cell_type": "code",
   "execution_count": 64,
   "metadata": {},
   "outputs": [],
   "source": [
    "def RunningTime(event_df):\n",
    "    # Solution to convert second half time into \n",
    "    secs_to_add = list(event_df[event_df['matchPeriod']==\"1H\"].groupby('matchId').tail(1)['eventSec'])\n",
    "    match_ids = list(event_df[\"matchId\"].unique())\n",
    "\n",
    "    for idx in range(0, len(match_ids)):\n",
    "        event_df['eventSec'] = list(np.where(\n",
    "           (event_df['matchId'] == match_ids[idx]) & (event_df['matchPeriod'] == \"2H\") , event_df['eventSec'] + secs_to_add[idx], event_df['eventSec']\n",
    "           ))\n",
    "    return event_df\n"
   ]
  },
  {
   "cell_type": "code",
   "execution_count": 65,
   "metadata": {},
   "outputs": [],
   "source": [
    "# Clean the result of the action\n",
    "def Result(event_df):\n",
    "    result = []\n",
    "    for tag in event_df[\"event_tags\"]:\n",
    "        if \"accurate\" in tag:\n",
    "            result.append(\"Accurate\")\n",
    "        elif \"not_accurate\" in tag:\n",
    "            result.append(\"Inaccurate\")\n",
    "        else:\n",
    "            result.append(\"\")\n",
    "    event_df[\"Result\"] = result \n",
    "    return event_df"
   ]
  },
  {
   "cell_type": "code",
   "execution_count": 66,
   "metadata": {},
   "outputs": [],
   "source": [
    "# Separating description from success/failure of an action (event)\n",
    "def event_description(event_df):\n",
    "    subEventDescr = []\n",
    "    for tag in event_df[\"event_tags\"]:\n",
    "        descr = \" \".join(tag[:-1])\n",
    "        if descr != \"\":\n",
    "            subEventDescr.append(descr)\n",
    "        else:\n",
    "            subEventDescr.append(\"generic play\")\n",
    "    event_df[\"subEventDescription\"] = subEventDescr\n",
    "    event_df = event_df[(event_df[\"event_tags\"].str.len() != 0) & (event_df.subEventName != 'Ball out of the field')  & (event_df.subEventName != 'Goal kick')  ]\n",
    "    event_df = event_df[event_df[\"subEventName\"] != \"Throw in\"] # remove throw-ins as a relevant feature among successful teams for simpler analysis, unless its Rory Delap!\n",
    "    return event_df"
   ]
  },
  {
   "cell_type": "code",
   "execution_count": 69,
   "metadata": {},
   "outputs": [
    {
     "data": {
      "text/plain": [
       "Counter({2: 643032, 1: 118})"
      ]
     },
     "execution_count": 69,
     "metadata": {},
     "output_type": "execute_result"
    }
   ],
   "source": [
    "collections.Counter(list(map(lambda x: len(x), Events_England['positions'])))"
   ]
  },
  {
   "cell_type": "code",
   "execution_count": 71,
   "metadata": {},
   "outputs": [],
   "source": [
    "\n",
    "def Locations(event_df):\n",
    "\n",
    "    xStart,xEnd,yStart,yEnd = [], [], [], []\n",
    "    for pos in event_df[\"positions\"]:\n",
    "        if len(pos) == 2:\n",
    "            xStart.append(pos[0]['x'])\n",
    "            xEnd.append(pos[1]['x'])\n",
    "            yStart.append(pos[0]['y'])\n",
    "            yEnd.append(pos[1]['y'])\n",
    "        else:\n",
    "            xStart.append(pos[0]['x'])\n",
    "            xEnd.append(pos[0]['x'])\n",
    "            yStart.append(pos[0]['y'])\n",
    "            yEnd.append(pos[0]['y'])\n",
    "\n",
    "\n",
    "    event_df['xStart'], event_df['xEnd'], event_df['yStart'], event_df['yEnd'] = xStart, xEnd, yStart, yEnd\n",
    "    return event_df"
   ]
  },
  {
   "cell_type": "code",
   "execution_count": 75,
   "metadata": {},
   "outputs": [],
   "source": [
    "# function to transform an event data frame\n",
    "def event_df_transform(event_df):\n",
    "    event_df = event_tags(event_df)\n",
    "    event_df = Result(event_df)\n",
    "    event_df = event_description(event_df)\n",
    "    event_df = Locations(event_df)\n",
    "    event_df.drop(['positions', \"event_tags\", \"tags\", \"eventName\"], inplace = True, axis = 1) #'id'\n",
    "    event_df = event_df[event_df.subEventName != \"\"]\n",
    "    event_df = event_df[event_df['playerId']!= 0]\n",
    "    event_df = RunningTime(event_df)\n",
    "    event_df['attackMetres'] = event_df['xEnd'] - event_df['xStart']\n",
    "    return event_df\n",
    "\n",
    "# stopped remove eventId\n",
    "    "
   ]
  },
  {
   "cell_type": "code",
   "execution_count": 76,
   "metadata": {},
   "outputs": [],
   "source": [
    "# Transform event_dfs\n",
    "\n",
    "Events_France = event_df_transform(Events_France)\n",
    "Events_Spain = event_df_transform(Events_Spain)\n",
    "Events_Germany = event_df_transform(Events_Germany)\n",
    "Events_Italy = event_df_transform(Events_Italy)\n",
    "Events_England = event_df_transform(Events_England)\n",
    "\n"
   ]
  },
  {
   "cell_type": "code",
   "execution_count": 83,
   "metadata": {},
   "outputs": [],
   "source": [
    "# function to determine average player coordinates on pitch across all possessions in a match\n",
    "def playerPosition(event_df):\n",
    "    df = event_df.groupby(['matchId','playerId']).agg({'xStart': ['mean'], 'yStart': ['mean']}).reset_index()\n",
    "    df.columns = [\"matchId\", \"playerId\", \"xStart\", \"yStart\"]\n",
    "    return df"
   ]
  },
  {
   "cell_type": "code",
   "execution_count": 84,
   "metadata": {},
   "outputs": [],
   "source": [
    "# find positions for all players for big 5 Euro leagues\n",
    "a = playerPosition(Events_England)\n",
    "b = playerPosition(Events_France)\n",
    "c = playerPosition(Events_Italy)\n",
    "d = playerPosition(Events_Spain)\n",
    "e = playerPosition(Events_Germany)\n",
    "\n",
    "position_df =  pd.concat([a,b,c,d,e])"
   ]
  },
  {
   "cell_type": "code",
   "execution_count": 85,
   "metadata": {},
   "outputs": [],
   "source": [
    "# This dataframe is used relationally to fill correct team as events represent 2018 team, while player\n",
    "a = Events_England[['playerId', \"teamId\", 'matchId']].groupby(['playerId', \"teamId\", 'matchId']).count().reset_index()\n",
    "b = Events_France[['playerId', \"teamId\", 'matchId']].groupby(['playerId', \"teamId\", 'matchId']).count().reset_index()\n",
    "c = Events_Italy[['playerId', \"teamId\", 'matchId']].groupby(['playerId', \"teamId\", 'matchId']).count().reset_index()\n",
    "d = Events_Spain[['playerId', \"teamId\", 'matchId']].groupby(['playerId', \"teamId\", 'matchId']).count().reset_index()\n",
    "e = Events_Germany[['playerId', \"teamId\", 'matchId']].groupby(['playerId', \"teamId\", 'matchId']).count().reset_index()\n",
    "p_refs = pd.concat([a,b,c,d,e])"
   ]
  },
  {
   "cell_type": "code",
   "execution_count": 230,
   "metadata": {},
   "outputs": [],
   "source": [
    "Player_Aggs = Players[['shortName','Position', 'playerId','weight','height',  'foot' ]]"
   ]
  },
  {
   "cell_type": "code",
   "execution_count": 231,
   "metadata": {},
   "outputs": [],
   "source": [
    "# add ave field locations to players\n",
    "Player_Aggs = pd.merge(Player_Aggs, position_df, how = 'right', on= 'playerId').sort_values('matchId')\n",
    "Player_Aggs = pd.merge(Player_Aggs, p_refs, on = ['matchId', 'playerId'])\n",
    "Player_Aggs = pd.merge(Player_Aggs, Teams[['teamId', 'name']], on = 'teamId')"
   ]
  },
  {
   "cell_type": "code",
   "execution_count": 232,
   "metadata": {},
   "outputs": [],
   "source": [
    "Player_Aggs = pd.merge(Player_Aggs, Matches[['matchId', 'homeTeamId', 'awayTeamId']], on = 'matchId')\n",
    "Player_Aggs.loc[Player_Aggs.teamId == Player_Aggs.homeTeamId, 'homeAway'] = \"home\"\n",
    "Player_Aggs.loc[Player_Aggs.teamId == Player_Aggs.awayTeamId, 'homeAway'] = \"away\"\n"
   ]
  },
  {
   "cell_type": "code",
   "execution_count": 233,
   "metadata": {},
   "outputs": [],
   "source": [
    "# while datetime.datetime.now().hour < 9:\n",
    "#     x = 1+1"
   ]
  },
  {
   "cell_type": "code",
   "execution_count": 412,
   "metadata": {},
   "outputs": [
    {
     "data": {
      "text/html": [
       "<div>\n",
       "<style scoped>\n",
       "    .dataframe tbody tr th:only-of-type {\n",
       "        vertical-align: middle;\n",
       "    }\n",
       "\n",
       "    .dataframe tbody tr th {\n",
       "        vertical-align: top;\n",
       "    }\n",
       "\n",
       "    .dataframe thead th {\n",
       "        text-align: right;\n",
       "    }\n",
       "</style>\n",
       "<table border=\"1\" class=\"dataframe\">\n",
       "  <thead>\n",
       "    <tr style=\"text-align: right;\">\n",
       "      <th></th>\n",
       "      <th>eventId</th>\n",
       "      <th>subEventName</th>\n",
       "      <th>playerId</th>\n",
       "      <th>matchId</th>\n",
       "      <th>teamId</th>\n",
       "      <th>matchPeriod</th>\n",
       "      <th>eventSec</th>\n",
       "      <th>subEventId</th>\n",
       "      <th>id</th>\n",
       "      <th>Result</th>\n",
       "      <th>subEventDescription</th>\n",
       "      <th>xStart</th>\n",
       "      <th>xEnd</th>\n",
       "      <th>yStart</th>\n",
       "      <th>yEnd</th>\n",
       "      <th>attackMetres</th>\n",
       "      <th>distance_to_goal</th>\n",
       "      <th>angle_to_goal</th>\n",
       "      <th>Goal_Value</th>\n",
       "      <th>lateralMetres</th>\n",
       "    </tr>\n",
       "  </thead>\n",
       "  <tbody>\n",
       "    <tr>\n",
       "      <th>0</th>\n",
       "      <td>8</td>\n",
       "      <td>Simple pass</td>\n",
       "      <td>25413</td>\n",
       "      <td>2499719</td>\n",
       "      <td>1609</td>\n",
       "      <td>1</td>\n",
       "      <td>2.758649</td>\n",
       "      <td>85</td>\n",
       "      <td>177959171</td>\n",
       "      <td>Accurate</td>\n",
       "      <td>generic play</td>\n",
       "      <td>49</td>\n",
       "      <td>31</td>\n",
       "      <td>49</td>\n",
       "      <td>78</td>\n",
       "      <td>-18</td>\n",
       "      <td>51.01</td>\n",
       "      <td>0.1954</td>\n",
       "      <td>0</td>\n",
       "      <td>29</td>\n",
       "    </tr>\n",
       "    <tr>\n",
       "      <th>1</th>\n",
       "      <td>8</td>\n",
       "      <td>High pass</td>\n",
       "      <td>370224</td>\n",
       "      <td>2499719</td>\n",
       "      <td>1609</td>\n",
       "      <td>1</td>\n",
       "      <td>4.946850</td>\n",
       "      <td>83</td>\n",
       "      <td>177959172</td>\n",
       "      <td>Accurate</td>\n",
       "      <td>generic play</td>\n",
       "      <td>31</td>\n",
       "      <td>51</td>\n",
       "      <td>78</td>\n",
       "      <td>75</td>\n",
       "      <td>20</td>\n",
       "      <td>74.46</td>\n",
       "      <td>0.1244</td>\n",
       "      <td>0</td>\n",
       "      <td>3</td>\n",
       "    </tr>\n",
       "    <tr>\n",
       "      <th>2</th>\n",
       "      <td>8</td>\n",
       "      <td>Head pass</td>\n",
       "      <td>3319</td>\n",
       "      <td>2499719</td>\n",
       "      <td>1609</td>\n",
       "      <td>1</td>\n",
       "      <td>6.542188</td>\n",
       "      <td>82</td>\n",
       "      <td>177959173</td>\n",
       "      <td>Accurate</td>\n",
       "      <td>generic play</td>\n",
       "      <td>51</td>\n",
       "      <td>35</td>\n",
       "      <td>75</td>\n",
       "      <td>71</td>\n",
       "      <td>-16</td>\n",
       "      <td>55.01</td>\n",
       "      <td>0.1619</td>\n",
       "      <td>0</td>\n",
       "      <td>4</td>\n",
       "    </tr>\n",
       "    <tr>\n",
       "      <th>3</th>\n",
       "      <td>8</td>\n",
       "      <td>Head pass</td>\n",
       "      <td>120339</td>\n",
       "      <td>2499719</td>\n",
       "      <td>1609</td>\n",
       "      <td>1</td>\n",
       "      <td>8.143395</td>\n",
       "      <td>82</td>\n",
       "      <td>177959174</td>\n",
       "      <td>Accurate</td>\n",
       "      <td>generic play</td>\n",
       "      <td>35</td>\n",
       "      <td>41</td>\n",
       "      <td>71</td>\n",
       "      <td>95</td>\n",
       "      <td>6</td>\n",
       "      <td>68.31</td>\n",
       "      <td>0.1392</td>\n",
       "      <td>0</td>\n",
       "      <td>24</td>\n",
       "    </tr>\n",
       "    <tr>\n",
       "      <th>4</th>\n",
       "      <td>8</td>\n",
       "      <td>Simple pass</td>\n",
       "      <td>167145</td>\n",
       "      <td>2499719</td>\n",
       "      <td>1609</td>\n",
       "      <td>1</td>\n",
       "      <td>10.302366</td>\n",
       "      <td>85</td>\n",
       "      <td>177959175</td>\n",
       "      <td>Accurate</td>\n",
       "      <td>generic play</td>\n",
       "      <td>41</td>\n",
       "      <td>72</td>\n",
       "      <td>95</td>\n",
       "      <td>88</td>\n",
       "      <td>31</td>\n",
       "      <td>74.20</td>\n",
       "      <td>0.1072</td>\n",
       "      <td>0</td>\n",
       "      <td>7</td>\n",
       "    </tr>\n",
       "  </tbody>\n",
       "</table>\n",
       "</div>"
      ],
      "text/plain": [
       "   eventId subEventName  playerId  matchId  teamId matchPeriod   eventSec  \\\n",
       "0        8  Simple pass     25413  2499719    1609           1   2.758649   \n",
       "1        8    High pass    370224  2499719    1609           1   4.946850   \n",
       "2        8    Head pass      3319  2499719    1609           1   6.542188   \n",
       "3        8    Head pass    120339  2499719    1609           1   8.143395   \n",
       "4        8  Simple pass    167145  2499719    1609           1  10.302366   \n",
       "\n",
       "  subEventId         id    Result subEventDescription  xStart  xEnd  yStart  \\\n",
       "0         85  177959171  Accurate        generic play      49    31      49   \n",
       "1         83  177959172  Accurate        generic play      31    51      78   \n",
       "2         82  177959173  Accurate        generic play      51    35      75   \n",
       "3         82  177959174  Accurate        generic play      35    41      71   \n",
       "4         85  177959175  Accurate        generic play      41    72      95   \n",
       "\n",
       "   yEnd  attackMetres  distance_to_goal  angle_to_goal  Goal_Value  \\\n",
       "0    78           -18             51.01         0.1954           0   \n",
       "1    75            20             74.46         0.1244           0   \n",
       "2    71           -16             55.01         0.1619           0   \n",
       "3    95             6             68.31         0.1392           0   \n",
       "4    88            31             74.20         0.1072           0   \n",
       "\n",
       "   lateralMetres  \n",
       "0             29  \n",
       "1              3  \n",
       "2              4  \n",
       "3             24  \n",
       "4              7  "
      ]
     },
     "execution_count": 412,
     "metadata": {},
     "output_type": "execute_result"
    }
   ],
   "source": [
    "Events_England.head()"
   ]
  },
  {
   "cell_type": "code",
   "execution_count": 234,
   "metadata": {},
   "outputs": [],
   "source": [
    "import math"
   ]
  },
  {
   "cell_type": "code",
   "execution_count": 235,
   "metadata": {},
   "outputs": [],
   "source": [
    "# distance from field location to center of goal line y = 50, x = 100\n",
    "def distanceToGoal(event_df):\n",
    "    event_df['distance_to_goal'] = round(((100-event_df.xStart)**2+abs(50-event_df.yStart)**2)**.5,2)\n",
    "    return event_df"
   ]
  },
  {
   "cell_type": "code",
   "execution_count": 236,
   "metadata": {},
   "outputs": [],
   "source": [
    "Events_England, Events_France = distanceToGoal(Events_England), distanceToGoal(Events_France)\n",
    "Events_Germany, Events_Spain = distanceToGoal(Events_Germany), distanceToGoal(Events_Spain)\n",
    "Events_Italy = distanceToGoal(Events_Italy)\n"
   ]
  },
  {
   "cell_type": "code",
   "execution_count": 237,
   "metadata": {},
   "outputs": [],
   "source": [
    "# calc angle to goal from any location in radians\n",
    "def angleToGoal(event_df):\n",
    "    event_df['C'] = 10 # length of goal\n",
    "    event_df['A'] = ((100-event_df.xStart)**2+abs(45-event_df.yStart)**2)**.5\n",
    "    event_df['B'] = ((100-event_df.xStart)**2+abs(55-event_df.yStart)**2)**.5 # dist to other post\n",
    "    event_df['angle_to_goal'] = (event_df['A'] * event_df['A'] + event_df['B'] * event_df['B'] - event_df['C'] * event_df['C'])/(2 * event_df['A'] * event_df['B'])\n",
    "    event_df['angle_to_goal'] = event_df['angle_to_goal'].apply(lambda row: round(math.radians(math.degrees(math.acos(row))),4))\n",
    "    #event_df['angle_to_goal'] = event_df['angle_to_goal'].apply(lambda row: round(math.degrees(row),2))\n",
    "    event_df.drop(['A', \"B\", \"C\"], inplace=True, axis=1)\n",
    "    return event_df"
   ]
  },
  {
   "cell_type": "code",
   "execution_count": 238,
   "metadata": {},
   "outputs": [],
   "source": [
    "Events_England, Events_France = angleToGoal(Events_England), angleToGoal(Events_France)\n",
    "Events_Germany, Events_Spain = angleToGoal(Events_Germany), angleToGoal(Events_Spain)\n",
    "Events_Italy = angleToGoal(Events_Italy)"
   ]
  },
  {
   "cell_type": "code",
   "execution_count": 239,
   "metadata": {},
   "outputs": [],
   "source": [
    "### unique entry dataframe for player gameTime at any point in a match by summarizing streams\n",
    "\n",
    "def playerGameTime(event_df):\n",
    "    df = event_df.groupby(['matchId','playerId'])['eventSec'].agg(['max', 'min']).reset_index()\n",
    "    df['gameTime (min)'] = round((df['max'] - df['min'])/60) # game time to the nearest minute\n",
    "    df.drop(['max', 'min'], inplace=True, axis=1)\n",
    "    return df\n",
    "\n",
    "# derive gameTime per player and store in summary table\n",
    "a = playerGameTime(Events_England)\n",
    "b = playerGameTime(Events_France)\n",
    "c = playerGameTime(Events_Italy)\n",
    "d = playerGameTime(Events_Spain)\n",
    "e = playerGameTime(Events_Germany)\n",
    "\n",
    "playingTime = pd.concat([a,b,c,d,e])\n",
    "\n"
   ]
  },
  {
   "cell_type": "code",
   "execution_count": 240,
   "metadata": {},
   "outputs": [],
   "source": [
    "# convenience function for event_df parsing\n",
    "def parseEvent_df(func):\n",
    "    a = func(Events_England)\n",
    "    b = func(Events_France)\n",
    "    c = func(Events_Italy)\n",
    "    d = func(Events_Spain)\n",
    "    e = func(Events_Germany)\n",
    "    \n",
    "    return pd.concat([a,b,c,d,e])\n",
    "\n"
   ]
  },
  {
   "cell_type": "code",
   "execution_count": 322,
   "metadata": {},
   "outputs": [],
   "source": [
    "# function for adding new feature column to Player_Aggs df\n",
    "# all playing features are augmented per 90mins for standardization\n",
    "def alter_Player_Aggs(new_feature_function, new_feature, PA_df):\n",
    "\n",
    "    df = parseEvent_df(new_feature_function)\n",
    "    PA_df = pd.merge(PA_df, df, how= 'left', on =['playerId', 'matchId'])\n",
    "    PA_df[new_feature] = PA_df[new_feature].fillna(0)\n",
    "    return PA_df\n"
   ]
  },
  {
   "cell_type": "code",
   "execution_count": 242,
   "metadata": {},
   "outputs": [],
   "source": [
    "Player_Aggs = pd.merge(Player_Aggs, playingTime, how = 'left', on = ['playerId', 'matchId'])"
   ]
  },
  {
   "cell_type": "code",
   "execution_count": 243,
   "metadata": {},
   "outputs": [],
   "source": [
    "# adv_stats = list(set(adv_stats)) # list of advanced game stat types for ideas/reference"
   ]
  },
  {
   "cell_type": "code",
   "execution_count": 244,
   "metadata": {},
   "outputs": [],
   "source": [
    "# result is event_df\n",
    "def player_goals(result):\n",
    "\n",
    "    conditions = [\n",
    "            (((result['subEventDescription'].str.match('goal ')) & (result['Result'] == \"Accurate\"))),\n",
    "            (((result['subEventDescription'].str.match('goal ')) & (result['Result'] == \"Inaccurate\") & (result['subEventName'] == \"Shot\"))),\n",
    "            (((result['subEventDescription'].str.match('goal ')) & (result['Result'] == \"Inaccurate\") & (result['subEventName'] != \"Shot\")))\n",
    "            ]\n",
    "\n",
    "    # create a list of the values we want to assign for each condition\n",
    "    values = [1, 1, -1]\n",
    "\n",
    "    # create a new column and us np.select to assign values to it using our lists as arguments\n",
    "    result['Goal_Value'] = np.select(conditions, values, default = 0)\n",
    "    \n",
    "    return result\n",
    "    \n",
    "    "
   ]
  },
  {
   "cell_type": "code",
   "execution_count": null,
   "metadata": {},
   "outputs": [],
   "source": [
    "def goal_loc(result):\n",
    "\n",
    "    conditions = [\n",
    "            (((result['subEventDescription'].str.match('goal ')) & (result['Result'] == \"Accurate\"))),\n",
    "            (((result['subEventDescription'].str.match('goal ')) & (result['Result'] == \"Inaccurate\") & (result['subEventName'] == \"Shot\"))),\n",
    "            (((result['subEventDescription'].str.match('goal ')) & (result['Result'] == \"Inaccurate\") & (result['subEventName'] != \"Shot\")))\n",
    "            ]\n",
    "\n",
    "    # create a list of the values we want to assign for each condition\n",
    "    values = [1, 1, -1]\n",
    "\n",
    "    # create a new column and us np.select to assign values to it using our lists as arguments\n",
    "    result['Goal_Value'] = np.select(conditions, values, default = 0)\n",
    "    \n",
    "    return result"
   ]
  },
  {
   "cell_type": "code",
   "execution_count": 379,
   "metadata": {},
   "outputs": [],
   "source": [
    "# Correct end of shots\n",
    "for df in [Events_England, Events_Italy, Events_France, Events_Germany, Events_Spain]:\n",
    "    df['xEnd'][(df.subEventName == \"Shot\") & (df.xEnd==0)] = 100\n"
   ]
  },
  {
   "cell_type": "code",
   "execution_count": 245,
   "metadata": {},
   "outputs": [],
   "source": [
    "### Attack Metres stat (how many forward metres achieved through events)\n",
    "def successAttackMetres(event_df):\n",
    "\n",
    "    df = event_df.loc[event_df.Result == \"Accurate\" ].groupby(['matchId','playerId'])['attackMetres'].sum().reset_index().rename(columns={'attackMetres': \"AccurateAttackMetres\"})\n",
    "\n",
    "    return df\n",
    "\n",
    "def failAttackMetres(event_df):\n",
    "\n",
    "    df = event_df.loc[event_df.Result == \"Inaccurate\" ].groupby(['matchId','playerId'])['attackMetres'].sum().reset_index().rename(columns={'attackMetres': \"InaccurateAttackMetres\"})\n",
    "\n",
    "    return df\n"
   ]
  },
  {
   "cell_type": "code",
   "execution_count": 246,
   "metadata": {},
   "outputs": [],
   "source": [
    "# adding in total meterage of accurate and inaccurate movements by players in the vertical plane towards the goal\n",
    "successAMetres = parseEvent_df(successAttackMetres)\n",
    "failedAMetres = parseEvent_df(failAttackMetres)\n",
    "Player_Aggs = pd.merge(Player_Aggs, successAMetres, how= 'left', on =['playerId', 'matchId'])\n",
    "Player_Aggs = pd.merge(Player_Aggs, failedAMetres, how = 'left', on =['playerId', 'matchId'])\n",
    "Player_Aggs.AccurateAttackMetres = Player_Aggs.AccurateAttackMetres.fillna(0)\n",
    "Player_Aggs.InaccurateAttackMetres = Player_Aggs.InaccurateAttackMetres.fillna(0)"
   ]
  },
  {
   "cell_type": "code",
   "execution_count": 247,
   "metadata": {},
   "outputs": [],
   "source": [
    "# Player_Aggs =  Player_Aggs.iloc[:, :-2]"
   ]
  },
  {
   "cell_type": "code",
   "execution_count": 248,
   "metadata": {},
   "outputs": [],
   "source": [
    "def find_goals(event_df):\n",
    "\n",
    "    # Create a column to recognize when a goal is scored\n",
    "    conditions = [\n",
    "        (((event_df['subEventDescription'].str.match('goal ')) & (event_df['Result'] == \"Accurate\"))),\n",
    "        (((event_df['subEventDescription'].str.match('goal ')) & (event_df['Result'] == \"Inaccurate\") & (event_df['subEventName'] == \"Shot\"))),\n",
    "        (((event_df['subEventDescription'].str.match('goal ')) & (event_df['Result'] == \"Inaccurate\") & (event_df['subEventName'] != \"Shot\")))\n",
    "        ]\n",
    "\n",
    "    # create a list of the values we want to assign for each condition\n",
    "    values = [1, 1, -1]\n",
    "\n",
    "    # create a new column and use np.select to assign values to it using our lists as arguments\n",
    "    event_df['Goal_Value'] = np.select(conditions, values, default = 0)\n",
    "    \n",
    "    return event_df.groupby(['playerId', \"matchId\"]).sum().reset_index()[['playerId', 'matchId', 'Goal_Value']]"
   ]
  },
  {
   "cell_type": "code",
   "execution_count": 249,
   "metadata": {},
   "outputs": [],
   "source": [
    "goals = parseEvent_df(find_goals)\n",
    "Player_Aggs = pd.merge(Player_Aggs, goals, how= 'left', on =['playerId', 'matchId'])"
   ]
  },
  {
   "cell_type": "markdown",
   "metadata": {},
   "source": [
    "##### Explore Feature"
   ]
  },
  {
   "cell_type": "code",
   "execution_count": 250,
   "metadata": {},
   "outputs": [
    {
     "data": {
      "text/plain": [
       "array(['Simple pass', 'High pass', 'Head pass', 'Air duel',\n",
       "       'Ground loose ball duel', 'Smart pass', 'Launch',\n",
       "       'Ground defending duel', 'Ground attacking duel', 'Cross', 'Shot',\n",
       "       'Reflexes', 'Touch', 'Clearance', 'Free Kick', 'Corner',\n",
       "       'Hand pass', 'Acceleration', 'Save attempt', 'Free kick cross',\n",
       "       'Foul', 'Free kick shot', 'Hand foul', 'Violent Foul', 'Protest',\n",
       "       'Goalkeeper leaving line', 'Late card foul', 'Out of game foul',\n",
       "       'Penalty', 'Time lost foul', 'Simulation'], dtype=object)"
      ]
     },
     "execution_count": 250,
     "metadata": {},
     "output_type": "execute_result"
    }
   ],
   "source": [
    "Events_England.subEventName.unique()"
   ]
  },
  {
   "cell_type": "markdown",
   "metadata": {},
   "source": [
    "##### Goalkeeping"
   ]
  },
  {
   "cell_type": "code",
   "execution_count": 251,
   "metadata": {},
   "outputs": [],
   "source": [
    "# import datetime\n",
    "\n",
    "# while datetime.datetime.now().hour < 13:\n",
    "#     x = 1+1"
   ]
  },
  {
   "cell_type": "markdown",
   "metadata": {},
   "source": [
    "#### Miscellanous "
   ]
  },
  {
   "cell_type": "code",
   "execution_count": 252,
   "metadata": {},
   "outputs": [],
   "source": [
    "def SimulationFouls(event_df):\n",
    "    return event_df[(event_df.subEventName==\"Simulation\")][['playerId', 'matchId']].groupby(['playerId', 'matchId']).size().reset_index(name='SimulationFouls')\n",
    "\n",
    "def Fouls(event_df):\n",
    "    return event_df[(event_df.subEventName.str.contains('foul'))][['playerId', 'matchId']].groupby(['playerId', 'matchId']).size().reset_index(name='FoulsCommited')\n",
    "\n",
    "def Clearances(event_df):\n",
    "    return event_df[(event_df.subEventName==\"Clearance\")][['playerId', 'matchId']].groupby(['playerId', 'matchId']).size().reset_index(name='Clearances')\n",
    "\n",
    "def AccLaunchMetres(event_df):\n",
    "    return event_df.loc[(event_df.Result == \"Accurate\") &(event_df.subEventName==\"Launch\")].groupby(['matchId','playerId'])['attackMetres'].sum().reset_index().rename(columns={'attackMetres': \"AccLaunchMetres\"})\n",
    "\n",
    "def InaccLaunchMetres(event_df):\n",
    "    return event_df.loc[(event_df.Result == \"Inaccurate\") &(event_df.subEventName==\"Launch\")].groupby(['matchId','playerId'])['attackMetres'].sum().reset_index().rename(columns={'attackMetres': \"InaccLaunchMetres\"})\n",
    "\n",
    "def FreeKickCrossKey(event_df):\n",
    "    return event_df[(event_df.subEventName == \"Free kick cross\")&(event_df.subEventDescription.str.contains(\"key\"))][['playerId', 'matchId']].groupby(['playerId', 'matchId']).size().reset_index(name='FKKeyCross')\n",
    "\n",
    "def FreeKickCrossAssists(event_df):\n",
    "    return event_df[(event_df.subEventName == \"Free kick cross\")&(event_df.subEventDescription.str.contains(\"assist\"))][['playerId', 'matchId']].groupby(['playerId', 'matchId']).size().reset_index(name='FKCrossAssists')\n",
    "\n",
    "def FreeKickCrossAccuracy(event_df):\n",
    "    df1= event_df[(event_df.subEventName == \"Free kick cross\")].groupby(['playerId', 'matchId']).size().reset_index(name='FreeKickCrosses')\n",
    "\n",
    "    df2 = event_df[(event_df.subEventName == \"Free kick cross\")& (event_df.Result==\"Accurate\")].groupby(['playerId', 'matchId']).size().reset_index(name='AccFreeKickCrosses')\n",
    "\n",
    "    df1 = pd.merge(df1,df2, how='left', on = ['matchId', 'playerId'])\n",
    "    df1['AccFreeKickCrosses'] = df1['AccFreeKickCrosses'].fillna(0)\n",
    "    df1['FKCrossAccuracy'] = df1['AccFreeKickCrosses'] / df1['FreeKickCrosses']\n",
    "    df1.drop(['AccFreeKickCrosses', 'FreeKickCrosses'], inplace=True, axis =1)\n",
    "    return df1\n"
   ]
  },
  {
   "cell_type": "code",
   "execution_count": 253,
   "metadata": {},
   "outputs": [],
   "source": [
    "Player_Aggs = alter_Player_Aggs(SimulationFouls, \"SimulationFouls\", Player_Aggs)\n",
    "Player_Aggs = alter_Player_Aggs(Fouls, \"FoulsCommited\", Player_Aggs)\n",
    "Player_Aggs = alter_Player_Aggs(Clearances, \"Clearances\", Player_Aggs)\n",
    "Player_Aggs = alter_Player_Aggs(AccLaunchMetres, \"AccLaunchMetres\", Player_Aggs)\n",
    "Player_Aggs = alter_Player_Aggs(InaccLaunchMetres, \"InaccLaunchMetres\", Player_Aggs)\n",
    "Player_Aggs = alter_Player_Aggs(FreeKickCrossKey, \"FKKeyCross\", Player_Aggs)\n",
    "Player_Aggs = alter_Player_Aggs(FreeKickCrossAssists, \"FKCrossAssists\", Player_Aggs)\n",
    "Player_Aggs = alter_Player_Aggs(FreeKickCrossAccuracy, \"FKCrossAccuracy\", Player_Aggs)\n",
    "\n",
    "Player_Aggs = Player_Aggs.drop_duplicates()"
   ]
  },
  {
   "cell_type": "code",
   "execution_count": 255,
   "metadata": {},
   "outputs": [],
   "source": [
    "#penaltiesConversion Statistic\n",
    "\n",
    "def PenaltiesConverted(event_df):\n",
    "    df1= event_df[(event_df.subEventName == \"Penalty\")].groupby(['playerId', 'matchId']).size().reset_index(name='PenaltiesAttempted')\n",
    "\n",
    "    df2 = event_df[(event_df.subEventName == \"Penalty\")& (event_df.Result==\"Accurate\")].groupby(['playerId', 'matchId']).size().reset_index(name='PenaltiesScored')\n",
    "\n",
    "    df1 = pd.merge(df1,df2, how='left', on = ['matchId', 'playerId'])\n",
    "    df1['PenaltiesScored'] = df1['PenaltiesScored'].fillna(0)\n",
    "    df1['penaltiesConversion'] = df1['PenaltiesScored'] / df1['PenaltiesAttempted']\n",
    "    df1.drop(['PenaltiesScored', 'PenaltiesAttempted' ], inplace=True, axis =1)\n",
    "    return df1\n",
    "\n",
    "Player_Aggs = alter_Player_Aggs(PenaltiesConverted, \"penaltiesConversion\", Player_Aggs)\n",
    "Player_Aggs = Player_Aggs.drop_duplicates()\n",
    "\n"
   ]
  },
  {
   "cell_type": "code",
   "execution_count": 256,
   "metadata": {},
   "outputs": [
    {
     "data": {
      "text/plain": [
       "array(['Simple pass', 'High pass', 'Head pass', 'Air duel',\n",
       "       'Ground loose ball duel', 'Smart pass', 'Launch',\n",
       "       'Ground defending duel', 'Ground attacking duel', 'Cross', 'Shot',\n",
       "       'Reflexes', 'Touch', 'Clearance', 'Free Kick', 'Corner',\n",
       "       'Hand pass', 'Acceleration', 'Save attempt', 'Free kick cross',\n",
       "       'Foul', 'Free kick shot', 'Hand foul', 'Violent Foul', 'Protest',\n",
       "       'Goalkeeper leaving line', 'Late card foul', 'Out of game foul',\n",
       "       'Penalty', 'Time lost foul', 'Simulation'], dtype=object)"
      ]
     },
     "execution_count": 256,
     "metadata": {},
     "output_type": "execute_result"
    }
   ],
   "source": [
    "Events_England.subEventName.unique()"
   ]
  },
  {
   "cell_type": "code",
   "execution_count": 257,
   "metadata": {},
   "outputs": [],
   "source": [
    "# 'Ground loose ball duel', 'Ground defending duel'\n",
    "def dangerousOpponentHalfRecoveries(event_df):\n",
    "    return event_df[((event_df.subEventDescription.str.contains(\"won\")) | (event_df.subEventDescription.str.contains(\"interception\") & (event_df.Result==\"Accurate\"))) & (event_df.subEventName!=\"Ground attacking duel\") & (event_df.xEnd > 60)].groupby(['playerId', 'matchId']).size().reset_index(name='dangerousOpponentHalfRecoveries')\n",
    "\n",
    "def dangerousOwnHalfBallLost(event_df):\n",
    "    return event_df[(event_df.Result==\"Inaccurate\") & (event_df.xEnd<40) & ((event_df.subEventName.str.contains(\"pass\")) | (event_df.subEventName.str.contains(\"Acceleration\")) | (event_df.subEventName.str.contains(\"Clearance\")) | ((event_df.subEventName.str.contains(\"duel\")) &(event_df.subEventName!='Ground defending duel')) | (event_df.subEventName.str.contains(\"Launch\")))].groupby(['playerId', 'matchId']).size().reset_index(name='dangerousOwnHalfBallLost')\n",
    "\n",
    "def dangerousDefDuelsLost(event_df):\n",
    "    return event_df[(event_df.Result==\"Inaccurate\") & (event_df.xEnd<40) & (event_df.subEventName==\"Ground defending duel\")].groupby(['playerId', 'matchId']).size().reset_index(name='dangerousDefDuelsLost')\n"
   ]
  },
  {
   "cell_type": "code",
   "execution_count": 258,
   "metadata": {},
   "outputs": [],
   "source": [
    "\n",
    "Player_Aggs = alter_Player_Aggs(dangerousOpponentHalfRecoveries, \"dangerousOpponentHalfRecoveries\", Player_Aggs)\n",
    "Player_Aggs = alter_Player_Aggs(dangerousOwnHalfBallLost, \"dangerousOwnHalfBallLost\", Player_Aggs)\n",
    "Player_Aggs = alter_Player_Aggs(dangerousDefDuelsLost, \"dangerousDefDuelsLost\", Player_Aggs)\n",
    "\n",
    "Player_Aggs = Player_Aggs.drop_duplicates()\n"
   ]
  },
  {
   "cell_type": "code",
   "execution_count": 259,
   "metadata": {},
   "outputs": [],
   "source": [
    "### Step one proportion of low left shots saved\n",
    "\n",
    "possies = ['low_left', 'mid_left', 'high_left', 'low_center', 'mid_center', 'high_center', 'low_right', 'mid_right', 'high_right']\n",
    "\n",
    "def GoalKeepingZoneEfficiency(event_df, pos):\n",
    "    df1= event_df[((event_df.subEventName==\"Save attempt\") | (event_df.subEventName==\"Reflexes\")) &(event_df.subEventDescription.str.contains(pos))].groupby(['playerId', 'matchId']).size().reset_index(name='total_'+pos)\n",
    "\n",
    "    df2 = event_df[((event_df.subEventName==\"Save attempt\") | (event_df.subEventName==\"Reflexes\")) &(event_df.subEventDescription.str.contains(pos)) & (event_df.Result==\"Accurate\")].groupby(['playerId', 'matchId']).size().reset_index(name=pos+'_saves')\n",
    "\n",
    "    df1 = pd.merge(df1,df2, how='left', on = ['matchId', 'playerId'])\n",
    "    df1[pos+'_saves'] = df1[pos+'_saves'].fillna(0)\n",
    "    df1[pos+'_save_efficiency'] = df1[pos+'_saves'] / df1['total_'+pos]\n",
    "    df1.drop([pos+'_saves', 'total_'+pos], inplace=True, axis =1)\n",
    "    return df1\n",
    "\n",
    "\n",
    "for pos in possies:\n",
    "    a = GoalKeepingZoneEfficiency(Events_England, pos)\n",
    "    b = GoalKeepingZoneEfficiency(Events_France, pos)\n",
    "    c = GoalKeepingZoneEfficiency(Events_Italy, pos)\n",
    "    d = GoalKeepingZoneEfficiency(Events_Spain, pos)\n",
    "    e = GoalKeepingZoneEfficiency(Events_Germany, pos)\n",
    "    df = pd.concat([a,b,c,d,e])\n",
    "    Player_Aggs = pd.merge(Player_Aggs, df, how= 'left', on = ['playerId', 'matchId'])\n",
    "    Player_Aggs[ pos + '_save_efficiency'] = Player_Aggs[pos + '_save_efficiency'].fillna(0)\n",
    "    "
   ]
  },
  {
   "cell_type": "code",
   "execution_count": 260,
   "metadata": {},
   "outputs": [],
   "source": [
    "# Goals allowed\n",
    "def goalsAllowed(event_df):\n",
    "    return event_df[((event_df.subEventName == \"Reflexes\")|(Events_England.subEventName == \"Save attempt\")) & (event_df.Result == \"Inaccurate\") ][['playerId', 'matchId']].groupby(['playerId', 'matchId']).size().reset_index(name='goalsAllowed')\n",
    "\n",
    "# Successful save attempt\n",
    "def Saves(event_df):\n",
    "    return event_df[((event_df.subEventName == \"Save attempt\")|(Events_England.subEventName == \"Save attempt\"))&(event_df.Result == \"Accurate\") ][['playerId', 'matchId']].groupby(['playerId', 'matchId']).size().reset_index(name='GkSaves')\n",
    "\n",
    "# Accurate Hand Pass\n",
    "def SuccessHandPass(event_df):\n",
    "    return event_df[(event_df.subEventName == \"Hand pass\")&(event_df.Result == \"Accurate\") ][['playerId', 'matchId']].groupby(['playerId', 'matchId']).size().reset_index(name='AccurateHandPass')\n",
    "\n",
    "# Inaccurate Hand Pass\n",
    "def FailedHandPass(event_df):\n",
    "    return event_df[(event_df.subEventName == \"Hand pass\")&(event_df.Result == \"Inaccurate\") ][['playerId', 'matchId']].groupby(['playerId', 'matchId']).size().reset_index(name='InaccurateHandPass')\n",
    "\n",
    "# GoalKeeper Leaving Line \n",
    "def LeavingLine(event_df):\n",
    "    return event_df[(event_df.subEventName==\"Goalkeeper leaving line\")][['playerId', 'matchId']].groupby(['playerId', 'matchId']).size().reset_index(name='GKLeavingLineInstance')\n",
    "\n"
   ]
  },
  {
   "cell_type": "code",
   "execution_count": 261,
   "metadata": {},
   "outputs": [
    {
     "name": "stderr",
     "output_type": "stream",
     "text": [
      "<ipython-input-260-726a7d0cce8f>:3: UserWarning: Boolean Series key will be reindexed to match DataFrame index.\n",
      "  return event_df[((event_df.subEventName == \"Reflexes\")|(Events_England.subEventName == \"Save attempt\")) & (event_df.Result == \"Inaccurate\") ][['playerId', 'matchId']].groupby(['playerId', 'matchId']).size().reset_index(name='goalsAllowed')\n",
      "<ipython-input-260-726a7d0cce8f>:7: UserWarning: Boolean Series key will be reindexed to match DataFrame index.\n",
      "  return event_df[((event_df.subEventName == \"Save attempt\")|(Events_England.subEventName == \"Save attempt\"))&(event_df.Result == \"Accurate\") ][['playerId', 'matchId']].groupby(['playerId', 'matchId']).size().reset_index(name='GkSaves')\n"
     ]
    }
   ],
   "source": [
    "Player_Aggs = alter_Player_Aggs(goalsAllowed, \"goalsAllowed\", Player_Aggs)\n",
    "Player_Aggs = alter_Player_Aggs(Saves, \"GkSaves\", Player_Aggs)\n",
    "Player_Aggs = alter_Player_Aggs(SuccessHandPass, \"AccurateHandPass\", Player_Aggs)\n",
    "Player_Aggs = alter_Player_Aggs(FailedHandPass, \"InaccurateHandPass\", Player_Aggs)\n",
    "Player_Aggs = alter_Player_Aggs(LeavingLine, \"GKLeavingLineInstance\", Player_Aggs)\n",
    "Player_Aggs = Player_Aggs.drop_duplicates()\n"
   ]
  },
  {
   "cell_type": "markdown",
   "metadata": {},
   "source": [
    "#### Crosses, Dribbles, Accelerations"
   ]
  },
  {
   "cell_type": "code",
   "execution_count": 262,
   "metadata": {},
   "outputs": [],
   "source": [
    "# Number of succesful accelerations\n",
    "def SuccessAccelerations(event_df):\n",
    "    return event_df[(event_df.subEventName == 'Acceleration') & (event_df.Result == 'Accurate')][['playerId', 'matchId']].groupby(['playerId', 'matchId']).size().reset_index(name='SuccessfulAccels')\n",
    "\n",
    "# Number of failed accelerations\n",
    "def FailedAccelerations(event_df):\n",
    "    return event_df[(event_df.subEventName == 'Acceleration') & (event_df.Result == 'Inaccurate')][['playerId', 'matchId']].groupby(['playerId', 'matchId']).size().reset_index(name='FailedAccels')\n",
    "\n",
    "# Total acceleration metres\n",
    "def AccelDistance(event_df):\n",
    "    return event_df.loc[(event_df.Result == \"Accurate\") & (event_df.subEventName==\"Acceleration\") ].groupby(['matchId','playerId'])['attackMetres'].sum().reset_index().rename(columns={'attackMetres': \"CumAccelerationDist\"})\n",
    "\n",
    "# Accelerations into final third\n",
    "def AccelsIntoFinalThird(event_df):\n",
    "    return event_df.loc[(event_df.Result == \"Accurate\") & (event_df.subEventName==\"Acceleration\") & (event_df.xStart <= 66)  & (event_df.xEnd > 66)].groupby(['matchId','playerId'])['attackMetres'].sum().reset_index().rename(columns={'attackMetres': \"AccelsDistIntoFinal3rd\"})\n",
    "\n",
    "# Acceleration within final third\n",
    "def AccelsWithinFinalThird(event_df):\n",
    "    return event_df.loc[(event_df.Result == \"Accurate\") & (event_df.subEventName==\"Acceleration\") & (event_df.xStart > 66) ].groupby(['matchId','playerId'])['attackMetres'].sum().reset_index().rename(columns={'attackMetres': \"AccelsDistWithinFinal3rd\"})\n",
    "\n"
   ]
  },
  {
   "cell_type": "code",
   "execution_count": 263,
   "metadata": {},
   "outputs": [],
   "source": [
    "Player_Aggs = alter_Player_Aggs(SuccessAccelerations, \"SuccessfulAccels\", Player_Aggs)\n",
    "Player_Aggs = alter_Player_Aggs(FailedAccelerations, \"FailedAccels\", Player_Aggs)\n",
    "Player_Aggs = alter_Player_Aggs(AccelDistance, \"CumAccelerationDist\", Player_Aggs)\n",
    "Player_Aggs = alter_Player_Aggs(AccelsIntoFinalThird, \"AccelsDistIntoFinal3rd\", Player_Aggs)\n",
    "Player_Aggs = alter_Player_Aggs(AccelsWithinFinalThird, \"AccelsDistWithinFinal3rd\", Player_Aggs)\n",
    "\n",
    "Player_Aggs = Player_Aggs.drop_duplicates()"
   ]
  },
  {
   "cell_type": "code",
   "execution_count": 372,
   "metadata": {},
   "outputs": [
    {
     "data": {
      "text/plain": [
       "{'shortName': 0    M. \\u00d6zil\n",
       " 1       A. Ramsey\n",
       " Name: shortName, dtype: object,\n",
       " 'Position': 0    MID\n",
       " 1    MID\n",
       " Name: Position, dtype: object,\n",
       " 'playerId': 0    3319\n",
       " 1    7870\n",
       " Name: playerId, dtype: int64,\n",
       " 'weight': 0    76.0\n",
       " 1    76.0\n",
       " Name: weight, dtype: float64,\n",
       " 'height': 0    180.0\n",
       " 1    183.0\n",
       " Name: height, dtype: float64,\n",
       " 'foot': 0     left\n",
       " 1    right\n",
       " Name: foot, dtype: object,\n",
       " 'matchId': 0    2499719\n",
       " 1    2499719\n",
       " Name: matchId, dtype: int64,\n",
       " 'xStart': 0    63.549020\n",
       " 1    61.857143\n",
       " Name: xStart, dtype: float64,\n",
       " 'yStart': 0    43.901961\n",
       " 1    48.333333\n",
       " Name: yStart, dtype: float64,\n",
       " 'teamId': 0    1609\n",
       " 1    1609\n",
       " Name: teamId, dtype: int64,\n",
       " 'name': 0    Arsenal\n",
       " 1    Arsenal\n",
       " Name: name, dtype: object,\n",
       " 'homeTeamId': 0    1609\n",
       " 1    1609\n",
       " Name: homeTeamId, dtype: int64,\n",
       " 'awayTeamId': 0    1631\n",
       " 1    1631\n",
       " Name: awayTeamId, dtype: int64,\n",
       " 'homeAway': 0    home\n",
       " 1    home\n",
       " Name: homeAway, dtype: object,\n",
       " 'gameTime (min)': 0    96.0\n",
       " 1    28.0\n",
       " Name: gameTime (min), dtype: float64,\n",
       " 'AccurateAttackMetres': 0   -88.0\n",
       " 1   -58.0\n",
       " Name: AccurateAttackMetres, dtype: float64,\n",
       " 'InaccurateAttackMetres': 0   -282.0\n",
       " 1   -253.0\n",
       " Name: InaccurateAttackMetres, dtype: float64,\n",
       " 'Goal_Value': 0    0\n",
       " 1    1\n",
       " Name: Goal_Value, dtype: int64,\n",
       " 'SimulationFouls': 0    0.0\n",
       " 1    0.0\n",
       " Name: SimulationFouls, dtype: float64,\n",
       " 'FoulsCommited': 0    0.0\n",
       " 1    0.0\n",
       " Name: FoulsCommited, dtype: float64,\n",
       " 'Clearances': 0    0.0\n",
       " 1    0.0\n",
       " Name: Clearances, dtype: float64,\n",
       " 'AccLaunchMetres': 0    0.0\n",
       " 1    0.0\n",
       " Name: AccLaunchMetres, dtype: float64,\n",
       " 'InaccLaunchMetres': 0    0.0\n",
       " 1    0.0\n",
       " Name: InaccLaunchMetres, dtype: float64,\n",
       " 'FKKeyCross': 0    0.0\n",
       " 1    0.0\n",
       " Name: FKKeyCross, dtype: float64,\n",
       " 'FKCrossAssists': 0    0.0\n",
       " 1    0.0\n",
       " Name: FKCrossAssists, dtype: float64,\n",
       " 'FKCrossAccuracy': 0    0.0\n",
       " 1    0.0\n",
       " Name: FKCrossAccuracy, dtype: float64,\n",
       " 'penaltiesConversion': 0    0.0\n",
       " 1    0.0\n",
       " Name: penaltiesConversion, dtype: float64,\n",
       " 'dangerousOpponentHalfRecoveries': 0    0.0\n",
       " 1    0.0\n",
       " Name: dangerousOpponentHalfRecoveries, dtype: float64,\n",
       " 'dangerousOwnHalfBallLost': 0    2.81\n",
       " 1    3.21\n",
       " Name: dangerousOwnHalfBallLost, dtype: float64,\n",
       " 'dangerousDefDuelsLost': 0    2.81\n",
       " 1    0.00\n",
       " Name: dangerousDefDuelsLost, dtype: float64,\n",
       " 'low_left_save_efficiency': 0    0.0\n",
       " 1    0.0\n",
       " Name: low_left_save_efficiency, dtype: float64,\n",
       " 'mid_left_save_efficiency': 0    0.0\n",
       " 1    0.0\n",
       " Name: mid_left_save_efficiency, dtype: float64,\n",
       " 'high_left_save_efficiency': 0    0.0\n",
       " 1    0.0\n",
       " Name: high_left_save_efficiency, dtype: float64,\n",
       " 'low_center_save_efficiency': 0    0.0\n",
       " 1    0.0\n",
       " Name: low_center_save_efficiency, dtype: float64,\n",
       " 'mid_center_save_efficiency': 0    0.0\n",
       " 1    0.0\n",
       " Name: mid_center_save_efficiency, dtype: float64,\n",
       " 'high_center_save_efficiency': 0    0.0\n",
       " 1    0.0\n",
       " Name: high_center_save_efficiency, dtype: float64,\n",
       " 'low_right_save_efficiency': 0    0.0\n",
       " 1    0.0\n",
       " Name: low_right_save_efficiency, dtype: float64,\n",
       " 'mid_right_save_efficiency': 0    0.0\n",
       " 1    0.0\n",
       " Name: mid_right_save_efficiency, dtype: float64,\n",
       " 'high_right_save_efficiency': 0    0.0\n",
       " 1    0.0\n",
       " Name: high_right_save_efficiency, dtype: float64,\n",
       " 'goalsAllowed': 0    0.0\n",
       " 1    0.0\n",
       " Name: goalsAllowed, dtype: float64,\n",
       " 'GkSaves': 0    0.0\n",
       " 1    0.0\n",
       " Name: GkSaves, dtype: float64,\n",
       " 'AccurateHandPass': 0    0.0\n",
       " 1    0.0\n",
       " Name: AccurateHandPass, dtype: float64,\n",
       " 'InaccurateHandPass': 0    0.0\n",
       " 1    0.0\n",
       " Name: InaccurateHandPass, dtype: float64,\n",
       " 'GKLeavingLineInstance': 0    0.0\n",
       " 1    0.0\n",
       " Name: GKLeavingLineInstance, dtype: float64,\n",
       " 'SuccessfulAccels': 0    0.0\n",
       " 1    0.0\n",
       " Name: SuccessfulAccels, dtype: float64,\n",
       " 'FailedAccels': 0    0.0\n",
       " 1    0.0\n",
       " Name: FailedAccels, dtype: float64,\n",
       " 'CumAccelerationDist': 0    0.0\n",
       " 1    0.0\n",
       " Name: CumAccelerationDist, dtype: float64,\n",
       " 'AccelsDistIntoFinal3rd': 0    0.0\n",
       " 1    0.0\n",
       " Name: AccelsDistIntoFinal3rd, dtype: float64,\n",
       " 'AccelsDistWithinFinal3rd': 0    0.0\n",
       " 1    0.0\n",
       " Name: AccelsDistWithinFinal3rd, dtype: float64,\n",
       " 'CrossAssists': 0    0.0\n",
       " 1    0.0\n",
       " Name: CrossAssists, dtype: float64,\n",
       " 'RightFootCross': 0    0.0\n",
       " 1    0.0\n",
       " Name: RightFootCross, dtype: float64,\n",
       " 'LeftFootCross': 0    3.75\n",
       " 1    0.00\n",
       " Name: LeftFootCross, dtype: float64,\n",
       " 'CrossKeyPass': 0    0.94\n",
       " 1    0.00\n",
       " Name: CrossKeyPass, dtype: float64,\n",
       " 'AccCrosses': 0    0.94\n",
       " 1    0.00\n",
       " Name: AccCrosses, dtype: float64,\n",
       " 'InaccCrosses': 0    2.81\n",
       " 1    0.00\n",
       " Name: InaccCrosses, dtype: float64,\n",
       " 'AccCrossesIntoBox': 0    0.94\n",
       " 1    0.00\n",
       " Name: AccCrossesIntoBox, dtype: float64,\n",
       " 'InaccCrossesIntoBox': 0    1.88\n",
       " 1    0.00\n",
       " Name: InaccCrossesIntoBox, dtype: float64,\n",
       " 'SlidingTacklesWon': 0    0.0\n",
       " 1    0.0\n",
       " Name: SlidingTacklesWon, dtype: float64,\n",
       " 'SlidingTacklesLost': 0    0.0\n",
       " 1    0.0\n",
       " Name: SlidingTacklesLost, dtype: float64,\n",
       " 'GroundDefDuelsWon': 0    0.0\n",
       " 1    0.0\n",
       " Name: GroundDefDuelsWon, dtype: float64,\n",
       " 'GroundDefDuelsLost': 0    2.81\n",
       " 1    0.00\n",
       " Name: GroundDefDuelsLost, dtype: float64,\n",
       " 'DefensiveAnticipations': 0    0.00\n",
       " 1    3.21\n",
       " Name: DefensiveAnticipations, dtype: float64,\n",
       " 'GroundLooseBallsWon': 0    1.88\n",
       " 1    3.21\n",
       " Name: GroundLooseBallsWon, dtype: float64,\n",
       " 'GroundLooseBallsLost': 0    0.0\n",
       " 1    0.0\n",
       " Name: GroundLooseBallsLost, dtype: float64,\n",
       " 'GroundAttackDuelsWon': 0    5.62\n",
       " 1    6.43\n",
       " Name: GroundAttackDuelsWon, dtype: float64,\n",
       " 'GroundAttackDuelsLost': 0    1.88\n",
       " 1    3.21\n",
       " Name: GroundAttackDuelsLost, dtype: float64,\n",
       " 'OffensiveTouchesBox': 0    0.0\n",
       " 1    0.0\n",
       " Name: OffensiveTouchesBox, dtype: float64,\n",
       " 'goalConversion': 0    0.0\n",
       " 1    0.8\n",
       " Name: goalConversion, dtype: float64,\n",
       " 'Goal_low_left': 0    0.0\n",
       " 1    0.0\n",
       " Name: Goal_low_left, dtype: float64,\n",
       " 'Goal_mid_left': 0    0.0\n",
       " 1    1.0\n",
       " Name: Goal_mid_left, dtype: float64,\n",
       " 'Goal_high_left': 0    0.0\n",
       " 1    0.0\n",
       " Name: Goal_high_left, dtype: float64,\n",
       " 'Goal_low_center': 0    0.0\n",
       " 1    0.0\n",
       " Name: Goal_low_center, dtype: float64,\n",
       " 'Goal_mid_center': 0    0.0\n",
       " 1    0.0\n",
       " Name: Goal_mid_center, dtype: float64,\n",
       " 'Goal_high_center': 0    0.0\n",
       " 1    0.0\n",
       " Name: Goal_high_center, dtype: float64,\n",
       " 'Goal_low_right': 0    0.0\n",
       " 1    0.0\n",
       " Name: Goal_low_right, dtype: float64,\n",
       " 'Goal_mid_right': 0    0.0\n",
       " 1    0.0\n",
       " Name: Goal_mid_right, dtype: float64,\n",
       " 'Goal_high_right': 0    0.0\n",
       " 1    0.0\n",
       " Name: Goal_high_right, dtype: float64,\n",
       " 'ShotsOnTarget': 0    0.00\n",
       " 1    3.21\n",
       " Name: ShotsOnTarget, dtype: float64,\n",
       " 'ShotsOffTarget': 0    2.81\n",
       " 1    9.64\n",
       " Name: ShotsOffTarget, dtype: float64,\n",
       " 'ShotOpportunities': 0    1.88\n",
       " 1    9.64\n",
       " Name: ShotOpportunities, dtype: float64,\n",
       " 'FreeKickShotAcc': 0    0.0\n",
       " 1    0.0\n",
       " Name: FreeKickShotAcc, dtype: float64,\n",
       " 'FreeKickShotInacc': 0    0.0\n",
       " 1    0.0\n",
       " Name: FreeKickShotInacc, dtype: float64,\n",
       " 'PenaltyNotScored': 0    0.0\n",
       " 1    0.0\n",
       " Name: PenaltyNotScored, dtype: float64,\n",
       " 'Header/Body_Goal': 0    0.0\n",
       " 1    0.0\n",
       " Name: Header/Body_Goal, dtype: float64,\n",
       " 'RightFootGoal': 0    0.00\n",
       " 1    3.21\n",
       " Name: RightFootGoal, dtype: float64,\n",
       " 'LeftFootGoal': 0    0.0\n",
       " 1    0.0\n",
       " Name: LeftFootGoal, dtype: float64,\n",
       " 'CounterAttackGoal': 0    0.0\n",
       " 1    0.0\n",
       " Name: CounterAttackGoal, dtype: float64,\n",
       " 'InterceptionGoal': 0    0.0\n",
       " 1    0.0\n",
       " Name: InterceptionGoal, dtype: float64,\n",
       " 'OwnGoals': 0    0.0\n",
       " 1    0.0\n",
       " Name: OwnGoals, dtype: float64,\n",
       " 'AerialDuelsWon': 0    0.0\n",
       " 1    0.0\n",
       " Name: AerialDuelsWon, dtype: float64,\n",
       " 'AerialDuelsLost': 0    0.00\n",
       " 1    3.21\n",
       " Name: AerialDuelsLost, dtype: float64,\n",
       " 'InaccPassesWithinFinalThird': 0    3.75\n",
       " 1    0.00\n",
       " Name: InaccPassesWithinFinalThird, dtype: float64,\n",
       " 'AccPassesWithinFinalThird': 0    21.56\n",
       " 1     9.64\n",
       " Name: AccPassesWithinFinalThird, dtype: float64,\n",
       " 'AccPassesIntoFinalThird': 0    7.5\n",
       " 1    0.0\n",
       " Name: AccPassesIntoFinalThird, dtype: float64,\n",
       " 'InaccPassesIntoFinalThird': 0    2.81\n",
       " 1    6.43\n",
       " Name: InaccPassesIntoFinalThird, dtype: float64,\n",
       " 'AccThroughsIntoFinalThird': 0    0.0\n",
       " 1    0.0\n",
       " Name: AccThroughsIntoFinalThird, dtype: float64,\n",
       " 'InaccurateSmartPasses': 0    0.0\n",
       " 1    0.0\n",
       " Name: InaccurateSmartPasses, dtype: float64,\n",
       " 'AccurateSmartPasses': 0    0.94\n",
       " 1    3.21\n",
       " Name: AccurateSmartPasses, dtype: float64,\n",
       " 'InaccurateThroughPasses': 0    0.0\n",
       " 1    0.0\n",
       " Name: InaccurateThroughPasses, dtype: float64,\n",
       " 'AccurateThroughPasses': 0    0.00\n",
       " 1    3.21\n",
       " Name: AccurateThroughPasses, dtype: float64,\n",
       " 'AccurateKeyPasses': 0    0.94\n",
       " 1    0.00\n",
       " Name: AccurateKeyPasses, dtype: float64,\n",
       " 'InaccurateKeyPasses': 0    0.0\n",
       " 1    0.0\n",
       " Name: InaccurateKeyPasses, dtype: float64,\n",
       " 'TotalAssists': 0    0.0\n",
       " 1    0.0\n",
       " Name: TotalAssists, dtype: float64,\n",
       " 'CounterAttackInvolvements': 0    0.0\n",
       " 1    0.0\n",
       " Name: CounterAttackInvolvements, dtype: float64,\n",
       " 'PassLostDangerous': 0    0.0\n",
       " 1    0.0\n",
       " Name: PassLostDangerous, dtype: float64,\n",
       " 'CounterAttackIntercept': 0    0.0\n",
       " 1    0.0\n",
       " Name: CounterAttackIntercept, dtype: float64,\n",
       " 'SuccessfulInterceptions': 0    0.94\n",
       " 1    0.00\n",
       " Name: SuccessfulInterceptions, dtype: float64,\n",
       " 'InaccurateForwardPasses': 0    8.44\n",
       " 1    6.43\n",
       " Name: InaccurateForwardPasses, dtype: float64,\n",
       " 'AccurateForwardPasses': 0    22.50\n",
       " 1     9.64\n",
       " Name: AccurateForwardPasses, dtype: float64,\n",
       " 'CornerAssists': 0    0.0\n",
       " 1    0.0\n",
       " Name: CornerAssists, dtype: float64,\n",
       " 'PassingAccuracy': 0    0.868421\n",
       " 1    0.777778\n",
       " Name: PassingAccuracy, dtype: float64,\n",
       " 'shortPassAccuracy': 0    0.857143\n",
       " 1    0.600000\n",
       " Name: shortPassAccuracy, dtype: float64,\n",
       " 'longPassAccuracy': 0    0.884615\n",
       " 1    1.000000\n",
       " Name: longPassAccuracy, dtype: float64,\n",
       " 'shortLongPassRatio': 0    1.826087\n",
       " 1    0.750000\n",
       " Name: shortLongPassRatio, dtype: float64,\n",
       " 'shotAccuracy': 0    0.00\n",
       " 1    0.25\n",
       " Name: shotAccuracy, dtype: float64}"
      ]
     },
     "execution_count": 372,
     "metadata": {},
     "output_type": "execute_result"
    }
   ],
   "source": [
    "dict(Player_Aggs[:2])"
   ]
  },
  {
   "cell_type": "markdown",
   "metadata": {},
   "source": [
    "#### Crossing"
   ]
  },
  {
   "cell_type": "code",
   "execution_count": 265,
   "metadata": {},
   "outputs": [],
   "source": [
    "# cross assists\n",
    "def crossAssists(event_df):\n",
    "    return event_df[(event_df.subEventName == 'Cross') & (event_df.subEventDescription.str.contains('assist'))][['playerId', 'matchId']].groupby(['playerId', 'matchId']).size().reset_index(name='CrossAssists')\n",
    "\n",
    "# right foot crosses\n",
    "def RightFootCross(event_df):\n",
    "    return event_df[(event_df.subEventName == 'Cross') & (event_df.subEventDescription.str.contains('right_foot'))][['playerId', 'matchId']].groupby(['playerId', 'matchId']).size().reset_index(name='RightFootCross')\n",
    "\n",
    "# left foot crosses\n",
    "def LeftFootCross(event_df):\n",
    "    return event_df[(event_df.subEventName == 'Cross') & (event_df.subEventDescription.str.contains('left_foot'))][['playerId', 'matchId']].groupby(['playerId', 'matchId']).size().reset_index(name='LeftFootCross')\n",
    "\n",
    "# cross key passes\n",
    "def CrossKeyPasses(event_df):\n",
    "    return event_df[(event_df.subEventName == 'Cross') & (event_df.subEventDescription.str.contains('key_pass'))][['playerId', 'matchId']].groupby(['playerId', 'matchId']).size().reset_index(name='CrossKeyPass')\n",
    "\n",
    "# accurate crosses\n",
    "def AccurateCrosses(event_df):\n",
    "    return event_df[(event_df.subEventName == 'Cross') & (event_df.Result==\"Accurate\")][['playerId', 'matchId']].groupby(['playerId', 'matchId']).size().reset_index(name='AccCrosses')\n",
    "\n",
    "# inaccurate crosses\n",
    "def InaccurateCrosses(event_df):\n",
    "    return event_df[(event_df.subEventName == 'Cross') & (event_df.Result==\"Inaccurate\")][['playerId', 'matchId']].groupby(['playerId', 'matchId']).size().reset_index(name='InaccCrosses')\n",
    "\n",
    "# Accurate crosses into penalty box\n",
    "def AccCrossesBox(event_df):\n",
    "    return event_df[(event_df.subEventName == 'Cross') \n",
    "               & (event_df.Result==\"Accurate\") \n",
    "               & (event_df.xEnd > 82)\n",
    "               & (event_df.yEnd < 80)\n",
    "               & (event_df.yEnd > 20)][['playerId', 'matchId']].groupby(['playerId', 'matchId']).size().reset_index(name='AccCrossesIntoBox')\n",
    "\n",
    "# Inaccurate crosses into penalty box\n",
    "def InaccCrossesBox(event_df):\n",
    "    return event_df[(event_df.subEventName == 'Cross') \n",
    "               & (event_df.Result==\"Inaccurate\") \n",
    "               & (event_df.xEnd > 82)\n",
    "               & (event_df.yEnd < 80)\n",
    "               & (event_df.yEnd > 20)][['playerId', 'matchId']].groupby(['playerId', 'matchId']).size().reset_index(name='InaccCrossesIntoBox')\n"
   ]
  },
  {
   "cell_type": "code",
   "execution_count": 266,
   "metadata": {},
   "outputs": [],
   "source": [
    "Player_Aggs = alter_Player_Aggs(crossAssists, \"CrossAssists\", Player_Aggs)\n",
    "Player_Aggs = alter_Player_Aggs(RightFootCross, \"RightFootCross\", Player_Aggs)\n",
    "Player_Aggs = alter_Player_Aggs(LeftFootCross, \"LeftFootCross\", Player_Aggs)\n",
    "Player_Aggs = alter_Player_Aggs(CrossKeyPasses, \"CrossKeyPass\", Player_Aggs)\n",
    "Player_Aggs = alter_Player_Aggs(AccurateCrosses, \"AccCrosses\", Player_Aggs)\n",
    "Player_Aggs = alter_Player_Aggs(InaccurateCrosses, \"InaccCrosses\", Player_Aggs)\n",
    "Player_Aggs = alter_Player_Aggs(AccCrossesBox, \"AccCrossesIntoBox\", Player_Aggs)\n",
    "Player_Aggs = alter_Player_Aggs(InaccCrossesBox, \"InaccCrossesIntoBox\", Player_Aggs)\n",
    "\n",
    "Player_Aggs = Player_Aggs.drop_duplicates()\n"
   ]
  },
  {
   "cell_type": "markdown",
   "metadata": {},
   "source": [
    "#### Tackles & Ground Duels"
   ]
  },
  {
   "cell_type": "code",
   "execution_count": 267,
   "metadata": {},
   "outputs": [],
   "source": [
    "\n",
    "# Sliding tackles won\n",
    "def slidingTacklesWon(event_df):\n",
    "    return event_df[(event_df.subEventDescription.str.contains(\"sliding_tackle won\"))][['playerId', 'matchId']].groupby(['playerId', 'matchId']).size().reset_index(name='SlidingTacklesWon')\n",
    "\n",
    "# Sliding tackles lost\n",
    "def slidingTacklesLost(event_df):\n",
    "    return event_df[(event_df.subEventDescription.str.contains(\"sliding_tackle lost\"))][['playerId', 'matchId']].groupby(['playerId', 'matchId']).size().reset_index(name='SlidingTacklesLost')\n",
    "\n",
    "# Ground Defending Duels Won\n",
    "def GroundDuelsWon(event_df):\n",
    "    return event_df[(event_df.subEventName==\"Ground defending duel\") & event_df.subEventDescription.str.contains(\"won\")][['playerId', 'matchId']].groupby(['playerId', 'matchId']).size().reset_index(name='GroundDefDuelsWon')\n",
    "\n",
    "# Ground Defending Duels Lost\n",
    "def GroundDuelsLost(event_df):\n",
    "    return event_df[(event_df.subEventName==\"Ground defending duel\") & event_df.subEventDescription.str.contains(\"lost\")][['playerId', 'matchId']].groupby(['playerId', 'matchId']).size().reset_index(name='GroundDefDuelsLost')\n",
    "\n",
    "# Ground Defensive Anticipations\n",
    "def GroundDefAnticipations(event_df):\n",
    "    return event_df[(event_df.subEventName==\"Ground defending duel\") & event_df.subEventDescription.str.contains(\"anticipated\")][['playerId', 'matchId']].groupby(['playerId', 'matchId']).size().reset_index(name='DefensiveAnticipations')\n",
    "\n",
    "# Ground Loose Balls Won\n",
    "def GroundLooseBallsWon(event_df):\n",
    "    return event_df[(event_df.subEventName == 'Ground loose ball duel') &(event_df.subEventDescription.str.contains('won'))][['playerId', 'matchId']].groupby(['playerId', 'matchId']).size().reset_index(name='GroundLooseBallsWon')\n",
    "\n",
    "# Ground Loose Balls Lost\n",
    "def GroundLooseBallsLost(event_df):\n",
    "    return event_df[(event_df.subEventName == 'Ground loose ball duel') &(event_df.subEventDescription.str.contains('lost'))][['playerId', 'matchId']].groupby(['playerId', 'matchId']).size().reset_index(name='GroundLooseBallsLost')\n",
    "\n",
    "# Ground attacking duels won\n",
    "def GroundAttackDuelsWon(event_df):\n",
    "    return event_df[(event_df.subEventName == 'Ground attacking duel') &(event_df.subEventDescription.str.contains('won'))][['playerId', 'matchId']].groupby(['playerId', 'matchId']).size().reset_index(name='GroundAttackDuelsWon')\n",
    "\n",
    "# Ground attacking duels lost\n",
    "def GroundAttackDuelsLost(event_df):\n",
    "    return event_df[(event_df.subEventName == 'Ground attacking duel') &(event_df.subEventDescription.str.contains('lost'))][['playerId', 'matchId']].groupby(['playerId', 'matchId']).size().reset_index(name='GroundAttackDuelsLost')\n",
    "\n",
    "# Offensive Touches in box\n",
    "def OffTouchesBox(event_df):\n",
    "    return event_df[(event_df.subEventName == 'Touch')\n",
    "              & (event_df.xStart > 82)\n",
    "              & (event_df.yStart < 80)\n",
    "              & (event_df.yStart > 20)][['playerId', 'matchId']].groupby(['playerId', 'matchId']).size().reset_index(name='OffensiveTouchesBox')\n",
    "\n",
    "\n"
   ]
  },
  {
   "cell_type": "code",
   "execution_count": 268,
   "metadata": {},
   "outputs": [],
   "source": [
    "Player_Aggs = alter_Player_Aggs(slidingTacklesWon, \"SlidingTacklesWon\", Player_Aggs)\n",
    "Player_Aggs = alter_Player_Aggs(slidingTacklesLost, \"SlidingTacklesLost\", Player_Aggs)\n",
    "Player_Aggs = alter_Player_Aggs(GroundDuelsWon, \"GroundDefDuelsWon\", Player_Aggs)\n",
    "Player_Aggs = alter_Player_Aggs(GroundDuelsLost, \"GroundDefDuelsLost\", Player_Aggs)\n",
    "Player_Aggs = alter_Player_Aggs(GroundDefAnticipations, \"DefensiveAnticipations\", Player_Aggs)\n",
    "Player_Aggs = alter_Player_Aggs(GroundLooseBallsWon, \"GroundLooseBallsWon\", Player_Aggs)\n",
    "Player_Aggs = alter_Player_Aggs(GroundLooseBallsLost, \"GroundLooseBallsLost\", Player_Aggs)\n",
    "Player_Aggs = alter_Player_Aggs(GroundAttackDuelsWon, \"GroundAttackDuelsWon\", Player_Aggs)\n",
    "Player_Aggs = alter_Player_Aggs(GroundAttackDuelsLost, \"GroundAttackDuelsLost\", Player_Aggs)\n",
    "Player_Aggs = alter_Player_Aggs(OffTouchesBox, \"OffensiveTouchesBox\", Player_Aggs)\n",
    "\n",
    "Player_Aggs = Player_Aggs.drop_duplicates()\n"
   ]
  },
  {
   "cell_type": "markdown",
   "metadata": {},
   "source": [
    "#### Shots & Goals"
   ]
  },
  {
   "cell_type": "code",
   "execution_count": 365,
   "metadata": {},
   "outputs": [],
   "source": [
    "# Shots on Target\n",
    "def ShotsOnTarget(event_df):\n",
    "    return event_df[(event_df.subEventName==\"Shot\") & (event_df.Result==\"Accurate\")][['playerId', 'matchId']].groupby(['playerId', 'matchId']).size().reset_index(name='ShotsOnTarget')\n",
    "\n",
    "# Shots off Target\n",
    "def ShotsOffTarget(event_df):\n",
    "    return event_df[(event_df.subEventName==\"Shot\") & (event_df.Result==\"Inaccurate\")][['playerId', 'matchId']].groupby(['playerId', 'matchId']).size().reset_index(name='ShotsOffTarget')\n",
    "\n",
    "# Shot opportunity\n",
    "def shot_opportunities(event_df):\n",
    "    return event_df[(event_df.subEventName==\"Shot\") & (event_df.subEventDescription.str.contains(\"opportunity\"))][['playerId', 'matchId']].groupby(['playerId', 'matchId']).size().reset_index(name='ShotOpportunities')\n",
    "\n",
    "# Accurate free kick shots\n",
    "def accFreeKicks(event_df):\n",
    "    return event_df[(event_df.subEventName==\"Free kick shot\") & (event_df.Result==\"Accurate\")][['playerId', 'matchId']].groupby(['playerId', 'matchId']).size().reset_index(name='FreeKickShotAcc')\n",
    "\n",
    "# Inaccurate free kick shots\n",
    "def InaccFreeKicks(event_df):\n",
    "    return event_df[(event_df.subEventName==\"Free kick shot\") & (event_df.Result==\"Inaccurate\")][['playerId', 'matchId']].groupby(['playerId', 'matchId']).size().reset_index(name='FreeKickShotInacc')\n",
    "\n",
    "# Did not score penalty\n",
    "def PenaltyNotGoal(event_df):\n",
    "    return event_df[(event_df.subEventName==\"Penalty\") & (event_df.Result==\"Inaccurate\")][['playerId', 'matchId']].groupby(['playerId', 'matchId']).size().reset_index(name='PenaltyNotScored')\n",
    "\n",
    "# Goal scored with head/body\n",
    "def HeaderGoal(event_df):\n",
    "    return event_df[(event_df.subEventName==\"Shot\") & (event_df.subEventDescription.str.match(\"goal \"))\n",
    "              & (event_df.subEventDescription.str.contains(\"head\"))][['playerId', 'matchId']].groupby(['playerId', 'matchId']).size().reset_index(name='Header/Body_Goal')\n",
    "\n",
    "# Goal scored with right foot\n",
    "def RightFootGoal(event_df): \n",
    "    return event_df[(event_df.subEventName==\"Shot\") & (event_df.subEventDescription.str.match(\"goal \"))\n",
    "              & (event_df.subEventDescription.str.contains(\"right_foot\"))][['playerId', 'matchId']].groupby(['playerId', 'matchId']).size().reset_index(name='RightFootGoal')\n",
    "\n",
    "# Goal scored with left foot\n",
    "def LeftFootGoal(event_df):\n",
    "    return event_df[(event_df.subEventName==\"Shot\") & (event_df.subEventDescription.str.match(\"goal \"))\n",
    "              & (event_df.subEventDescription.str.contains(\"left_foot\"))][['playerId', 'matchId']].groupby(['playerId', 'matchId']).size().reset_index(name='LeftFootGoal')\n",
    "\n",
    "# Counter Attack Goal\n",
    "def CounterAttackGoal(event_df):\n",
    "    return event_df[(event_df.subEventName==\"Shot\") & (event_df.subEventDescription.str.match(\"goal \"))\n",
    "              & (event_df.subEventDescription.str.contains(\"counter_attack\"))][['playerId', 'matchId']].groupby(['playerId', 'matchId']).size().reset_index(name='CounterAttackGoal')\n",
    "\n",
    "# Interception Goal\n",
    "def InterceptionGoal(event_df):\n",
    "    return event_df[(event_df.subEventName==\"Shot\") & (event_df.subEventDescription.str.match(\"goal \"))\n",
    "              & (event_df.subEventDescription.str.contains(\"interception\"))][['playerId', 'matchId']].groupby(['playerId', 'matchId']).size().reset_index(name='InterceptionGoal')\n",
    "\n",
    "# Goal positions\n",
    "def GoalPositions(event_df, pos):\n",
    "    return event_df[(event_df.subEventName==\"Shot\") & (event_df.subEventDescription.str.match(\"goal \"))\n",
    "                  & (event_df.subEventDescription.str.contains(pos))][['playerId', 'matchId']].groupby(['playerId', 'matchId']).size().reset_index(name='Goal_'+pos)\n",
    "    \n",
    "def OwnGoals(event_df):\n",
    "    return event_df[event_df.subEventDescription.str.contains(\"own\")][['playerId', 'matchId']].groupby(['playerId', 'matchId']).size().reset_index(name='OwnGoals')\n",
    "    \n",
    "def GoalConversion(event_df):\n",
    "    df1 = event_df[(event_df.subEventName == \"Shot\")].groupby(['playerId', 'matchId']).size().reset_index(name='SOT')\n",
    "\n",
    "    df2 = event_df[(event_df.Goal_Value == 1) & (event_df.subEventName!=\"Penalty\") &(event_df.subEventName!=\"Free kick shot\") ].groupby(['playerId', 'matchId']).size().reset_index(name='Goals')\n",
    "\n",
    "    df1 = pd.merge(df1,df2, how='left', on = ['matchId', 'playerId'])\n",
    "    df1['SOT'] = df1['SOT'].fillna(0)\n",
    "    df1['goalConversion'] = df1['Goals'] / df1['SOT']\n",
    "    df1.drop(['Goals', 'SOT'], inplace=True, axis =1)\n",
    "    return df1\n",
    "\n",
    "# non set piece shot accuracy\n",
    "def shotAccuracy(event_df):\n",
    "    df1 = event_df[(event_df.subEventName.str.contains('Shot')) & (event_df.Result==\"Accurate\")].groupby(['playerId', 'matchId']).size().reset_index(name='ShotAccuracy1') \n",
    "    df2 = event_df[(event_df.subEventName.str.contains('Shot')) ].groupby(['playerId', 'matchId']).size().reset_index(name='ShotAccuracy2')\n",
    "    df1 = pd.merge(df1,df2, how=\"left\", on=['playerId', 'matchId'])\n",
    "    df1['shotAccuracy'] = df1['ShotAccuracy1'] / df1['ShotAccuracy2']\n",
    "    df1.drop(['ShotAccuracy1', 'ShotAccuracy2'], inplace=True, axis =1)\n",
    "    return df1"
   ]
  },
  {
   "cell_type": "code",
   "execution_count": 367,
   "metadata": {},
   "outputs": [],
   "source": [
    "Player_Aggs = alter_Player_Aggs(shotAccuracy, \"shotAccuracy\", Player_Aggs)"
   ]
  },
  {
   "cell_type": "code",
   "execution_count": 270,
   "metadata": {},
   "outputs": [],
   "source": [
    "# goalConversion (goals per shot)\n",
    "Player_Aggs = alter_Player_Aggs(GoalConversion, \"goalConversion\", Player_Aggs)\n"
   ]
  },
  {
   "cell_type": "code",
   "execution_count": 271,
   "metadata": {},
   "outputs": [],
   "source": [
    "# Get positional zones of goals for players\n",
    "\n",
    "possies = ['low_left', 'mid_left', 'high_left', 'low_center', 'mid_center', 'high_center', 'low_right', 'mid_right', 'high_right']\n",
    "for pos in possies:\n",
    "    a = GoalPositions(Events_England, pos)\n",
    "    b = GoalPositions(Events_France, pos)\n",
    "    c = GoalPositions(Events_Italy, pos)\n",
    "    d = GoalPositions(Events_Spain, pos)\n",
    "    e = GoalPositions(Events_Germany, pos)\n",
    "    df = pd.concat([a,b,c,d,e])\n",
    "    Player_Aggs = pd.merge(Player_Aggs, df, how= 'left', on =['playerId', 'matchId'])\n",
    "    Player_Aggs[\"Goal_\"+pos] = Player_Aggs[\"Goal_\"+pos].fillna(0)\n",
    "    \n"
   ]
  },
  {
   "cell_type": "code",
   "execution_count": 272,
   "metadata": {},
   "outputs": [],
   "source": [
    "# Patch up to remove duplicate rows\n",
    "Player_Aggs = Player_Aggs.drop_duplicates()"
   ]
  },
  {
   "cell_type": "code",
   "execution_count": 273,
   "metadata": {},
   "outputs": [],
   "source": [
    "# Add shot and goal summaries for players per match\n",
    "Player_Aggs = alter_Player_Aggs(ShotsOnTarget, \"ShotsOnTarget\", Player_Aggs)\n",
    "Player_Aggs = alter_Player_Aggs(ShotsOffTarget, \"ShotsOffTarget\", Player_Aggs)\n",
    "Player_Aggs = alter_Player_Aggs(shot_opportunities, \"ShotOpportunities\", Player_Aggs)\n",
    "Player_Aggs = alter_Player_Aggs(accFreeKicks, \"FreeKickShotAcc\", Player_Aggs)\n",
    "Player_Aggs = alter_Player_Aggs(InaccFreeKicks, \"FreeKickShotInacc\", Player_Aggs)\n",
    "Player_Aggs = alter_Player_Aggs(PenaltyNotGoal, \"PenaltyNotScored\", Player_Aggs)\n",
    "Player_Aggs = alter_Player_Aggs(HeaderGoal, \"Header/Body_Goal\", Player_Aggs)\n",
    "Player_Aggs = alter_Player_Aggs(RightFootGoal, \"RightFootGoal\", Player_Aggs)\n",
    "Player_Aggs = alter_Player_Aggs(LeftFootGoal, \"LeftFootGoal\", Player_Aggs)\n",
    "Player_Aggs = alter_Player_Aggs(CounterAttackGoal, \"CounterAttackGoal\", Player_Aggs)\n",
    "Player_Aggs = alter_Player_Aggs(InterceptionGoal, \"InterceptionGoal\", Player_Aggs)\n",
    "Player_Aggs = alter_Player_Aggs(OwnGoals, \"OwnGoals\", Player_Aggs)\n",
    "Player_Aggs = Player_Aggs.drop_duplicates()"
   ]
  },
  {
   "cell_type": "markdown",
   "metadata": {},
   "source": [
    "####   Air duel"
   ]
  },
  {
   "cell_type": "code",
   "execution_count": 274,
   "metadata": {},
   "outputs": [],
   "source": [
    "def AerialDuelsWon(events_df):\n",
    "    return Events_England[(Events_England.subEventName==\"Air duel\") & (Events_England.subEventDescription.str.contains(\"won\"))][['playerId', 'matchId']].groupby(['playerId', 'matchId']).size().reset_index(name='AerialDuelsWon')\n",
    "\n",
    "def AerialDuelsLost(events_df):\n",
    "    return  Events_England[(Events_England.subEventName==\"Air duel\") & (Events_England.subEventDescription.str.contains(\"lost\"))][['playerId', 'matchId']].groupby(['playerId', 'matchId']).size().reset_index(name='AerialDuelsLost')\n",
    "\n"
   ]
  },
  {
   "cell_type": "code",
   "execution_count": 275,
   "metadata": {},
   "outputs": [],
   "source": [
    "Player_Aggs = alter_Player_Aggs(AerialDuelsWon, \"AerialDuelsWon\", Player_Aggs)\n",
    "Player_Aggs = alter_Player_Aggs(AerialDuelsLost, \"AerialDuelsLost\", Player_Aggs)\n",
    "Player_Aggs = Player_Aggs.drop_duplicates()"
   ]
  },
  {
   "cell_type": "markdown",
   "metadata": {},
   "source": [
    "#### Passing"
   ]
  },
  {
   "cell_type": "code",
   "execution_count": 355,
   "metadata": {},
   "outputs": [],
   "source": [
    "# Accurate forward passes\n",
    "def acc_forward_pass(event_df):\n",
    "    return event_df[(event_df.subEventName==\"Simple pass\") \n",
    "                   & (event_df.attackMetres>0)\n",
    "                   & (event_df.Result==\"Accurate\")\n",
    "                   & (event_df.subEventDescription.str.match('generic play'))][['playerId', 'matchId']].groupby(['playerId', 'matchId']).size().reset_index(name='AccurateForwardPasses')\n",
    "\n",
    "# Inaccurate forward passes \n",
    "def inacc_forward_passes(event_df):\n",
    "    return event_df[(event_df.subEventName==\"Simple pass\") \n",
    "                   & (event_df.attackMetres>0)\n",
    "                   & (event_df.Result==\"Inaccurate\")\n",
    "                   & (event_df.subEventDescription.str.match('generic play'))][['playerId', 'matchId']].groupby(['playerId', 'matchId']).size().reset_index(name='InaccurateForwardPasses')\n",
    "\n",
    "# SuccessfulInterceptions ## when a player intercepts a play and makes a successful subsequent play\n",
    "def success_intercept(event_df):\n",
    "    return event_df[(event_df.Result == 'Accurate')\n",
    "                   & (event_df.subEventDescription.str.match('interception'))][['playerId', 'matchId']].groupby(['playerId', 'matchId']).size().reset_index(name='SuccessfulInterceptions')\n",
    "\n",
    "# CounterAttackInterceptions\n",
    "def CounterAttackIntercepts(event_df):\n",
    "    return event_df[(event_df.subEventDescription.str.match('counter_attack interception'))].groupby(['playerId', 'matchId']).size().reset_index(name='CounterAttackIntercept')\n",
    "\n",
    "# DangerousBallLostPassing\n",
    "def dangerous_ball_lost(event_df):\n",
    "    return event_df[(event_df.subEventName.str.contains(\"pass\")) \n",
    "                   & (event_df.subEventDescription.str.match('dangerous_ball_lost'))][['playerId', 'matchId']].groupby(['playerId', 'matchId']).size().reset_index(name='PassLostDangerous')\n",
    "\n",
    "# Counter attack involvements\n",
    "def CounterAttackInvolvements(event_df):\n",
    "    return event_df[(event_df.subEventDescription.str.match('counter_attack')) \n",
    "                  & (event_df.Result == 'Accurate') ][['playerId', 'matchId']].groupby(['playerId', 'matchId']).size().reset_index(name='CounterAttackInvolvements')\n",
    "\n",
    "# Total Assists\n",
    "def total_assists(event_df):\n",
    "    return event_df[(event_df.subEventDescription.str.contains('assist')) \n",
    "                  & (event_df.Result == 'Accurate') ][['playerId', 'matchId']].groupby(['playerId', 'matchId']).size().reset_index(name='TotalAssists')\n",
    "\n",
    "# Inaccurate Keypasses\n",
    "def inacc_key_passes(event_df):\n",
    "    return event_df[(event_df.subEventDescription.str.contains('key_pass')) \n",
    "                  & (event_df.Result == \"Inaccurate\") ][['playerId', 'matchId']].groupby(['playerId', 'matchId']).size().reset_index(name='InaccurateKeyPasses')\n",
    "\n",
    "# Accurate Keypasses\n",
    "def acc_keypasses(event_df):\n",
    "    return event_df[(event_df.subEventDescription.str.contains('key_pass')) \n",
    "                  & (event_df.Result == \"Accurate\") ][['playerId', 'matchId']].groupby(['playerId', 'matchId']).size().reset_index(name='AccurateKeyPasses')\n",
    "\n",
    "# Accurate Through Passes\n",
    "def acc_throughs(event_df):\n",
    "    return event_df[(event_df.subEventDescription.str.contains('through')) \n",
    "                  & (event_df.Result == \"Accurate\") ][['playerId', 'matchId']].groupby(['playerId', 'matchId']).size().reset_index(name='AccurateThroughPasses')\n",
    "\n",
    "# Inaccurate Through Passes\n",
    "def inacc_throughs(event_df):\n",
    "    return event_df[(event_df.subEventDescription.str.contains('through')) \n",
    "                  & (event_df.Result == \"Inaccurate\") ][['playerId', 'matchId']].groupby(['playerId', 'matchId']).size().reset_index(name='InaccurateThroughPasses')\n",
    "\n",
    "# Accurate Smart Passes \n",
    "def acc_smart_passes(event_df):\n",
    "    return event_df[(event_df.subEventName.str.match('Smart pass')) \n",
    "                  & (event_df.Result == \"Accurate\") ][['playerId', 'matchId']].groupby(['playerId', 'matchId']).size().reset_index(name='AccurateSmartPasses')\n",
    "\n",
    "# Inaccurate Smart Passes \n",
    "def inacc_smartPasses(event_df):\n",
    "    return event_df[(event_df.subEventName.str.match('Smart pass')) \n",
    "                  & (event_df.Result == \"Inaccurate\") ][['playerId', 'matchId']].groupby(['playerId', 'matchId']).size().reset_index(name='InaccurateSmartPasses')\n",
    "\n",
    "\n",
    "# Through passes into final third\n",
    "def throughs_into_final(event_df):\n",
    "    return event_df[(event_df.subEventDescription.str.contains('through')) \n",
    "                  & (event_df.xStart < 67 ) \n",
    "                  & (event_df.xEnd > 66 ) \n",
    "                 & (event_df.Result == \"Accurate\") ][['playerId', 'matchId']].groupby(['playerId', 'matchId']).size().reset_index(name='AccThroughsIntoFinalThird')\n",
    "\n",
    "# Accurate Passes into final third\n",
    "def accPasses_into_final(event_df):\n",
    "    return event_df[ ( event_df.subEventName.str.contains('pass'))\n",
    "        & (event_df.xStart < 67 ) \n",
    "                  & (event_df.xEnd > 66) \n",
    "                 & (event_df.Result == \"Accurate\")\n",
    "                & (event_df.Goal_Value != 1)][['playerId', 'matchId']].groupby(['playerId', 'matchId']).size().reset_index(name='AccPassesIntoFinalThird')\n",
    "\n",
    "# Accurate Passes into final third\n",
    "def InaccPasses_into_final(event_df):\n",
    "    return event_df[ ( event_df.subEventName.str.contains('pass'))\n",
    "        & (event_df.xStart < 67 ) \n",
    "                  & (event_df.xEnd > 66) \n",
    "                 & (event_df.Result == \"Inaccurate\")\n",
    "                & (event_df.Goal_Value != 1)][['playerId', 'matchId']].groupby(['playerId', 'matchId']).size().reset_index(name='InaccPassesIntoFinalThird')\n",
    "\n",
    "\n",
    "# Accurate Passes within final third\n",
    "def accPasses_within_finalThird(event_df):\n",
    "    return event_df[ (event_df.subEventName.str.contains(\"pass\") )\n",
    "                   & (event_df.xStart > 66 ) \n",
    "                  & (event_df.xEnd > 66 ) \n",
    "                 & (event_df.Result == \"Accurate\")\n",
    "                & (event_df.Goal_Value != 1)][['playerId', 'matchId']].groupby(['playerId', 'matchId']).size().reset_index(name='AccPassesWithinFinalThird')\n",
    "\n",
    "# Inaccurate Passes within final third   \n",
    "def inaccPasses_within_finalThird(event_df):\n",
    "    return event_df[ (event_df.subEventName.str.contains(\"pass\") )\n",
    "                   & (event_df.xStart > 66 ) \n",
    "                  & (event_df.xEnd > 66) \n",
    "                 & (event_df.Result == \"Inaccurate\")\n",
    "                & (event_df.Goal_Value != 1)][['playerId', 'matchId']].groupby(['playerId', 'matchId']).size().reset_index(name='InaccPassesWithinFinalThird')\n",
    "\n",
    "# Accurate passing as a percentage of attempts\n",
    "def passing_accuracy(event_df):\n",
    "    df1 = event_df[(event_df.subEventName.str.contains('pass')) & (event_df.Result==\"Accurate\")].groupby(['playerId', 'matchId']).size().reset_index(name='PassingAccuracy1') \n",
    "    df2 = event_df[(event_df.subEventName.str.contains('pass')) ].groupby(['playerId', 'matchId']).size().reset_index(name='PassingAccuracy2')\n",
    "    df1 = pd.merge(df1,df2, how=\"left\", on=['playerId', 'matchId'])\n",
    "    df1['PassingAccuracy'] = df1['PassingAccuracy1'] / df1['PassingAccuracy2']\n",
    "    df1.drop(['PassingAccuracy1', 'PassingAccuracy2'], inplace=True, axis =1)\n",
    "    return df1\n",
    "\n",
    "# less than 20% of the pitch in the either direction x,y\n",
    "def shortPassAccuracy(event_df):\n",
    "    event_df['lateralMetres'] = abs(event_df['yEnd']- event_df['yStart'])\n",
    "    df1 = event_df[(event_df.subEventName.str.contains('pass')) & (abs(event_df.attackMetres)<20) & (event_df.lateralMetres<20) & (event_df.Result==\"Accurate\")].groupby(['playerId', 'matchId']).size().reset_index(name='PassingAccuracy1') \n",
    "    df2 = event_df[(event_df.subEventName.str.contains('pass'))& (abs(event_df.attackMetres)<20) & (event_df.lateralMetres<20)  ].groupby(['playerId', 'matchId']).size().reset_index(name='PassingAccuracy2')\n",
    "    df1 = pd.merge(df1,df2, how=\"left\", on=['playerId', 'matchId'])\n",
    "    df1['shortPassAccuracy'] = df1['PassingAccuracy1'] / df1['PassingAccuracy2']\n",
    "    df1.drop(['PassingAccuracy1', 'PassingAccuracy2'], inplace=True, axis =1)\n",
    "    return df1\n",
    "\n",
    "def longPassAccuracy(event_df):\n",
    "    event_df['lateralMetres'] = abs(event_df['yEnd']- event_df['yStart'])\n",
    "    df1 = event_df[(event_df.subEventName.str.contains('pass')) & ((abs(event_df.attackMetres)>20) | (event_df.lateralMetres>20)) & (event_df.Result==\"Accurate\")].groupby(['playerId', 'matchId']).size().reset_index(name='PassingAccuracy1') \n",
    "    df2 = event_df[(event_df.subEventName.str.contains('pass')) & ((abs(event_df.attackMetres)>20) | (event_df.lateralMetres>20)) ].groupby(['playerId', 'matchId']).size().reset_index(name='PassingAccuracy2')\n",
    "    df1 = pd.merge(df1,df2, how=\"left\", on=['playerId', 'matchId'])\n",
    "    df1['longPassAccuracy'] = df1['PassingAccuracy1'] / df1['PassingAccuracy2']\n",
    "    df1.drop(['PassingAccuracy1', 'PassingAccuracy2'], inplace=True, axis =1)\n",
    "    return df1\n",
    "\n",
    "# ratio short:long passes\n",
    "def shortLongPassRatio(event_df):\n",
    "    event_df['lateralMetres'] = abs(event_df['yEnd']- event_df['yStart'])\n",
    "    df1 = event_df[(event_df.subEventName.str.contains('pass')) & (abs(event_df.attackMetres)<20) & (event_df.lateralMetres<20) & (event_df.Result==\"Accurate\")].groupby(['playerId', 'matchId']).size().reset_index(name='PassingAccuracy1') \n",
    "    df2 = event_df[(event_df.subEventName.str.contains('pass')) & ((abs(event_df.attackMetres)>20) | (event_df.lateralMetres>20)) & (event_df.Result==\"Accurate\")].groupby(['playerId', 'matchId']).size().reset_index(name='PassingAccuracy2')\n",
    "    df1 = pd.merge(df1,df2, how=\"left\", on=['playerId', 'matchId'])\n",
    "    df1['shortLongPassRatio'] = df1['PassingAccuracy1'] / df1['PassingAccuracy2']\n",
    "    df1.drop(['PassingAccuracy1', 'PassingAccuracy2'], inplace=True, axis =1)\n",
    "    return df1\n"
   ]
  },
  {
   "cell_type": "code",
   "execution_count": 349,
   "metadata": {},
   "outputs": [
    {
     "data": {
      "text/plain": [
       "array(['Simple pass', 'High pass', 'Head pass', 'Air duel',\n",
       "       'Ground loose ball duel', 'Smart pass', 'Launch',\n",
       "       'Ground defending duel', 'Ground attacking duel', 'Cross', 'Shot',\n",
       "       'Reflexes', 'Touch', 'Clearance', 'Free Kick', 'Corner',\n",
       "       'Hand pass', 'Acceleration', 'Save attempt', 'Free kick cross',\n",
       "       'Foul', 'Free kick shot', 'Hand foul', 'Violent Foul', 'Protest',\n",
       "       'Goalkeeper leaving line', 'Late card foul', 'Out of game foul',\n",
       "       'Penalty', 'Time lost foul', 'Simulation'], dtype=object)"
      ]
     },
     "execution_count": 349,
     "metadata": {},
     "output_type": "execute_result"
    }
   ],
   "source": [
    "Events_England.subEventName.unique()"
   ]
  },
  {
   "cell_type": "code",
   "execution_count": 358,
   "metadata": {},
   "outputs": [],
   "source": [
    "Player_Aggs = alter_Player_Aggs(passing_accuracy, \"PassingAccuracy\", Player_Aggs)\n",
    "Player_Aggs = alter_Player_Aggs(shortPassAccuracy, \"shortPassAccuracy\", Player_Aggs)\n",
    "Player_Aggs = alter_Player_Aggs(longPassAccuracy, \"longPassAccuracy\", Player_Aggs)\n",
    "Player_Aggs = alter_Player_Aggs(shortLongPassRatio, \"shortLongPassRatio\", Player_Aggs)\n"
   ]
  },
  {
   "cell_type": "markdown",
   "metadata": {},
   "source": [
    "##### Passing Summary Stats Aggregated per player per match"
   ]
  },
  {
   "cell_type": "code",
   "execution_count": 278,
   "metadata": {},
   "outputs": [],
   "source": [
    "Player_Aggs = alter_Player_Aggs(inaccPasses_within_finalThird, \"InaccPassesWithinFinalThird\", Player_Aggs)\n",
    "Player_Aggs = alter_Player_Aggs(accPasses_within_finalThird, \"AccPassesWithinFinalThird\", Player_Aggs)\n",
    "Player_Aggs = alter_Player_Aggs(accPasses_into_final, \"AccPassesIntoFinalThird\", Player_Aggs)\n",
    "Player_Aggs = alter_Player_Aggs(InaccPasses_into_final, \"InaccPassesIntoFinalThird\", Player_Aggs)\n",
    "Player_Aggs = alter_Player_Aggs(throughs_into_final, \"AccThroughsIntoFinalThird\", Player_Aggs)\n",
    "Player_Aggs = alter_Player_Aggs(inacc_smartPasses, \"InaccurateSmartPasses\", Player_Aggs)\n",
    "Player_Aggs = alter_Player_Aggs(acc_smart_passes, \"AccurateSmartPasses\", Player_Aggs)\n",
    "Player_Aggs = alter_Player_Aggs(inacc_throughs, \"InaccurateThroughPasses\", Player_Aggs)\n",
    "Player_Aggs = alter_Player_Aggs(acc_throughs, \"AccurateThroughPasses\", Player_Aggs)\n",
    "Player_Aggs = alter_Player_Aggs(acc_keypasses, \"AccurateKeyPasses\", Player_Aggs) \n",
    "Player_Aggs = alter_Player_Aggs(inacc_key_passes, \"InaccurateKeyPasses\", Player_Aggs)\n",
    "Player_Aggs = alter_Player_Aggs(total_assists, \"TotalAssists\", Player_Aggs)\n",
    "Player_Aggs = alter_Player_Aggs(CounterAttackInvolvements, \"CounterAttackInvolvements\", Player_Aggs) \n",
    "Player_Aggs = alter_Player_Aggs(dangerous_ball_lost, \"PassLostDangerous\", Player_Aggs) \n",
    "Player_Aggs = alter_Player_Aggs(CounterAttackIntercepts, \"CounterAttackIntercept\", Player_Aggs) \n",
    "Player_Aggs = alter_Player_Aggs(success_intercept, \"SuccessfulInterceptions\", Player_Aggs) \n",
    "Player_Aggs = alter_Player_Aggs(inacc_forward_passes, \"InaccurateForwardPasses\", Player_Aggs) \n",
    "Player_Aggs = alter_Player_Aggs(acc_forward_pass, \"AccurateForwardPasses\", Player_Aggs) \n",
    "Player_Aggs = Player_Aggs.drop_duplicates()"
   ]
  },
  {
   "cell_type": "markdown",
   "metadata": {},
   "source": [
    "#### Corners"
   ]
  },
  {
   "cell_type": "code",
   "execution_count": 279,
   "metadata": {},
   "outputs": [],
   "source": [
    "def corner_assists(event_df):\n",
    "    return event_df[(event_df.subEventName==\"Corner\") & (event_df.subEventDescription.str.match('assist'))][['playerId', 'matchId']].groupby(['playerId', 'matchId']).size().reset_index(name='CornerAssists')\n",
    "\n",
    "def corner_opportunity(event_df):\n",
    "    return event_df[(event_df.subEventName==\"Corner\") & (event_df.subEventDescription.str.match('key_pass'))][['playerId', 'matchId']].groupby(['playerId', 'matchId']).size().reset_index(name='CornerOpportunitiesCreated')\n",
    "\n",
    "def corner_success(event_df):\n",
    "    return event_df[(event_df.subEventName==\"Corner\") & (event_df.Result==\"Success\")][['playerId', 'matchId']].groupby(['playerId', 'matchId']).size().reset_index(name='SuccessfulCorners')\n",
    "\n",
    "def corner_fail(event_df):\n",
    "    return event_df[(event_df.subEventName==\"Corner\") & (event_df.Result==\"Failure\")][['playerId', 'matchId']].groupby(['playerId', 'matchId']).size().reset_index(name='FailedCorners')\n",
    "\n",
    "def corner_assists(event_df):\n",
    "    return event_df[(event_df.subEventName==\"Corner\") & (event_df.subEventDescription.str.match('assist'))][['playerId', 'matchId']].groupby(['playerId', 'matchId']).size().reset_index(name='CornerAssists')\n"
   ]
  },
  {
   "cell_type": "code",
   "execution_count": 280,
   "metadata": {},
   "outputs": [],
   "source": [
    "Player_Aggs = alter_Player_Aggs(corner_assists, \"CornerAssists\", Player_Aggs)\n",
    "Player_Aggs = alter_Player_Aggs(corner_opportunity, \"CornerOpportunitiesCreated\", Player_Aggs)\n",
    "Player_Aggs = alter_Player_Aggs(corner_success, \"SuccessfulCorners\", Player_Aggs)\n",
    "Player_Aggs = alter_Player_Aggs(corner_fail, \"FailedCorners\", Player_Aggs)"
   ]
  },
  {
   "cell_type": "code",
   "execution_count": 414,
   "metadata": {},
   "outputs": [],
   "source": [
    "for df in [Events_England, Events_Italy, Events_France, Events_Germany, Events_Spain]:\n",
    "    df['lateralMetres'][(df.xEnd == 100)] = 0\n",
    "    \n"
   ]
  },
  {
   "cell_type": "markdown",
   "metadata": {},
   "source": [
    "#### Team Aggregation: Transform Players ==> Team Aggregation"
   ]
  },
  {
   "cell_type": "code",
   "execution_count": null,
   "metadata": {},
   "outputs": [],
   "source": []
  },
  {
   "cell_type": "code",
   "execution_count": 373,
   "metadata": {},
   "outputs": [
    {
     "data": {
      "text/plain": [
       "['shortName',\n",
       " 'Position',\n",
       " 'playerId',\n",
       " 'weight',\n",
       " 'height',\n",
       " 'foot',\n",
       " 'matchId',\n",
       " 'xStart',\n",
       " 'yStart',\n",
       " 'teamId',\n",
       " 'name',\n",
       " 'homeTeamId',\n",
       " 'awayTeamId',\n",
       " 'homeAway',\n",
       " 'gameTime (min)',\n",
       " 'AccurateAttackMetres',\n",
       " 'InaccurateAttackMetres',\n",
       " 'Goal_Value',\n",
       " 'SimulationFouls',\n",
       " 'FoulsCommited',\n",
       " 'Clearances',\n",
       " 'AccLaunchMetres',\n",
       " 'InaccLaunchMetres',\n",
       " 'FKKeyCross',\n",
       " 'FKCrossAssists',\n",
       " 'FKCrossAccuracy',\n",
       " 'penaltiesConversion',\n",
       " 'dangerousOpponentHalfRecoveries',\n",
       " 'dangerousOwnHalfBallLost',\n",
       " 'dangerousDefDuelsLost',\n",
       " 'low_left_save_efficiency',\n",
       " 'mid_left_save_efficiency',\n",
       " 'high_left_save_efficiency',\n",
       " 'low_center_save_efficiency',\n",
       " 'mid_center_save_efficiency',\n",
       " 'high_center_save_efficiency',\n",
       " 'low_right_save_efficiency',\n",
       " 'mid_right_save_efficiency',\n",
       " 'high_right_save_efficiency',\n",
       " 'goalsAllowed',\n",
       " 'GkSaves',\n",
       " 'AccurateHandPass',\n",
       " 'InaccurateHandPass',\n",
       " 'GKLeavingLineInstance',\n",
       " 'SuccessfulAccels',\n",
       " 'FailedAccels',\n",
       " 'CumAccelerationDist',\n",
       " 'AccelsDistIntoFinal3rd',\n",
       " 'AccelsDistWithinFinal3rd',\n",
       " 'CrossAssists',\n",
       " 'RightFootCross',\n",
       " 'LeftFootCross',\n",
       " 'CrossKeyPass',\n",
       " 'AccCrosses',\n",
       " 'InaccCrosses',\n",
       " 'AccCrossesIntoBox',\n",
       " 'InaccCrossesIntoBox',\n",
       " 'SlidingTacklesWon',\n",
       " 'SlidingTacklesLost',\n",
       " 'GroundDefDuelsWon',\n",
       " 'GroundDefDuelsLost',\n",
       " 'DefensiveAnticipations',\n",
       " 'GroundLooseBallsWon',\n",
       " 'GroundLooseBallsLost',\n",
       " 'GroundAttackDuelsWon',\n",
       " 'GroundAttackDuelsLost',\n",
       " 'OffensiveTouchesBox',\n",
       " 'goalConversion',\n",
       " 'Goal_low_left',\n",
       " 'Goal_mid_left',\n",
       " 'Goal_high_left',\n",
       " 'Goal_low_center',\n",
       " 'Goal_mid_center',\n",
       " 'Goal_high_center',\n",
       " 'Goal_low_right',\n",
       " 'Goal_mid_right',\n",
       " 'Goal_high_right',\n",
       " 'ShotsOnTarget',\n",
       " 'ShotsOffTarget',\n",
       " 'ShotOpportunities',\n",
       " 'FreeKickShotAcc',\n",
       " 'FreeKickShotInacc',\n",
       " 'PenaltyNotScored',\n",
       " 'Header/Body_Goal',\n",
       " 'RightFootGoal',\n",
       " 'LeftFootGoal',\n",
       " 'CounterAttackGoal',\n",
       " 'InterceptionGoal',\n",
       " 'OwnGoals',\n",
       " 'AerialDuelsWon',\n",
       " 'AerialDuelsLost',\n",
       " 'InaccPassesWithinFinalThird',\n",
       " 'AccPassesWithinFinalThird',\n",
       " 'AccPassesIntoFinalThird',\n",
       " 'InaccPassesIntoFinalThird',\n",
       " 'AccThroughsIntoFinalThird',\n",
       " 'InaccurateSmartPasses',\n",
       " 'AccurateSmartPasses',\n",
       " 'InaccurateThroughPasses',\n",
       " 'AccurateThroughPasses',\n",
       " 'AccurateKeyPasses',\n",
       " 'InaccurateKeyPasses',\n",
       " 'TotalAssists',\n",
       " 'CounterAttackInvolvements',\n",
       " 'PassLostDangerous',\n",
       " 'CounterAttackIntercept',\n",
       " 'SuccessfulInterceptions',\n",
       " 'InaccurateForwardPasses',\n",
       " 'AccurateForwardPasses',\n",
       " 'CornerAssists',\n",
       " 'PassingAccuracy',\n",
       " 'shortPassAccuracy',\n",
       " 'longPassAccuracy',\n",
       " 'shortLongPassRatio',\n",
       " 'shotAccuracy']"
      ]
     },
     "execution_count": 373,
     "metadata": {},
     "output_type": "execute_result"
    }
   ],
   "source": [
    "list(Player_Aggs.columns)\n",
    "lst =  ['shotAccuracy', 'longPassAccuracy', 'shortPassAccuracy','PassingAccuracy','FreeKickShotAcc', 'goalConversion','penaltiesConversion', \n",
    "       'gameTime (min)', ]\n",
    "\n"
   ]
  },
  {
   "cell_type": "markdown",
   "metadata": {},
   "source": [
    "## Machine Learning"
   ]
  },
  {
   "cell_type": "code",
   "execution_count": 407,
   "metadata": {},
   "outputs": [],
   "source": [
    "# !pip install mplsoccer\n",
    "\n"
   ]
  },
  {
   "cell_type": "code",
   "execution_count": 408,
   "metadata": {},
   "outputs": [],
   "source": [
    "# from mplsoccer.pitch import Pitch\n",
    "# pitch = Pitch(pitch_color='grass', line_color='white', stripe=True)\n",
    "# fig, ax = pitch.draw()"
   ]
  },
  {
   "cell_type": "code",
   "execution_count": 409,
   "metadata": {},
   "outputs": [],
   "source": [
    "# x = list(Player_Aggs[(Player_Aggs.matchId==2499719) & (Player_Aggs.teamId==1609)].xStart)\n",
    "# y = list(Player_Aggs[(Player_Aggs.matchId==2499719) & (Player_Aggs.teamId==1609)].yStart)\n",
    "\n",
    "# matplotsoccer.field(\"green\",figsize=8, show=False)\n",
    "# plt.scatter(x,y)\n",
    "# plt.axis(\"on\")\n",
    "# plt.show()"
   ]
  },
  {
   "cell_type": "code",
   "execution_count": 410,
   "metadata": {},
   "outputs": [],
   "source": [
    "from sklearn.cluster import KMeans \n",
    "from sklearn import metrics \n",
    "from scipy.spatial.distance import cdist \n",
    "import numpy as np \n",
    "import matplotlib.pyplot as plt  "
   ]
  },
  {
   "cell_type": "code",
   "execution_count": 423,
   "metadata": {},
   "outputs": [],
   "source": [
    "x = list(Player_Aggs[(Player_Aggs.matchId==2499719) & (Player_Aggs.teamId==1609) & (Player_Aggs['gameTime (min)']>45)].xStart)\n",
    "y = list(Player_Aggs[(Player_Aggs.matchId==2499719) & (Player_Aggs.teamId==1609) & (Player_Aggs['gameTime (min)']>45)].yStart)\n",
    "X = np.array(list(zip(x, y))).reshape(len(x), 2) "
   ]
  },
  {
   "cell_type": "code",
   "execution_count": 424,
   "metadata": {},
   "outputs": [
    {
     "data": {
      "image/png": "[encoded data removed]",
      "text/plain": [
       "<Figure size 432x288 with 1 Axes>"
      ]
     },
     "metadata": {
      "needs_background": "light"
     },
     "output_type": "display_data"
    }
   ],
   "source": [
    "#Visualizing the data \n",
    "plt.plot() \n",
    "plt.xlim([0, 100]) \n",
    "plt.ylim([0, 100]) \n",
    "plt.title('Dataset') \n",
    "plt.scatter(x, y) \n",
    "plt.show() "
   ]
  },
  {
   "cell_type": "code",
   "execution_count": 411,
   "metadata": {},
   "outputs": [
    {
     "data": {
      "text/html": [
       "<div>\n",
       "<style scoped>\n",
       "    .dataframe tbody tr th:only-of-type {\n",
       "        vertical-align: middle;\n",
       "    }\n",
       "\n",
       "    .dataframe tbody tr th {\n",
       "        vertical-align: top;\n",
       "    }\n",
       "\n",
       "    .dataframe thead th {\n",
       "        text-align: right;\n",
       "    }\n",
       "</style>\n",
       "<table border=\"1\" class=\"dataframe\">\n",
       "  <thead>\n",
       "    <tr style=\"text-align: right;\">\n",
       "      <th></th>\n",
       "      <th>shortName</th>\n",
       "      <th>Position</th>\n",
       "      <th>playerId</th>\n",
       "      <th>weight</th>\n",
       "      <th>height</th>\n",
       "      <th>foot</th>\n",
       "      <th>matchId</th>\n",
       "      <th>xStart</th>\n",
       "      <th>yStart</th>\n",
       "      <th>teamId</th>\n",
       "      <th>...</th>\n",
       "      <th>CounterAttackIntercept</th>\n",
       "      <th>SuccessfulInterceptions</th>\n",
       "      <th>InaccurateForwardPasses</th>\n",
       "      <th>AccurateForwardPasses</th>\n",
       "      <th>CornerAssists</th>\n",
       "      <th>PassingAccuracy</th>\n",
       "      <th>shortPassAccuracy</th>\n",
       "      <th>longPassAccuracy</th>\n",
       "      <th>shortLongPassRatio</th>\n",
       "      <th>shotAccuracy</th>\n",
       "    </tr>\n",
       "  </thead>\n",
       "  <tbody>\n",
       "    <tr>\n",
       "      <th>0</th>\n",
       "      <td>M. \\u00d6zil</td>\n",
       "      <td>MID</td>\n",
       "      <td>3319</td>\n",
       "      <td>76.0</td>\n",
       "      <td>180.0</td>\n",
       "      <td>left</td>\n",
       "      <td>2499719</td>\n",
       "      <td>63.549020</td>\n",
       "      <td>43.901961</td>\n",
       "      <td>1609</td>\n",
       "      <td>...</td>\n",
       "      <td>0.0</td>\n",
       "      <td>0.94</td>\n",
       "      <td>8.44</td>\n",
       "      <td>22.50</td>\n",
       "      <td>0.0</td>\n",
       "      <td>0.868421</td>\n",
       "      <td>0.857143</td>\n",
       "      <td>0.884615</td>\n",
       "      <td>1.826087</td>\n",
       "      <td>0.00</td>\n",
       "    </tr>\n",
       "    <tr>\n",
       "      <th>1</th>\n",
       "      <td>A. Ramsey</td>\n",
       "      <td>MID</td>\n",
       "      <td>7870</td>\n",
       "      <td>76.0</td>\n",
       "      <td>183.0</td>\n",
       "      <td>right</td>\n",
       "      <td>2499719</td>\n",
       "      <td>61.857143</td>\n",
       "      <td>48.333333</td>\n",
       "      <td>1609</td>\n",
       "      <td>...</td>\n",
       "      <td>0.0</td>\n",
       "      <td>0.00</td>\n",
       "      <td>6.43</td>\n",
       "      <td>9.64</td>\n",
       "      <td>0.0</td>\n",
       "      <td>0.777778</td>\n",
       "      <td>0.600000</td>\n",
       "      <td>1.000000</td>\n",
       "      <td>0.750000</td>\n",
       "      <td>0.25</td>\n",
       "    </tr>\n",
       "    <tr>\n",
       "      <th>2</th>\n",
       "      <td>T. Walcott</td>\n",
       "      <td>FWD</td>\n",
       "      <td>7879</td>\n",
       "      <td>68.0</td>\n",
       "      <td>176.0</td>\n",
       "      <td>right</td>\n",
       "      <td>2499719</td>\n",
       "      <td>50.250000</td>\n",
       "      <td>86.500000</td>\n",
       "      <td>1609</td>\n",
       "      <td>...</td>\n",
       "      <td>0.0</td>\n",
       "      <td>0.00</td>\n",
       "      <td>0.00</td>\n",
       "      <td>0.00</td>\n",
       "      <td>0.0</td>\n",
       "      <td>1.000000</td>\n",
       "      <td>1.000000</td>\n",
       "      <td>0.000000</td>\n",
       "      <td>0.000000</td>\n",
       "      <td>0.00</td>\n",
       "    </tr>\n",
       "    <tr>\n",
       "      <th>3</th>\n",
       "      <td>P. \\u010cech</td>\n",
       "      <td>GKP</td>\n",
       "      <td>7882</td>\n",
       "      <td>90.0</td>\n",
       "      <td>196.0</td>\n",
       "      <td>left</td>\n",
       "      <td>2499719</td>\n",
       "      <td>10.380952</td>\n",
       "      <td>40.571429</td>\n",
       "      <td>1609</td>\n",
       "      <td>...</td>\n",
       "      <td>0.0</td>\n",
       "      <td>0.00</td>\n",
       "      <td>0.00</td>\n",
       "      <td>6.77</td>\n",
       "      <td>0.0</td>\n",
       "      <td>1.000000</td>\n",
       "      <td>1.000000</td>\n",
       "      <td>1.000000</td>\n",
       "      <td>0.111111</td>\n",
       "      <td>0.00</td>\n",
       "    </tr>\n",
       "    <tr>\n",
       "      <th>4</th>\n",
       "      <td>R. Holding</td>\n",
       "      <td>DEF</td>\n",
       "      <td>370224</td>\n",
       "      <td>75.0</td>\n",
       "      <td>189.0</td>\n",
       "      <td>right</td>\n",
       "      <td>2499719</td>\n",
       "      <td>35.337500</td>\n",
       "      <td>76.550000</td>\n",
       "      <td>1609</td>\n",
       "      <td>...</td>\n",
       "      <td>0.0</td>\n",
       "      <td>1.32</td>\n",
       "      <td>5.29</td>\n",
       "      <td>33.09</td>\n",
       "      <td>0.0</td>\n",
       "      <td>0.796610</td>\n",
       "      <td>0.740741</td>\n",
       "      <td>0.838710</td>\n",
       "      <td>0.769231</td>\n",
       "      <td>0.00</td>\n",
       "    </tr>\n",
       "  </tbody>\n",
       "</table>\n",
       "<p>5 rows × 115 columns</p>\n",
       "</div>"
      ],
      "text/plain": [
       "      shortName Position  playerId  weight  height   foot  matchId     xStart  \\\n",
       "0  M. \\u00d6zil      MID      3319    76.0   180.0   left  2499719  63.549020   \n",
       "1     A. Ramsey      MID      7870    76.0   183.0  right  2499719  61.857143   \n",
       "2    T. Walcott      FWD      7879    68.0   176.0  right  2499719  50.250000   \n",
       "3  P. \\u010cech      GKP      7882    90.0   196.0   left  2499719  10.380952   \n",
       "4    R. Holding      DEF    370224    75.0   189.0  right  2499719  35.337500   \n",
       "\n",
       "      yStart  teamId  ... CounterAttackIntercept  SuccessfulInterceptions  \\\n",
       "0  43.901961    1609  ...                    0.0                     0.94   \n",
       "1  48.333333    1609  ...                    0.0                     0.00   \n",
       "2  86.500000    1609  ...                    0.0                     0.00   \n",
       "3  40.571429    1609  ...                    0.0                     0.00   \n",
       "4  76.550000    1609  ...                    0.0                     1.32   \n",
       "\n",
       "   InaccurateForwardPasses AccurateForwardPasses  CornerAssists  \\\n",
       "0                     8.44                 22.50            0.0   \n",
       "1                     6.43                  9.64            0.0   \n",
       "2                     0.00                  0.00            0.0   \n",
       "3                     0.00                  6.77            0.0   \n",
       "4                     5.29                 33.09            0.0   \n",
       "\n",
       "   PassingAccuracy  shortPassAccuracy  longPassAccuracy  shortLongPassRatio  \\\n",
       "0         0.868421           0.857143          0.884615            1.826087   \n",
       "1         0.777778           0.600000          1.000000            0.750000   \n",
       "2         1.000000           1.000000          0.000000            0.000000   \n",
       "3         1.000000           1.000000          1.000000            0.111111   \n",
       "4         0.796610           0.740741          0.838710            0.769231   \n",
       "\n",
       "   shotAccuracy  \n",
       "0          0.00  \n",
       "1          0.25  \n",
       "2          0.00  \n",
       "3          0.00  \n",
       "4          0.00  \n",
       "\n",
       "[5 rows x 115 columns]"
      ]
     },
     "execution_count": 411,
     "metadata": {},
     "output_type": "execute_result"
    }
   ],
   "source": [
    "Player_Aggs.head()"
   ]
  },
  {
   "cell_type": "code",
   "execution_count": null,
   "metadata": {},
   "outputs": [],
   "source": [
    "# identifying playing position with clustering\n",
    "\n",
    "\n",
    "\n",
    "\n"
   ]
  },
  {
   "cell_type": "code",
   "execution_count": 282,
   "metadata": {},
   "outputs": [],
   "source": [
    "# # Parsing player positions on field for each match in a season, and adding output to Matches summary dataframe\n",
    "\n",
    "# for match in matches:\n",
    "#     trial = trial2[trial2['matchId']== match]\n",
    "#     refs = list(Matches[Matches['matchId']==match].loc[:,'homePlayer1':'awayBenchPlayer7'].transpose().index)\n",
    "#     ids = [int(value) for value in Matches[Matches['matchId']==match].loc[:,'homePlayer1':'awayBenchPlayer7'].transpose().values]\n",
    "#     test = pd.DataFrame(zip(ids, refs), columns = ['playerId', 'playerRefs'])\n",
    "#     trial = pd.merge(test, trial, on=\"playerId\")\n",
    "#     pt1 = pd.pivot_table(trial, values = 'xStart', index='matchId', columns = 'playerRefs').reset_index().add_prefix('xPos_')\n",
    "#     pt1 = pt1.rename(columns = {'xPos_matchId': \"matchId\"})\n",
    "#     pt2 = pd.pivot_table(trial, values = 'yStart', index='matchId', columns = 'playerRefs').reset_index().add_prefix('yPos_')\n",
    "#     pt2 = pt2.rename(columns = {'yPos_matchId': \"matchId\"})\n",
    "#     pt = pd.merge(pt1, pt2, on=\"matchId\")\n",
    "#     temp_df = temp_df.append(pt, ignore_index = True)\n",
    "\n",
    "# England_Matches = pd.merge(England_Matches, temp_df, on = 'matchId').fillna(0) # consider removing bench players, also consider ignoring goalkeepers\n",
    "\n",
    "\n",
    "\n",
    "\n"
   ]
  },
  {
   "cell_type": "code",
   "execution_count": 283,
   "metadata": {},
   "outputs": [],
   "source": [
    "# Likely I will decide to deprecate this\n",
    "\n",
    "# Create a function to aggregate stats for a match \n",
    "\n",
    "# stat is the string representation of stat desired\n",
    "# unique_df is the unique df developed prior to represent stat grouped by player and match\n",
    "# def advanced_stats(unique_df, stat, match_df):\n",
    "\n",
    "#     matches = list(unique_df['matchId'].unique())\n",
    "#     temp_df = pd.DataFrame()\n",
    "\n",
    "#     for match in matches:\n",
    "#         trial = unique_df[unique_df['matchId']== match]\n",
    "#         refs = list(Matches[Matches['matchId']==match].loc[:,'homePlayer1':'awayBenchPlayer7'].transpose().index)\n",
    "#         ids = [int(value) for value in Matches[Matches['matchId']==match].loc[:,'homePlayer1':'awayBenchPlayer7'].transpose().values]\n",
    "#         test = pd.DataFrame(zip(ids, refs), columns = ['playerId', 'playerRefs'])\n",
    "#         trial = pd.merge(test, trial, on=\"playerId\")\n",
    "#         pt = pd.pivot_table(trial, values = stat, index='matchId', columns = 'playerRefs').reset_index().add_prefix(stat)\n",
    "#         pt = pt.rename(columns = {stat + '_matchId': \"matchId\"})\n",
    "#     #     pt2 = pd.pivot_table(trial, values = 'yStart', index='matchId', columns = 'playerRefs').reset_index().add_prefix('yPos_')\n",
    "#     #     pt2 = pt2.rename(columns = {'yPos_matchId': \"matchId\"})\n",
    "#     #     pt = pd.merge(pt1, pt2, on=\"matchId\")\n",
    "#         temp_df = temp_df.append(pt, ignore_index = True)\n",
    "\n",
    "#     match_df = pd.merge(match_df, temp_df, on = 'matchId').fillna(0) \n",
    "\n",
    "#     return match_df\n",
    "\n"
   ]
  },
  {
   "cell_type": "code",
   "execution_count": 284,
   "metadata": {},
   "outputs": [],
   "source": [
    "\n",
    "# Simple df selection to remove playerIds that = 0\n",
    "#Events_England = Events_England[Events_England['playerId']! = 0]\n"
   ]
  },
  {
   "cell_type": "code",
   "execution_count": 287,
   "metadata": {},
   "outputs": [],
   "source": [
    "# # Function to transform match events into meaningul player performance profiles for machine learning\n",
    "# def match_agg(eT, event_df):\n",
    "\n",
    "#     df1 = pd.DataFrame(event_df[event_df[\"subEventName\"]== eT ][['matchId', \"teamId\", \"subEventName\"]])\n",
    "#     df1 = df1.groupby(['matchId','teamId']).size().to_frame(eT).reset_index()\n",
    "#     df2 = df1.groupby('matchId').agg(['unique']).reset_index()\n",
    "#     df3 = pd.DataFrame(None, columns = ['matchId', 'teamId', eT])\n",
    "#     df3['matchId'], df3['teamId'], df3[eT] = df2.iloc[:, 0], df2.iloc[:,1], df2.iloc[:,2]\n",
    "#     df4 = pd.concat([df3, pd.DataFrame(df3['teamId'].to_list(), columns=['team1','team2'])], axis=1, sort = False)\n",
    "#     result = pd.merge(df4, Matches[['matchId', \"homeTeamId\", \"awayTeamId\"]], on='matchId', how='inner')\n",
    "#     result = pd.concat([result, pd.DataFrame(df3[eT].to_list(), columns=[eT+\"1\",eT+\"2\"])], axis=1, sort = False)\n",
    "#     result = result.fillna(0) # handle na values where teams had no corners in a match\n",
    "\n",
    "#     # fill in zeros to teams where there were no corners for a team\n",
    "#     result[eT] = result[eT].apply(lambda row: list(row)+[0] if len(row)==1 else row)\n",
    "\n",
    "#     # Correctly apply allocate home and away aggregate statistics to correct teams\n",
    "#     result['home'+eT] = (\n",
    "#         np.select(\n",
    "#             condlist=[result['team1'] == result['homeTeamId'], result['team2'] == result['homeTeamId']], \n",
    "#             choicelist=[result[eT+\"1\"], result[eT+\"2\"]]))\n",
    "\n",
    "#     result['away'+eT] = (\n",
    "#         np.select(\n",
    "#             condlist=[result['team1'] == result['awayTeamId'], result['team2'] == result['awayTeamId']], \n",
    "#             choicelist=[result[eT+\"1\"], result[eT+\"2\"]]))\n",
    "    \n",
    "#     # Create a column to recognize when a goal is scored\n",
    "#     conditions = [\n",
    "#         (((result['subEventDescription'].str.match('goal ')) & (result['Result'] == \"Success\"))),\n",
    "#         (((result['subEventDescription'].str.match('goal ')) & (result['Result'] == \"Failure\") & (result['subEventName'] == \"Shot\"))),\n",
    "#         (((result['subEventDescription'].str.match('goal ')) & (result['Result'] == \"Failure\") & (result['subEventName'] != \"Shot\")))\n",
    "#         ]\n",
    "\n",
    "#     # create a list of the values we want to assign for each condition\n",
    "#     values = [1, 1, -1]\n",
    "\n",
    "#     # create a new column and use np.select to assign values to it using our lists as arguments\n",
    "#     result['Goal_Value'] = np.select(conditions, values, default = 0)\n",
    "    \n",
    "#     #result = result[result['playerId']!= 0]\n",
    "\n",
    "#     # # drop useless columns that have been replaced\n",
    "#     result.drop(['teamId', eT, \"team1\", \"team2\", eT+\"1\", eT+\"2\"], inplace = True, axis = 1 )\n",
    "    \n",
    "#     return result"
   ]
  },
  {
   "cell_type": "markdown",
   "metadata": {},
   "source": [
    "### Data Processing"
   ]
  },
  {
   "cell_type": "code",
   "execution_count": 291,
   "metadata": {},
   "outputs": [],
   "source": [
    "#Match_TeamStats = pd.read_sql_query(\"SELECT * FROM football_data\", sql_conn)"
   ]
  },
  {
   "cell_type": "code",
   "execution_count": 292,
   "metadata": {},
   "outputs": [],
   "source": [
    "# # parsing betting odds variables from analysis\n",
    "# drop_columns = [\"B365H\",\"B365D\",\"B365A\",\"BSH\",\"BSD\",\"BSA\",\"BWH\",\"BWD\",\"BWA\",\"GBH\",\"GBD\",\"GBA\",\"IWH\",\"IWD\",\"IWA\",\"LBH\",\"LBD\",\"LBA\",\n",
    "# \"PSH\", \"PH\",\"PSD\", \"PD\",\"PSA\", \"PA\",\"SOH\",\"SOD\",\"SOA\",\"SBH\",\"SBD\",\"SBA\",\"SJH\",\"SJD\",\"SJA\",\"SYH\",\"SYD\",\"SYA\",\"VCH\",\n",
    "# \"VCD\",\"VCA\",\"WHH\",\"WHD\",\"WHA\",\"Bb1X2\",\"BbMxH\",\"BbAvH\",\"BbMxD\",\"BbAvD\",\"BbMxA\",\"BbAvA\",\"MaxH\",\"MaxD\",\"MaxA\",\n",
    "# \"AvgH\",\"AvgD\",\"AvgA\",\"BbOU\",\"BbMx>2.5\",\"BbAv>2.5\",\"BbMx<2.5\",\"BbAv<2.5\",\"GB>2.5\",\"GB<2.5\",\"B365>2.5\",\"B365<2.5\",\n",
    "# \"P>2.5\",\"P<2.5\",\"Max>2.5\",\"Max<2.5\",\"Avg>2.5\",\"Avg<2.5\",\"BbAH\",\"BbAHh\",\"AHh\",\"BbMxAHH\",\"BbAvAHH\",\"BbMxAHA\",\n",
    "# \"BbAvAHA\",\"GBAHH\",\"GBAHA\",\"GBAH\",\"LBAHH\",\"LBAHA\",\"LBAH\",\"B365AHH\",\"B365AHA\",\"B365AH\",\"PAHH\", \"AvgC<2.5\",\n",
    "# \"PAHA\",\"MaxAHH\",\"MaxAHA\",\"AvgAHH\",\"AvgAHA\",\"WHCH\",\"WHCD\",\"WHCA\", \"VCCH\", \"VCCA\", \"PSCH\", \"PSCD\", \"PCAHH\", \"PCAHA\", \"PC>2.5\", \"PC<2.5\", \"MaxCH\", \"MaxCAHH\", \"MaxCD\",\n",
    "# \"MaxCAHA\", \"MaxCA\", \"MaxC>2.5\", \"MaxC<2.5\", \"IWCH\", \"IWCD\", \"IWCA\", \"AvgC>2.5\",\"AvgCA\",\"AvgCAHA\",\"AvgCAHH\",\n",
    "# \"AvgCD\",\"AvgCH\",\"B365C<2.5\",\"B365C>2.5\",\"B365CA\",\"B365CAHA\",\"B365CAHH\",\"B365CD\",\"B365CH\",\"BWCA\", \"BWCD\", \"BWCH\", \"VCCD\", \"PSCA\"] "
   ]
  },
  {
   "cell_type": "code",
   "execution_count": 293,
   "metadata": {},
   "outputs": [],
   "source": [
    "# Match_TeamStats.drop(drop_columns, inplace=True, axis =1) # removing betting odds from dataframe"
   ]
  }
 ],
 "metadata": {
  "kernelspec": {
   "display_name": "Python 3",
   "language": "python",
   "name": "python3"
  },
  "language_info": {
   "codemirror_mode": {
    "name": "ipython",
    "version": 3
   },
   "file_extension": ".py",
   "mimetype": "text/x-python",
   "name": "python",
   "nbconvert_exporter": "python",
   "pygments_lexer": "ipython3",
   "version": "3.8.6"
  }
 },
 "nbformat": 4,
 "nbformat_minor": 4
}
